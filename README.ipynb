{
 "cells": [
  {
   "cell_type": "markdown",
   "metadata": {},
   "source": [
    "<a href=\"https://githubtocolab.com/minyeamer/groove_midi/blob/main/README.ipynb\" target=\"_parent\"><img src=\"https://colab.research.google.com/assets/colab-badge.svg\" alt=\"Open in Colab\"/></a>"
   ]
  },
  {
   "cell_type": "markdown",
   "metadata": {},
   "source": [
    "# POZAlabs Task\n",
    "- MusicVAE 구현\n",
    "- Groove MIDI Dataset을 이용하여 4마디에 해당하는 드럼 샘플 추출 과정 수행\n",
    "- 깃헙 코드: https://github.com/magenta/magenta/tree/master/magenta/models/music_vae\n",
    "- 관련 논문: https://arxiv.org/pdf/1803.05428.pdf\n",
    "- 관련 데이터: https://magenta.tensorflow.org/datasets/groove"
   ]
  },
  {
   "cell_type": "markdown",
   "metadata": {},
   "source": [
    "## Commentary\n",
    "- 미디라는 데이터는 음악이 어떻게 연주되어야 하는지 나타내는 악보와 비슷한 개념으로 이해하시면 됩니다.   \n",
    "  어느 시점에 어떤 악기를 연주하여야 하는지가 나와있는 데이터이며 .midi의 확장자명을 가지고 있습니다.\n",
    "- 설명드린 코드에서는 해당 미디를 학습에 이용하기 위하여 벡터로 변환하는 전처리 과정이 필요합니다.   \n",
    "  이러한 전처리 과정을 거치면 tfrecord형식으로 저장되게 되며 이것을 학습하는 형태입니다.\n",
    "- 추가적으로, 해당 과정(전처리 -> 학습 -> 생성)의 프로세스에 대하여 자유로운 형식으로 정리하여 공유주시면 감사하겠습니다. (학술적인 내용이 포함되면 좋습니다!)\n",
    "- 과제에 필요한 라이브러리의 dependency 이슈가 있습니다.   \n",
    "  필요한 라이브러리 설치가 안되는 경우 https://github.com/magenta/magenta/issues/2005 를 참고하시어 진행하시길 바랍니다.\n",
    "- 과제는 어떠한 방식으로 모델을 다루는지를 보기 위함이며, 과제를 100% 완수하지 못하셔도 됩니다.\n",
    "- 과제와 관련한 모든 문의는 해당 메일로 회신 부탁드립니다."
   ]
  },
  {
   "cell_type": "markdown",
   "metadata": {},
   "source": [
    "## Process\n",
    "1. Set Environment (1 hour)\n",
    "2. Explore Background (7 hours)\n",
    "3. Code Reivew (8 hours)\n",
    "4. Data Analysis (1 hour)\n",
    "5. Implementation (5 hours)\n",
    "6. Complement the Above (4 hours)"
   ]
  },
  {
   "cell_type": "markdown",
   "metadata": {},
   "source": [
    "<hr>\n",
    "\n",
    "## Set Environment\n",
    "- Start with MacOS Monterey 12.4\n",
    "- Make conda env (using template)\n",
    "- Try to install Magenta library (08-19 15:00-16:00, 1 hour)\n",
    "- Continue with Colab instead of MacOS"
   ]
  },
  {
   "cell_type": "markdown",
   "metadata": {},
   "source": [
    "<hr style=\"border-style:dotted\">\n",
    "\n",
    "### Magenta Issues\n",
    "\n",
    "> **Could not find a version that satisfies the requirement tensorflow==2.9.1**\n",
    "- `tensorflow-macos==2.9.1` 설치 후에도 동일 에러 발생가 발생함을 확인하였습니다.\n",
    "- 에러 처리를 위해 과거 Issue 내역과 검색 결과 참고하였습니다.\n",
    "- https://github.com/magenta/magenta/issues/1867\n",
    "- https://github.com/magenta/magenta/issues/1886\n",
    "- https://stackoverflow.com/questions/62948255/magenta-installation-using-pip-install-magenta-having-errors-even-on-fresh-env\n",
    "- 시간 내 과제 해결을 위해선 해당 에러 처리를 고집하는 것보다 우선 되는 환경에서 수행하는 것이 바람직하다 판단하여 Colab 환경에서 진행하기로 했습니다."
   ]
  },
  {
   "cell_type": "code",
   "execution_count": null,
   "metadata": {},
   "outputs": [],
   "source": [
    "from IPython.display import clear_output\n",
    "!pip install magenta==2.1.4 # latest\n",
    "clear_output()"
   ]
  },
  {
   "cell_type": "markdown",
   "metadata": {},
   "source": [
    "<hr>\n",
    "\n",
    "## Explore Background\n",
    "- Find prior knowledge for VAE (08-19 16:00-18:00, 2 hours)\n",
    "- Review suggested [reference](https://arxiv.org/pdf/1803.05428.pdf) (08-19 18:00-21:00, 3 hours)\n",
    "- Search additional information for MusicVAE (08-19 22:00-00:00, 2 hours)"
   ]
  },
  {
   "cell_type": "markdown",
   "metadata": {},
   "source": [
    "<hr style=\"border-style:dotted\">\n",
    "\n",
    "### VAE(Auto-Encoding Variational Bayes)\n",
    "\n",
    "<img src=\"https://user-images.githubusercontent.com/24144491/50323466-18d03700-051d-11e9-82ed-afb1b6e2666a.png\" width=\"50%\">\n",
    "\n",
    "- VAE는, Encoder로 차원축소를 하기 위한 목적의 Audoencoder와 반대로, Decoder로 새로운 데이터를 생성하기 위한 목적을 가집니다.\n",
    "- 입력 데이터 $x$로부터 인코더를 통해 추출한 특징에 대한 latent vector $z$를, 다시 디코더를 거쳐 $x$와 유사한 데이터로 생성해내는 과정을 거칩니다.\n",
    "- 우선, $x_i$에 대해 Gaussian Encoder를 통과한 출력 결과인 $\\mu, \\sigma$를 가지고 정규 분포를 생성하며, 해당 분포에서 $z_i$를 샘플링합니다.\n",
    "- 다음으로, $z_i$를 가지고 Bernoulli Decoder를 통과하면 $x_i$와 동일한 출력 결과 $p_i$을 생성합니다.\n",
    "- 샘플링에 대한 역전파 과정을 수행하기 위해 Reparameterization Trick을 사용합니다.   \n",
    "  ($N(0,1)$을 따르는 정규 분포 $\\epsilon_i$에 $\\sigma_i^2$를 곱하고 $\\mu_i$를 더하는 과정을 통해 backward를 저장하게 됩니다.)\n",
    "- latent vector로부터 가장 그럴듯한 확률 분포를 찾아내기 때문에, Decoder가 생성한 데이터가 학습 데이터와 닮은 특징을 가집니다.\n",
    "\n",
    "<br>\n",
    "\n",
    "#### Backpropagation을 위한 Sampling 과정\n",
    "\n",
    "```python\n",
    "import keras.backend as K\n",
    "\n",
    "def sampling(args):\n",
    "    z_mean, z_log_var = args\n",
    "    epsilon = K.random_normal(shape=(K.shape(z_mean)[0],latent_dim),mean=0., stddev=1.)\n",
    "    return z_mean + K.exp(z_log_var) * epsilon\n",
    "\n",
    "z = layers.Lambda(sampling)([z_mean, z_log_var])\n",
    "```\n",
    "\n",
    "<br>\n",
    "\n",
    "#### Loss Function\n",
    "\n",
    "<img src=\"https://user-images.githubusercontent.com/24144491/50323472-1a016400-051d-11e9-86b7-d8bf6a1a880f.png\" width=\"50%\">\n",
    "\n",
    "- Loss Function은 Reconstruction Error(복원 오차)와 Regularization 과정에서 도출되는 KL divergence(제약 조건)의 합으로 구해집니다.\n",
    "- Reconstruction Error는 확률을 정규 분포로 가정하면 MSE, 이항 분포로 가정하면 CrossEntropy로 정의됩니다. (일반적으론 베르누이로 지정합니다.)\n",
    "- Regularization은 인코더를 통과해 나온 확률 분포가 정규 분포로 가정된 $p(z)$를 따르도록 하기 위해 두 분포 간 거리(KL divergence)를 최소화하는 과정입니다.\n",
    "- 증명 과정을 통해 도출된 likelihood에 대한 ELBO 식 $\\log{p_{\\theta}(x^{(i)})\\ge{L(x^{(i)},\\theta,\\phi)}}$에서 lower bound인 Loss Function을 maximize하는,   \n",
    "  디코더의 파라미터 $\\theta$와 인코더의 파라미터 $\\phi$를 찾기 위함이 주 목적입니다.\n",
    "- 최적화 과정에서는 Loss Function을 최소화하기 위해 Reconstruction Error에 마이너스를 곱해서 계산합니다.\n",
    "\n",
    "<br>\n",
    "\n",
    "#### Loss Function 도출 과정\n",
    "\n",
    "```python\n",
    "import keras.backend as K\n",
    "\n",
    "def vae_loss(self, x, z_decoded):\n",
    "    x = K.flatten(x)\n",
    "    z_decoded = K.flatten(z_decoded)\n",
    "    xent_loss = keras.metrics.binary_crossentropy(x,z_decoded)\n",
    "    kl_loss   = -5e-4*K.mean(1+z_log_var-K.square(z_mean)-K.exp(z_log_var),axis=-1)\n",
    "    return K.mean(xent_loss + kl_loss)\n",
    "```\n",
    "\n",
    "<br>\n",
    "\n",
    "#### References\n",
    "- [KAIST 스마트설계연구실 강남우 교수(전 숙명여대)의 딥러닝과 설계 강의](https://youtu.be/GbCAwVVKaHY)\n",
    "- [VAE(Auto-Encoding Variational Bayes) 직관적 이해](https://taeu.github.io/paper/deeplearning-paper-vae/)"
   ]
  },
  {
   "cell_type": "markdown",
   "metadata": {},
   "source": [
    "<hr style=\"border-style:dotted\">\n",
    "\n",
    "### A Hierarchical Latent Vector Model for Learning Long-Term Structure in Music\n",
    "\n",
    "#### 1. Introduction\n",
    "- 생성 모델링은 데이터 x를 생성하기 위한 확률 분포 $p(x)$를 도출하는 과정입니다.\n",
    "- 최근(2018)의 생성 모델링 연구는 복잡한 구조를 사용하는 DNN을 통해 가속화되었으며,   \n",
    "  해당 연구에서는 VAE 등 deep latent variable 모델에 주목합니다.\n",
    "- 여전히 긴 시퀀스에 대해 deep latent variable 모델은 성과를 내지 못하고 있는데,   \n",
    "  이를 보완하기 위해 계층적 순환 디코더를 포함하는 오토인코더를 제안합니다.\n",
    "- 제안할 모델은 전체 latent vector를 인코딩하여, baseline인 flat decoder RNN보다 긴 시퀀스에 효과적입니다.\n",
    "\n",
    "#### 2. Background\n",
    "\n",
    "##### 2-2. Reccurent VAEs\n",
    "\n",
    "<img src=\"https://i.imgur.com/PQKoraX.png\" width=\"50%\">\n",
    "\n",
    "- 인코더는 입력 시퀀스에 대한 hidden states를 생성하는 RNN 모델입니다.\n",
    "- latent code $z$의 분포는 $h_T$로 설정되며, 동시에 디코더 RNN의 초기 상태로 사용됩니다.\n",
    "- 출력 시퀀스 $y$를 발생시키는 디코더는 일반적인 VAE처럼 $p(z)$에 근사해지는 $q_{\\lambda}(z|x)$를 학습합니다.\n",
    "\n",
    "#### 3. Model\n",
    "\n",
    "##### 3.1. Bidirectional Encoder\n",
    "- 인코더에 대해 2계층 양방향 LSTM 구조를 사용하여 마지막 상태 벡터 $\\overrightarrow{h_T}, \\overleftarrow{h_T}$를 도출합니다.\n",
    "- 두 벡터를 결합한 $h_T$를 2개의 fully-connected 레이어에 넣어서 $\\mu$와 $\\sigma$를 생성합니다.   \n",
    "  ($\\ \\mu=W_{h\\mu}h_T+b_\\mu,\\ \\sigma=\\log{(\\exp{(W_{h\\sigma}h_T+b_{\\sigma})+1})}\\ $)\n",
    "- 모든 레이어에 대해 2048개의 state size와 512 latent dimension을 가지는 LSTM이 입력 시퀀스에 대한 문맥으로부터 $\\mu$와 $\\sigma$를 도출하게 됩니다.\n",
    "\n",
    "##### 3.2. Hierachical Decoder\n",
    "- 2계층 디코더 RNN에 대해 각각의 계층에서 1024 units으로 구성된 LSTM을 사용합니다.\n",
    "- 디코더 RNN은 초기 상태로 latent vector $z$가 설정되고, autoregressive하게 출력 시퀀스를 생성합니다.\n",
    "- 하지만, 이전 연구에서 단순히 쌓인 구조의 RNN은 긴 시퀀스에 대해 낮은 재현율을 보이며,   \n",
    "  이것이 출력 시퀀스를 생성하는데 있어서 latent state의 영향력이 사라지는 것에 있다고 판단합니다.\n",
    "- 해당 문제를 완화시키기 위해 계층적 RNN 디코더를 사용하는데,   \n",
    "  입력 시퀀스 $\\text{x}$를 $U$개의 서브시퀀스로 나눌 경우에, tanh 활성화 함수가 적용된 fc 레이어를 통과시킨 $z$는 각각의 서브시퀀스와 대응되며,   \n",
    "  해당 임베딩 벡터 집합 $\\text{c}$의 원소가 각각의 fc 레이어를 지나면 $y_u$의 내부 요소에 해당하는 softmax 결과를 생성합니다.\n",
    "- 위 그림을 참고하여 음악을 예로 들 경우, latent vector가 conductor를 지나면서 마디를 생성하고,   \n",
    "  각각의 마디에서 RNN 모델을 통해 autoregressive하게 멜로디를 생성하여 전체적으로 latent vector의 영향력이 높아집니다.\n",
    "\n",
    "##### 3.3. Multi-Stream Modeling\n",
    "- 음악은 텍스트와 다르게 다양한 악기에 대한 시퀀스가 동시에 주어질 수 있기 때문에,   \n",
    "  모델링에서 각각의 stream 간 복잡한 의존성을 고려할 필요가 있습니다.\n",
    "- 3개의 출력 토큰(drum, bass, melody)을 가지는 MusicVAE를 적용하고,   \n",
    "  계층적 디코더 모델에서는 세 가지 요소를 직교 차원으로 규정하여 각각의 악기에 따라 분리된 디코더 RNN을 사용합니다.\n",
    "- baseline인 flat 디코더에서는 단일 RNN을 사용하고, 악기 별 softmax를 도출하기 위해 출력 결과를 분리합니다.\n",
    "\n",
    "#### 5. Experiments\n",
    "\n",
    "##### 5.1. Data and Training\n",
    "- 데이터로, 각각의 악기에 대한 노트와 미터 정보가 담긴 MIDI 파일을 사용합니다.\n",
    "- 학습 데이터로 약 1억 5천만개의 파일을 수집하고, 16마디의 멜로디, 베이스, 드럼 패턴 등을 추출합니다.\n",
    "- 멜로디의 경우 128개의 피치에 대한 note-on 토큰과 note-off, rest 토큰으로 구성된 130 차원의 벡터 공간으로 구성합니다.\n",
    "- 드럼 패턴의 경우 61개의 드럼 분류를 9개의 표준 클래스에 맵핑하고 $2^9$개의 범주형 토큰으로 가능한 모든 조합을 표현합니다.\n",
    "- 모든 모델은 $10^{-3}$에서 $10^{-5}$ 사이의 lr를 적용한 Adam 옵티마이저와 512개의 배치 단위로 학습합니다.\n",
    "\n",
    "##### 5.2. Short Sequences\n",
    "\n",
    "<!--<img src=\"https://d3i71xaburhd42.cloudfront.net/2b050df9e24eb65b0d37f13c6eea1d29b4e316ce/6-Table1-1.png\" width=\"30%\" style=\"margin-left:30px\">-->\n",
    "\n",
    "<table style=\"text-align:center; margin-left:30px\">\n",
    "  <tr id=\"head1\"><th></th><th colspan=\"2\">Teacher-Forcing</th><th colspan=\"2\">Sampling</th></tr>\n",
    "  <tr id=\"head2\"><th>Model</th><th>Flat</th><th>Hierarchical</th><th>Flat</th><th>Hierarchical</th></tr>\n",
    "  <tr id=\"row1\"><td>2-bar Drum</td><td>0.979</td><td>-</td><td>0.917</td><td>-</td></tr>\n",
    "  <tr id=\"row2\"><td>2-bar Melody</td><td>0.986</td><td>-</td><td>0.951</td><td>-</td></tr>\n",
    "  <tr id=\"row3\"><td>16-bar Melody</td><td>0.883</td><td>0.919</td><td>0.620</td><td>0.812</td></tr>\n",
    "  <tr id=\"row4\"><td>16-bar Drum</td><td>0.884</td><td>0.928</td><td>0.549</td><td>0.879</td></tr>\n",
    "  <tr id=\"row5\"><td>Trio (Melody)</td><td>0.796</td><td>0.848</td><td>0.579</td><td>0.753</td></tr>\n",
    "  <tr id=\"row6\"><td>Trio (Bass)</td><td>0.829</td><td>0.880</td><td>0.565</td><td>0.773</td></tr>\n",
    "  <tr id=\"row7\"><td>Trio (Drums)</td><td>0.903</td><td>0.912</td><td>0.641</td><td>0.863</td></tr>\n",
    "</table>\n",
    "\n",
    "\n",
    "- 순환 VAE를 통한 음악 시퀀스 생성이 가능함을 증명하기 위해 2마디의 짧은 시퀀스를 활용해 flat 디코더 모델을 학습시켰을 때,   \n",
    "  입력값에 대해 높은 재현율을 보였지만, 16마디의 긴 시퀀스를 학습시켰을 경우 교사 강요와 샘플링 간 정확도 불일치가 27% 이상 증가합니다.\n",
    "\n",
    "##### 5.3. Reconstruction Quality\n",
    "- 계층적 디코더 모델의 경우 NSP 정확도와 노출 편향 가능성을 모두 고려해 학습하였고, 교사 강요 결과와의 불일치를 5-11% 사이로 좁힙니다.\n",
    "- multi-stream 데이터에 대해서 single-stream으로 활용한 flat 모델과 비교했을 때 압도적인 정확도 향상을 보였고, 교사 강요와도 매우 적은 차이를 보입니다.\n",
    "\n",
    "#### 6. Conclusion\n",
    "- MusicVAE 모델을 제안하며, flat baseline보다 긴 시퀀스에서 뿐 아니라 사람을 통한 테스트에서도 높은 성능을 보임을 증명합니다."
   ]
  },
  {
   "cell_type": "markdown",
   "metadata": {},
   "source": [
    "<hr style=\"border-style:dotted\">\n",
    "\n",
    "### TFRecord\n",
    "- TensorFlow에서 지원하는 파일 형식으로, 데이터를 자체적인 바이너리 형식으로 저장하는 기능을 제공합니다.\n",
    "- TFRecord 파일 생성은 기록하고자 하는 데이터의 feature를 `tf.train.Example` 객체로 만들어 `tf.io.TFRecordWriter`를 통해 저장합니다.\n",
    "- `tf.train.Example`에는 `tf.train.BytesList`, `tf.train.FloatList`, `tf.train.IntList` 타입을 담을 수 있으며,   \n",
    "  문자열을 예로들면 `_bytes_feature()` 함수를 사용해 `tf.train.BytesList` 타입의 `tf.train.Feature` 객체로 변환할 수 있습니다.\n",
    "- TFRecord의 장점으로는 전처리를 미리 수행할 수 있다는 점으로, 기존의 `from_generator()` 메서드를 이용한 방식보다 향상된 속도를 기대할 수 있습니다.\n",
    "- TFRecord 파일을 학습을 위한 Dataset으로 정의하기 위해 `tf.data.TFRecordDataset` 모듈을 사용할 수 있습니다.\n",
    "\n",
    "<br>\n",
    "\n",
    "```python\n",
    "def _bytes_feature(value):\n",
    "  \"\"\"Returns a bytes_list from a string / byte.\"\"\"\n",
    "  if isinstance(value, type(tf.constant(0))):\n",
    "    value = value.numpy() # BytesList won't unpack a string from an EagerTensor.\n",
    "  return tf.train.Feature(bytes_list=tf.train.BytesList(value=[value]))\n",
    "\n",
    "def _float_feature(value):\n",
    "  \"\"\"Returns a float_list from a float / double.\"\"\"\n",
    "  return tf.train.Feature(float_list=tf.train.FloatList(value=[value]))\n",
    "\n",
    "def _int64_feature(value):\n",
    "  \"\"\"Returns an int64_list from a bool / enum / int / uint.\"\"\"\n",
    "  return tf.train.Feature(int64_list=tf.train.Int64List(value=[value]))\n",
    "```\n",
    "\n",
    "<br>\n",
    "\n",
    "```python\n",
    "def serialize_example(feature0, feature1, feature2, feature3):\n",
    "  \"\"\"\n",
    "  Creates a tf.train.Example message ready to be written to a file.\n",
    "  \"\"\"\n",
    "  # Create a dictionary mapping the feature name to the tf.train.Example-compatible\n",
    "  # data type.\n",
    "  feature = {\n",
    "      'feature0': _int64_feature(feature0),\n",
    "      'feature1': _int64_feature(feature1),\n",
    "      'feature2': _bytes_feature(feature2),\n",
    "      'feature3': _float_feature(feature3),\n",
    "  }\n",
    "\n",
    "  # Create a Features message using tf.train.Example.\n",
    "\n",
    "  example_proto = tf.train.Example(features=tf.train.Features(feature=feature))\n",
    "  return example_proto.SerializeToString()\n",
    "```\n",
    "\n",
    "<br>\n",
    "\n",
    "### MIDI to TFRecord\n",
    "- Magenta에서는 `scripts.convert_dir_to_note_sequences` 모듈 내 `convert_directory()` 함수를 사용하면,   \n",
    "  MIDI 파일을 포함하는 전체 디렉토리를 TFRecord 파일로 변환해 저장할 수 있습니다.\n",
    "- 내부적으로는 `convert_files()` 함수를 통해 `root_dir` 내 모든 파일을 탐색하면서 확장자에 따라 적절한 변환 과정을 수행하며,   \n",
    "  `recursive=True`를 설정할 경우 `root_dir`의 하위 디렉토리까지 전부 순회합니다.\n",
    "- MIDI 파일의 경우 `NoteSequence`에서 제공하는 `midi_io` 모듈 내 `midi_to_note_sequence()` 함수를 사용하여,   \n",
    "  해당하는 파일을 시퀀스로 변환합니다.\n",
    "\n",
    "<br>\n",
    "\n",
    "```python\n",
    "def convert_directory(root_dir, output_file, recursive=False):\n",
    "  \"\"\"Converts files to NoteSequences and writes to `output_file`.\n",
    "\n",
    "  Input files found in `root_dir` are converted to NoteSequence protos with the\n",
    "  basename of `root_dir` as the collection_name, and the relative path to the\n",
    "  file from `root_dir` as the filename. If `recursive` is true, recursively\n",
    "  converts any subdirectories of the specified directory.\n",
    "\n",
    "  Args:\n",
    "    root_dir: A string specifying a root directory.\n",
    "    output_file: Path to TFRecord file to write results to.\n",
    "    recursive: A boolean specifying whether or not recursively convert files\n",
    "        contained in subdirectories of the specified directory.\n",
    "  \"\"\"\n",
    "  with tf.io.TFRecordWriter(output_file) as writer:\n",
    "    convert_files(root_dir, '', writer, recursive)\n",
    "```\n",
    "\n",
    "<br>\n",
    "\n",
    "### References\n",
    "- https://www.tensorflow.org/tutorials/load_data/tfrecord\n",
    "- https://hcnoh.github.io/2018-11-05-tensorflow-data-module\n",
    "- https://velog.io/@riverdeer/TFRecord-파일-읽고-쓰기\n",
    "- https://github.com/magenta/magenta/blob/main/magenta/scripts/convert_dir_to_note_sequences.py\n",
    "- https://github.com/magenta/note-seq/blob/main/note_seq/midi_io.py"
   ]
  },
  {
   "cell_type": "markdown",
   "metadata": {},
   "source": [
    "<hr>\n",
    "\n",
    "## Code Review\n",
    "- 전처리 -> 학습 -> 생성을 프로세스로 인식하고 각각에 대응되는 소스코드를 순서대로 탐색합니다.\n",
    "- `music_vae_train.py`에서 `data.py`와 관련된 부분을 집중적으로 찾아보면서 전처리 과정을 탐색합니다. (08-20 08:00-09:00, 1 hour)\n",
    "- `music_vae_train.py`에서 top-down 방식으로 전체적인 학습 과정을 탐색합니다. (08-20 10:00-12:00, 2 hours)\n",
    "- `music_vae_generate.py`에서 top-down 방식으로 전체적인 생성 과정을 탐색합니다. (08-20 12:00-13:00, 1 hour)\n",
    "- 과제 수행에 있어서 custom config를 사용해야할 필요성을 느끼고 해당 부분을 다시 확인합니다. (08-20 15:00-17:00, 2 hours)\n",
    "- 전처리와 학습 과정에서 지나쳤던 부분들을 다시 점검합니다. (08-21 08:00-10:00, 2 hours)"
   ]
  },
  {
   "cell_type": "code",
   "execution_count": null,
   "metadata": {},
   "outputs": [],
   "source": [
    "# Copyright 2022 The Magenta Authors.\n",
    "#\n",
    "# Licensed under the Apache License, Version 2.0 (the \"License\");\n",
    "# you may not use this file except in compliance with the License.\n",
    "# You may obtain a copy of the License at\n",
    "#\n",
    "#     http://www.apache.org/licenses/LICENSE-2.0\n",
    "#\n",
    "# Unless required by applicable law or agreed to in writing, software\n",
    "# distributed under the License is distributed on an \"AS IS\" BASIS,\n",
    "# WITHOUT WARRANTIES OR CONDITIONS OF ANY KIND, either express or implied.\n",
    "# See the License for the specific language governing permissions and\n",
    "# limitations under the License."
   ]
  },
  {
   "cell_type": "markdown",
   "metadata": {},
   "source": [
    "<hr style=\"border-style:dotted\">\n",
    "\n",
    "### 전처리 과정 탐색"
   ]
  },
  {
   "cell_type": "code",
   "execution_count": null,
   "metadata": {},
   "outputs": [],
   "source": [
    "# music_vae_train.py\n",
    "\n",
    "from magenta.models.music_vae import data\n",
    "import tensorflow.compat.v1 as tf\n",
    "import tf_slim\n",
    "\n",
    "flags = tf.app.flags\n",
    "FLAGS = flags.FLAGS\n",
    "\n",
    "def train():\n",
    "  pass\n",
    "\n",
    "def run(config_map,\n",
    "        tf_file_reader=tf.data.TFRecordDataset,\n",
    "        file_reader=tf.python_io.tf_record_iterator):\n",
    "  config = config_map[FLAGS.config]\n",
    "\n",
    "  if FLAGS.mode == 'train':\n",
    "    is_training = True\n",
    "  elif FLAGS.mode == 'eval':\n",
    "    is_training = False\n",
    "\n",
    "  def dataset_fn():\n",
    "    return data.get_dataset(\n",
    "        config,\n",
    "        tf_file_reader=tf_file_reader,\n",
    "        is_training=is_training,\n",
    "        cache_dataset=FLAGS.cache_dataset)\n",
    "\n",
    "  if is_training:\n",
    "    train(\n",
    "        # ...\n",
    "        dataset_fn=dataset_fn,\n",
    "        # ...\n",
    "        )"
   ]
  },
  {
   "cell_type": "markdown",
   "metadata": {},
   "source": [
    "- `music_vae_train.py`에서 `data.py`를 호출하는 부분은 `dataset_fn()` 내 `get_dataset()`이 유일하기 때문에,   \n",
    "  해당 함수를 메인으로 판단하고 시작점으로서 탐색을 수행합니다."
   ]
  },
  {
   "cell_type": "code",
   "execution_count": null,
   "metadata": {},
   "outputs": [],
   "source": [
    "# data.py\n",
    "\n",
    "def get_dataset(\n",
    "    config,\n",
    "    tf_file_reader=tf.data.TFRecordDataset,\n",
    "    is_training=False,\n",
    "    cache_dataset=True):\n",
    "\n",
    "  batch_size = config.hparams.batch_size\n",
    "  examples_path = (\n",
    "      config.train_examples_path if is_training else config.eval_examples_path)\n",
    "  note_sequence_augmenter = (\n",
    "      config.note_sequence_augmenter if is_training else None)\n",
    "  data_converter = config.data_converter\n",
    "  data_converter.set_mode('train' if is_training else 'eval')\n",
    "\n",
    "  if examples_path:\n",
    "    tf.logging.info('Reading examples from file: %s', examples_path)\n",
    "    num_files = len(tf.gfile.Glob(examples_path))\n",
    "    if not num_files:\n",
    "      raise ValueError(\n",
    "          'No files were found matching examples path: %s' %  examples_path)\n",
    "    files = tf.data.Dataset.list_files(examples_path)\n",
    "    dataset = files.interleave(\n",
    "        tf_file_reader,\n",
    "        cycle_length=tf.data.experimental.AUTOTUNE,\n",
    "        num_parallel_calls=tf.data.experimental.AUTOTUNE)\n",
    "  elif config.tfds_name:\n",
    "    pass\n",
    "  # ..."
   ]
  },
  {
   "cell_type": "markdown",
   "metadata": {},
   "source": [
    "- `get_dataset()` 함수의 파라미터로 `tf.data.TFRecordDataset` 타입의 객체가 요구되는 것으로 보아,   \n",
    "  MIDI 파일이 아닌, TFRecord 파일로 변환된 데이터를 읽어오는 동작을 짐작해볼 수 있습니다.\n",
    "- `get_dataset()` 함수에서는 실제로 `config`로부터 `batch_size`, `train_examples_path`, `data_converter`, `mode` 정보를 가져와서,   \n",
    "  대상 경로가 존재하면 TFRecord 파일을 읽어오고, 존재하지 않으면 `tfds_name`으로 설정된 경로에서 MIDI 파일을 읽어 TFRecord로 변환합니다."
   ]
  },
  {
   "cell_type": "code",
   "execution_count": null,
   "metadata": {},
   "outputs": [],
   "source": [
    "# music_vae_train.py\n",
    "\n",
    "def train(config, dataset_fn):\n",
    "  # ...\n",
    "  with tf.Graph().as_default():\n",
    "    # ...\n",
    "    model = config.model\n",
    "    # ...\n",
    "    optimizer = model.train(**_get_input_tensors(dataset_fn(), config))\n",
    "    # ...\n",
    "\n",
    "def _get_input_tensors(dataset, config):\n",
    "  \"\"\"Get input tensors from dataset.\"\"\"\n",
    "  batch_size = config.hparams.batch_size\n",
    "  iterator = tf.data.make_one_shot_iterator(dataset)\n",
    "  (input_sequence, output_sequence, control_sequence,\n",
    "   sequence_length) = iterator.get_next()\n",
    "  input_sequence.set_shape(\n",
    "      [batch_size, None, config.data_converter.input_depth])\n",
    "  output_sequence.set_shape(\n",
    "      [batch_size, None, config.data_converter.output_depth])\n",
    "  if not config.data_converter.control_depth:\n",
    "    control_sequence = None\n",
    "  else:\n",
    "    control_sequence.set_shape(\n",
    "        [batch_size, None, config.data_converter.control_depth])\n",
    "  sequence_length.set_shape([batch_size] + sequence_length.shape[1:].as_list())\n",
    "\n",
    "  return {\n",
    "      'input_sequence': input_sequence,\n",
    "      'output_sequence': output_sequence,\n",
    "      'control_sequence': control_sequence,\n",
    "      'sequence_length': sequence_length\n",
    "  }"
   ]
  },
  {
   "cell_type": "markdown",
   "metadata": {},
   "source": [
    "- `TFRecordDataset`을 반환하는 해당 함수는 `music_vae_train` 모듈 내 `train()` 함수의 파라미터로 전달되며,   \n",
    "  학습 단계에서 `_get_input_tensors()` 함수를 통해 batch size만큼의 시퀀스가 담긴 dictionary를 반환하게 됩니다."
   ]
  },
  {
   "cell_type": "markdown",
   "metadata": {},
   "source": [
    "<hr style=\"border-style:dotted\">\n",
    "\n",
    "### 학습 과정 탐색\n",
    "- `music_vae_train.py`를 통한 학습 수행을 위해 파이썬 스크립트 실행 과정에서 `mode=train`으로 설정하면,   \n",
    "  내부적으로 `boolean` 타입의 `is_training` 변수 값을 설정해 `train()` 함수를 호출할지 `evaluate()` 함수를 호출할지 결정합니다.\n",
    "- `train()` 함수는 `config`에서 `run_dir`로 설정된 디렉토리 아래 `train` 위치를 `train_dir`로서 전달받고,   \n",
    "  그 외에 전체 config 정보, 데이터셋을 불러오는 함수 `dataset_fn()`, 기타 FLAGS 설정을 파라미터로 받습니다."
   ]
  },
  {
   "cell_type": "code",
   "execution_count": null,
   "metadata": {},
   "outputs": [],
   "source": [
    "# configs.py\n",
    "\n",
    "import collections\n",
    "from magenta.common import merge_hparams\n",
    "from magenta.contrib import training as contrib_training\n",
    "from magenta.models.music_vae import data\n",
    "from magenta.models.music_vae import lstm_models\n",
    "from magenta.models.music_vae.base_model import MusicVAE\n",
    "\n",
    "HParams = contrib_training.HParams\n",
    "\n",
    "\n",
    "class Config(collections.namedtuple(\n",
    "    'Config',\n",
    "    ['model', 'hparams', 'note_sequence_augmenter', 'data_converter',\n",
    "     'train_examples_path', 'eval_examples_path', 'tfds_name'])):\n",
    "\n",
    "  def values(self):\n",
    "    return self._asdict()\n",
    "\n",
    "CONFIG_MAP = {}\n",
    "\n",
    "CONFIG_MAP['cat-drums_2bar_small'] = Config(\n",
    "    model=MusicVAE(lstm_models.BidirectionalLstmEncoder(),\n",
    "                   lstm_models.CategoricalLstmDecoder()),\n",
    "    hparams=merge_hparams(\n",
    "        lstm_models.get_default_hparams(),\n",
    "        HParams(\n",
    "            batch_size=512,\n",
    "            # ...\n",
    "        )),\n",
    "    note_sequence_augmenter=None,\n",
    "    data_converter=data.DrumsConverter(\n",
    "        max_bars=100,  # Truncate long drum sequences before slicing.\n",
    "        slice_bars=2,\n",
    "        steps_per_quarter=4,\n",
    "        roll_input=True),\n",
    "    train_examples_path=None,\n",
    "    eval_examples_path=None,\n",
    ")"
   ]
  },
  {
   "cell_type": "markdown",
   "metadata": {},
   "source": [
    "- `train()` 함수를 알아보기에 앞서, `config`에 어떤 정보가 담겨있는지 보기 위해 `configs.py`를 탐색하기로 했고,   \n",
    "  4마디에 해당하는 드럼 샘플을 추출하기 위한 목적과 가장 유사한 설정 정보인 `cat-drums_2bar_small`를 중심으로 알아봅니다.\n",
    "- 해당하는 config에 저장된 것에는 `model`, `hparams`, `data_converter`, `train_examples_path` 등이 있는데,   \n",
    "  `hparams`는 이름에서 보듯이 하이퍼파라미터 설정이고 `train_examples_path`는 TFRecord 파일에 대한 경로임을 앞선 과정을 통해 알 수 있습니다.\n",
    "- 다만, 해당 설정에서 보이는 모델의 구조는 계층적 구조로 이루어지지 않은,   \n",
    "  위 논문에서 정의된 flat baseline에 해당하는 모델로 예상되기 때문에 계층적 디코더 모델에 대한 설정을 같이 확인해 봅니다."
   ]
  },
  {
   "cell_type": "code",
   "execution_count": null,
   "metadata": {},
   "outputs": [],
   "source": [
    "# data.py\n",
    "\n",
    "import note_seq\n",
    "from note_seq import drums_encoder_decoder\n",
    "import numpy as np\n",
    "\n",
    "REDUCED_DRUM_PITCH_CLASSES = drums_encoder_decoder.DEFAULT_DRUM_TYPE_PITCHES\n",
    "OUTPUT_VELOCITY = 80\n",
    "\n",
    "\n",
    "class BaseNoteSequenceConverter(object):\n",
    "    pass\n",
    "\n",
    "\n",
    "class DrumsConverter(BaseNoteSequenceConverter):\n",
    "    \"\"\"Converter for legacy drums with either pianoroll or one-hot tensors.\"\"\"\n",
    "\n",
    "    def __init__(self, max_bars=None, slice_bars=None, pitch_classes=None,):\n",
    "        self._pitch_classes = pitch_classes or REDUCED_DRUM_PITCH_CLASSES\n",
    "        self._pitch_class_map = {}\n",
    "        # ...\n",
    "        num_classes = len(self._pitch_classes)\n",
    "        # ...\n",
    "        self._oh_encoder_decoder = note_seq.MultiDrumOneHotEncoding(\n",
    "            drum_type_pitches=[(i,) for i in range(num_classes)])\n",
    "\n",
    "    def from_tensors(self, samples, unused_controls=None):\n",
    "        output_sequences = []\n",
    "        for s in samples:\n",
    "            # ...\n",
    "            s = np.argmax(s, axis=-1)\n",
    "            if self.end_token is not None and self.end_token in s:\n",
    "                s = s[:s.tolist().index(self.end_token)]\n",
    "                events_list = [self._oh_encoder_decoder.decode_event(e) for e in s]\n",
    "        events_list = [\n",
    "            frozenset(self._pitch_classes[c][0] for c in e) for e in events_list]\n",
    "        track = note_seq.DrumTrack(\n",
    "            events=events_list,\n",
    "            steps_per_bar=self._steps_per_bar,\n",
    "            steps_per_quarter=self._steps_per_quarter)\n",
    "        output_sequences.append(track.to_sequence(velocity=OUTPUT_VELOCITY))\n",
    "        return output_sequences"
   ]
  },
  {
   "cell_type": "markdown",
   "metadata": {},
   "source": [
    "- 모델을 알아보기 앞서 `data_converter`로 전달되는 `DrumsConverter`가 어떤 동작을 하는지 확인해보았습니다.\n",
    "- `Magenta`에서 MIDI 데이터를 처리하는 부분은 대부분이 `NoteSequence`라는 외부 모듈에 담겨있는데,   \n",
    "  그 중에서 드럼 데이터를 추출하는 것으로 예상되는 `MultiDrumOneHotEncoding`과 `decode_event` 메서드를 알아볼 필요가 있습니다."
   ]
  },
  {
   "cell_type": "code",
   "execution_count": null,
   "metadata": {},
   "outputs": [],
   "source": [
    "# note_seq/drums_encoder_decoder.py\n",
    "\n",
    "from note_seq import encoder_decoder\n",
    "\n",
    "\n",
    "class MultiDrumOneHotEncoding(encoder_decoder.OneHotEncoding):\n",
    "\n",
    "  def __init__(self, drum_type_pitches=None, ignore_unknown_drums=True):\n",
    "    self._drum_map = dict(enumerate(drum_type_pitches))\n",
    "    self._inverse_drum_map = dict((pitch, index)\n",
    "                                  for index, pitches in self._drum_map.items()\n",
    "                                  for pitch in pitches)\n",
    "    self._ignore_unknown_drums = ignore_unknown_drums\n",
    "\n",
    "  def decode_event(self, index):\n",
    "    bits = reversed(str(bin(index)))\n",
    "    # Use the first \"pitch\" for each drum type.\n",
    "    return frozenset(self._drum_map[i][0]\n",
    "                     for i, b in enumerate(bits)\n",
    "                     if b == '1')"
   ]
  },
  {
   "cell_type": "markdown",
   "metadata": {},
   "source": [
    "- `DrumsConverter`에서 `MultiDrumOneHotEncoding`를 생성할 때 클래스에 대한 2차원 배열을 전달하는데,   \n",
    "  해당 배열을 인덱스를 키값으로 하는 딕셔너리로 변환해 저장합니다.\n",
    "- `from_tensors()`에서 `events_list`를 생성하는 과정에서 `decode_event`가 호출되는데,   \n",
    "  각각의 이벤트 시퀀스에 대해 인덱스와 대응되는 클래스를 반환하는 과정이 진행되는 것이라 판단됩니다."
   ]
  },
  {
   "cell_type": "code",
   "execution_count": null,
   "metadata": {},
   "outputs": [],
   "source": [
    "# configs.py\n",
    "\n",
    "CONFIG_MAP['hierdec-trio_16bar'] = Config(\n",
    "    model=MusicVAE(\n",
    "        lstm_models.BidirectionalLstmEncoder(),\n",
    "        lstm_models.HierarchicalLstmDecoder(\n",
    "            lstm_models.SplitMultiOutLstmDecoder(\n",
    "                core_decoders=[\n",
    "                    lstm_models.CategoricalLstmDecoder(),\n",
    "                    lstm_models.CategoricalLstmDecoder(),\n",
    "                    lstm_models.CategoricalLstmDecoder()],\n",
    "                output_depths=[\n",
    "                    90,  # melody\n",
    "                    90,  # bass\n",
    "                    512,  # drums\n",
    "                ]),\n",
    "            level_lengths=[16, 16],\n",
    "            disable_autoregression=True)),\n",
    "    # ...\n",
    ")"
   ]
  },
  {
   "cell_type": "markdown",
   "metadata": {},
   "source": [
    "- 모델에 대해 알아보기 위해 다시 config로 돌아와서, 16마디의 3채널 데이터에 대한 계층적 디코더 모델의 설정을 확인했을 때,   \n",
    "  `HierarchicalLstmDecoder`의 하위 계층 요소로 `CategoricalLstmDecoder`를 넣으면 이상적인 설정이 될 것이라 예상합니다."
   ]
  },
  {
   "cell_type": "code",
   "execution_count": null,
   "metadata": {},
   "outputs": [],
   "source": [
    "# base_model.py\n",
    "\n",
    "class MusicVAE(object):\n",
    "  \"\"\"Music Variational Autoencoder.\"\"\"\n",
    "\n",
    "  def __init__(self, encoder, decoder):\n",
    "    \"\"\"Initializer for a MusicVAE model.\"\"\"\n",
    "    self._encoder = encoder\n",
    "    self._decoder = decoder"
   ]
  },
  {
   "cell_type": "markdown",
   "metadata": {},
   "source": [
    "- `model`로 전달되는 객체인 `MusicVAE`는 `base_model.py`에서 확인할 수 있듯이 `encoder`와 `decoder`로 구성되며,   \n",
    "  각각 `BidirectionalLstmEncoder`, `HierarchicalLstmDecoder`를 사용합니다."
   ]
  },
  {
   "cell_type": "code",
   "execution_count": null,
   "metadata": {},
   "outputs": [],
   "source": [
    "# lstm_models.py\n",
    "\n",
    "import magenta.contrib.rnn as contrib_rnn\n",
    "import magenta.contrib.seq2seq as contrib_seq2seq\n",
    "from magenta.models.music_vae import base_model\n",
    "from magenta.models.music_vae import lstm_utils\n",
    "import tensorflow_probability as tfp\n",
    "\n",
    "\n",
    "class BidirectionalLstmEncoder(base_model.BaseEncoder):\n",
    "  \"\"\"Bidirectional LSTM Encoder.\"\"\"\n",
    "\n",
    "  def build(self, hparams, is_training=True, name_or_scope='encoder'):\n",
    "    self._is_training = is_training\n",
    "    self._name_or_scope = name_or_scope\n",
    "    # ...\n",
    "    self._cells = lstm_utils.build_bidirectional_lstm(\n",
    "        layer_sizes=hparams.enc_rnn_size,\n",
    "        dropout_keep_prob=hparams.dropout_keep_prob,\n",
    "        residual=hparams.residual_encoder,\n",
    "        is_training=is_training)\n",
    "\n",
    "  def encode(self, sequence, sequence_length):\n",
    "    cells_fw, cells_bw = self._cells\n",
    "\n",
    "    _, states_fw, states_bw = contrib_rnn.stack_bidirectional_dynamic_rnn(\n",
    "        cells_fw,\n",
    "        cells_bw,\n",
    "        sequence,\n",
    "        sequence_length=sequence_length,\n",
    "        time_major=False,\n",
    "        dtype=tf.float32,\n",
    "        scope=self._name_or_scope)\n",
    "    last_h_fw = states_fw[-1][-1].h\n",
    "    last_h_bw = states_bw[-1][-1].h\n",
    "\n",
    "    return tf.concat([last_h_fw, last_h_bw], 1)"
   ]
  },
  {
   "cell_type": "code",
   "execution_count": null,
   "metadata": {},
   "outputs": [],
   "source": [
    "# lstm_utils.py\n",
    "\n",
    "rnn = tf.nn.rnn_cell\n",
    "\n",
    "def rnn_cell(rnn_cell_size, dropout_keep_prob, residual, is_training=True):\n",
    "  \"\"\"Builds an LSTMBlockCell based on the given parameters.\"\"\"\n",
    "  dropout_keep_prob = dropout_keep_prob if is_training else 1.0\n",
    "  cells = []\n",
    "  for i in range(len(rnn_cell_size)):\n",
    "    cell = contrib_rnn.LSTMBlockCell(rnn_cell_size[i])\n",
    "    # ...\n",
    "    cells.append(cell)\n",
    "  return rnn.MultiRNNCell(cells)\n",
    "\n",
    "def build_bidirectional_lstm(\n",
    "    layer_sizes, dropout_keep_prob, residual, is_training):\n",
    "  \"\"\"Build the Tensorflow graph for a bidirectional LSTM.\"\"\"\n",
    "\n",
    "  cells_fw = []\n",
    "  cells_bw = []\n",
    "  for layer_size in layer_sizes:\n",
    "    cells_fw.append(\n",
    "        rnn_cell([layer_size], dropout_keep_prob, residual, is_training))\n",
    "    cells_bw.append(\n",
    "        rnn_cell([layer_size], dropout_keep_prob, residual, is_training))\n",
    "\n",
    "  return cells_fw, cells_bw"
   ]
  },
  {
   "cell_type": "markdown",
   "metadata": {},
   "source": [
    "- `BidirectionalLstmEncoder`는 `build_bidirectional_lstm()` 함수를 통해 모델 구조를 생성하며,   \n",
    "  해당 함수는 내부적으로 forward, backward 방향에 대한 두 가지 RNN cell을 반환합니다.\n",
    "- 각각의 RNN cell은 RNN 구조를 상속받는 LSTM block으로 구성되며,   \n",
    "  하이퍼파라미터로 전달한 `enc_rnn_size`만큼의 초기화된 가중치를 가지고 있습니다.\n",
    "- 학습 과정에서 실행되는 `encode()` 구문에서는 양방향 RNN에서 각 방향의 마지막 hidden state를 병합한 결과를 반환합니다."
   ]
  },
  {
   "cell_type": "code",
   "execution_count": null,
   "metadata": {},
   "outputs": [],
   "source": [
    "# base_model.py\n",
    "\n",
    "ds = tfp.distributions\n",
    "\n",
    "\n",
    "class MusicVAE(object):\n",
    "  def encode(self, sequence, sequence_length, control_sequence=None):\n",
    "    \"\"\"Encodes input sequences into a MultivariateNormalDiag distribution.\"\"\"\n",
    "    hparams = self.hparams\n",
    "    z_size = hparams.z_size\n",
    "    sequence = tf.to_float(sequence)\n",
    "    #...\n",
    "    encoder_output = self.encoder.encode(sequence, sequence_length)\n",
    "\n",
    "    mu = tf.layers.dense(\n",
    "        encoder_output,\n",
    "        z_size,\n",
    "        name='encoder/mu',\n",
    "        kernel_initializer=tf.random_normal_initializer(stddev=0.001))\n",
    "    sigma = tf.layers.dense(\n",
    "        encoder_output,\n",
    "        z_size,\n",
    "        activation=tf.nn.softplus,\n",
    "        name='encoder/sigma',\n",
    "        kernel_initializer=tf.random_normal_initializer(stddev=0.001))\n",
    "\n",
    "    return ds.MultivariateNormalDiag(loc=mu, scale_diag=sigma)"
   ]
  },
  {
   "cell_type": "markdown",
   "metadata": {},
   "source": [
    "- 위 인코딩 과정은 `MusicVAE`의 `encode()` 메서드에서 `encoder_output`을 생성하기 위한 중간 과정이며,   \n",
    "  이후 해당 결과를 각각의 Dense 레이어를 거치게 하여 $\\mu$와 $\\sigma$를 생성합니다.\n",
    "- Reparameterization Trick이 적용된 별도 모듈을 사용해 $\\mu$와 $\\sigma$에 해당하는 정규 분포를 생성 및 반환합니다."
   ]
  },
  {
   "cell_type": "code",
   "execution_count": null,
   "metadata": {},
   "outputs": [],
   "source": [
    "# lstm_models.py\n",
    "\n",
    "class HierarchicalLstmDecoder(base_model.BaseDecoder):\n",
    "  \"\"\"Hierarchical LSTM decoder.\"\"\"\n",
    "\n",
    "  def build(self, hparams, output_depth, is_training=True):\n",
    "    self.hparams = hparams\n",
    "    self._output_depth = output_depth\n",
    "    self._total_length = hparams.max_seq_len\n",
    "    #...\n",
    "    self._hier_cells = [\n",
    "        lstm_utils.rnn_cell(\n",
    "            hparams.dec_rnn_size,\n",
    "            dropout_keep_prob=hparams.dropout_keep_prob,\n",
    "            residual=hparams.residual_decoder)\n",
    "        # Subtract 1 for the core decoder level\n",
    "        for _ in range(len(self._level_lengths) - 1)]\n",
    "\n",
    "    with tf.variable_scope('core_decoder', reuse=tf.AUTO_REUSE):\n",
    "      self._core_decoder.build(hparams, output_depth, is_training)"
   ]
  },
  {
   "cell_type": "markdown",
   "metadata": {},
   "source": [
    "- `HierarchicalLstmDecoder`는 하이퍼파라미터로 전달한 `level_lengths`개만큼의 LSTM block을 리스트로 가집니다.\n",
    "- 각각의 LSTM block은 마찬가지로 하이퍼파라미터로 전달한 `dec_rnn_size`만큼의 state로 구성되어 있습니다."
   ]
  },
  {
   "cell_type": "code",
   "execution_count": null,
   "metadata": {},
   "outputs": [],
   "source": [
    "# lstm_models.py\n",
    "\n",
    "class BaseLstmDecoder(base_model.BaseDecoder):\n",
    "  \"\"\"Abstract LSTM Decoder class.\"\"\"\n",
    "\n",
    "  def build(self, hparams, output_depth, is_training=True):\n",
    "    # ...\n",
    "    self._output_layer = tf.layers.Dense(\n",
    "        output_depth, name='output_projection')\n",
    "    self._dec_cell = lstm_utils.rnn_cell(\n",
    "        hparams.dec_rnn_size, hparams.dropout_keep_prob,\n",
    "        hparams.residual_decoder, is_training)\n",
    "\n",
    "  def _decode(self, z, helper, input_shape, max_length=None):\n",
    "    initial_state = lstm_utils.initial_cell_state_from_embedding(\n",
    "        self._dec_cell, z, name='decoder/z_to_initial_state')\n",
    "\n",
    "    decoder = lstm_utils.Seq2SeqLstmDecoder(\n",
    "        self._dec_cell,\n",
    "        helper,\n",
    "        initial_state=initial_state,\n",
    "        input_shape=input_shape,\n",
    "        output_layer=self._output_layer)\n",
    "    final_output, final_state, final_lengths = contrib_seq2seq.dynamic_decode(\n",
    "        decoder,\n",
    "        maximum_iterations=max_length,\n",
    "        swap_memory=True,\n",
    "        scope='decoder')\n",
    "    results = lstm_utils.LstmDecodeResults(\n",
    "        rnn_input=final_output.rnn_input[:, :, :self._output_depth],\n",
    "        rnn_output=final_output.rnn_output,\n",
    "        samples=final_output.sample_id,\n",
    "        final_state=final_state,\n",
    "        final_sequence_lengths=final_lengths)\n",
    "\n",
    "    return results"
   ]
  },
  {
   "cell_type": "markdown",
   "metadata": {},
   "source": [
    "- `CategoricalLstmDecoder`는 base model을 상속받는 `HierarchicalLstmDecoder`와 다르게   \n",
    "  `BaseLstmDecoder`라는 추상 클래스를 상속받기 때문에, 해당하는 모델을 우선적으로 탐색했습니다.\n",
    "- `BaseLstmDecoder`는 내부적으로 단방향 LSTM block과 Dense 레이어로 구성된 구조입니다.\n",
    "- `BaseLstmDecoder`의 `decode()` 기능은 `Seq2Seq` 디코더의 동작 방식을 활용한 것으로 추정되며,   \n",
    "  해당 `dynamic_decode()` 함수는 `max_length`에 해당하는 `maximum_iterations`까지 반복문을 수행하면서 연속된 state를 생성합니다."
   ]
  },
  {
   "cell_type": "code",
   "execution_count": null,
   "metadata": {},
   "outputs": [],
   "source": [
    "# lstm_models.py\n",
    "\n",
    "class CategoricalLstmDecoder(BaseLstmDecoder):\n",
    "  \"\"\"LSTM decoder with single categorical output.\"\"\"\n",
    "\n",
    "  def _flat_reconstruction_loss(self, flat_x_target, flat_rnn_output):\n",
    "    flat_logits = flat_rnn_output\n",
    "    flat_truth = tf.argmax(flat_x_target, axis=1)\n",
    "    flat_predictions = tf.argmax(flat_logits, axis=1)\n",
    "    r_loss = tf.nn.softmax_cross_entropy_with_logits(\n",
    "        labels=flat_x_target, logits=flat_logits)\n",
    "\n",
    "    metric_map = {\n",
    "        'metrics/accuracy':\n",
    "            tf.metrics.accuracy(flat_truth, flat_predictions),\n",
    "        'metrics/mean_per_class_accuracy':\n",
    "            tf.metrics.mean_per_class_accuracy(\n",
    "                flat_truth, flat_predictions, int(flat_x_target.shape[-1])),\n",
    "    }\n",
    "    return r_loss, metric_map\n",
    "\n",
    "  def _sample(self, rnn_output, temperature=1.0):\n",
    "    sampler = tfp.distributions.OneHotCategorical(\n",
    "        logits=rnn_output / temperature, dtype=tf.float32)\n",
    "    return sampler.sample()"
   ]
  },
  {
   "cell_type": "markdown",
   "metadata": {},
   "source": [
    "- `CategoricalLstmDecoder`는 `BaseLstmDecoder`의 구조를 그대로 가져오면서,   \n",
    "  베르누이 분포를 따르는 $p_\\theta$에 대한 reconstruction error인 cross entropy를 loss로 사용함을 알 수 있습니다."
   ]
  },
  {
   "cell_type": "code",
   "execution_count": null,
   "metadata": {},
   "outputs": [],
   "source": [
    "# lstm_models.py\n",
    "\n",
    "class HierarchicalLstmDecoder(base_model.BaseDecoder):\n",
    "  \"\"\"Hierarchical LSTM decoder.\"\"\"\n",
    "\n",
    "  def _hierarchical_decode(self, z, base_decode_fn):\n",
    "    \"\"\"Depth first decoding from `z`, passing final embeddings to base fn.\"\"\"\n",
    "    batch_size = z.shape[0]\n",
    "    # Subtract 1 for the core decoder level.\n",
    "    num_levels = len(self._level_lengths) - 1\n",
    "\n",
    "    hparams = self.hparams\n",
    "    batch_size = hparams.batch_size\n",
    "\n",
    "    def recursive_decode(initial_input, path=None):\n",
    "      \"\"\"Recursive hierarchical decode function.\"\"\"\n",
    "      path = path or []\n",
    "      level = len(path)\n",
    "\n",
    "      if level == num_levels:\n",
    "        with tf.variable_scope('core_decoder', reuse=tf.AUTO_REUSE):\n",
    "          return base_decode_fn(initial_input, path)\n",
    "\n",
    "      scope = tf.VariableScope(\n",
    "          tf.AUTO_REUSE, 'decoder/hierarchical_level_%d' % level)\n",
    "      num_steps = self._level_lengths[level]\n",
    "      with tf.variable_scope(scope):\n",
    "        state = lstm_utils.initial_cell_state_from_embedding(\n",
    "            self._hier_cells[level], initial_input, name='initial_state')\n",
    "      if level not in self._disable_autoregression:\n",
    "        # The initial input should be the same size as the tensors returned by\n",
    "        # next level.\n",
    "        if self._hierarchical_encoder:\n",
    "          input_size = self._hierarchical_encoder.level(0).output_depth\n",
    "        elif level == num_levels - 1:\n",
    "          input_size = sum(tf.nest.flatten(self._core_decoder.state_size))\n",
    "        else:\n",
    "          input_size = sum(\n",
    "              tf.nest.flatten(self._hier_cells[level + 1].state_size))\n",
    "        next_input = tf.zeros([batch_size, input_size])\n",
    "      lower_level_embeddings = []\n",
    "      for i in range(num_steps):\n",
    "        if level in self._disable_autoregression:\n",
    "          next_input = tf.zeros([batch_size, 1])\n",
    "        else:\n",
    "          next_input = tf.concat([next_input, initial_input], axis=1)\n",
    "        with tf.variable_scope(scope):\n",
    "          output, state = self._hier_cells[level](next_input, state, scope)\n",
    "        next_input = recursive_decode(output, path + [i])\n",
    "        lower_level_embeddings.append(next_input)\n",
    "      if self._hierarchical_encoder:\n",
    "        # Return the encoding of the outputs using the appropriate level of the\n",
    "        # hierarchical encoder.\n",
    "        enc_level = num_levels - level\n",
    "        return self._hierarchical_encoder.level(enc_level).encode(\n",
    "            sequence=tf.stack(lower_level_embeddings, axis=1),\n",
    "            sequence_length=tf.fill([batch_size], num_steps))\n",
    "      else:\n",
    "        # Return the final state.\n",
    "        return tf.concat(tf.nest.flatten(state), axis=-1)\n",
    "\n",
    "    return recursive_decode(z)"
   ]
  },
  {
   "cell_type": "markdown",
   "metadata": {},
   "source": [
    "- `HierarchicalLstmDecoder`의 전체 디코딩 동작을 확인했을 때,   \n",
    "  core decoder에서부터 재귀적으로 모든 계층의 디코더를 순회하면서 상위 계층의 $z$로부터 도출되는 state를 모두 종합하여 반환하는 것으로 보입니다.\n",
    "- 위 `hierdec-trio_16bar` 설정에서 4마디를 출력하게 하려면 가장 아랫 계층에 대한 `level_lengths`를 4로 설정해야할 것입니다."
   ]
  },
  {
   "cell_type": "code",
   "execution_count": null,
   "metadata": {},
   "outputs": [],
   "source": [
    "# music_vae_train.py\n",
    "\n",
    "def train(train_dir,\n",
    "          config,\n",
    "          dataset_fn,\n",
    "          checkpoints_to_keep=5,\n",
    "          keep_checkpoint_every_n_hours=1,\n",
    "          num_steps=None,\n",
    "          master='',\n",
    "          num_sync_workers=0,\n",
    "          num_ps_tasks=0,\n",
    "          task=0):\n",
    "  \"\"\"Train loop.\"\"\"\n",
    "  # ...\n",
    "  with tf.Graph().as_default():\n",
    "    with tf.device(tf.train.replica_device_setter(\n",
    "        num_ps_tasks, merge_devices=True)):\n",
    "      model = config.model\n",
    "      model.build(config.hparams,\n",
    "                  config.data_converter.output_depth,\n",
    "                  is_training=True)\n",
    "\n",
    "      optimizer = model.train(**_get_input_tensors(dataset_fn(), config))\n",
    "      # ...\n",
    "      grads, var_list = list(zip(*optimizer.compute_gradients(model.loss)))\n",
    "      global_norm = tf.global_norm(grads)\n",
    "      tf.summary.scalar('global_norm', global_norm)\n",
    "\n",
    "      if config.hparams.clip_mode == 'value':\n",
    "        g = config.hparams.grad_clip\n",
    "        clipped_grads = [tf.clip_by_value(grad, -g, g) for grad in grads]\n",
    "      # ...\n",
    "      train_op = optimizer.apply_gradients(\n",
    "          list(zip(clipped_grads, var_list)),\n",
    "          global_step=model.global_step,\n",
    "          name='train_step')\n",
    "\n",
    "      logging_dict = {'global_step': model.global_step,\n",
    "                      'loss': model.loss}\n",
    "      #...\n",
    "      scaffold = tf.train.Scaffold()\n",
    "      tf_slim.training.train()"
   ]
  },
  {
   "cell_type": "markdown",
   "metadata": {},
   "source": [
    "- 원래 목표로 했던 `train()` 함수로 돌아와, 시작 부분에서 config에 포함된 모델 정보를 바탕으로   \n",
    "  `hparams`와 `data_converter`를 바탕으로 인코더-디코더 구조의 MusicVAE 모델을 생성함을 알 수 있습니다.\n",
    "- 또한, 전처리 과정에서 확인한 `_get_input_tensors()` 함수를 통해 batch size만큼의 데이터를 가져와 학습 데이터로 사용합니다.\n",
    "- optimzer는 reconstruction error인 cross entropy를 최소화하는 방향으로 경사하강법을 수행하면서 최적화를 진행합니다.\n",
    "- Scaffold와 tf_slim의 기능은 완전히 이해하지는 못했지만, 아래 참고 자료를 바탕으로 분산 처리를 위한 구문임을 짐작해 볼 수 있습니다.\n",
    "- 학습 후 평가를 위한 `evaluate()` 함수는 `train()` 함수와 동일한 구조에서 모델 학습에 대한 부분만 제거되었습니다.\n",
    "\n",
    "### References\n",
    "- [Distributed TensorFlow (TensorFlow Dev Summit 2017)](https://youtu.be/la_M6bCV91M)\n",
    "- https://www.tensorflow.org/api_docs/python/tf/compat/v1/train/Scaffold\n",
    "- https://digitalbourgeois.tistory.com/51"
   ]
  },
  {
   "cell_type": "markdown",
   "metadata": {},
   "source": [
    "<hr style=\"border-style:dotted\">\n",
    "\n",
    "### 생성 과정 탐색\n",
    "- `music_vae_generate.py`를 실행하기 위해선 `run_dir` 또는 `checkpoint_file`, `output_dir`, `mode`를 설정해야 합니다.\n",
    "- `mode`에는 `sample`과 `interpolate`가 있고 샘플 생성을 위해서는 `sample`을 설정합니다."
   ]
  },
  {
   "cell_type": "code",
   "execution_count": null,
   "metadata": {},
   "outputs": [],
   "source": [
    "# music_vae_generate.py\n",
    "\n",
    "import os\n",
    "import time\n",
    "from magenta.models.music_vae import TrainedModel\n",
    "import note_seq\n",
    "\n",
    "flags = tf.app.flags\n",
    "logging = tf.logging\n",
    "FLAGS = flags.FLAGS\n",
    "\n",
    "def run(config_map):\n",
    "  # ...\n",
    "  config = config_map[FLAGS.config]\n",
    "  # ...\n",
    "  logging.info('Loading model...')\n",
    "  if FLAGS.run_dir:\n",
    "    checkpoint_dir_or_path = os.path.expanduser(\n",
    "        os.path.join(FLAGS.run_dir, 'train'))\n",
    "  else:\n",
    "    checkpoint_dir_or_path = os.path.expanduser(FLAGS.checkpoint_file)\n",
    "  model = TrainedModel(\n",
    "      config, batch_size=min(FLAGS.max_batch_size, FLAGS.num_outputs),\n",
    "      checkpoint_dir_or_path=checkpoint_dir_or_path)\n",
    "  # ..."
   ]
  },
  {
   "cell_type": "markdown",
   "metadata": {},
   "source": [
    "- 생성 과정은 단순하게 모델을 불러와서 샘플링 결과를 저장하는 것입니다.\n",
    "- `run()` 함수의 시작 부분에선 config를 검증하고 `TrainedModel`을 생성합니다."
   ]
  },
  {
   "cell_type": "code",
   "execution_count": null,
   "metadata": {},
   "outputs": [],
   "source": [
    "# trained_model.py\n",
    "\n",
    "import copy\n",
    "\n",
    "class TrainedModel(object):\n",
    "  def __init__(self, config, batch_size, checkpoint_dir_or_path=None,\n",
    "               var_name_substitutions=None, session_target='', **sample_kwargs):\n",
    "    if tf.gfile.IsDirectory(checkpoint_dir_or_path):\n",
    "      checkpoint_path = tf.train.latest_checkpoint(checkpoint_dir_or_path)\n",
    "    else:\n",
    "      checkpoint_path = checkpoint_dir_or_path\n",
    "    self._config = copy.deepcopy(config)\n",
    "    self._config.data_converter.set_mode('infer')\n",
    "    self._config.hparams.batch_size = batch_size\n",
    "    with tf.Graph().as_default():\n",
    "      model = self._config.model\n",
    "      model.build(\n",
    "          self._config.hparams,\n",
    "          self._config.data_converter.output_depth,\n",
    "          is_training=False)\n",
    "      # Input placeholders\n",
    "      self._temperature = tf.placeholder(tf.float32, shape=())\n",
    "      # ..."
   ]
  },
  {
   "cell_type": "markdown",
   "metadata": {},
   "source": [
    "- `TrainedModel`의 내부 구조를 알아보기 위해 우선 초기화 메서드를 확인했을 때,   \n",
    "  체크포인트 경로를 받고 `trainable=False` 설정과 함께 모델을 불러와 저장하는 것을 알 수 있습니다."
   ]
  },
  {
   "cell_type": "code",
   "execution_count": null,
   "metadata": {},
   "outputs": [],
   "source": [
    "# trained_model.py\n",
    "\n",
    "import numpy as np\n",
    "\n",
    "class TrainedModel(object):\n",
    "  def sample(self, n=None, length=None, temperature=1.0, same_z=False,\n",
    "             c_input=None):\n",
    "    \"\"\"Generates random samples from the model.\"\"\"\n",
    "    batch_size = self._config.hparams.batch_size\n",
    "    n = n or batch_size\n",
    "    z_size = self._config.hparams.z_size\n",
    "\n",
    "    if not length and self._config.data_converter.end_token is None:\n",
    "      raise ValueError(\n",
    "          'A length must be specified when the end token is not used.')\n",
    "    length = length or tf.int32.max\n",
    "\n",
    "    feed_dict = {\n",
    "        self._temperature: temperature,\n",
    "        self._max_length: length\n",
    "    }\n",
    "\n",
    "    if self._z_input is not None and same_z:\n",
    "      z = np.random.randn(z_size).astype(np.float32)\n",
    "      z = np.tile(z, (batch_size, 1))\n",
    "      feed_dict[self._z_input] = z\n",
    "\n",
    "    if self._c_input is not None:\n",
    "      feed_dict[self._c_input] = c_input\n",
    "\n",
    "    outputs = []\n",
    "    for _ in range(int(np.ceil(n / batch_size))):\n",
    "      if self._z_input is not None and not same_z:\n",
    "        feed_dict[self._z_input] = (\n",
    "            np.random.randn(batch_size, z_size).astype(np.float32))\n",
    "      outputs.append(self._sess.run(self._outputs, feed_dict))\n",
    "    samples = np.vstack(outputs)[:n]\n",
    "    if self._c_input is not None:\n",
    "      return self._config.data_converter.from_tensors(\n",
    "          samples, np.tile(np.expand_dims(c_input, 0), [batch_size, 1, 1]))\n",
    "    else:\n",
    "      return self._config.data_converter.from_tensors(samples)"
   ]
  },
  {
   "cell_type": "markdown",
   "metadata": {},
   "source": [
    "- 샘플을 생성하는 `sample()` 메서드는 샘플 수 `n`, 샘플 별 최대 길이 `length`, softmax 함수에서의 온도계수 `temperature` 등을 받아,   \n",
    "  `NoteSequence` 타입의 샘플 객체 리스트를 반환합니다.\n",
    "- `z`를 별도로 지정하지 않을 경우 랜덤한 `z`를 생성하고, 전체 샘플 수에 대해 batch size 단위로 반복하며 샘플을 생성합니다."
   ]
  },
  {
   "cell_type": "code",
   "execution_count": null,
   "metadata": {},
   "outputs": [],
   "source": [
    "# music_vae_generate.py\n",
    "\n",
    "def run(config_map):\n",
    "  date_and_time = time.strftime('%Y-%m-%d_%H%M%S')\n",
    "  # ...\n",
    "  config = config_map[FLAGS.config]\n",
    "  # ...\n",
    "  model = TrainedModel()\n",
    "  # ...\n",
    "  if FLAGS.mode == 'interpolate':\n",
    "    pass\n",
    "  elif FLAGS.mode == 'sample':\n",
    "    logging.info('Sampling...')\n",
    "    results = model.sample(\n",
    "        n=FLAGS.num_outputs,\n",
    "        length=config.hparams.max_seq_len,\n",
    "        temperature=FLAGS.temperature)\n",
    "\n",
    "  basename = os.path.join(\n",
    "      FLAGS.output_dir,\n",
    "      '%s_%s_%s-*-of-%03d.mid' %\n",
    "      (FLAGS.config, FLAGS.mode, date_and_time, FLAGS.num_outputs))\n",
    "  logging.info('Outputting %d files as `%s`...', FLAGS.num_outputs, basename)\n",
    "  for i, ns in enumerate(results):\n",
    "    note_seq.sequence_proto_to_midi_file(ns, basename.replace('*', '%03d' % i))\n",
    "\n",
    "  logging.info('Done.')"
   ]
  },
  {
   "cell_type": "markdown",
   "metadata": {},
   "source": [
    "- 다시 `run()` 함수로 돌아와서, 위와 같은 과정을 거쳐 생성된 샘플이 `results`에 담기고,   \n",
    "  `output_dir`에 MIDI 파일이 저장되는 것을 확인할 수 있습니다."
   ]
  },
  {
   "cell_type": "markdown",
   "metadata": {},
   "source": [
    "<hr>\n",
    "\n",
    "## Data Analysis\n",
    "- [Groove MIDI Dataset](https://magenta.tensorflow.org/datasets/groove)\n",
    "- MIDI 형식으로 사람이 연주하는 드럼 소리를 녹음한 오디오 데이터셋입니다.\n",
    "- 22,000개의 마디로 구성된 1,150개의 MIDI 파일을 포합니다.\n",
    "- 데이터 파일의 분포를 분석합니다. (08-20 14:00-15:00, 1 hour)"
   ]
  },
  {
   "cell_type": "code",
   "execution_count": null,
   "metadata": {},
   "outputs": [],
   "source": [
    "# from google.colab import drive, files\n",
    "from pathlib import Path\n",
    "import os\n",
    "\n",
    "# drive.mount(\"/content/drive\")\n",
    "# root_path = Path(\"/content/drive/My Drive/groove_midi\")\n",
    "root_path = Path(\"./\")\n",
    "# root_path.mkdir(parents=True, exist_ok=True)\n",
    "# os.chdir(root_path)"
   ]
  },
  {
   "cell_type": "code",
   "execution_count": null,
   "metadata": {},
   "outputs": [],
   "source": [
    "from zipfile import ZipFile\n",
    "import urllib.request\n",
    "\n",
    "url = \"https://storage.googleapis.com/magentadata/datasets/groove/groove-v1.0.0-midionly.zip\"\n",
    "data_path = root_path/'data'\n",
    "data_path.mkdir(parents=True, exist_ok=True)\n",
    "zip_file = data_path/url.split('/')[-1]\n",
    "# urllib.request.urlretrieve(url, zip_file)\n",
    "# ZipFile(zip_file).extractall(data_path)"
   ]
  },
  {
   "cell_type": "code",
   "execution_count": null,
   "metadata": {},
   "outputs": [
    {
     "name": "stdout",
     "output_type": "stream",
     "text": [
      "(['drummer8', 'drummer6', 'drummer1', 'drummer7', 'drummer10', 'drummer9', 'drummer2', 'drummer5', 'drummer4', 'drummer3'], ['LICENSE', 'Icon\\r', 'README', 'info.csv'])\n"
     ]
    }
   ],
   "source": [
    "midi_path = data_path/'groove'\n",
    "print(list(os.walk(data_path))[0][1:])"
   ]
  },
  {
   "cell_type": "code",
   "execution_count": null,
   "metadata": {},
   "outputs": [
    {
     "data": {
      "text/html": [
       "<div>\n",
       "<style scoped>\n",
       "    .dataframe tbody tr th:only-of-type {\n",
       "        vertical-align: middle;\n",
       "    }\n",
       "\n",
       "    .dataframe tbody tr th {\n",
       "        vertical-align: top;\n",
       "    }\n",
       "\n",
       "    .dataframe thead th {\n",
       "        text-align: right;\n",
       "    }\n",
       "</style>\n",
       "<table border=\"1\" class=\"dataframe\">\n",
       "  <thead>\n",
       "    <tr style=\"text-align: right;\">\n",
       "      <th></th>\n",
       "      <th>drummer</th>\n",
       "      <th>session</th>\n",
       "      <th>id</th>\n",
       "      <th>style</th>\n",
       "      <th>bpm</th>\n",
       "      <th>beat_type</th>\n",
       "      <th>time_signature</th>\n",
       "      <th>midi_filename</th>\n",
       "      <th>audio_filename</th>\n",
       "      <th>duration</th>\n",
       "      <th>split</th>\n",
       "    </tr>\n",
       "  </thead>\n",
       "  <tbody>\n",
       "    <tr>\n",
       "      <th>0</th>\n",
       "      <td>drummer1</td>\n",
       "      <td>drummer1/eval_session</td>\n",
       "      <td>drummer1/eval_session/1</td>\n",
       "      <td>funk/groove1</td>\n",
       "      <td>138</td>\n",
       "      <td>beat</td>\n",
       "      <td>4-4</td>\n",
       "      <td>drummer1/eval_session/1_funk-groove1_138_beat_...</td>\n",
       "      <td>drummer1/eval_session/1_funk-groove1_138_beat_...</td>\n",
       "      <td>27.872308</td>\n",
       "      <td>test</td>\n",
       "    </tr>\n",
       "    <tr>\n",
       "      <th>1</th>\n",
       "      <td>drummer1</td>\n",
       "      <td>drummer1/eval_session</td>\n",
       "      <td>drummer1/eval_session/10</td>\n",
       "      <td>soul/groove10</td>\n",
       "      <td>102</td>\n",
       "      <td>beat</td>\n",
       "      <td>4-4</td>\n",
       "      <td>drummer1/eval_session/10_soul-groove10_102_bea...</td>\n",
       "      <td>drummer1/eval_session/10_soul-groove10_102_bea...</td>\n",
       "      <td>37.691158</td>\n",
       "      <td>test</td>\n",
       "    </tr>\n",
       "    <tr>\n",
       "      <th>2</th>\n",
       "      <td>drummer1</td>\n",
       "      <td>drummer1/eval_session</td>\n",
       "      <td>drummer1/eval_session/2</td>\n",
       "      <td>funk/groove2</td>\n",
       "      <td>105</td>\n",
       "      <td>beat</td>\n",
       "      <td>4-4</td>\n",
       "      <td>drummer1/eval_session/2_funk-groove2_105_beat_...</td>\n",
       "      <td>drummer1/eval_session/2_funk-groove2_105_beat_...</td>\n",
       "      <td>36.351218</td>\n",
       "      <td>test</td>\n",
       "    </tr>\n",
       "    <tr>\n",
       "      <th>3</th>\n",
       "      <td>drummer1</td>\n",
       "      <td>drummer1/eval_session</td>\n",
       "      <td>drummer1/eval_session/3</td>\n",
       "      <td>soul/groove3</td>\n",
       "      <td>86</td>\n",
       "      <td>beat</td>\n",
       "      <td>4-4</td>\n",
       "      <td>drummer1/eval_session/3_soul-groove3_86_beat_4...</td>\n",
       "      <td>drummer1/eval_session/3_soul-groove3_86_beat_4...</td>\n",
       "      <td>44.716543</td>\n",
       "      <td>test</td>\n",
       "    </tr>\n",
       "    <tr>\n",
       "      <th>4</th>\n",
       "      <td>drummer1</td>\n",
       "      <td>drummer1/eval_session</td>\n",
       "      <td>drummer1/eval_session/4</td>\n",
       "      <td>soul/groove4</td>\n",
       "      <td>80</td>\n",
       "      <td>beat</td>\n",
       "      <td>4-4</td>\n",
       "      <td>drummer1/eval_session/4_soul-groove4_80_beat_4...</td>\n",
       "      <td>drummer1/eval_session/4_soul-groove4_80_beat_4...</td>\n",
       "      <td>47.987500</td>\n",
       "      <td>test</td>\n",
       "    </tr>\n",
       "  </tbody>\n",
       "</table>\n",
       "</div>"
      ],
      "text/plain": [
       "    drummer                session                        id          style  \\\n",
       "0  drummer1  drummer1/eval_session   drummer1/eval_session/1   funk/groove1   \n",
       "1  drummer1  drummer1/eval_session  drummer1/eval_session/10  soul/groove10   \n",
       "2  drummer1  drummer1/eval_session   drummer1/eval_session/2   funk/groove2   \n",
       "3  drummer1  drummer1/eval_session   drummer1/eval_session/3   soul/groove3   \n",
       "4  drummer1  drummer1/eval_session   drummer1/eval_session/4   soul/groove4   \n",
       "\n",
       "   bpm beat_type time_signature  \\\n",
       "0  138      beat            4-4   \n",
       "1  102      beat            4-4   \n",
       "2  105      beat            4-4   \n",
       "3   86      beat            4-4   \n",
       "4   80      beat            4-4   \n",
       "\n",
       "                                       midi_filename  \\\n",
       "0  drummer1/eval_session/1_funk-groove1_138_beat_...   \n",
       "1  drummer1/eval_session/10_soul-groove10_102_bea...   \n",
       "2  drummer1/eval_session/2_funk-groove2_105_beat_...   \n",
       "3  drummer1/eval_session/3_soul-groove3_86_beat_4...   \n",
       "4  drummer1/eval_session/4_soul-groove4_80_beat_4...   \n",
       "\n",
       "                                      audio_filename   duration split  \n",
       "0  drummer1/eval_session/1_funk-groove1_138_beat_...  27.872308  test  \n",
       "1  drummer1/eval_session/10_soul-groove10_102_bea...  37.691158  test  \n",
       "2  drummer1/eval_session/2_funk-groove2_105_beat_...  36.351218  test  \n",
       "3  drummer1/eval_session/3_soul-groove3_86_beat_4...  44.716543  test  \n",
       "4  drummer1/eval_session/4_soul-groove4_80_beat_4...  47.987500  test  "
      ]
     },
     "execution_count": null,
     "metadata": {},
     "output_type": "execute_result"
    }
   ],
   "source": [
    "import pandas as pd\n",
    "\n",
    "info_df = pd.read_csv(midi_path/'info.csv')\n",
    "info_df.head()"
   ]
  },
  {
   "cell_type": "markdown",
   "metadata": {},
   "source": [
    "info.csv를 통해 MIDI 파일에 대한 상세 정보를 확인할 수 있습니다."
   ]
  },
  {
   "cell_type": "code",
   "execution_count": null,
   "metadata": {},
   "outputs": [
    {
     "data": {
      "image/png": "[encoded data removed]",
      "text/plain": [
       "<Figure size 288x288 with 1 Axes>"
      ]
     },
     "metadata": {
      "image/png": {
       "height": 250,
       "width": 231
      }
     },
     "output_type": "display_data"
    }
   ],
   "source": [
    "import matplotlib.pyplot as plt\n",
    "import seaborn as sns\n",
    "from utils.fontlib import set_font_family\n",
    "set_font_family()\n",
    "\n",
    "fig = plt.figure(facecolor=(1,1,1), figsize=(4,4))\n",
    "split_size = info_df.split.value_counts()\n",
    "plt.pie(split_size, labels=split_size.index, startangle=90, autopct='%.1f%%')\n",
    "plt.title(\"Train:Valid:Test\", fontsize=16)\n",
    "plt.show()"
   ]
  },
  {
   "cell_type": "markdown",
   "metadata": {},
   "source": [
    "8:1:1 비율로 train/valid/test 데이터가 분리된 것을 확인할 수 있습니다."
   ]
  },
  {
   "cell_type": "code",
   "execution_count": null,
   "metadata": {},
   "outputs": [
    {
     "data": {
      "image/png": "[encoded data removed]",
      "text/plain": [
       "<Figure size 1152x288 with 2 Axes>"
      ]
     },
     "metadata": {
      "image/png": {
       "height": 291,
       "width": 942
      }
     },
     "output_type": "display_data"
    }
   ],
   "source": [
    "fig, ax = plt.subplots(1, 2, figsize=(16,4))\n",
    "sns.histplot(ax=ax[0], data=info_df, x='bpm', bins=100)\n",
    "sns.histplot(ax=ax[1], data=info_df, x='duration', bins=100)\n",
    "plt.suptitle(\"BPM and Duration of MIDI files\", fontsize=16)\n",
    "plt.show()"
   ]
  },
  {
   "cell_type": "markdown",
   "metadata": {},
   "source": [
    "bpm과 duration에 대한 분포를 시각화했습니다.   \n",
    "대부분이 짧은 곡이지만 유난히 길이가 긴 곡이 일부 포함되어 있는 것을 알 수 있습니다."
   ]
  },
  {
   "cell_type": "markdown",
   "metadata": {},
   "source": [
    "추가적으로 MIDI 파일에 어떤 소리가 기록되어 있는지 확인하기 위해 Logic으로 재생한 내역을 녹화하였고,   \n",
    "해당 [영상 다운로드](https://github.com/minyeamer/groove_midi/blob/main/.media/midi.mov?raw=true)를 통해 확인할 수 있습니다."
   ]
  },
  {
   "cell_type": "markdown",
   "metadata": {},
   "source": [
    "<hr>\n",
    "\n",
    "## Implementation\n",
    "- MIDI 파일을 TFRecord 파일로 변환합니다.\n",
    "- Custom CONFIG_MAP을 생성합니다.\n",
    "- [Magenta 사용법](https://github.com/magenta/magenta/tree/main/magenta/models/music_vae#how-to-use)을 참고하여 `music_vae_train.py` 스크립트를 수행해 학습합니다.\n",
    "- [Magenta 사용법](https://github.com/magenta/magenta/tree/main/magenta/models/music_vae#how-to-use)을 참고하여 `music_vae_generate.py` 스크립트를 수행해 학습합니다.\n",
    "- 개별적으로 알아보고 싶은 함수들을 실행하여 반환값을 확인합니다.\n",
    "- (08-20 17:00-22:00, 5 hours)"
   ]
  },
  {
   "cell_type": "markdown",
   "metadata": {},
   "source": [
    "<hr style=\"border-style:dotted\">\n",
    "\n",
    "### TFRecord 변환\n",
    "- `convert_directory()` 함수를 사용해 MIDI 파일을 포함하는 전체 디렉토리를 TFRecord 파일로 변환합니다.\n",
    "- Path 객체를 그대로 집어넣으면 내부에서 인식하지 못하므로 str 타입으로 변환해 전달합니다."
   ]
  },
  {
   "cell_type": "code",
   "execution_count": null,
   "metadata": {},
   "outputs": [],
   "source": [
    "import warnings\n",
    "warnings.filterwarnings(\"ignore\")\n",
    "\n",
    "from magenta.scripts.convert_dir_to_note_sequences import convert_directory\n",
    "\n",
    "tfrec_file = data_path/'midi.tfrecord'\n",
    "convert_directory(midi_path.__str__(), tfrec_file.__str__(), recursive=True)\n",
    "clear_output()"
   ]
  },
  {
   "cell_type": "markdown",
   "metadata": {},
   "source": [
    "<hr style=\"border-style:dotted\">\n",
    "\n",
    "### Custom CONFIG_MAP 생성\n",
    "- `music_vae_train.py`는 무조건 `config_map`에 대한 키값으로 설정 정보를 불러오기 때문에,   \n",
    "  `configs.py` 내에 직접 custom config를 주입하여 해당하는 키값으로 접근할 수 있도록 합니다.\n",
    "- custom config의 경우 앞서 살펴보았던 `cat-mel_2bar_small`과 `hierdec-trio_16bar`를 적절히 조합해 작성합니다.\n",
    "- colab에서 설치된 패키지를 직접 수정하는 방법을 찾지 못하여 로컬에서 파일을 수정하고 재설치를 통해 변경사항을 업데이트하도록 했습니다."
   ]
  },
  {
   "cell_type": "code",
   "execution_count": null,
   "metadata": {},
   "outputs": [],
   "source": [
    "!git clone https://github.com/magenta/magenta"
   ]
  },
  {
   "cell_type": "code",
   "execution_count": null,
   "metadata": {},
   "outputs": [],
   "source": [
    "custom_config = f\"\"\"\n",
    "CONFIG_MAP['hierdec-drums_4bar_small'] = Config(\n",
    "    model=MusicVAE(\n",
    "        lstm_models.BidirectionalLstmEncoder(),\n",
    "        lstm_models.HierarchicalLstmDecoder(\n",
    "            lstm_models.CategoricalLstmDecoder(),\n",
    "            level_lengths=[16, 4],\n",
    "            disable_autoregression=True)),\n",
    "    hparams=merge_hparams(\n",
    "        lstm_models.get_default_hparams(),\n",
    "        HParams(\n",
    "            batch_size=512,\n",
    "            max_seq_len=64,  # 4 bars w/ 16 steps per bar\n",
    "            z_size=256,\n",
    "            enc_rnn_size=[512, 512],\n",
    "            dec_rnn_size=[256, 256],\n",
    "            free_bits=48,\n",
    "            max_beta=0.2,\n",
    "            sampling_schedule='inverse_sigmoid',\n",
    "            sampling_rate=1000,\n",
    "        )),\n",
    "    note_sequence_augmenter=None,\n",
    "    data_converter=data.DrumsConverter(\n",
    "        max_bars=100,  # Truncate long drum sequences before slicing.\n",
    "        slice_bars=4,\n",
    "        steps_per_quarter=4,\n",
    "        roll_input=True),\n",
    "    train_examples_path='{tfrec_file.__str__()}',\n",
    ")\"\"\""
   ]
  },
  {
   "cell_type": "code",
   "execution_count": null,
   "metadata": {},
   "outputs": [],
   "source": [
    "config_file = root_path/\"magenta/magenta/models/music_vae/configs.py\"\n",
    "\n",
    "with open(config_file, 'a') as file:\n",
    "    file.write(custom_config)"
   ]
  },
  {
   "cell_type": "code",
   "execution_count": null,
   "metadata": {},
   "outputs": [],
   "source": [
    "!pip install -e magenta\n",
    "clear_output()"
   ]
  },
  {
   "cell_type": "markdown",
   "metadata": {},
   "source": [
    "<hr style=\"border-style:dotted\">\n",
    "\n",
    "### Train\n",
    "- `config`, `run_dir`, `num_steps`, `mode`를 지정하여 `music_vae_train.py` 스크립트를 실행합니다."
   ]
  },
  {
   "cell_type": "code",
   "execution_count": null,
   "metadata": {},
   "outputs": [],
   "source": [
    "!python3 magenta/magenta/models/music_vae/music_vae_train.py \\\n",
    "  --config=hierdec-drums_4bar_small \\\n",
    "  --run_dir=saved/checkpoints/drums_4bar \\\n",
    "  --num_steps=10 \\\n",
    "  --mode=train"
   ]
  },
  {
   "cell_type": "markdown",
   "metadata": {},
   "source": [
    "<hr style=\"border-style:dotted\">\n",
    "\n",
    "### Generate\n",
    "- `config`, `checkpoint_file`, `mode`, `num_outputs`, `output_dir`을 지정하여 `music_vae_generate.py` 스크립트를 실행합니다.\n",
    "- 실행 결과 4마디로 구성된 MIDI 파일 5개가 생성됩니다."
   ]
  },
  {
   "cell_type": "code",
   "execution_count": null,
   "metadata": {},
   "outputs": [],
   "source": [
    "!python3 magenta/magenta/models/music_vae/music_vae_generate.py \\\n",
    "  --config=hierdec-drums_4bar_small \\\n",
    "  --checkpoint_file=saved/checkpoints/groove_4bar \\\n",
    "  --mode=sample \\\n",
    "  --num_outputs=5 \\\n",
    "  --output_dir=saved/generated"
   ]
  },
  {
   "cell_type": "markdown",
   "metadata": {},
   "source": [
    "<hr style=\"border-style:dotted\">\n",
    "\n",
    "### Debug\n",
    "- MusicVAE의 입력값으로 사용되는, `_get_input_tensors()` 함수의 출력 결과를 확인합니다.\n",
    "- 위 입력값에 대한 인코딩을 통해 얻을 수 있는 $\\mu, \\sigma$ 값을 확인합니다.\n",
    "- `TrainedModel` 객체를 생성하고 출력 시퀀스에 대한 그래프를 확인합니다."
   ]
  },
  {
   "cell_type": "code",
   "execution_count": null,
   "metadata": {
    "id": "mUCaenFGyrHI"
   },
   "outputs": [],
   "source": [
    "import collections\n",
    "from magenta.common import merge_hparams\n",
    "from magenta.contrib import training as contrib_training\n",
    "from magenta.models.music_vae import configs\n",
    "from magenta.models.music_vae import data\n",
    "from magenta.models.music_vae import lstm_models\n",
    "from magenta.models.music_vae import music_vae_train\n",
    "from magenta.models.music_vae.base_model import MusicVAE\n",
    "from magenta.models.music_vae.trained_model import TrainedModel\n",
    "import tensorflow.compat.v1 as tf\n",
    "import note_seq"
   ]
  },
  {
   "cell_type": "code",
   "execution_count": null,
   "metadata": {
    "id": "7ID4DCDjIBs_"
   },
   "outputs": [],
   "source": [
    "HParams = contrib_training.HParams\n",
    "\n",
    "class Config(collections.namedtuple(\n",
    "    'Config',\n",
    "    ['model', 'hparams', 'note_sequence_augmenter', 'data_converter',\n",
    "     'train_examples_path', 'eval_examples_path', 'tfds_name'])):\n",
    "\n",
    "  def values(self):\n",
    "    return self._asdict()\n",
    "\n",
    "Config.__new__.__defaults__ = (None,) * len(Config._fields)\n",
    "\n",
    "CONFIG_MAP = configs.CONFIG_MAP\n",
    "\n",
    "CONFIG_MAP['hierdec-drums_4bar_small'] = Config(\n",
    "    model=MusicVAE(\n",
    "        lstm_models.BidirectionalLstmEncoder(),\n",
    "        lstm_models.HierarchicalLstmDecoder(\n",
    "            lstm_models.CategoricalLstmDecoder(),\n",
    "            level_lengths=[16, 4],\n",
    "            disable_autoregression=True)),\n",
    "    hparams=merge_hparams(\n",
    "        lstm_models.get_default_hparams(),\n",
    "        HParams(\n",
    "            batch_size=512,\n",
    "            max_seq_len=64,  # 4 bars w/ 16 steps per bar\n",
    "            z_size=256,\n",
    "            enc_rnn_size=[512, 512],\n",
    "            dec_rnn_size=[256, 256],\n",
    "            free_bits=48,\n",
    "            max_beta=0.2,\n",
    "            sampling_schedule='inverse_sigmoid',\n",
    "            sampling_rate=1000,\n",
    "        )),\n",
    "    note_sequence_augmenter=None,\n",
    "    data_converter=data.DrumsConverter(\n",
    "        max_bars=100,  # Truncate long drum sequences before slicing.\n",
    "        slice_bars=4,\n",
    "        steps_per_quarter=4,\n",
    "        roll_input=True),\n",
    "    train_examples_path=tfrec_file.__str__(),\n",
    ")"
   ]
  },
  {
   "cell_type": "markdown",
   "metadata": {},
   "source": [
    "#### Print Input Tensors"
   ]
  },
  {
   "cell_type": "code",
   "execution_count": null,
   "metadata": {},
   "outputs": [],
   "source": [
    "tf_file_reader = tf.data.TFRecordDataset\n",
    "config = CONFIG_MAP['hierdec-drums_4bar_small']\n",
    "\n",
    "def dataset_fn():\n",
    "    return data.get_dataset(\n",
    "        config,\n",
    "        tf_file_reader=tf_file_reader,\n",
    "        is_training=True)\n",
    "\n",
    "input_tensors = music_vae_train._get_input_tensors(dataset_fn(), config)"
   ]
  },
  {
   "cell_type": "code",
   "execution_count": null,
   "metadata": {
    "colab": {
     "base_uri": "https://localhost:8080/"
    },
    "id": "D5OLkAj8laJq",
    "outputId": "f9d1b8b7-a3f9-4e8d-f9a0-6c5a69137f20"
   },
   "outputs": [
    {
     "data": {
      "text/plain": [
       "dict_keys(['input_sequence', 'output_sequence', 'control_sequence', 'sequence_length'])"
      ]
     },
     "metadata": {},
     "output_type": "display_data"
    }
   ],
   "source": [
    "input_tensors.keys()"
   ]
  },
  {
   "cell_type": "code",
   "execution_count": null,
   "metadata": {
    "colab": {
     "base_uri": "https://localhost:8080/"
    },
    "id": "pXxfzYOgJUry",
    "outputId": "b8508004-16a0-488c-c209-aa7c83d796de"
   },
   "outputs": [
    {
     "name": "stdout",
     "output_type": "stream",
     "text": [
      "(512, 64, 10)\n",
      "tf.Tensor(\n",
      "[[ True False  True False False False False False False False]\n",
      " [False False False False False False False False False  True]\n",
      " [False False  True False False False False False False False]\n",
      " [False False False False False False False False False  True]\n",
      " [ True  True False False False False False False False False]\n",
      " [False False  True False False False False False False False]\n",
      " [False False  True False False False False False False False]\n",
      " [False False False False False False False False False  True]\n",
      " [ True False False False False False False False False False]\n",
      " [False False  True False False False False False False False]\n",
      " [False  True False False False False False False False False]\n",
      " [False False False False False False False False False  True]\n",
      " [ True False False  True False False False False False False]\n",
      " [False  True False False False False False False False False]\n",
      " [False  True False False False False False False False False]\n",
      " [False False False False False False False False False  True]\n",
      " [ True False  True False False False False False False False]\n",
      " [False False False False False False False False False  True]\n",
      " [False False False False False False False False False  True]\n",
      " [False False  True False False False False False False False]\n",
      " [ True  True False False False False False False False False]\n",
      " [False False  True False False False False False False False]\n",
      " [False False False False False False False False False  True]\n",
      " [False False  True False False False False False False False]\n",
      " [ True False False False False False False False False False]\n",
      " [False False  True False False False False False False False]\n",
      " [False False False False False False False False False  True]\n",
      " [False  True False False False False False False False False]\n",
      " [ True  True False  True False False False False False False]\n",
      " [False False False False False False False False False  True]\n",
      " [False  True False False False False False False False False]\n",
      " [False False False  True False False False False False False]\n",
      " [ True False  True False False False False False False False]\n",
      " [False False False False False False False False False  True]\n",
      " [False False  True False False False False False False False]\n",
      " [False False False False False False False False False  True]\n",
      " [ True  True False False False False False False False False]\n",
      " [False False  True False False False False False False False]\n",
      " [False False False False False False False False False  True]\n",
      " [False False  True False False False False False False False]\n",
      " [ True False False False False False False False False False]\n",
      " [False  True False False False False False False False False]\n",
      " [False  True False False False False False False False False]\n",
      " [False False False False False False False False False  True]\n",
      " [ True  True False False False False False False False False]\n",
      " [False  True False False False False False False False False]\n",
      " [False  True False False False False False False False False]\n",
      " [False False False False False False False False False  True]\n",
      " [ True False False  True False False False False False False]\n",
      " [False False False False False False False False False  True]\n",
      " [False False  True False False False False False False False]\n",
      " [False False False False False False False False False  True]\n",
      " [ True  True False False False False False False False False]\n",
      " [False False  True False False False False False False False]\n",
      " [False False  True False False False False False False False]\n",
      " [False False False False False False False False False  True]\n",
      " [ True False False False False False False False False False]\n",
      " [False False  True False False False False False False False]\n",
      " [False  True False False False False False False False False]\n",
      " [False False False False False False False False False  True]\n",
      " [ True  True False  True False False False False False False]\n",
      " [False False False False False False False False False  True]\n",
      " [False  True False  True False False False False False False]\n",
      " [False False False False False False False False False  True]], shape=(64, 10), dtype=bool)\n"
     ]
    }
   ],
   "source": [
    "print(input_tensors['input_sequence'].shape)\n",
    "print(input_tensors['input_sequence'][0])"
   ]
  },
  {
   "cell_type": "code",
   "execution_count": null,
   "metadata": {
    "colab": {
     "base_uri": "https://localhost:8080/"
    },
    "id": "ZFU1Ty_qJaWw",
    "outputId": "dd10f39b-3b2d-4ef7-f862-68834b74450d"
   },
   "outputs": [
    {
     "name": "stdout",
     "output_type": "stream",
     "text": [
      "(512, 64, 512)\n",
      "tf.Tensor(\n",
      "[False False False False False  True False False False False False False\n",
      " False False False False False False False False False False False False\n",
      " False False False False False False False False False False False False\n",
      " False False False False False False False False False False False False\n",
      " False False False False False False False False False False False False\n",
      " False False False False False False False False False False False False\n",
      " False False False False False False False False False False False False\n",
      " False False False False False False False False False False False False\n",
      " False False False False False False False False False False False False\n",
      " False False False False False False False False False False False False\n",
      " False False False False False False False False False False False False\n",
      " False False False False False False False False False False False False\n",
      " False False False False False False False False False False False False\n",
      " False False False False False False False False False False False False\n",
      " False False False False False False False False False False False False\n",
      " False False False False False False False False False False False False\n",
      " False False False False False False False False False False False False\n",
      " False False False False False False False False False False False False\n",
      " False False False False False False False False False False False False\n",
      " False False False False False False False False False False False False\n",
      " False False False False False False False False False False False False\n",
      " False False False False False False False False False False False False\n",
      " False False False False False False False False False False False False\n",
      " False False False False False False False False False False False False\n",
      " False False False False False False False False False False False False\n",
      " False False False False False False False False False False False False\n",
      " False False False False False False False False False False False False\n",
      " False False False False False False False False False False False False\n",
      " False False False False False False False False False False False False\n",
      " False False False False False False False False False False False False\n",
      " False False False False False False False False False False False False\n",
      " False False False False False False False False False False False False\n",
      " False False False False False False False False False False False False\n",
      " False False False False False False False False False False False False\n",
      " False False False False False False False False False False False False\n",
      " False False False False False False False False False False False False\n",
      " False False False False False False False False False False False False\n",
      " False False False False False False False False False False False False\n",
      " False False False False False False False False False False False False\n",
      " False False False False False False False False False False False False\n",
      " False False False False False False False False False False False False\n",
      " False False False False False False False False False False False False\n",
      " False False False False False False False False], shape=(512,), dtype=bool)\n"
     ]
    }
   ],
   "source": [
    "print(input_tensors['output_sequence'].shape)\n",
    "print(input_tensors['output_sequence'][0][0])"
   ]
  },
  {
   "cell_type": "code",
   "execution_count": null,
   "metadata": {
    "colab": {
     "base_uri": "https://localhost:8080/"
    },
    "id": "sb-ZK9pQJlCf",
    "outputId": "909ca278-c77c-496b-ed98-d519e24106c9"
   },
   "outputs": [
    {
     "name": "stdout",
     "output_type": "stream",
     "text": [
      "None\n"
     ]
    }
   ],
   "source": [
    "print(input_tensors['control_sequence'])"
   ]
  },
  {
   "cell_type": "code",
   "execution_count": null,
   "metadata": {
    "colab": {
     "base_uri": "https://localhost:8080/"
    },
    "id": "SEQOWdiUJqF2",
    "outputId": "1c7daecb-a067-402e-e617-36c49a0eca5e"
   },
   "outputs": [
    {
     "name": "stdout",
     "output_type": "stream",
     "text": [
      "tf.Tensor(\n",
      "[64 64 64 64 64 64 64 64 64 64 64 64 64 64 64 64 64 64 64 64 64 64 64 64\n",
      " 64 64 64 64 64 64 64 64 64 64 64 64 64 64 64 64 64 64 64 64 64 64 64 64\n",
      " 64 64 64 64 64 64 64 64 64 64 64 64 64 64 64 64 64 64 64 64 64 64 64 64\n",
      " 64 64 64 64 64 64 64 64 64 64 64 64 64 64 64 64 64 64 64 64 64 64 64 64\n",
      " 64 64 64 64 64 64 64 64 64 64 64 64 64 64 64 64 64 64 64 64 64 64 64 64\n",
      " 64 64 64 64 64 64 64 64 64 64 64 64 64 64 64 64 64 64 64 64 64 64 64 64\n",
      " 64 64 64 64 64 64 64 64 64 64 64 64 64 64 64 64 64 64 64 64 64 64 64 64\n",
      " 64 64 64 64 64 64 64 64 64 64 64 64 64 64 64 64 64 64 64 64 64 64 64 64\n",
      " 64 64 64 64 64 64 64 64 64 64 64 64 64 64 64 64 64 64 64 64 64 64 64 64\n",
      " 64 64 64 64 64 64 64 64 64 64 64 64 64 64 64 64 64 64 64 64 64 64 64 64\n",
      " 64 64 64 64 64 64 64 64 64 64 64 64 64 64 64 64 64 64 64 64 64 64 64 64\n",
      " 64 64 64 64 64 64 64 64 64 64 64 64 64 64 64 64 64 64 64 64 64 64 64 64\n",
      " 64 64 64 64 64 64 64 64 64 64 64 64 64 64 64 64 64 64 64 64 64 64 64 64\n",
      " 64 64 64 64 64 64 64 64 64 64 64 64 64 64 64 64 64 64 64 64 64 64 64 64\n",
      " 64 64 64 64 64 64 64 64 64 64 64 64 64 64 64 64 64 64 64 64 64 64 64 64\n",
      " 64 64 64 64 64 64 64 64 64 64 64 64 64 64 64 64 64 64 64 64 64 64 64 64\n",
      " 64 64 64 64 64 64 64 64 64 64 64 64 64 64 64 64 64 64 64 64 64 64 64 64\n",
      " 64 64 64 64 64 64 64 64 64 64 64 64 64 64 64 64 64 64 64 64 64 64 64 64\n",
      " 64 64 64 64 64 64 64 64 64 64 64 64 64 64 64 64 64 64 64 64 64 64 64 64\n",
      " 64 64 64 64 64 64 64 64 64 64 64 64 64 64 64 64 64 64 64 64 64 64 64 64\n",
      " 64 64 64 64 64 64 64 64 64 64 64 64 64 64 64 64 64 64 64 64 64 64 64 64\n",
      " 64 64 64 64 64 64 64 64], shape=(512,), dtype=int32)\n"
     ]
    }
   ],
   "source": [
    "print(input_tensors['sequence_length'])"
   ]
  },
  {
   "cell_type": "markdown",
   "metadata": {},
   "source": [
    "#### Print Encoder Output"
   ]
  },
  {
   "cell_type": "code",
   "execution_count": null,
   "metadata": {
    "colab": {
     "base_uri": "https://localhost:8080/"
    },
    "id": "MgQuqnu9YQRK",
    "outputId": "a074e0d1-2054-4e67-d149-d89d353f76d4"
   },
   "outputs": [
    {
     "name": "stdout",
     "output_type": "stream",
     "text": [
      "<magenta.models.music_vae.lstm_models.BidirectionalLstmEncoder object at 0x7f0f93900450>\n",
      "<magenta.models.music_vae.lstm_models.HierarchicalLstmDecoder object at 0x7f0f9390ac50>\n"
     ]
    }
   ],
   "source": [
    "model = config.model\n",
    "model.build(config.hparams,\n",
    "            config.data_converter.output_depth,\n",
    "            is_training=True)\n",
    "print(model._encoder)\n",
    "print(model._decoder)"
   ]
  },
  {
   "cell_type": "code",
   "execution_count": null,
   "metadata": {},
   "outputs": [],
   "source": [
    "def encode(sequence, sequence_length, control_sequence=None):\n",
    "\n",
    "    hparams = config.hparams\n",
    "    z_size = hparams.z_size\n",
    "\n",
    "    sequence = tf.to_float(sequence)\n",
    "    if control_sequence is not None:\n",
    "        control_sequence = tf.to_float(control_sequence)\n",
    "        sequence = tf.concat([sequence, control_sequence], axis=-1)\n",
    "    encoder_output = model.encoder.encode(sequence, sequence_length)\n",
    "\n",
    "    mu = tf.layers.dense(\n",
    "        encoder_output,\n",
    "        z_size,\n",
    "        name='encoder/mu',\n",
    "        kernel_initializer=tf.random_normal_initializer(stddev=0.001))\n",
    "    sigma = tf.layers.dense(\n",
    "        encoder_output,\n",
    "        z_size,\n",
    "        activation=tf.nn.softplus,\n",
    "        name='encoder/sigma',\n",
    "        kernel_initializer=tf.random_normal_initializer(stddev=0.001))\n",
    "\n",
    "    return mu, sigma"
   ]
  },
  {
   "cell_type": "code",
   "execution_count": null,
   "metadata": {
    "id": "7ID4DCDjIBs_"
   },
   "outputs": [],
   "source": [
    "input_sequence = input_tensors['input_sequence']\n",
    "sequence_length = input_tensors['sequence_length']\n",
    "mu, sigma = encode(input_sequence, sequence_length)"
   ]
  },
  {
   "cell_type": "code",
   "execution_count": null,
   "metadata": {
    "colab": {
     "base_uri": "https://localhost:8080/"
    },
    "id": "VqO7k0AXV2UV",
    "outputId": "791da65a-f4e3-498b-e0fa-d68c6c23b60a"
   },
   "outputs": [
    {
     "data": {
      "text/plain": [
       "<tf.Tensor: shape=(512, 256), dtype=float32, numpy=\n",
       "array([[ 3.5985588e-04,  3.8989724e-04, -1.6418722e-05, ...,\n",
       "        -6.8864450e-05,  1.0071536e-04,  4.9026031e-04],\n",
       "       [ 8.6927379e-04,  5.5203756e-04, -2.2198050e-04, ...,\n",
       "         1.7228586e-04, -5.6761462e-04, -5.9401459e-04],\n",
       "       [ 3.4629149e-04,  2.4729094e-04,  6.9202331e-05, ...,\n",
       "         1.9021984e-04,  4.2038097e-05,  3.0057502e-04],\n",
       "       ...,\n",
       "       [ 6.5475103e-04,  4.4984886e-04, -2.8081797e-04, ...,\n",
       "        -3.6981446e-04, -2.6055065e-04,  5.4954039e-04],\n",
       "       [ 5.8174646e-04,  4.9551873e-04,  5.5557757e-07, ...,\n",
       "         6.3289778e-04, -7.1067177e-04, -1.1163799e-03],\n",
       "       [ 2.0881589e-04,  3.7205539e-04, -1.8555974e-04, ...,\n",
       "        -7.9960830e-04, -8.8741077e-04,  1.4579445e-03]], dtype=float32)>"
      ]
     },
     "metadata": {},
     "output_type": "display_data"
    }
   ],
   "source": [
    "mu"
   ]
  },
  {
   "cell_type": "code",
   "execution_count": null,
   "metadata": {
    "colab": {
     "base_uri": "https://localhost:8080/"
    },
    "id": "SEl18HfvWonb",
    "outputId": "b7d3ed2f-2c04-4790-ebb9-f57ec779a5dc"
   },
   "outputs": [
    {
     "data": {
      "text/plain": [
       "<tf.Tensor: shape=(512, 256), dtype=float32, numpy=\n",
       "array([[0.6930088 , 0.69302344, 0.69288254, ..., 0.6932787 , 0.6929438 ,\n",
       "        0.69354165],\n",
       "       [0.692941  , 0.6932618 , 0.6928269 , ..., 0.69337744, 0.6930389 ,\n",
       "        0.6931819 ],\n",
       "       [0.69289094, 0.69286317, 0.69311476, ..., 0.6930538 , 0.69307935,\n",
       "        0.69363165],\n",
       "       ...,\n",
       "       [0.6929597 , 0.69288903, 0.6928437 , ..., 0.69341576, 0.69294107,\n",
       "        0.6936339 ],\n",
       "       [0.6930789 , 0.693032  , 0.69323415, ..., 0.6928626 , 0.6933422 ,\n",
       "        0.69322896],\n",
       "       [0.69316   , 0.692927  , 0.69258964, ..., 0.693778  , 0.6930011 ,\n",
       "        0.69339   ]], dtype=float32)>"
      ]
     },
     "metadata": {},
     "output_type": "display_data"
    }
   ],
   "source": [
    "sigma"
   ]
  },
  {
   "cell_type": "markdown",
   "metadata": {},
   "source": [
    "#### Plot MusicVAE Output"
   ]
  },
  {
   "cell_type": "code",
   "execution_count": null,
   "metadata": {},
   "outputs": [],
   "source": [
    "checkpoint_file = root_path/\"saved/checkpoints/drums_4bar/train/model.ckpt-10\"\n",
    "num_outputs = 5\n",
    "\n",
    "config.data_converter.max_tensors_per_item = None\n",
    "checkpoint_dir_or_path = os.path.expanduser(checkpoint_file)\n",
    "\n",
    "model = TrainedModel(\n",
    "    config, batch_size=num_outputs,\n",
    "    checkpoint_dir_or_path=checkpoint_dir_or_path)"
   ]
  },
  {
   "cell_type": "code",
   "execution_count": null,
   "metadata": {
    "colab": {
     "base_uri": "https://localhost:8080/",
     "height": 1000
    },
    "id": "AH_frQ0CRUkC",
    "outputId": "5d4c78e9-9cac-4255-beb1-46ec39ed3ffc"
   },
   "outputs": [
    {
     "data": {
      "application/javascript": "\n(function(root) {\n  function now() {\n    return new Date();\n  }\n\n  var force = true;\n\n  if (typeof root._bokeh_onload_callbacks === \"undefined\" || force === true) {\n    root._bokeh_onload_callbacks = [];\n    root._bokeh_is_loading = undefined;\n  }\n\n  var JS_MIME_TYPE = 'application/javascript';\n  var HTML_MIME_TYPE = 'text/html';\n  var EXEC_MIME_TYPE = 'application/vnd.bokehjs_exec.v0+json';\n  var CLASS_NAME = 'output_bokeh rendered_html';\n\n  /**\n   * Render data to the DOM node\n   */\n  function render(props, node) {\n    var script = document.createElement(\"script\");\n    node.appendChild(script);\n  }\n\n  /**\n   * Handle when an output is cleared or removed\n   */\n  function handleClearOutput(event, handle) {\n    var cell = handle.cell;\n\n    var id = cell.output_area._bokeh_element_id;\n    var server_id = cell.output_area._bokeh_server_id;\n    // Clean up Bokeh references\n    if (id != null && id in Bokeh.index) {\n      Bokeh.index[id].model.document.clear();\n      delete Bokeh.index[id];\n    }\n\n    if (server_id !== undefined) {\n      // Clean up Bokeh references\n      var cmd = \"from bokeh.io.state import curstate; print(curstate().uuid_to_server['\" + server_id + \"'].get_sessions()[0].document.roots[0]._id)\";\n      cell.notebook.kernel.execute(cmd, {\n        iopub: {\n          output: function(msg) {\n            var id = msg.content.text.trim();\n            if (id in Bokeh.index) {\n              Bokeh.index[id].model.document.clear();\n              delete Bokeh.index[id];\n            }\n          }\n        }\n      });\n      // Destroy server and session\n      var cmd = \"import bokeh.io.notebook as ion; ion.destroy_server('\" + server_id + \"')\";\n      cell.notebook.kernel.execute(cmd);\n    }\n  }\n\n  /**\n   * Handle when a new output is added\n   */\n  function handleAddOutput(event, handle) {\n    var output_area = handle.output_area;\n    var output = handle.output;\n\n    // limit handleAddOutput to display_data with EXEC_MIME_TYPE content only\n    if ((output.output_type != \"display_data\") || (!Object.prototype.hasOwnProperty.call(output.data, EXEC_MIME_TYPE))) {\n      return\n    }\n\n    var toinsert = output_area.element.find(\".\" + CLASS_NAME.split(' ')[0]);\n\n    if (output.metadata[EXEC_MIME_TYPE][\"id\"] !== undefined) {\n      toinsert[toinsert.length - 1].firstChild.textContent = output.data[JS_MIME_TYPE];\n      // store reference to embed id on output_area\n      output_area._bokeh_element_id = output.metadata[EXEC_MIME_TYPE][\"id\"];\n    }\n    if (output.metadata[EXEC_MIME_TYPE][\"server_id\"] !== undefined) {\n      var bk_div = document.createElement(\"div\");\n      bk_div.innerHTML = output.data[HTML_MIME_TYPE];\n      var script_attrs = bk_div.children[0].attributes;\n      for (var i = 0; i < script_attrs.length; i++) {\n        toinsert[toinsert.length - 1].firstChild.setAttribute(script_attrs[i].name, script_attrs[i].value);\n        toinsert[toinsert.length - 1].firstChild.textContent = bk_div.children[0].textContent\n      }\n      // store reference to server id on output_area\n      output_area._bokeh_server_id = output.metadata[EXEC_MIME_TYPE][\"server_id\"];\n    }\n  }\n\n  function register_renderer(events, OutputArea) {\n\n    function append_mime(data, metadata, element) {\n      // create a DOM node to render to\n      var toinsert = this.create_output_subarea(\n        metadata,\n        CLASS_NAME,\n        EXEC_MIME_TYPE\n      );\n      this.keyboard_manager.register_events(toinsert);\n      // Render to node\n      var props = {data: data, metadata: metadata[EXEC_MIME_TYPE]};\n      render(props, toinsert[toinsert.length - 1]);\n      element.append(toinsert);\n      return toinsert\n    }\n\n    /* Handle when an output is cleared or removed */\n    events.on('clear_output.CodeCell', handleClearOutput);\n    events.on('delete.Cell', handleClearOutput);\n\n    /* Handle when a new output is added */\n    events.on('output_added.OutputArea', handleAddOutput);\n\n    /**\n     * Register the mime type and append_mime function with output_area\n     */\n    OutputArea.prototype.register_mime_type(EXEC_MIME_TYPE, append_mime, {\n      /* Is output safe? */\n      safe: true,\n      /* Index of renderer in `output_area.display_order` */\n      index: 0\n    });\n  }\n\n  // register the mime type if in Jupyter Notebook environment and previously unregistered\n  if (root.Jupyter !== undefined) {\n    var events = require('base/js/events');\n    var OutputArea = require('notebook/js/outputarea').OutputArea;\n\n    if (OutputArea.prototype.mime_types().indexOf(EXEC_MIME_TYPE) == -1) {\n      register_renderer(events, OutputArea);\n    }\n  }\n\n  \n  if (typeof (root._bokeh_timeout) === \"undefined\" || force === true) {\n    root._bokeh_timeout = Date.now() + 5000;\n    root._bokeh_failed_load = false;\n  }\n\n  var NB_LOAD_WARNING = {'data': {'text/html':\n     \"<div style='background-color: #fdd'>\\n\"+\n     \"<p>\\n\"+\n     \"BokehJS does not appear to have successfully loaded. If loading BokehJS from CDN, this \\n\"+\n     \"may be due to a slow or bad network connection. Possible fixes:\\n\"+\n     \"</p>\\n\"+\n     \"<ul>\\n\"+\n     \"<li>re-rerun `output_notebook()` to attempt to load from CDN again, or</li>\\n\"+\n     \"<li>use INLINE resources instead, as so:</li>\\n\"+\n     \"</ul>\\n\"+\n     \"<code>\\n\"+\n     \"from bokeh.resources import INLINE\\n\"+\n     \"output_notebook(resources=INLINE)\\n\"+\n     \"</code>\\n\"+\n     \"</div>\"}};\n\n  function display_loaded() {\n    var el = document.getElementById(null);\n    if (el != null) {\n      el.textContent = \"BokehJS is loading...\";\n    }\n    if (root.Bokeh !== undefined) {\n      if (el != null) {\n        el.textContent = \"BokehJS \" + root.Bokeh.version + \" successfully loaded.\";\n      }\n    } else if (Date.now() < root._bokeh_timeout) {\n      setTimeout(display_loaded, 100)\n    }\n  }\n\n\n  function run_callbacks() {\n    try {\n      root._bokeh_onload_callbacks.forEach(function(callback) {\n        if (callback != null)\n          callback();\n      });\n    } finally {\n      delete root._bokeh_onload_callbacks\n    }\n    console.debug(\"Bokeh: all callbacks have finished\");\n  }\n\n  function load_libs(css_urls, js_urls, callback) {\n    if (css_urls == null) css_urls = [];\n    if (js_urls == null) js_urls = [];\n\n    root._bokeh_onload_callbacks.push(callback);\n    if (root._bokeh_is_loading > 0) {\n      console.debug(\"Bokeh: BokehJS is being loaded, scheduling callback at\", now());\n      return null;\n    }\n    if (js_urls == null || js_urls.length === 0) {\n      run_callbacks();\n      return null;\n    }\n    console.debug(\"Bokeh: BokehJS not loaded, scheduling load and callback at\", now());\n    root._bokeh_is_loading = css_urls.length + js_urls.length;\n\n    function on_load() {\n      root._bokeh_is_loading--;\n      if (root._bokeh_is_loading === 0) {\n        console.debug(\"Bokeh: all BokehJS libraries/stylesheets loaded\");\n        run_callbacks()\n      }\n    }\n\n    function on_error(url) {\n      console.error(\"failed to load \" + url);\n    }\n\n    for (let i = 0; i < css_urls.length; i++) {\n      const url = css_urls[i];\n      const element = document.createElement(\"link\");\n      element.onload = on_load;\n      element.onerror = on_error.bind(null, url);\n      element.rel = \"stylesheet\";\n      element.type = \"text/css\";\n      element.href = url;\n      console.debug(\"Bokeh: injecting link tag for BokehJS stylesheet: \", url);\n      document.body.appendChild(element);\n    }\n\n    const hashes = {\"https://cdn.bokeh.org/bokeh/release/bokeh-2.3.3.min.js\": \"dM3QQsP+wXdHg42wTqW85BjZQdLNNIXqlPw/BgKoExPmTG7ZLML4EGqLMfqHT6ON\", \"https://cdn.bokeh.org/bokeh/release/bokeh-tables-2.3.3.min.js\": \"8x57I4YuIfu8XyZfFo0XVr2WAT8EK4rh/uDe3wF7YuW2FNUSNEpJbsPaB1nJ2fz2\", \"https://cdn.bokeh.org/bokeh/release/bokeh-widgets-2.3.3.min.js\": \"3QTqdz9LyAm2i0sG5XTePsHec3UHWwVsrOL68SYRoAXsafvfAyqtQ+h440+qIBhS\"};\n\n    for (let i = 0; i < js_urls.length; i++) {\n      const url = js_urls[i];\n      const element = document.createElement('script');\n      element.onload = on_load;\n      element.onerror = on_error.bind(null, url);\n      element.async = false;\n      element.src = url;\n      if (url in hashes) {\n        element.crossOrigin = \"anonymous\";\n        element.integrity = \"sha384-\" + hashes[url];\n      }\n      console.debug(\"Bokeh: injecting script tag for BokehJS library: \", url);\n      document.head.appendChild(element);\n    }\n  };\n\n  function inject_raw_css(css) {\n    const element = document.createElement(\"style\");\n    element.appendChild(document.createTextNode(css));\n    document.body.appendChild(element);\n  }\n\n  \n  var js_urls = [\"https://cdn.bokeh.org/bokeh/release/bokeh-2.3.3.min.js\", \"https://cdn.bokeh.org/bokeh/release/bokeh-widgets-2.3.3.min.js\", \"https://cdn.bokeh.org/bokeh/release/bokeh-tables-2.3.3.min.js\"];\n  var css_urls = [];\n  \n\n  var inline_js = [\n    function(Bokeh) {\n      Bokeh.set_log_level(\"info\");\n    },\n    function(Bokeh) {\n    \n    \n    }\n  ];\n\n  function run_inline_js() {\n    \n    if (root.Bokeh !== undefined || force === true) {\n      \n    for (var i = 0; i < inline_js.length; i++) {\n      inline_js[i].call(root, root.Bokeh);\n    }\n    } else if (Date.now() < root._bokeh_timeout) {\n      setTimeout(run_inline_js, 100);\n    } else if (!root._bokeh_failed_load) {\n      console.log(\"Bokeh: BokehJS failed to load within specified timeout.\");\n      root._bokeh_failed_load = true;\n    } else if (force !== true) {\n      var cell = $(document.getElementById(null)).parents('.cell').data().cell;\n      cell.output_area.append_execute_result(NB_LOAD_WARNING)\n    }\n\n  }\n\n  if (root._bokeh_is_loading === 0) {\n    console.debug(\"Bokeh: BokehJS loaded, going straight to plotting\");\n    run_inline_js();\n  } else {\n    load_libs(css_urls, js_urls, function() {\n      console.debug(\"Bokeh: BokehJS plotting callback run at\", now());\n      run_inline_js();\n    });\n  }\n}(window));",
      "application/vnd.bokehjs_load.v0+json": ""
     },
     "metadata": {},
     "output_type": "display_data"
    },
    {
     "data": {
      "text/html": [
       "\n",
       "\n",
       "\n",
       "\n",
       "\n",
       "\n",
       "  <div class=\"bk-root\" id=\"d4989931-9a34-405c-bc16-7dd2ffb195c7\" data-root-id=\"1800\"></div>\n"
      ]
     },
     "metadata": {},
     "output_type": "display_data"
    },
    {
     "data": {
      "application/javascript": "(function(root) {\n  function embed_document(root) {\n    \n  var docs_json = {\"18ff3df1-224b-4aa6-8ab1-5a74c54c4673\":{\"defs\":[],\"roots\":{\"references\":[{\"attributes\":{\"below\":[{\"id\":\"1809\"}],\"center\":[{\"id\":\"1812\"},{\"id\":\"1816\"}],\"height\":200,\"left\":[{\"id\":\"1813\"}],\"renderers\":[{\"id\":\"1836\"}],\"title\":{\"id\":\"1839\"},\"toolbar\":{\"id\":\"1823\"},\"width\":500,\"x_range\":{\"id\":\"1801\"},\"x_scale\":{\"id\":\"1805\"},\"y_range\":{\"id\":\"1803\"},\"y_scale\":{\"id\":\"1807\"}},\"id\":\"1800\",\"subtype\":\"Figure\",\"type\":\"Plot\"},{\"attributes\":{},\"id\":\"1839\",\"type\":\"Title\"},{\"attributes\":{\"data_source\":{\"id\":\"1832\"},\"glyph\":{\"id\":\"1834\"},\"hover_glyph\":null,\"muted_glyph\":null,\"nonselection_glyph\":{\"id\":\"1835\"},\"view\":{\"id\":\"1837\"}},\"id\":\"1836\",\"type\":\"GlyphRenderer\"},{\"attributes\":{},\"id\":\"1846\",\"type\":\"Selection\"},{\"attributes\":{\"bottom\":{\"field\":\"bottom\"},\"fill_alpha\":{\"field\":\"fill_alpha\"},\"fill_color\":{\"value\":\"#d53e4f\"},\"left\":{\"field\":\"start_time\"},\"right\":{\"field\":\"end_time\"},\"top\":{\"field\":\"top\"}},\"id\":\"1834\",\"type\":\"Quad\"},{\"attributes\":{\"source\":{\"id\":\"1832\"}},\"id\":\"1837\",\"type\":\"CDSView\"},{\"attributes\":{},\"id\":\"1845\",\"type\":\"UnionRenderers\"},{\"attributes\":{\"bottom_units\":\"screen\",\"fill_alpha\":0.5,\"fill_color\":\"lightgrey\",\"left_units\":\"screen\",\"level\":\"overlay\",\"line_alpha\":1.0,\"line_color\":\"black\",\"line_dash\":[4,4],\"line_width\":2,\"right_units\":\"screen\",\"syncable\":false,\"top_units\":\"screen\"},\"id\":\"1822\",\"type\":\"BoxAnnotation\"},{\"attributes\":{\"active_multi\":null,\"tools\":[{\"id\":\"1817\"},{\"id\":\"1818\"},{\"id\":\"1819\"},{\"id\":\"1820\"},{\"id\":\"1821\"}]},\"id\":\"1823\",\"type\":\"Toolbar\"},{\"attributes\":{},\"id\":\"1810\",\"type\":\"BasicTicker\"},{\"attributes\":{\"callback\":null,\"tooltips\":[[\"pitch\",\"@pitch\"],[\"program\",\"@program\"],[\"velo\",\"@velocity\"],[\"duration\",\"@duration\"],[\"start_time\",\"@start_time\"],[\"end_time\",\"@end_time\"],[\"velocity\",\"@velocity\"],[\"fill_alpha\",\"@fill_alpha\"]]},\"id\":\"1817\",\"type\":\"HoverTool\"},{\"attributes\":{},\"id\":\"1803\",\"type\":\"DataRange1d\"},{\"attributes\":{},\"id\":\"1801\",\"type\":\"DataRange1d\"},{\"attributes\":{},\"id\":\"1818\",\"type\":\"PanTool\"},{\"attributes\":{},\"id\":\"1807\",\"type\":\"LinearScale\"},{\"attributes\":{\"overlay\":{\"id\":\"1822\"}},\"id\":\"1819\",\"type\":\"BoxZoomTool\"},{\"attributes\":{},\"id\":\"1820\",\"type\":\"ResetTool\"},{\"attributes\":{\"axis_label\":\"pitch (MIDI)\",\"formatter\":{\"id\":\"1841\"},\"major_label_policy\":{\"id\":\"1840\"},\"ticker\":{\"id\":\"1829\"}},\"id\":\"1813\",\"type\":\"LinearAxis\"},{\"attributes\":{},\"id\":\"1821\",\"type\":\"SaveTool\"},{\"attributes\":{\"axis\":{\"id\":\"1813\"},\"dimension\":1,\"ticker\":{\"id\":\"1831\"}},\"id\":\"1816\",\"type\":\"Grid\"},{\"attributes\":{},\"id\":\"1843\",\"type\":\"BasicTickFormatter\"},{\"attributes\":{},\"id\":\"1805\",\"type\":\"LinearScale\"},{\"attributes\":{\"bottom\":{\"field\":\"bottom\"},\"fill_alpha\":{\"value\":0.1},\"fill_color\":{\"value\":\"#d53e4f\"},\"left\":{\"field\":\"start_time\"},\"line_alpha\":{\"value\":0.1},\"right\":{\"field\":\"end_time\"},\"top\":{\"field\":\"top\"}},\"id\":\"1835\",\"type\":\"Quad\"},{\"attributes\":{},\"id\":\"1840\",\"type\":\"AllLabels\"},{\"attributes\":{\"interval\":12},\"id\":\"1829\",\"type\":\"SingleIntervalTicker\"},{\"attributes\":{},\"id\":\"1842\",\"type\":\"AllLabels\"},{\"attributes\":{\"axis_label\":\"time (sec)\",\"formatter\":{\"id\":\"1843\"},\"major_label_policy\":{\"id\":\"1842\"},\"ticker\":{\"id\":\"1810\"}},\"id\":\"1809\",\"type\":\"LinearAxis\"},{\"attributes\":{},\"id\":\"1841\",\"type\":\"BasicTickFormatter\"},{\"attributes\":{\"interval\":12},\"id\":\"1831\",\"type\":\"SingleIntervalTicker\"},{\"attributes\":{\"data\":{\"bottom\":{\"__ndarray__\":\"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\",\"dtype\":\"float64\",\"order\":\"little\",\"shape\":[329]},\"duration\":{\"__ndarray__\":\"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\",\"dtype\":\"float64\",\"order\":\"little\",\"shape\":[329]},\"end_time\":{\"__ndarray__\":\"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\",\"dtype\":\"float64\",\"order\":\"little\",\"shape\":[329]},\"fill_alpha\":{\"__ndarray__\":\"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\",\"dtype\":\"float64\",\"order\":\"little\",\"shape\":[329]},\"index\":[0,1,2,3,4,5,6,7,8,9,10,11,12,13,14,15,16,17,18,19,20,21,22,23,24,25,26,27,28,29,30,31,32,33,34,35,36,37,38,39,40,41,42,43,44,45,46,47,48,49,50,51,52,53,54,55,56,57,58,59,60,61,62,63,64,65,66,67,68,69,70,71,72,73,74,75,76,77,78,79,80,81,82,83,84,85,86,87,88,89,90,91,92,93,94,95,96,97,98,99,100,101,102,103,104,105,106,107,108,109,110,111,112,113,114,115,116,117,118,119,120,121,122,123,124,125,126,127,128,129,130,131,132,133,134,135,136,137,138,139,140,141,142,143,144,145,146,147,148,149,150,151,152,153,154,155,156,157,158,159,160,161,162,163,164,165,166,167,168,169,170,171,172,173,174,175,176,177,178,179,180,181,182,183,184,185,186,187,188,189,190,191,192,193,194,195,196,197,198,199,200,201,202,203,204,205,206,207,208,209,210,211,212,213,214,215,216,217,218,219,220,221,222,223,224,225,226,227,228,229,230,231,232,233,234,235,236,237,238,239,240,241,242,243,244,245,246,247,248,249,250,251,252,253,254,255,256,257,258,259,260,261,262,263,264,265,266,267,268,269,270,271,272,273,274,275,276,277,278,279,280,281,282,283,284,285,286,287,288,289,290,291,292,293,294,295,296,297,298,299,300,301,302,303,304,305,306,307,308,309,310,311,312,313,314,315,316,317,318,319,320,321,322,323,324,325,326,327,328],\"instrument\":[9,9,9,9,9,9,9,9,9,9,9,9,9,9,9,9,9,9,9,9,9,9,9,9,9,9,9,9,9,9,9,9,9,9,9,9,9,9,9,9,9,9,9,9,9,9,9,9,9,9,9,9,9,9,9,9,9,9,9,9,9,9,9,9,9,9,9,9,9,9,9,9,9,9,9,9,9,9,9,9,9,9,9,9,9,9,9,9,9,9,9,9,9,9,9,9,9,9,9,9,9,9,9,9,9,9,9,9,9,9,9,9,9,9,9,9,9,9,9,9,9,9,9,9,9,9,9,9,9,9,9,9,9,9,9,9,9,9,9,9,9,9,9,9,9,9,9,9,9,9,9,9,9,9,9,9,9,9,9,9,9,9,9,9,9,9,9,9,9,9,9,9,9,9,9,9,9,9,9,9,9,9,9,9,9,9,9,9,9,9,9,9,9,9,9,9,9,9,9,9,9,9,9,9,9,9,9,9,9,9,9,9,9,9,9,9,9,9,9,9,9,9,9,9,9,9,9,9,9,9,9,9,9,9,9,9,9,9,9,9,9,9,9,9,9,9,9,9,9,9,9,9,9,9,9,9,9,9,9,9,9,9,9,9,9,9,9,9,9,9,9,9,9,9,9,9,9,9,9,9,9,9,9,9,9,9,9,9,9,9,9,9,9,9,9,9,9,9,9,9,9,9,9,9,9,9,9,9,9,9,9,9,9,9,9,9,9,9,9,9,9,9,9,9,9,9,9,9,9],\"pitch\":[36,38,42,45,48,49,51,48,49,42,46,46,42,50,38,36,38,42,45,46,48,50,36,46,48,49,50,51,36,38,42,45,48,49,50,51,48,51,38,36,42,46,48,49,50,51,36,45,38,42,45,46,48,49,50,50,51,45,38,46,48,49,50,51,48,49,51,46,36,38,42,46,48,50,51,36,42,49,50,51,36,38,45,46,48,50,51,38,42,45,48,49,51,38,45,49,50,51,38,42,48,49,50,51,36,38,46,48,51,36,38,45,46,50,51,38,45,46,48,49,38,42,45,46,50,36,42,46,48,51,36,45,46,49,51,42,46,48,50,51,48,42,51,50,42,36,50,38,36,42,45,48,49,50,51,38,45,46,49,51,48,49,42,51,38,42,45,49,50,49,51,36,46,49,42,51,45,36,38,42,45,49,50,51,38,42,45,46,49,51,46,48,51,38,45,46,48,49,50,36,38,45,46,48,50,51,50,51,36,45,36,38,46,48,49,50,51,42,50,48,49,51,46,38,45,48,49,50,51,36,38,42,46,48,49,36,38,42,49,50,36,42,45,48,49,36,42,45,46,48,49,50,51,36,38,46,48,49,49,46,36,38,42,45,46,48,50,51,49,51,36,45,48,49,51,38,42,48,49,50,51,48,49,36,45,50,45,46,36,42,45,48,50,42,45,46,48,49,51,38,45,46,48,49,46,49,51,38,38,42,45,49,50,51,49,42,36,50,38,45,48,49,51,36,42,45,48,49,50],\"program\":[0,0,0,0,0,0,0,0,0,0,0,0,0,0,0,0,0,0,0,0,0,0,0,0,0,0,0,0,0,0,0,0,0,0,0,0,0,0,0,0,0,0,0,0,0,0,0,0,0,0,0,0,0,0,0,0,0,0,0,0,0,0,0,0,0,0,0,0,0,0,0,0,0,0,0,0,0,0,0,0,0,0,0,0,0,0,0,0,0,0,0,0,0,0,0,0,0,0,0,0,0,0,0,0,0,0,0,0,0,0,0,0,0,0,0,0,0,0,0,0,0,0,0,0,0,0,0,0,0,0,0,0,0,0,0,0,0,0,0,0,0,0,0,0,0,0,0,0,0,0,0,0,0,0,0,0,0,0,0,0,0,0,0,0,0,0,0,0,0,0,0,0,0,0,0,0,0,0,0,0,0,0,0,0,0,0,0,0,0,0,0,0,0,0,0,0,0,0,0,0,0,0,0,0,0,0,0,0,0,0,0,0,0,0,0,0,0,0,0,0,0,0,0,0,0,0,0,0,0,0,0,0,0,0,0,0,0,0,0,0,0,0,0,0,0,0,0,0,0,0,0,0,0,0,0,0,0,0,0,0,0,0,0,0,0,0,0,0,0,0,0,0,0,0,0,0,0,0,0,0,0,0,0,0,0,0,0,0,0,0,0,0,0,0,0,0,0,0,0,0,0,0,0,0,0,0,0,0,0,0,0,0,0,0,0,0,0,0,0,0,0,0,0,0,0,0,0,0,0],\"start_time\":{\"__ndarray__\":\"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\",\"dtype\":\"float64\",\"order\":\"little\",\"shape\":[329]},\"top\":{\"__ndarray__\":\"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\",\"dtype\":\"float64\",\"order\":\"little\",\"shape\":[329]},\"velocity\":[80,80,80,80,80,80,80,80,80,80,80,80,80,80,80,80,80,80,80,80,80,80,80,80,80,80,80,80,80,80,80,80,80,80,80,80,80,80,80,80,80,80,80,80,80,80,80,80,80,80,80,80,80,80,80,80,80,80,80,80,80,80,80,80,80,80,80,80,80,80,80,80,80,80,80,80,80,80,80,80,80,80,80,80,80,80,80,80,80,80,80,80,80,80,80,80,80,80,80,80,80,80,80,80,80,80,80,80,80,80,80,80,80,80,80,80,80,80,80,80,80,80,80,80,80,80,80,80,80,80,80,80,80,80,80,80,80,80,80,80,80,80,80,80,80,80,80,80,80,80,80,80,80,80,80,80,80,80,80,80,80,80,80,80,80,80,80,80,80,80,80,80,80,80,80,80,80,80,80,80,80,80,80,80,80,80,80,80,80,80,80,80,80,80,80,80,80,80,80,80,80,80,80,80,80,80,80,80,80,80,80,80,80,80,80,80,80,80,80,80,80,80,80,80,80,80,80,80,80,80,80,80,80,80,80,80,80,80,80,80,80,80,80,80,80,80,80,80,80,80,80,80,80,80,80,80,80,80,80,80,80,80,80,80,80,80,80,80,80,80,80,80,80,80,80,80,80,80,80,80,80,80,80,80,80,80,80,80,80,80,80,80,80,80,80,80,80,80,80,80,80,80,80,80,80,80,80,80,80,80,80,80,80,80,80,80,80,80,80,80,80,80,80,80,80,80,80,80,80]},\"selected\":{\"id\":\"1846\"},\"selection_policy\":{\"id\":\"1845\"}},\"id\":\"1832\",\"type\":\"ColumnDataSource\"},{\"attributes\":{\"axis\":{\"id\":\"1809\"},\"ticker\":null},\"id\":\"1812\",\"type\":\"Grid\"}],\"root_ids\":[\"1800\"]},\"title\":\"Bokeh Application\",\"version\":\"2.3.3\"}};\n  var render_items = [{\"docid\":\"18ff3df1-224b-4aa6-8ab1-5a74c54c4673\",\"root_ids\":[\"1800\"],\"roots\":{\"1800\":\"d4989931-9a34-405c-bc16-7dd2ffb195c7\"}}];\n  root.Bokeh.embed.embed_items_notebook(docs_json, render_items);\n\n  }\n  if (root.Bokeh !== undefined) {\n    embed_document(root);\n  } else {\n    var attempts = 0;\n    var timer = setInterval(function(root) {\n      if (root.Bokeh !== undefined) {\n        clearInterval(timer);\n        embed_document(root);\n      } else {\n        attempts++;\n        if (attempts > 100) {\n          clearInterval(timer);\n          console.log(\"Bokeh: ERROR: Unable to run BokehJS code because BokehJS library is missing\");\n        }\n      }\n    }, 10, root)\n  }\n})(window);",
      "application/vnd.bokehjs_exec.v0+json": ""
     },
     "metadata": {},
     "output_type": "display_data"
    },
    {
     "data": {
      "text/html": [
       "\n",
       "\n",
       "\n",
       "\n",
       "\n",
       "\n",
       "  <div class=\"bk-root\" id=\"ae05647e-7ab6-4aec-9aec-071d461b6084\" data-root-id=\"1968\"></div>\n"
      ]
     },
     "metadata": {},
     "output_type": "display_data"
    },
    {
     "data": {
      "application/javascript": "(function(root) {\n  function embed_document(root) {\n    \n  var docs_json = {\"5427b3bd-60c1-4112-b422-284d48b5b6de\":{\"defs\":[],\"roots\":{\"references\":[{\"attributes\":{\"below\":[{\"id\":\"1977\"}],\"center\":[{\"id\":\"1980\"},{\"id\":\"1984\"}],\"height\":200,\"left\":[{\"id\":\"1981\"}],\"renderers\":[{\"id\":\"2004\"}],\"title\":{\"id\":\"2007\"},\"toolbar\":{\"id\":\"1991\"},\"width\":500,\"x_range\":{\"id\":\"1969\"},\"x_scale\":{\"id\":\"1973\"},\"y_range\":{\"id\":\"1971\"},\"y_scale\":{\"id\":\"1975\"}},\"id\":\"1968\",\"subtype\":\"Figure\",\"type\":\"Plot\"},{\"attributes\":{\"data_source\":{\"id\":\"2000\"},\"glyph\":{\"id\":\"2002\"},\"hover_glyph\":null,\"muted_glyph\":null,\"nonselection_glyph\":{\"id\":\"2003\"},\"view\":{\"id\":\"2005\"}},\"id\":\"2004\",\"type\":\"GlyphRenderer\"},{\"attributes\":{\"axis_label\":\"time (sec)\",\"formatter\":{\"id\":\"2011\"},\"major_label_policy\":{\"id\":\"2010\"},\"ticker\":{\"id\":\"1978\"}},\"id\":\"1977\",\"type\":\"LinearAxis\"},{\"attributes\":{},\"id\":\"2013\",\"type\":\"UnionRenderers\"},{\"attributes\":{\"bottom\":{\"field\":\"bottom\"},\"fill_alpha\":{\"field\":\"fill_alpha\"},\"fill_color\":{\"value\":\"#d53e4f\"},\"left\":{\"field\":\"start_time\"},\"right\":{\"field\":\"end_time\"},\"top\":{\"field\":\"top\"}},\"id\":\"2002\",\"type\":\"Quad\"},{\"attributes\":{},\"id\":\"2011\",\"type\":\"BasicTickFormatter\"},{\"attributes\":{},\"id\":\"2010\",\"type\":\"AllLabels\"},{\"attributes\":{\"axis_label\":\"pitch (MIDI)\",\"formatter\":{\"id\":\"2009\"},\"major_label_policy\":{\"id\":\"2008\"},\"ticker\":{\"id\":\"1997\"}},\"id\":\"1981\",\"type\":\"LinearAxis\"},{\"attributes\":{\"axis\":{\"id\":\"1977\"},\"ticker\":null},\"id\":\"1980\",\"type\":\"Grid\"},{\"attributes\":{},\"id\":\"2014\",\"type\":\"Selection\"},{\"attributes\":{},\"id\":\"1971\",\"type\":\"DataRange1d\"},{\"attributes\":{\"callback\":null,\"tooltips\":[[\"pitch\",\"@pitch\"],[\"program\",\"@program\"],[\"velo\",\"@velocity\"],[\"duration\",\"@duration\"],[\"start_time\",\"@start_time\"],[\"end_time\",\"@end_time\"],[\"velocity\",\"@velocity\"],[\"fill_alpha\",\"@fill_alpha\"]]},\"id\":\"1985\",\"type\":\"HoverTool\"},{\"attributes\":{},\"id\":\"2009\",\"type\":\"BasicTickFormatter\"},{\"attributes\":{\"bottom_units\":\"screen\",\"fill_alpha\":0.5,\"fill_color\":\"lightgrey\",\"left_units\":\"screen\",\"level\":\"overlay\",\"line_alpha\":1.0,\"line_color\":\"black\",\"line_dash\":[4,4],\"line_width\":2,\"right_units\":\"screen\",\"syncable\":false,\"top_units\":\"screen\"},\"id\":\"1990\",\"type\":\"BoxAnnotation\"},{\"attributes\":{},\"id\":\"1986\",\"type\":\"PanTool\"},{\"attributes\":{\"axis\":{\"id\":\"1981\"},\"dimension\":1,\"ticker\":{\"id\":\"1999\"}},\"id\":\"1984\",\"type\":\"Grid\"},{\"attributes\":{},\"id\":\"1975\",\"type\":\"LinearScale\"},{\"attributes\":{\"bottom\":{\"field\":\"bottom\"},\"fill_alpha\":{\"value\":0.1},\"fill_color\":{\"value\":\"#d53e4f\"},\"left\":{\"field\":\"start_time\"},\"line_alpha\":{\"value\":0.1},\"right\":{\"field\":\"end_time\"},\"top\":{\"field\":\"top\"}},\"id\":\"2003\",\"type\":\"Quad\"},{\"attributes\":{\"interval\":12},\"id\":\"1997\",\"type\":\"SingleIntervalTicker\"},{\"attributes\":{},\"id\":\"1988\",\"type\":\"ResetTool\"},{\"attributes\":{\"overlay\":{\"id\":\"1990\"}},\"id\":\"1987\",\"type\":\"BoxZoomTool\"},{\"attributes\":{},\"id\":\"1973\",\"type\":\"LinearScale\"},{\"attributes\":{},\"id\":\"1989\",\"type\":\"SaveTool\"},{\"attributes\":{},\"id\":\"2008\",\"type\":\"AllLabels\"},{\"attributes\":{\"active_multi\":null,\"tools\":[{\"id\":\"1985\"},{\"id\":\"1986\"},{\"id\":\"1987\"},{\"id\":\"1988\"},{\"id\":\"1989\"}]},\"id\":\"1991\",\"type\":\"Toolbar\"},{\"attributes\":{},\"id\":\"1978\",\"type\":\"BasicTicker\"},{\"attributes\":{\"interval\":12},\"id\":\"1999\",\"type\":\"SingleIntervalTicker\"},{\"attributes\":{\"data\":{\"bottom\":{\"__ndarray__\":\"zczMzMzMREDNzMzMzMxCQM3MzMzMzEFAzczMzMzMQkDNzMzMzExGQM3MzMzMTEhAzczMzMxMSUDNzMzMzMxCQM3MzMzMzERAzczMzMzMREDNzMzMzMxCQM3MzMzMzERAzczMzMzMQkDNzMzMzMxCQM3MzMzMzERAzczMzMzMREDNzMzMzMxBQM3MzMzMzEJAzczMzMzMQkA=\",\"dtype\":\"float64\",\"order\":\"little\",\"shape\":[19]},\"duration\":{\"__ndarray__\":\"AAAAAAAAwD8AAAAAAADAPwAAAAAAAMA/AAAAAAAAwD8AAAAAAADAPwAAAAAAAMA/AAAAAAAAwD8AAAAAAADAPwAAAAAAAMA/AAAAAAAAwD8AAAAAAADAPwAAAAAAAMA/AAAAAAAAwD8AAAAAAADAPwAAAAAAAMA/AAAAAAAAwD8AAAAAAADAPwAAAAAAAMA/AAAAAAAAwD8=\",\"dtype\":\"float64\",\"order\":\"little\",\"shape\":[19]},\"end_time\":{\"__ndarray__\":\"AAAAAAAAwD8AAAAAAADAPwAAAAAAAOQ/AAAAAAAA5D8AAAAAAADkPwAAAAAAAOQ/AAAAAAAA5D8AAAAAAADsPwAAAAAAAPo/AAAAAAAACkAAAAAAAAALQAAAAAAAAA1AAAAAAAAAEUAAAAAAAIATQAAAAAAAgBRAAAAAAAAAFUAAAAAAAAAVQAAAAAAAABdAAAAAAACAGUA=\",\"dtype\":\"float64\",\"order\":\"little\",\"shape\":[19]},\"fill_alpha\":{\"__ndarray__\":\"AAAAAAAA8D8AAAAAAADwPwAAAAAAAPA/AAAAAAAA8D8AAAAAAADwPwAAAAAAAPA/AAAAAAAA8D8AAAAAAADwPwAAAAAAAPA/AAAAAAAA8D8AAAAAAADwPwAAAAAAAPA/AAAAAAAA8D8AAAAAAADwPwAAAAAAAPA/AAAAAAAA8D8AAAAAAADwPwAAAAAAAPA/AAAAAAAA8D8=\",\"dtype\":\"float64\",\"order\":\"little\",\"shape\":[19]},\"index\":[0,1,2,3,4,5,6,7,8,9,10,11,12,13,14,15,16,17,18],\"instrument\":[9,9,9,9,9,9,9,9,9,9,9,9,9,9,9,9,9,9,9],\"pitch\":[42,38,36,38,45,49,51,38,42,42,38,42,38,38,42,42,36,38,38],\"program\":[0,0,0,0,0,0,0,0,0,0,0,0,0,0,0,0,0,0,0],\"start_time\":{\"__ndarray__\":\"AAAAAAAAAAAAAAAAAAAAAAAAAAAAAOA/AAAAAAAA4D8AAAAAAADgPwAAAAAAAOA/AAAAAAAA4D8AAAAAAADoPwAAAAAAAPg/AAAAAAAACUAAAAAAAAAKQAAAAAAAAAxAAAAAAACAEEAAAAAAAAATQAAAAAAAABRAAAAAAACAFEAAAAAAAIAUQAAAAAAAgBZAAAAAAAAAGUA=\",\"dtype\":\"float64\",\"order\":\"little\",\"shape\":[19]},\"top\":{\"__ndarray__\":\"MzMzMzMzRUAzMzMzMzNDQDMzMzMzM0JAMzMzMzMzQ0AzMzMzM7NGQDMzMzMzs0hAMzMzMzOzSUAzMzMzMzNDQDMzMzMzM0VAMzMzMzMzRUAzMzMzMzNDQDMzMzMzM0VAMzMzMzMzQ0AzMzMzMzNDQDMzMzMzM0VAMzMzMzMzRUAzMzMzMzNCQDMzMzMzM0NAMzMzMzMzQ0A=\",\"dtype\":\"float64\",\"order\":\"little\",\"shape\":[19]},\"velocity\":[80,80,80,80,80,80,80,80,80,80,80,80,80,80,80,80,80,80,80]},\"selected\":{\"id\":\"2014\"},\"selection_policy\":{\"id\":\"2013\"}},\"id\":\"2000\",\"type\":\"ColumnDataSource\"},{\"attributes\":{\"source\":{\"id\":\"2000\"}},\"id\":\"2005\",\"type\":\"CDSView\"},{\"attributes\":{},\"id\":\"2007\",\"type\":\"Title\"},{\"attributes\":{},\"id\":\"1969\",\"type\":\"DataRange1d\"}],\"root_ids\":[\"1968\"]},\"title\":\"Bokeh Application\",\"version\":\"2.3.3\"}};\n  var render_items = [{\"docid\":\"5427b3bd-60c1-4112-b422-284d48b5b6de\",\"root_ids\":[\"1968\"],\"roots\":{\"1968\":\"ae05647e-7ab6-4aec-9aec-071d461b6084\"}}];\n  root.Bokeh.embed.embed_items_notebook(docs_json, render_items);\n\n  }\n  if (root.Bokeh !== undefined) {\n    embed_document(root);\n  } else {\n    var attempts = 0;\n    var timer = setInterval(function(root) {\n      if (root.Bokeh !== undefined) {\n        clearInterval(timer);\n        embed_document(root);\n      } else {\n        attempts++;\n        if (attempts > 100) {\n          clearInterval(timer);\n          console.log(\"Bokeh: ERROR: Unable to run BokehJS code because BokehJS library is missing\");\n        }\n      }\n    }, 10, root)\n  }\n})(window);",
      "application/vnd.bokehjs_exec.v0+json": ""
     },
     "metadata": {},
     "output_type": "display_data"
    },
    {
     "data": {
      "text/html": [
       "\n",
       "\n",
       "\n",
       "\n",
       "\n",
       "\n",
       "  <div class=\"bk-root\" id=\"7ad3c679-0cf9-40c8-99fb-738fc7dd4566\" data-root-id=\"2146\"></div>\n"
      ]
     },
     "metadata": {},
     "output_type": "display_data"
    },
    {
     "data": {
      "application/javascript": "(function(root) {\n  function embed_document(root) {\n    \n  var docs_json = {\"c8c28786-7299-4bdd-97ee-15eb1fed87df\":{\"defs\":[],\"roots\":{\"references\":[{\"attributes\":{\"below\":[{\"id\":\"2155\"}],\"center\":[{\"id\":\"2158\"},{\"id\":\"2162\"}],\"height\":200,\"left\":[{\"id\":\"2159\"}],\"renderers\":[{\"id\":\"2182\"}],\"title\":{\"id\":\"2185\"},\"toolbar\":{\"id\":\"2169\"},\"width\":500,\"x_range\":{\"id\":\"2147\"},\"x_scale\":{\"id\":\"2151\"},\"y_range\":{\"id\":\"2149\"},\"y_scale\":{\"id\":\"2153\"}},\"id\":\"2146\",\"subtype\":\"Figure\",\"type\":\"Plot\"},{\"attributes\":{\"bottom\":{\"field\":\"bottom\"},\"fill_alpha\":{\"field\":\"fill_alpha\"},\"fill_color\":{\"value\":\"#d53e4f\"},\"left\":{\"field\":\"start_time\"},\"right\":{\"field\":\"end_time\"},\"top\":{\"field\":\"top\"}},\"id\":\"2180\",\"type\":\"Quad\"},{\"attributes\":{},\"id\":\"2164\",\"type\":\"PanTool\"},{\"attributes\":{},\"id\":\"2187\",\"type\":\"BasicTickFormatter\"},{\"attributes\":{},\"id\":\"2188\",\"type\":\"AllLabels\"},{\"attributes\":{},\"id\":\"2185\",\"type\":\"Title\"},{\"attributes\":{\"bottom_units\":\"screen\",\"fill_alpha\":0.5,\"fill_color\":\"lightgrey\",\"left_units\":\"screen\",\"level\":\"overlay\",\"line_alpha\":1.0,\"line_color\":\"black\",\"line_dash\":[4,4],\"line_width\":2,\"right_units\":\"screen\",\"syncable\":false,\"top_units\":\"screen\"},\"id\":\"2168\",\"type\":\"BoxAnnotation\"},{\"attributes\":{},\"id\":\"2149\",\"type\":\"DataRange1d\"},{\"attributes\":{},\"id\":\"2167\",\"type\":\"SaveTool\"},{\"attributes\":{\"overlay\":{\"id\":\"2168\"}},\"id\":\"2165\",\"type\":\"BoxZoomTool\"},{\"attributes\":{\"source\":{\"id\":\"2178\"}},\"id\":\"2183\",\"type\":\"CDSView\"},{\"attributes\":{},\"id\":\"2151\",\"type\":\"LinearScale\"},{\"attributes\":{\"bottom\":{\"field\":\"bottom\"},\"fill_alpha\":{\"value\":0.1},\"fill_color\":{\"value\":\"#d53e4f\"},\"left\":{\"field\":\"start_time\"},\"line_alpha\":{\"value\":0.1},\"right\":{\"field\":\"end_time\"},\"top\":{\"field\":\"top\"}},\"id\":\"2181\",\"type\":\"Quad\"},{\"attributes\":{\"callback\":null,\"tooltips\":[[\"pitch\",\"@pitch\"],[\"program\",\"@program\"],[\"velo\",\"@velocity\"],[\"duration\",\"@duration\"],[\"start_time\",\"@start_time\"],[\"end_time\",\"@end_time\"],[\"velocity\",\"@velocity\"],[\"fill_alpha\",\"@fill_alpha\"]]},\"id\":\"2163\",\"type\":\"HoverTool\"},{\"attributes\":{},\"id\":\"2166\",\"type\":\"ResetTool\"},{\"attributes\":{},\"id\":\"2189\",\"type\":\"BasicTickFormatter\"},{\"attributes\":{},\"id\":\"2147\",\"type\":\"DataRange1d\"},{\"attributes\":{},\"id\":\"2191\",\"type\":\"UnionRenderers\"},{\"attributes\":{},\"id\":\"2192\",\"type\":\"Selection\"},{\"attributes\":{\"active_multi\":null,\"tools\":[{\"id\":\"2163\"},{\"id\":\"2164\"},{\"id\":\"2165\"},{\"id\":\"2166\"},{\"id\":\"2167\"}]},\"id\":\"2169\",\"type\":\"Toolbar\"},{\"attributes\":{},\"id\":\"2186\",\"type\":\"AllLabels\"},{\"attributes\":{\"data_source\":{\"id\":\"2178\"},\"glyph\":{\"id\":\"2180\"},\"hover_glyph\":null,\"muted_glyph\":null,\"nonselection_glyph\":{\"id\":\"2181\"},\"view\":{\"id\":\"2183\"}},\"id\":\"2182\",\"type\":\"GlyphRenderer\"},{\"attributes\":{\"interval\":12},\"id\":\"2177\",\"type\":\"SingleIntervalTicker\"},{\"attributes\":{\"interval\":12},\"id\":\"2175\",\"type\":\"SingleIntervalTicker\"},{\"attributes\":{\"axis_label\":\"pitch (MIDI)\",\"formatter\":{\"id\":\"2187\"},\"major_label_policy\":{\"id\":\"2186\"},\"ticker\":{\"id\":\"2175\"}},\"id\":\"2159\",\"type\":\"LinearAxis\"},{\"attributes\":{\"axis_label\":\"time (sec)\",\"formatter\":{\"id\":\"2189\"},\"major_label_policy\":{\"id\":\"2188\"},\"ticker\":{\"id\":\"2156\"}},\"id\":\"2155\",\"type\":\"LinearAxis\"},{\"attributes\":{},\"id\":\"2153\",\"type\":\"LinearScale\"},{\"attributes\":{\"data\":{\"bottom\":{\"__ndarray__\":\"zczMzMzMREDNzMzMzMxCQM3MzMzMzEJAzczMzMzMREDNzMzMzMxCQM3MzMzMzEJAzczMzMzMREDNzMzMzMxCQM3MzMzMzEJAzczMzMzMREDNzMzMzMxEQM3MzMzMzEJAzczMzMzMQkDNzMzMzMxEQA==\",\"dtype\":\"float64\",\"order\":\"little\",\"shape\":[14]},\"duration\":{\"__ndarray__\":\"AAAAAAAAwD8AAAAAAADAPwAAAAAAAMA/AAAAAAAAwD8AAAAAAADAPwAAAAAAAMA/AAAAAAAAwD8AAAAAAADAPwAAAAAAAMA/AAAAAAAAwD8AAAAAAADAPwAAAAAAAMA/AAAAAAAAwD8AAAAAAADAPw==\",\"dtype\":\"float64\",\"order\":\"little\",\"shape\":[14]},\"end_time\":{\"__ndarray__\":\"AAAAAAAA6D8AAAAAAADyPwAAAAAAAPY/AAAAAAAA+j8AAAAAAAADQAAAAAAAAARAAAAAAAAACUAAAAAAAAALQAAAAAAAAA5AAAAAAACAF0AAAAAAAIAdQAAAAAAAAB5AAAAAAACAH0AAAAAAAAAgQA==\",\"dtype\":\"float64\",\"order\":\"little\",\"shape\":[14]},\"fill_alpha\":{\"__ndarray__\":\"AAAAAAAA8D8AAAAAAADwPwAAAAAAAPA/AAAAAAAA8D8AAAAAAADwPwAAAAAAAPA/AAAAAAAA8D8AAAAAAADwPwAAAAAAAPA/AAAAAAAA8D8AAAAAAADwPwAAAAAAAPA/AAAAAAAA8D8AAAAAAADwPw==\",\"dtype\":\"float64\",\"order\":\"little\",\"shape\":[14]},\"index\":[0,1,2,3,4,5,6,7,8,9,10,11,12,13],\"instrument\":[9,9,9,9,9,9,9,9,9,9,9,9,9,9],\"pitch\":[42,38,38,42,38,38,42,38,38,42,42,38,38,42],\"program\":[0,0,0,0,0,0,0,0,0,0,0,0,0,0],\"start_time\":{\"__ndarray__\":\"AAAAAAAA5D8AAAAAAADwPwAAAAAAAPQ/AAAAAAAA+D8AAAAAAAACQAAAAAAAAANAAAAAAAAACEAAAAAAAAAKQAAAAAAAAA1AAAAAAAAAF0AAAAAAAAAdQAAAAAAAgB1AAAAAAAAAH0AAAAAAAIAfQA==\",\"dtype\":\"float64\",\"order\":\"little\",\"shape\":[14]},\"top\":{\"__ndarray__\":\"MzMzMzMzRUAzMzMzMzNDQDMzMzMzM0NAMzMzMzMzRUAzMzMzMzNDQDMzMzMzM0NAMzMzMzMzRUAzMzMzMzNDQDMzMzMzM0NAMzMzMzMzRUAzMzMzMzNFQDMzMzMzM0NAMzMzMzMzQ0AzMzMzMzNFQA==\",\"dtype\":\"float64\",\"order\":\"little\",\"shape\":[14]},\"velocity\":[80,80,80,80,80,80,80,80,80,80,80,80,80,80]},\"selected\":{\"id\":\"2192\"},\"selection_policy\":{\"id\":\"2191\"}},\"id\":\"2178\",\"type\":\"ColumnDataSource\"},{\"attributes\":{\"axis\":{\"id\":\"2155\"},\"ticker\":null},\"id\":\"2158\",\"type\":\"Grid\"},{\"attributes\":{\"axis\":{\"id\":\"2159\"},\"dimension\":1,\"ticker\":{\"id\":\"2177\"}},\"id\":\"2162\",\"type\":\"Grid\"},{\"attributes\":{},\"id\":\"2156\",\"type\":\"BasicTicker\"}],\"root_ids\":[\"2146\"]},\"title\":\"Bokeh Application\",\"version\":\"2.3.3\"}};\n  var render_items = [{\"docid\":\"c8c28786-7299-4bdd-97ee-15eb1fed87df\",\"root_ids\":[\"2146\"],\"roots\":{\"2146\":\"7ad3c679-0cf9-40c8-99fb-738fc7dd4566\"}}];\n  root.Bokeh.embed.embed_items_notebook(docs_json, render_items);\n\n  }\n  if (root.Bokeh !== undefined) {\n    embed_document(root);\n  } else {\n    var attempts = 0;\n    var timer = setInterval(function(root) {\n      if (root.Bokeh !== undefined) {\n        clearInterval(timer);\n        embed_document(root);\n      } else {\n        attempts++;\n        if (attempts > 100) {\n          clearInterval(timer);\n          console.log(\"Bokeh: ERROR: Unable to run BokehJS code because BokehJS library is missing\");\n        }\n      }\n    }, 10, root)\n  }\n})(window);",
      "application/vnd.bokehjs_exec.v0+json": ""
     },
     "metadata": {},
     "output_type": "display_data"
    },
    {
     "data": {
      "text/html": [
       "\n",
       "\n",
       "\n",
       "\n",
       "\n",
       "\n",
       "  <div class=\"bk-root\" id=\"dc689d95-406e-4b2a-ace7-92207f5713bd\" data-root-id=\"2334\"></div>\n"
      ]
     },
     "metadata": {},
     "output_type": "display_data"
    },
    {
     "data": {
      "application/javascript": "(function(root) {\n  function embed_document(root) {\n    \n  var docs_json = {\"2cb95cef-aecc-42b5-ab33-daf230d1e0b3\":{\"defs\":[],\"roots\":{\"references\":[{\"attributes\":{\"below\":[{\"id\":\"2343\"}],\"center\":[{\"id\":\"2346\"},{\"id\":\"2350\"}],\"height\":200,\"left\":[{\"id\":\"2347\"}],\"renderers\":[{\"id\":\"2370\"}],\"title\":{\"id\":\"2373\"},\"toolbar\":{\"id\":\"2357\"},\"width\":500,\"x_range\":{\"id\":\"2335\"},\"x_scale\":{\"id\":\"2339\"},\"y_range\":{\"id\":\"2337\"},\"y_scale\":{\"id\":\"2341\"}},\"id\":\"2334\",\"subtype\":\"Figure\",\"type\":\"Plot\"},{\"attributes\":{\"active_multi\":null,\"tools\":[{\"id\":\"2351\"},{\"id\":\"2352\"},{\"id\":\"2353\"},{\"id\":\"2354\"},{\"id\":\"2355\"}]},\"id\":\"2357\",\"type\":\"Toolbar\"},{\"attributes\":{\"source\":{\"id\":\"2366\"}},\"id\":\"2371\",\"type\":\"CDSView\"},{\"attributes\":{},\"id\":\"2341\",\"type\":\"LinearScale\"},{\"attributes\":{},\"id\":\"2354\",\"type\":\"ResetTool\"},{\"attributes\":{\"bottom_units\":\"screen\",\"fill_alpha\":0.5,\"fill_color\":\"lightgrey\",\"left_units\":\"screen\",\"level\":\"overlay\",\"line_alpha\":1.0,\"line_color\":\"black\",\"line_dash\":[4,4],\"line_width\":2,\"right_units\":\"screen\",\"syncable\":false,\"top_units\":\"screen\"},\"id\":\"2356\",\"type\":\"BoxAnnotation\"},{\"attributes\":{\"overlay\":{\"id\":\"2356\"}},\"id\":\"2353\",\"type\":\"BoxZoomTool\"},{\"attributes\":{},\"id\":\"2352\",\"type\":\"PanTool\"},{\"attributes\":{\"callback\":null,\"tooltips\":[[\"pitch\",\"@pitch\"],[\"program\",\"@program\"],[\"velo\",\"@velocity\"],[\"duration\",\"@duration\"],[\"start_time\",\"@start_time\"],[\"end_time\",\"@end_time\"],[\"velocity\",\"@velocity\"],[\"fill_alpha\",\"@fill_alpha\"]]},\"id\":\"2351\",\"type\":\"HoverTool\"},{\"attributes\":{\"interval\":12},\"id\":\"2365\",\"type\":\"SingleIntervalTicker\"},{\"attributes\":{\"axis_label\":\"pitch (MIDI)\",\"formatter\":{\"id\":\"2375\"},\"major_label_policy\":{\"id\":\"2374\"},\"ticker\":{\"id\":\"2363\"}},\"id\":\"2347\",\"type\":\"LinearAxis\"},{\"attributes\":{\"axis\":{\"id\":\"2347\"},\"dimension\":1,\"ticker\":{\"id\":\"2365\"}},\"id\":\"2350\",\"type\":\"Grid\"},{\"attributes\":{\"data\":{\"bottom\":{\"__ndarray__\":\"zczMzMzMQUDNzMzMzMxCQM3MzMzMTEZAzczMzMzMRkDNzMzMzMxHQM3MzMzMTEhAzczMzMxMSUDNzMzMzMxHQM3MzMzMTEhAzczMzMzMRkDNzMzMzMxCQM3MzMzMzERAzczMzMzMRkDNzMzMzExIQM3MzMzMTElAzczMzMzMRkDNzMzMzMxEQM3MzMzMTEZAzczMzMzMQkDNzMzMzExIQM3MzMzMzERAzczMzMxMRkDNzMzMzMxCQM3MzMzMzEJAzczMzMzMREDNzMzMzMxGQM3MzMzMzEdAzczMzMzMSEDNzMzMzExJQM3MzMzMzEJAzczMzMzMREDNzMzMzExGQM3MzMzMzEZAzczMzMxMSEDNzMzMzMxBQM3MzMzMzEJAzczMzMzMREDNzMzMzExGQM3MzMzMTEhAzczMzMxMSUDNzMzMzMxBQM3MzMzMzEJAzczMzMzMREDNzMzMzExGQM3MzMzMzEdAzczMzMxMSEDNzMzMzExJQM3MzMzMTEZAzczMzMzMREDNzMzMzExJQM3MzMzMzEFAzczMzMzMQkDNzMzMzExIQM3MzMzMTElAzczMzMxMRkDNzMzMzMxGQM3MzMzMzEdAzczMzMzMSEDNzMzMzMxBQM3MzMzMTEZAzczMzMzMRkDNzMzMzMxHQM3MzMzMTEZAzczMzMzMQkDNzMzMzMxHQM3MzMzMzEZAzczMzMzMQUDNzMzMzMxEQM3MzMzMTEZAzczMzMzMRkDNzMzMzExIQM3MzMzMzEhAzczMzMxMSUDNzMzMzMxIQM3MzMzMTElAzczMzMzMQUDNzMzMzExGQM3MzMzMzEdAzczMzMxMSEDNzMzMzMxBQM3MzMzMzEZAzczMzMzMSEDNzMzMzMxBQM3MzMzMzEZAzczMzMzMSEDNzMzMzExJQM3MzMzMzEFAzczMzMzMQkDNzMzMzMxCQM3MzMzMzERAzczMzMxMSUDNzMzMzMxBQM3MzMzMTEZAzczMzMzMRkDNzMzMzExIQM3MzMzMzEhAzczMzMzMQkDNzMzMzMxBQM3MzMzMzERAzczMzMzMRkDNzMzMzExIQM3MzMzMzEhAzczMzMxMSUDNzMzMzMxEQM3MzMzMzEJAzczMzMzMQkDNzMzMzMxEQM3MzMzMzEFAzczMzMzMREDNzMzMzMxEQM3MzMzMzEJAzczMzMzMREDNzMzMzMxCQA==\",\"dtype\":\"float64\",\"order\":\"little\",\"shape\":[113]},\"duration\":{\"__ndarray__\":\"AAAAAAAAwD8AAAAAAADAPwAAAAAAAMA/AAAAAAAAwD8AAAAAAADAPwAAAAAAAMA/AAAAAAAAwD8AAAAAAADAPwAAAAAAAMA/AAAAAAAAwD8AAAAAAADAPwAAAAAAAMA/AAAAAAAAwD8AAAAAAADAPwAAAAAAAMA/AAAAAAAAwD8AAAAAAADAPwAAAAAAAMA/AAAAAAAAwD8AAAAAAADAPwAAAAAAAMA/AAAAAAAAwD8AAAAAAADAPwAAAAAAAMA/AAAAAAAAwD8AAAAAAADAPwAAAAAAAMA/AAAAAAAAwD8AAAAAAADAPwAAAAAAAMA/AAAAAAAAwD8AAAAAAADAPwAAAAAAAMA/AAAAAAAAwD8AAAAAAADAPwAAAAAAAMA/AAAAAAAAwD8AAAAAAADAPwAAAAAAAMA/AAAAAAAAwD8AAAAAAADAPwAAAAAAAMA/AAAAAAAAwD8AAAAAAADAPwAAAAAAAMA/AAAAAAAAwD8AAAAAAADAPwAAAAAAAMA/AAAAAAAAwD8AAAAAAADAPwAAAAAAAMA/AAAAAAAAwD8AAAAAAADAPwAAAAAAAMA/AAAAAAAAwD8AAAAAAADAPwAAAAAAAMA/AAAAAAAAwD8AAAAAAADAPwAAAAAAAMA/AAAAAAAAwD8AAAAAAADAPwAAAAAAAMA/AAAAAAAAwD8AAAAAAADAPwAAAAAAAMA/AAAAAAAAwD8AAAAAAADAPwAAAAAAAMA/AAAAAAAAwD8AAAAAAADAPwAAAAAAAMA/AAAAAAAAwD8AAAAAAADAPwAAAAAAAMA/AAAAAAAAwD8AAAAAAADAPwAAAAAAAMA/AAAAAAAAwD8AAAAAAADAPwAAAAAAAMA/AAAAAAAAwD8AAAAAAADAPwAAAAAAAMA/AAAAAAAAwD8AAAAAAADAPwAAAAAAAMA/AAAAAAAAwD8AAAAAAADAPwAAAAAAAMA/AAAAAAAAwD8AAAAAAADAPwAAAAAAAMA/AAAAAAAAwD8AAAAAAADAPwAAAAAAAMA/AAAAAAAAwD8AAAAAAADAPwAAAAAAAMA/AAAAAAAAwD8AAAAAAADAPwAAAAAAAMA/AAAAAAAAwD8AAAAAAADAPwAAAAAAAMA/AAAAAAAAwD8AAAAAAADAPwAAAAAAAMA/AAAAAAAAwD8AAAAAAADAPwAAAAAAAMA/AAAAAAAAwD8AAAAAAADAPw==\",\"dtype\":\"float64\",\"order\":\"little\",\"shape\":[113]},\"end_time\":{\"__ndarray__\":\"AAAAAAAAwD8AAAAAAADAPwAAAAAAAMA/AAAAAAAAwD8AAAAAAADAPwAAAAAAAMA/AAAAAAAAwD8AAAAAAADQPwAAAAAAANA/AAAAAAAA0D8AAAAAAADYPwAAAAAAANg/AAAAAAAA2D8AAAAAAADYPwAAAAAAANg/AAAAAAAA4D8AAAAAAADgPwAAAAAAAOA/AAAAAAAA4D8AAAAAAADkPwAAAAAAAOQ/AAAAAAAA5D8AAAAAAADkPwAAAAAAAOg/AAAAAAAA6D8AAAAAAADoPwAAAAAAAOg/AAAAAAAA6D8AAAAAAADoPwAAAAAAAOw/AAAAAAAA7D8AAAAAAADsPwAAAAAAAOw/AAAAAAAA7D8AAAAAAADyPwAAAAAAAPI/AAAAAAAA8j8AAAAAAADyPwAAAAAAAPI/AAAAAAAA8j8AAAAAAAD0PwAAAAAAAPQ/AAAAAAAA9D8AAAAAAAD0PwAAAAAAAPQ/AAAAAAAA9D8AAAAAAAD0PwAAAAAAAPY/AAAAAAAA+D8AAAAAAAD4PwAAAAAAAPg/AAAAAAAA+D8AAAAAAAD6PwAAAAAAAPo/AAAAAAAA+j8AAAAAAAD6PwAAAAAAAPw/AAAAAAAA/D8AAAAAAAD8PwAAAAAAAPw/AAAAAAAA/j8AAAAAAAD+PwAAAAAAAP4/AAAAAAAA/j8AAAAAAAABQAAAAAAAAAFAAAAAAAAAAkAAAAAAAAACQAAAAAAAAAJAAAAAAAAAAkAAAAAAAAACQAAAAAAAAAJAAAAAAAAAAkAAAAAAAAAFQAAAAAAAAAVAAAAAAAAABUAAAAAAAAAFQAAAAAAAAAZAAAAAAAAABkAAAAAAAAAGQAAAAAAAAAZAAAAAAAAACUAAAAAAAAAJQAAAAAAAAAlAAAAAAAAACkAAAAAAAAAKQAAAAAAAAApAAAAAAAAACkAAAAAAAAALQAAAAAAAAA1AAAAAAAAADUAAAAAAAAAOQAAAAAAAAA5AAAAAAAAADkAAAAAAAAAOQAAAAAAAAA5AAAAAAAAAEEAAAAAAAIAQQAAAAAAAgBBAAAAAAACAEEAAAAAAAIAQQAAAAAAAgBBAAAAAAACAEEAAAAAAAAARQAAAAAAAABFAAAAAAAAAEkAAAAAAAIAUQAAAAAAAgBRAAAAAAACAFUAAAAAAAAAWQAAAAAAAgBpAAAAAAAAAHEAAAAAAAAAeQA==\",\"dtype\":\"float64\",\"order\":\"little\",\"shape\":[113]},\"fill_alpha\":{\"__ndarray__\":\"AAAAAAAA8D8AAAAAAADwPwAAAAAAAPA/AAAAAAAA8D8AAAAAAADwPwAAAAAAAPA/AAAAAAAA8D8AAAAAAADwPwAAAAAAAPA/AAAAAAAA8D8AAAAAAADwPwAAAAAAAPA/AAAAAAAA8D8AAAAAAADwPwAAAAAAAPA/AAAAAAAA8D8AAAAAAADwPwAAAAAAAPA/AAAAAAAA8D8AAAAAAADwPwAAAAAAAPA/AAAAAAAA8D8AAAAAAADwPwAAAAAAAPA/AAAAAAAA8D8AAAAAAADwPwAAAAAAAPA/AAAAAAAA8D8AAAAAAADwPwAAAAAAAPA/AAAAAAAA8D8AAAAAAADwPwAAAAAAAPA/AAAAAAAA8D8AAAAAAADwPwAAAAAAAPA/AAAAAAAA8D8AAAAAAADwPwAAAAAAAPA/AAAAAAAA8D8AAAAAAADwPwAAAAAAAPA/AAAAAAAA8D8AAAAAAADwPwAAAAAAAPA/AAAAAAAA8D8AAAAAAADwPwAAAAAAAPA/AAAAAAAA8D8AAAAAAADwPwAAAAAAAPA/AAAAAAAA8D8AAAAAAADwPwAAAAAAAPA/AAAAAAAA8D8AAAAAAADwPwAAAAAAAPA/AAAAAAAA8D8AAAAAAADwPwAAAAAAAPA/AAAAAAAA8D8AAAAAAADwPwAAAAAAAPA/AAAAAAAA8D8AAAAAAADwPwAAAAAAAPA/AAAAAAAA8D8AAAAAAADwPwAAAAAAAPA/AAAAAAAA8D8AAAAAAADwPwAAAAAAAPA/AAAAAAAA8D8AAAAAAADwPwAAAAAAAPA/AAAAAAAA8D8AAAAAAADwPwAAAAAAAPA/AAAAAAAA8D8AAAAAAADwPwAAAAAAAPA/AAAAAAAA8D8AAAAAAADwPwAAAAAAAPA/AAAAAAAA8D8AAAAAAADwPwAAAAAAAPA/AAAAAAAA8D8AAAAAAADwPwAAAAAAAPA/AAAAAAAA8D8AAAAAAADwPwAAAAAAAPA/AAAAAAAA8D8AAAAAAADwPwAAAAAAAPA/AAAAAAAA8D8AAAAAAADwPwAAAAAAAPA/AAAAAAAA8D8AAAAAAADwPwAAAAAAAPA/AAAAAAAA8D8AAAAAAADwPwAAAAAAAPA/AAAAAAAA8D8AAAAAAADwPwAAAAAAAPA/AAAAAAAA8D8AAAAAAADwPwAAAAAAAPA/AAAAAAAA8D8AAAAAAADwPw==\",\"dtype\":\"float64\",\"order\":\"little\",\"shape\":[113]},\"index\":[0,1,2,3,4,5,6,7,8,9,10,11,12,13,14,15,16,17,18,19,20,21,22,23,24,25,26,27,28,29,30,31,32,33,34,35,36,37,38,39,40,41,42,43,44,45,46,47,48,49,50,51,52,53,54,55,56,57,58,59,60,61,62,63,64,65,66,67,68,69,70,71,72,73,74,75,76,77,78,79,80,81,82,83,84,85,86,87,88,89,90,91,92,93,94,95,96,97,98,99,100,101,102,103,104,105,106,107,108,109,110,111,112],\"instrument\":[9,9,9,9,9,9,9,9,9,9,9,9,9,9,9,9,9,9,9,9,9,9,9,9,9,9,9,9,9,9,9,9,9,9,9,9,9,9,9,9,9,9,9,9,9,9,9,9,9,9,9,9,9,9,9,9,9,9,9,9,9,9,9,9,9,9,9,9,9,9,9,9,9,9,9,9,9,9,9,9,9,9,9,9,9,9,9,9,9,9,9,9,9,9,9,9,9,9,9,9,9,9,9,9,9,9,9,9,9,9,9,9,9],\"pitch\":[36,38,45,46,48,49,51,48,49,46,38,42,46,49,51,46,42,45,38,49,42,45,38,38,42,46,48,50,51,38,42,45,46,49,36,38,42,45,49,51,36,38,42,45,48,49,51,45,42,51,36,38,49,51,45,46,48,50,36,45,46,48,45,38,48,46,36,42,45,46,49,50,51,50,51,36,45,48,49,36,46,50,36,46,50,51,36,38,38,42,51,36,45,46,49,50,38,36,42,46,49,50,51,42,38,38,42,36,42,42,38,42,38],\"program\":[0,0,0,0,0,0,0,0,0,0,0,0,0,0,0,0,0,0,0,0,0,0,0,0,0,0,0,0,0,0,0,0,0,0,0,0,0,0,0,0,0,0,0,0,0,0,0,0,0,0,0,0,0,0,0,0,0,0,0,0,0,0,0,0,0,0,0,0,0,0,0,0,0,0,0,0,0,0,0,0,0,0,0,0,0,0,0,0,0,0,0,0,0,0,0,0,0,0,0,0,0,0,0,0,0,0,0,0,0,0,0,0,0],\"start_time\":{\"__ndarray__\":\"AAAAAAAAAAAAAAAAAAAAAAAAAAAAAAAAAAAAAAAAAAAAAAAAAAAAAAAAAAAAAAAAAAAAAAAAAAAAAAAAAADAPwAAAAAAAMA/AAAAAAAAwD8AAAAAAADQPwAAAAAAANA/AAAAAAAA0D8AAAAAAADQPwAAAAAAANA/AAAAAAAA2D8AAAAAAADYPwAAAAAAANg/AAAAAAAA2D8AAAAAAADgPwAAAAAAAOA/AAAAAAAA4D8AAAAAAADgPwAAAAAAAOQ/AAAAAAAA5D8AAAAAAADkPwAAAAAAAOQ/AAAAAAAA5D8AAAAAAADkPwAAAAAAAOg/AAAAAAAA6D8AAAAAAADoPwAAAAAAAOg/AAAAAAAA6D8AAAAAAADwPwAAAAAAAPA/AAAAAAAA8D8AAAAAAADwPwAAAAAAAPA/AAAAAAAA8D8AAAAAAADyPwAAAAAAAPI/AAAAAAAA8j8AAAAAAADyPwAAAAAAAPI/AAAAAAAA8j8AAAAAAADyPwAAAAAAAPQ/AAAAAAAA9j8AAAAAAAD2PwAAAAAAAPY/AAAAAAAA9j8AAAAAAAD4PwAAAAAAAPg/AAAAAAAA+D8AAAAAAAD4PwAAAAAAAPo/AAAAAAAA+j8AAAAAAAD6PwAAAAAAAPo/AAAAAAAA/D8AAAAAAAD8PwAAAAAAAPw/AAAAAAAA/D8AAAAAAAAAQAAAAAAAAABAAAAAAAAAAUAAAAAAAAABQAAAAAAAAAFAAAAAAAAAAUAAAAAAAAABQAAAAAAAAAFAAAAAAAAAAUAAAAAAAAAEQAAAAAAAAARAAAAAAAAABEAAAAAAAAAEQAAAAAAAAAVAAAAAAAAABUAAAAAAAAAFQAAAAAAAAAVAAAAAAAAACEAAAAAAAAAIQAAAAAAAAAhAAAAAAAAACUAAAAAAAAAJQAAAAAAAAAlAAAAAAAAACUAAAAAAAAAKQAAAAAAAAAxAAAAAAAAADEAAAAAAAAANQAAAAAAAAA1AAAAAAAAADUAAAAAAAAANQAAAAAAAAA1AAAAAAAAAD0AAAAAAAAAQQAAAAAAAABBAAAAAAAAAEEAAAAAAAAAQQAAAAAAAABBAAAAAAAAAEEAAAAAAAIAQQAAAAAAAgBBAAAAAAACAEUAAAAAAAAAUQAAAAAAAABRAAAAAAAAAFUAAAAAAAIAVQAAAAAAAABpAAAAAAACAG0AAAAAAAIAdQA==\",\"dtype\":\"float64\",\"order\":\"little\",\"shape\":[113]},\"top\":{\"__ndarray__\":\"MzMzMzMzQkAzMzMzMzNDQDMzMzMzs0ZAMzMzMzMzR0AzMzMzMzNIQDMzMzMzs0hAMzMzMzOzSUAzMzMzMzNIQDMzMzMzs0hAMzMzMzMzR0AzMzMzMzNDQDMzMzMzM0VAMzMzMzMzR0AzMzMzM7NIQDMzMzMzs0lAMzMzMzMzR0AzMzMzMzNFQDMzMzMzs0ZAMzMzMzMzQ0AzMzMzM7NIQDMzMzMzM0VAMzMzMzOzRkAzMzMzMzNDQDMzMzMzM0NAMzMzMzMzRUAzMzMzMzNHQDMzMzMzM0hAMzMzMzMzSUAzMzMzM7NJQDMzMzMzM0NAMzMzMzMzRUAzMzMzM7NGQDMzMzMzM0dAMzMzMzOzSEAzMzMzMzNCQDMzMzMzM0NAMzMzMzMzRUAzMzMzM7NGQDMzMzMzs0hAMzMzMzOzSUAzMzMzMzNCQDMzMzMzM0NAMzMzMzMzRUAzMzMzM7NGQDMzMzMzM0hAMzMzMzOzSEAzMzMzM7NJQDMzMzMzs0ZAMzMzMzMzRUAzMzMzM7NJQDMzMzMzM0JAMzMzMzMzQ0AzMzMzM7NIQDMzMzMzs0lAMzMzMzOzRkAzMzMzMzNHQDMzMzMzM0hAMzMzMzMzSUAzMzMzMzNCQDMzMzMzs0ZAMzMzMzMzR0AzMzMzMzNIQDMzMzMzs0ZAMzMzMzMzQ0AzMzMzMzNIQDMzMzMzM0dAMzMzMzMzQkAzMzMzMzNFQDMzMzMzs0ZAMzMzMzMzR0AzMzMzM7NIQDMzMzMzM0lAMzMzMzOzSUAzMzMzMzNJQDMzMzMzs0lAMzMzMzMzQkAzMzMzM7NGQDMzMzMzM0hAMzMzMzOzSEAzMzMzMzNCQDMzMzMzM0dAMzMzMzMzSUAzMzMzMzNCQDMzMzMzM0dAMzMzMzMzSUAzMzMzM7NJQDMzMzMzM0JAMzMzMzMzQ0AzMzMzMzNDQDMzMzMzM0VAMzMzMzOzSUAzMzMzMzNCQDMzMzMzs0ZAMzMzMzMzR0AzMzMzM7NIQDMzMzMzM0lAMzMzMzMzQ0AzMzMzMzNCQDMzMzMzM0VAMzMzMzMzR0AzMzMzM7NIQDMzMzMzM0lAMzMzMzOzSUAzMzMzMzNFQDMzMzMzM0NAMzMzMzMzQ0AzMzMzMzNFQDMzMzMzM0JAMzMzMzMzRUAzMzMzMzNFQDMzMzMzM0NAMzMzMzMzRUAzMzMzMzNDQA==\",\"dtype\":\"float64\",\"order\":\"little\",\"shape\":[113]},\"velocity\":[80,80,80,80,80,80,80,80,80,80,80,80,80,80,80,80,80,80,80,80,80,80,80,80,80,80,80,80,80,80,80,80,80,80,80,80,80,80,80,80,80,80,80,80,80,80,80,80,80,80,80,80,80,80,80,80,80,80,80,80,80,80,80,80,80,80,80,80,80,80,80,80,80,80,80,80,80,80,80,80,80,80,80,80,80,80,80,80,80,80,80,80,80,80,80,80,80,80,80,80,80,80,80,80,80,80,80,80,80,80,80,80,80]},\"selected\":{\"id\":\"2380\"},\"selection_policy\":{\"id\":\"2379\"}},\"id\":\"2366\",\"type\":\"ColumnDataSource\"},{\"attributes\":{\"interval\":12},\"id\":\"2363\",\"type\":\"SingleIntervalTicker\"},{\"attributes\":{},\"id\":\"2379\",\"type\":\"UnionRenderers\"},{\"attributes\":{},\"id\":\"2377\",\"type\":\"BasicTickFormatter\"},{\"attributes\":{\"data_source\":{\"id\":\"2366\"},\"glyph\":{\"id\":\"2368\"},\"hover_glyph\":null,\"muted_glyph\":null,\"nonselection_glyph\":{\"id\":\"2369\"},\"view\":{\"id\":\"2371\"}},\"id\":\"2370\",\"type\":\"GlyphRenderer\"},{\"attributes\":{},\"id\":\"2335\",\"type\":\"DataRange1d\"},{\"attributes\":{},\"id\":\"2339\",\"type\":\"LinearScale\"},{\"attributes\":{},\"id\":\"2380\",\"type\":\"Selection\"},{\"attributes\":{},\"id\":\"2376\",\"type\":\"AllLabels\"},{\"attributes\":{},\"id\":\"2344\",\"type\":\"BasicTicker\"},{\"attributes\":{\"axis_label\":\"time (sec)\",\"formatter\":{\"id\":\"2377\"},\"major_label_policy\":{\"id\":\"2376\"},\"ticker\":{\"id\":\"2344\"}},\"id\":\"2343\",\"type\":\"LinearAxis\"},{\"attributes\":{},\"id\":\"2374\",\"type\":\"AllLabels\"},{\"attributes\":{},\"id\":\"2375\",\"type\":\"BasicTickFormatter\"},{\"attributes\":{},\"id\":\"2373\",\"type\":\"Title\"},{\"attributes\":{},\"id\":\"2337\",\"type\":\"DataRange1d\"},{\"attributes\":{},\"id\":\"2355\",\"type\":\"SaveTool\"},{\"attributes\":{\"bottom\":{\"field\":\"bottom\"},\"fill_alpha\":{\"field\":\"fill_alpha\"},\"fill_color\":{\"value\":\"#d53e4f\"},\"left\":{\"field\":\"start_time\"},\"right\":{\"field\":\"end_time\"},\"top\":{\"field\":\"top\"}},\"id\":\"2368\",\"type\":\"Quad\"},{\"attributes\":{\"axis\":{\"id\":\"2343\"},\"ticker\":null},\"id\":\"2346\",\"type\":\"Grid\"},{\"attributes\":{\"bottom\":{\"field\":\"bottom\"},\"fill_alpha\":{\"value\":0.1},\"fill_color\":{\"value\":\"#d53e4f\"},\"left\":{\"field\":\"start_time\"},\"line_alpha\":{\"value\":0.1},\"right\":{\"field\":\"end_time\"},\"top\":{\"field\":\"top\"}},\"id\":\"2369\",\"type\":\"Quad\"}],\"root_ids\":[\"2334\"]},\"title\":\"Bokeh Application\",\"version\":\"2.3.3\"}};\n  var render_items = [{\"docid\":\"2cb95cef-aecc-42b5-ab33-daf230d1e0b3\",\"root_ids\":[\"2334\"],\"roots\":{\"2334\":\"dc689d95-406e-4b2a-ace7-92207f5713bd\"}}];\n  root.Bokeh.embed.embed_items_notebook(docs_json, render_items);\n\n  }\n  if (root.Bokeh !== undefined) {\n    embed_document(root);\n  } else {\n    var attempts = 0;\n    var timer = setInterval(function(root) {\n      if (root.Bokeh !== undefined) {\n        clearInterval(timer);\n        embed_document(root);\n      } else {\n        attempts++;\n        if (attempts > 100) {\n          clearInterval(timer);\n          console.log(\"Bokeh: ERROR: Unable to run BokehJS code because BokehJS library is missing\");\n        }\n      }\n    }, 10, root)\n  }\n})(window);",
      "application/vnd.bokehjs_exec.v0+json": ""
     },
     "metadata": {},
     "output_type": "display_data"
    },
    {
     "data": {
      "text/html": [
       "\n",
       "\n",
       "\n",
       "\n",
       "\n",
       "\n",
       "  <div class=\"bk-root\" id=\"caf510af-a4d8-48ce-b5b7-14b5c4253dd3\" data-root-id=\"2532\"></div>\n"
      ]
     },
     "metadata": {},
     "output_type": "display_data"
    },
    {
     "data": {
      "application/javascript": "(function(root) {\n  function embed_document(root) {\n    \n  var docs_json = {\"9ec6695c-51e3-4650-b536-72604b80cd01\":{\"defs\":[],\"roots\":{\"references\":[{\"attributes\":{\"below\":[{\"id\":\"2541\"}],\"center\":[{\"id\":\"2544\"},{\"id\":\"2548\"}],\"height\":200,\"left\":[{\"id\":\"2545\"}],\"renderers\":[{\"id\":\"2568\"}],\"title\":{\"id\":\"2571\"},\"toolbar\":{\"id\":\"2555\"},\"width\":500,\"x_range\":{\"id\":\"2533\"},\"x_scale\":{\"id\":\"2537\"},\"y_range\":{\"id\":\"2535\"},\"y_scale\":{\"id\":\"2539\"}},\"id\":\"2532\",\"subtype\":\"Figure\",\"type\":\"Plot\"},{\"attributes\":{},\"id\":\"2550\",\"type\":\"PanTool\"},{\"attributes\":{\"axis_label\":\"pitch (MIDI)\",\"formatter\":{\"id\":\"2573\"},\"major_label_policy\":{\"id\":\"2572\"},\"ticker\":{\"id\":\"2561\"}},\"id\":\"2545\",\"type\":\"LinearAxis\"},{\"attributes\":{\"active_multi\":null,\"tools\":[{\"id\":\"2549\"},{\"id\":\"2550\"},{\"id\":\"2551\"},{\"id\":\"2552\"},{\"id\":\"2553\"}]},\"id\":\"2555\",\"type\":\"Toolbar\"},{\"attributes\":{},\"id\":\"2535\",\"type\":\"DataRange1d\"},{\"attributes\":{\"callback\":null,\"tooltips\":[[\"pitch\",\"@pitch\"],[\"program\",\"@program\"],[\"velo\",\"@velocity\"],[\"duration\",\"@duration\"],[\"start_time\",\"@start_time\"],[\"end_time\",\"@end_time\"],[\"velocity\",\"@velocity\"],[\"fill_alpha\",\"@fill_alpha\"]]},\"id\":\"2549\",\"type\":\"HoverTool\"},{\"attributes\":{\"axis_label\":\"time (sec)\",\"formatter\":{\"id\":\"2575\"},\"major_label_policy\":{\"id\":\"2574\"},\"ticker\":{\"id\":\"2542\"}},\"id\":\"2541\",\"type\":\"LinearAxis\"},{\"attributes\":{\"interval\":12},\"id\":\"2563\",\"type\":\"SingleIntervalTicker\"},{\"attributes\":{\"overlay\":{\"id\":\"2554\"}},\"id\":\"2551\",\"type\":\"BoxZoomTool\"},{\"attributes\":{},\"id\":\"2542\",\"type\":\"BasicTicker\"},{\"attributes\":{\"interval\":12},\"id\":\"2561\",\"type\":\"SingleIntervalTicker\"},{\"attributes\":{\"axis\":{\"id\":\"2541\"},\"ticker\":null},\"id\":\"2544\",\"type\":\"Grid\"},{\"attributes\":{\"data\":{\"bottom\":{\"__ndarray__\":\"zczMzMzMQkDNzMzMzExGQM3MzMzMzEZAzczMzMzMR0DNzMzMzMxIQM3MzMzMTElAzczMzMzMQkDNzMzMzMxEQM3MzMzMTElAzczMzMzMQUDNzMzMzMxCQM3MzMzMzEJAzczMzMzMQkDNzMzMzMxEQM3MzMzMzEJAzczMzMzMQkDNzMzMzMxCQM3MzMzMzEJAzczMzMzMQkDNzMzMzMxCQM3MzMzMzEJAzczMzMzMQkDNzMzMzMxCQM3MzMzMzEJAzczMzMzMQkA=\",\"dtype\":\"float64\",\"order\":\"little\",\"shape\":[25]},\"duration\":{\"__ndarray__\":\"AAAAAAAAwD8AAAAAAADAPwAAAAAAAMA/AAAAAAAAwD8AAAAAAADAPwAAAAAAAMA/AAAAAAAAwD8AAAAAAADAPwAAAAAAAMA/AAAAAAAAwD8AAAAAAADAPwAAAAAAAMA/AAAAAAAAwD8AAAAAAADAPwAAAAAAAMA/AAAAAAAAwD8AAAAAAADAPwAAAAAAAMA/AAAAAAAAwD8AAAAAAADAPwAAAAAAAMA/AAAAAAAAwD8AAAAAAADAPwAAAAAAAMA/AAAAAAAAwD8=\",\"dtype\":\"float64\",\"order\":\"little\",\"shape\":[25]},\"end_time\":{\"__ndarray__\":\"AAAAAAAAwD8AAAAAAADAPwAAAAAAAMA/AAAAAAAAwD8AAAAAAADAPwAAAAAAAMA/AAAAAAAA2D8AAAAAAADkPwAAAAAAAOQ/AAAAAAAA5D8AAAAAAADoPwAAAAAAAPQ/AAAAAAAA+D8AAAAAAAABQAAAAAAAAApAAAAAAAAADEAAAAAAAAANQAAAAAAAAA9AAAAAAAAAEEAAAAAAAAATQAAAAAAAgBZAAAAAAACAG0AAAAAAAAAdQAAAAAAAgB1AAAAAAAAAIEA=\",\"dtype\":\"float64\",\"order\":\"little\",\"shape\":[25]},\"fill_alpha\":{\"__ndarray__\":\"AAAAAAAA8D8AAAAAAADwPwAAAAAAAPA/AAAAAAAA8D8AAAAAAADwPwAAAAAAAPA/AAAAAAAA8D8AAAAAAADwPwAAAAAAAPA/AAAAAAAA8D8AAAAAAADwPwAAAAAAAPA/AAAAAAAA8D8AAAAAAADwPwAAAAAAAPA/AAAAAAAA8D8AAAAAAADwPwAAAAAAAPA/AAAAAAAA8D8AAAAAAADwPwAAAAAAAPA/AAAAAAAA8D8AAAAAAADwPwAAAAAAAPA/AAAAAAAA8D8=\",\"dtype\":\"float64\",\"order\":\"little\",\"shape\":[25]},\"index\":[0,1,2,3,4,5,6,7,8,9,10,11,12,13,14,15,16,17,18,19,20,21,22,23,24],\"instrument\":[9,9,9,9,9,9,9,9,9,9,9,9,9,9,9,9,9,9,9,9,9,9,9,9,9],\"pitch\":[38,45,46,48,50,51,38,42,51,36,38,38,38,42,38,38,38,38,38,38,38,38,38,38,38],\"program\":[0,0,0,0,0,0,0,0,0,0,0,0,0,0,0,0,0,0,0,0,0,0,0,0,0],\"start_time\":{\"__ndarray__\":\"AAAAAAAAAAAAAAAAAAAAAAAAAAAAAAAAAAAAAAAAAAAAAAAAAAAAAAAAAAAAAAAAAAAAAAAA0D8AAAAAAADgPwAAAAAAAOA/AAAAAAAA4D8AAAAAAADkPwAAAAAAAPI/AAAAAAAA9j8AAAAAAAAAQAAAAAAAAAlAAAAAAAAAC0AAAAAAAAAMQAAAAAAAAA5AAAAAAAAAD0AAAAAAAIASQAAAAAAAABZAAAAAAAAAG0AAAAAAAIAcQAAAAAAAAB1AAAAAAACAH0A=\",\"dtype\":\"float64\",\"order\":\"little\",\"shape\":[25]},\"top\":{\"__ndarray__\":\"MzMzMzMzQ0AzMzMzM7NGQDMzMzMzM0dAMzMzMzMzSEAzMzMzMzNJQDMzMzMzs0lAMzMzMzMzQ0AzMzMzMzNFQDMzMzMzs0lAMzMzMzMzQkAzMzMzMzNDQDMzMzMzM0NAMzMzMzMzQ0AzMzMzMzNFQDMzMzMzM0NAMzMzMzMzQ0AzMzMzMzNDQDMzMzMzM0NAMzMzMzMzQ0AzMzMzMzNDQDMzMzMzM0NAMzMzMzMzQ0AzMzMzMzNDQDMzMzMzM0NAMzMzMzMzQ0A=\",\"dtype\":\"float64\",\"order\":\"little\",\"shape\":[25]},\"velocity\":[80,80,80,80,80,80,80,80,80,80,80,80,80,80,80,80,80,80,80,80,80,80,80,80,80]},\"selected\":{\"id\":\"2578\"},\"selection_policy\":{\"id\":\"2577\"}},\"id\":\"2564\",\"type\":\"ColumnDataSource\"},{\"attributes\":{},\"id\":\"2552\",\"type\":\"ResetTool\"},{\"attributes\":{},\"id\":\"2574\",\"type\":\"AllLabels\"},{\"attributes\":{},\"id\":\"2533\",\"type\":\"DataRange1d\"},{\"attributes\":{},\"id\":\"2571\",\"type\":\"Title\"},{\"attributes\":{\"axis\":{\"id\":\"2545\"},\"dimension\":1,\"ticker\":{\"id\":\"2563\"}},\"id\":\"2548\",\"type\":\"Grid\"},{\"attributes\":{},\"id\":\"2575\",\"type\":\"BasicTickFormatter\"},{\"attributes\":{},\"id\":\"2537\",\"type\":\"LinearScale\"},{\"attributes\":{},\"id\":\"2572\",\"type\":\"AllLabels\"},{\"attributes\":{},\"id\":\"2578\",\"type\":\"Selection\"},{\"attributes\":{},\"id\":\"2573\",\"type\":\"BasicTickFormatter\"},{\"attributes\":{\"bottom\":{\"field\":\"bottom\"},\"fill_alpha\":{\"value\":0.1},\"fill_color\":{\"value\":\"#d53e4f\"},\"left\":{\"field\":\"start_time\"},\"line_alpha\":{\"value\":0.1},\"right\":{\"field\":\"end_time\"},\"top\":{\"field\":\"top\"}},\"id\":\"2567\",\"type\":\"Quad\"},{\"attributes\":{\"data_source\":{\"id\":\"2564\"},\"glyph\":{\"id\":\"2566\"},\"hover_glyph\":null,\"muted_glyph\":null,\"nonselection_glyph\":{\"id\":\"2567\"},\"view\":{\"id\":\"2569\"}},\"id\":\"2568\",\"type\":\"GlyphRenderer\"},{\"attributes\":{},\"id\":\"2539\",\"type\":\"LinearScale\"},{\"attributes\":{\"source\":{\"id\":\"2564\"}},\"id\":\"2569\",\"type\":\"CDSView\"},{\"attributes\":{},\"id\":\"2577\",\"type\":\"UnionRenderers\"},{\"attributes\":{\"bottom\":{\"field\":\"bottom\"},\"fill_alpha\":{\"field\":\"fill_alpha\"},\"fill_color\":{\"value\":\"#d53e4f\"},\"left\":{\"field\":\"start_time\"},\"right\":{\"field\":\"end_time\"},\"top\":{\"field\":\"top\"}},\"id\":\"2566\",\"type\":\"Quad\"},{\"attributes\":{},\"id\":\"2553\",\"type\":\"SaveTool\"},{\"attributes\":{\"bottom_units\":\"screen\",\"fill_alpha\":0.5,\"fill_color\":\"lightgrey\",\"left_units\":\"screen\",\"level\":\"overlay\",\"line_alpha\":1.0,\"line_color\":\"black\",\"line_dash\":[4,4],\"line_width\":2,\"right_units\":\"screen\",\"syncable\":false,\"top_units\":\"screen\"},\"id\":\"2554\",\"type\":\"BoxAnnotation\"}],\"root_ids\":[\"2532\"]},\"title\":\"Bokeh Application\",\"version\":\"2.3.3\"}};\n  var render_items = [{\"docid\":\"9ec6695c-51e3-4650-b536-72604b80cd01\",\"root_ids\":[\"2532\"],\"roots\":{\"2532\":\"caf510af-a4d8-48ce-b5b7-14b5c4253dd3\"}}];\n  root.Bokeh.embed.embed_items_notebook(docs_json, render_items);\n\n  }\n  if (root.Bokeh !== undefined) {\n    embed_document(root);\n  } else {\n    var attempts = 0;\n    var timer = setInterval(function(root) {\n      if (root.Bokeh !== undefined) {\n        clearInterval(timer);\n        embed_document(root);\n      } else {\n        attempts++;\n        if (attempts > 100) {\n          clearInterval(timer);\n          console.log(\"Bokeh: ERROR: Unable to run BokehJS code because BokehJS library is missing\");\n        }\n      }\n    }, 10, root)\n  }\n})(window);",
      "application/vnd.bokehjs_exec.v0+json": ""
     },
     "metadata": {},
     "output_type": "display_data"
    }
   ],
   "source": [
    "temperature = 0.5\n",
    "samples = model.sample(n=5, length=64, temperature=temperature)\n",
    "\n",
    "for sequence in samples:\n",
    "    note_seq.plot_sequence(sequence)"
   ]
  },
  {
   "cell_type": "markdown",
   "metadata": {},
   "source": [
    "마찬가지로 생성된 MIDI 파일에 어떤 소리가 기록되어 있는지 확인하기 위해 Logic으로 재생한 내역을 녹화하였고,   \n",
    "해당 [영상 다운로드](https://github.com/minyeamer/groove_midi/blob/main/.media/output.mov?raw=true)를 통해 확인할 수 있습니다."
   ]
  },
  {
   "cell_type": "markdown",
   "metadata": {},
   "source": [
    "<hr>\n",
    "\n",
    "## Appendix\n",
    "- `configs.py` 파일을 직접 수정해야 하는 기존의 불편함을 개선하면서 더욱 직관적인 방식으로 config 파일을 사용하기 위해,   \n",
    "  Magenta 소스코드를 가져와 별도의 실행 파일 `run.py`를 만들었습니다. (08-21 10:00-14:00, 4 hours)"
   ]
  },
  {
   "cell_type": "code",
   "execution_count": null,
   "metadata": {},
   "outputs": [],
   "source": [
    "# Train\n",
    "\n",
    "!python3 run.py \\\n",
    "  --config=hierdec-drums_4bar_small \\\n",
    "  --config_file=data/config.json \\\n",
    "  --run_dir=saved/checkpoints/drums_4bar \\\n",
    "  --num_steps=10 \\\n",
    "  --mode=train"
   ]
  },
  {
   "cell_type": "code",
   "execution_count": null,
   "metadata": {},
   "outputs": [],
   "source": [
    "# Generate\n",
    "\n",
    "!python3 run.py \\\n",
    "  --config=hierdec-drums_4bar_small \\\n",
    "  --config_file=data/config.json \\\n",
    "  --checkpoint_file=checkpoints/drums_4bar/train/model.ckpt-10 \\\n",
    "  --output_dir=generated/test \\\n",
    "  --num_outputs=5 \\\n",
    "  --mode=sample"
   ]
  }
 ],
 "metadata": {
  "kernelspec": {
   "display_name": "Python 3.8.13 64-bit ('groove_midi')",
   "language": "python",
   "name": "python3"
  },
  "language_info": {
   "codemirror_mode": {
    "name": "ipython",
    "version": 3
   },
   "file_extension": ".py",
   "mimetype": "text/x-python",
   "name": "python",
   "nbconvert_exporter": "python",
   "pygments_lexer": "ipython3",
   "version": "3.8.13"
  },
  "orig_nbformat": 4,
  "vscode": {
   "interpreter": {
    "hash": "012c1e54ca4c05f23637cdf0feb104267b1248968ad3cee50e8caf7c6ba51b16"
   }
  }
 },
 "nbformat": 4,
 "nbformat_minor": 2
}
