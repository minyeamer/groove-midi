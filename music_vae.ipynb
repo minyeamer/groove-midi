{
  "cells": [
    {
      "cell_type": "markdown",
      "metadata": {},
      "source": [
        "<a href=\"https://githubtocolab.com/minyeamer/groove_midi/blob/main/music_vae.ipynb\" target=\"_parent\"><img src=\"https://colab.research.google.com/assets/colab-badge.svg\" alt=\"Open in Colab\"/></a>"
      ]
    },
    {
      "cell_type": "markdown",
      "metadata": {},
      "source": [
        "# MusicVAE\n",
        "- MIDI 파일을 TFRecord 파일로 변환합니다.\n",
        "- Custom CONFIG_MAP을 생성합니다.\n",
        "- [Magenta 사용법](https://github.com/magenta/magenta/tree/main/magenta/models/music_vae#how-to-use)을 참고하여 `music_vae_train.py` 스크립트를 수행해 학습합니다.\n",
        "- [Magenta 사용법](https://github.com/magenta/magenta/tree/main/magenta/models/music_vae#how-to-use)을 참고하여 `music_vae_generate.py` 스크립트를 수행해 학습합니다.\n",
        "- 개별적으로 알아보고 싶은 함수들을 실행하여 반환값을 확인합니다."
      ]
    },
    {
      "cell_type": "code",
      "execution_count": null,
      "metadata": {
        "id": "579mUTgAkCJ3"
      },
      "outputs": [],
      "source": [
        "from IPython.display import clear_output\n",
        "!pip install magenta==2.1.4 # latest\n",
        "clear_output()"
      ]
    },
    {
      "cell_type": "code",
      "execution_count": null,
      "metadata": {
        "colab": {
          "base_uri": "https://localhost:8080/"
        },
        "id": "zaOVQOLck_SV",
        "outputId": "871e0726-ec74-4ffe-fd05-91243b98b14d"
      },
      "outputs": [
        {
          "name": "stdout",
          "output_type": "stream",
          "text": [
            "Mounted at /content/drive\n"
          ]
        }
      ],
      "source": [
        "from google.colab import drive\n",
        "from pathlib import Path\n",
        "import os\n",
        "\n",
        "drive.mount(\"/content/drive\")\n",
        "root_path = Path(\"/content/drive/My Drive/groove_midi\")\n",
        "root_path.mkdir(parents=True, exist_ok=True)\n",
        "os.chdir(root_path)"
      ]
    },
    {
      "cell_type": "markdown",
      "metadata": {},
      "source": [
        "## Load Data"
      ]
    },
    {
      "cell_type": "code",
      "execution_count": null,
      "metadata": {
        "id": "igRC5vMSpdWl"
      },
      "outputs": [],
      "source": [
        "from zipfile import ZipFile\n",
        "import urllib.request\n",
        "\n",
        "url = \"https://storage.googleapis.com/magentadata/datasets/groove/groove-v1.0.0-midionly.zip\"\n",
        "data_path = root_path/'data'\n",
        "data_path.mkdir(parents=True, exist_ok=True)\n",
        "zip_file = data_path/url.split('/')[-1]\n",
        "urllib.request.urlretrieve(url, zip_file)\n",
        "ZipFile(zip_file).extractall(data_path)"
      ]
    },
    {
      "cell_type": "code",
      "execution_count": null,
      "metadata": {
        "colab": {
          "base_uri": "https://localhost:8080/"
        },
        "id": "T6CoaXx1tXn9",
        "outputId": "69871041-ccdd-4d03-b3d8-814dae925c89"
      },
      "outputs": [
        {
          "name": "stdout",
          "output_type": "stream",
          "text": [
            "(['drummer3', 'drummer5', 'drummer4', 'drummer2', 'drummer7', 'drummer6', 'drummer10', 'drummer1', 'drummer8', 'drummer9'], ['README', 'info.csv', 'Icon\\r', 'LICENSE'])\n"
          ]
        }
      ],
      "source": [
        "midi_path = data_path/'groove'\n",
        "print(list(os.walk(midi_path))[0][1:])"
      ]
    },
    {
      "cell_type": "code",
      "execution_count": null,
      "metadata": {
        "colab": {
          "base_uri": "https://localhost:8080/",
          "height": 357
        },
        "id": "NcJoqWCttqSM",
        "outputId": "98bf04bf-4559-4f2a-aa23-8304b867bb88"
      },
      "outputs": [
        {
          "data": {
            "text/html": [
              "\n",
              "  <div id=\"df-83fb4c2b-1fbe-4d35-aee0-740600825a96\">\n",
              "    <div class=\"colab-df-container\">\n",
              "      <div>\n",
              "<style scoped>\n",
              "    .dataframe tbody tr th:only-of-type {\n",
              "        vertical-align: middle;\n",
              "    }\n",
              "\n",
              "    .dataframe tbody tr th {\n",
              "        vertical-align: top;\n",
              "    }\n",
              "\n",
              "    .dataframe thead th {\n",
              "        text-align: right;\n",
              "    }\n",
              "</style>\n",
              "<table border=\"1\" class=\"dataframe\">\n",
              "  <thead>\n",
              "    <tr style=\"text-align: right;\">\n",
              "      <th></th>\n",
              "      <th>drummer</th>\n",
              "      <th>session</th>\n",
              "      <th>id</th>\n",
              "      <th>style</th>\n",
              "      <th>bpm</th>\n",
              "      <th>beat_type</th>\n",
              "      <th>time_signature</th>\n",
              "      <th>midi_filename</th>\n",
              "      <th>audio_filename</th>\n",
              "      <th>duration</th>\n",
              "      <th>split</th>\n",
              "    </tr>\n",
              "  </thead>\n",
              "  <tbody>\n",
              "    <tr>\n",
              "      <th>0</th>\n",
              "      <td>drummer1</td>\n",
              "      <td>drummer1/eval_session</td>\n",
              "      <td>drummer1/eval_session/1</td>\n",
              "      <td>funk/groove1</td>\n",
              "      <td>138</td>\n",
              "      <td>beat</td>\n",
              "      <td>4-4</td>\n",
              "      <td>drummer1/eval_session/1_funk-groove1_138_beat_...</td>\n",
              "      <td>drummer1/eval_session/1_funk-groove1_138_beat_...</td>\n",
              "      <td>27.872308</td>\n",
              "      <td>test</td>\n",
              "    </tr>\n",
              "    <tr>\n",
              "      <th>1</th>\n",
              "      <td>drummer1</td>\n",
              "      <td>drummer1/eval_session</td>\n",
              "      <td>drummer1/eval_session/10</td>\n",
              "      <td>soul/groove10</td>\n",
              "      <td>102</td>\n",
              "      <td>beat</td>\n",
              "      <td>4-4</td>\n",
              "      <td>drummer1/eval_session/10_soul-groove10_102_bea...</td>\n",
              "      <td>drummer1/eval_session/10_soul-groove10_102_bea...</td>\n",
              "      <td>37.691158</td>\n",
              "      <td>test</td>\n",
              "    </tr>\n",
              "    <tr>\n",
              "      <th>2</th>\n",
              "      <td>drummer1</td>\n",
              "      <td>drummer1/eval_session</td>\n",
              "      <td>drummer1/eval_session/2</td>\n",
              "      <td>funk/groove2</td>\n",
              "      <td>105</td>\n",
              "      <td>beat</td>\n",
              "      <td>4-4</td>\n",
              "      <td>drummer1/eval_session/2_funk-groove2_105_beat_...</td>\n",
              "      <td>drummer1/eval_session/2_funk-groove2_105_beat_...</td>\n",
              "      <td>36.351218</td>\n",
              "      <td>test</td>\n",
              "    </tr>\n",
              "    <tr>\n",
              "      <th>3</th>\n",
              "      <td>drummer1</td>\n",
              "      <td>drummer1/eval_session</td>\n",
              "      <td>drummer1/eval_session/3</td>\n",
              "      <td>soul/groove3</td>\n",
              "      <td>86</td>\n",
              "      <td>beat</td>\n",
              "      <td>4-4</td>\n",
              "      <td>drummer1/eval_session/3_soul-groove3_86_beat_4...</td>\n",
              "      <td>drummer1/eval_session/3_soul-groove3_86_beat_4...</td>\n",
              "      <td>44.716543</td>\n",
              "      <td>test</td>\n",
              "    </tr>\n",
              "    <tr>\n",
              "      <th>4</th>\n",
              "      <td>drummer1</td>\n",
              "      <td>drummer1/eval_session</td>\n",
              "      <td>drummer1/eval_session/4</td>\n",
              "      <td>soul/groove4</td>\n",
              "      <td>80</td>\n",
              "      <td>beat</td>\n",
              "      <td>4-4</td>\n",
              "      <td>drummer1/eval_session/4_soul-groove4_80_beat_4...</td>\n",
              "      <td>drummer1/eval_session/4_soul-groove4_80_beat_4...</td>\n",
              "      <td>47.987500</td>\n",
              "      <td>test</td>\n",
              "    </tr>\n",
              "  </tbody>\n",
              "</table>\n",
              "</div>\n",
              "      <button class=\"colab-df-convert\" onclick=\"convertToInteractive('df-83fb4c2b-1fbe-4d35-aee0-740600825a96')\"\n",
              "              title=\"Convert this dataframe to an interactive table.\"\n",
              "              style=\"display:none;\">\n",
              "        \n",
              "  <svg xmlns=\"http://www.w3.org/2000/svg\" height=\"24px\"viewBox=\"0 0 24 24\"\n",
              "       width=\"24px\">\n",
              "    <path d=\"M0 0h24v24H0V0z\" fill=\"none\"/>\n",
              "    <path d=\"M18.56 5.44l.94 2.06.94-2.06 2.06-.94-2.06-.94-.94-2.06-.94 2.06-2.06.94zm-11 1L8.5 8.5l.94-2.06 2.06-.94-2.06-.94L8.5 2.5l-.94 2.06-2.06.94zm10 10l.94 2.06.94-2.06 2.06-.94-2.06-.94-.94-2.06-.94 2.06-2.06.94z\"/><path d=\"M17.41 7.96l-1.37-1.37c-.4-.4-.92-.59-1.43-.59-.52 0-1.04.2-1.43.59L10.3 9.45l-7.72 7.72c-.78.78-.78 2.05 0 2.83L4 21.41c.39.39.9.59 1.41.59.51 0 1.02-.2 1.41-.59l7.78-7.78 2.81-2.81c.8-.78.8-2.07 0-2.86zM5.41 20L4 18.59l7.72-7.72 1.47 1.35L5.41 20z\"/>\n",
              "  </svg>\n",
              "      </button>\n",
              "      \n",
              "  <style>\n",
              "    .colab-df-container {\n",
              "      display:flex;\n",
              "      flex-wrap:wrap;\n",
              "      gap: 12px;\n",
              "    }\n",
              "\n",
              "    .colab-df-convert {\n",
              "      background-color: #E8F0FE;\n",
              "      border: none;\n",
              "      border-radius: 50%;\n",
              "      cursor: pointer;\n",
              "      display: none;\n",
              "      fill: #1967D2;\n",
              "      height: 32px;\n",
              "      padding: 0 0 0 0;\n",
              "      width: 32px;\n",
              "    }\n",
              "\n",
              "    .colab-df-convert:hover {\n",
              "      background-color: #E2EBFA;\n",
              "      box-shadow: 0px 1px 2px rgba(60, 64, 67, 0.3), 0px 1px 3px 1px rgba(60, 64, 67, 0.15);\n",
              "      fill: #174EA6;\n",
              "    }\n",
              "\n",
              "    [theme=dark] .colab-df-convert {\n",
              "      background-color: #3B4455;\n",
              "      fill: #D2E3FC;\n",
              "    }\n",
              "\n",
              "    [theme=dark] .colab-df-convert:hover {\n",
              "      background-color: #434B5C;\n",
              "      box-shadow: 0px 1px 3px 1px rgba(0, 0, 0, 0.15);\n",
              "      filter: drop-shadow(0px 1px 2px rgba(0, 0, 0, 0.3));\n",
              "      fill: #FFFFFF;\n",
              "    }\n",
              "  </style>\n",
              "\n",
              "      <script>\n",
              "        const buttonEl =\n",
              "          document.querySelector('#df-83fb4c2b-1fbe-4d35-aee0-740600825a96 button.colab-df-convert');\n",
              "        buttonEl.style.display =\n",
              "          google.colab.kernel.accessAllowed ? 'block' : 'none';\n",
              "\n",
              "        async function convertToInteractive(key) {\n",
              "          const element = document.querySelector('#df-83fb4c2b-1fbe-4d35-aee0-740600825a96');\n",
              "          const dataTable =\n",
              "            await google.colab.kernel.invokeFunction('convertToInteractive',\n",
              "                                                     [key], {});\n",
              "          if (!dataTable) return;\n",
              "\n",
              "          const docLinkHtml = 'Like what you see? Visit the ' +\n",
              "            '<a target=\"_blank\" href=https://colab.research.google.com/notebooks/data_table.ipynb>data table notebook</a>'\n",
              "            + ' to learn more about interactive tables.';\n",
              "          element.innerHTML = '';\n",
              "          dataTable['output_type'] = 'display_data';\n",
              "          await google.colab.output.renderOutput(dataTable, element);\n",
              "          const docLink = document.createElement('div');\n",
              "          docLink.innerHTML = docLinkHtml;\n",
              "          element.appendChild(docLink);\n",
              "        }\n",
              "      </script>\n",
              "    </div>\n",
              "  </div>\n",
              "  "
            ],
            "text/plain": [
              "    drummer                session                        id          style  \\\n",
              "0  drummer1  drummer1/eval_session   drummer1/eval_session/1   funk/groove1   \n",
              "1  drummer1  drummer1/eval_session  drummer1/eval_session/10  soul/groove10   \n",
              "2  drummer1  drummer1/eval_session   drummer1/eval_session/2   funk/groove2   \n",
              "3  drummer1  drummer1/eval_session   drummer1/eval_session/3   soul/groove3   \n",
              "4  drummer1  drummer1/eval_session   drummer1/eval_session/4   soul/groove4   \n",
              "\n",
              "   bpm beat_type time_signature  \\\n",
              "0  138      beat            4-4   \n",
              "1  102      beat            4-4   \n",
              "2  105      beat            4-4   \n",
              "3   86      beat            4-4   \n",
              "4   80      beat            4-4   \n",
              "\n",
              "                                       midi_filename  \\\n",
              "0  drummer1/eval_session/1_funk-groove1_138_beat_...   \n",
              "1  drummer1/eval_session/10_soul-groove10_102_bea...   \n",
              "2  drummer1/eval_session/2_funk-groove2_105_beat_...   \n",
              "3  drummer1/eval_session/3_soul-groove3_86_beat_4...   \n",
              "4  drummer1/eval_session/4_soul-groove4_80_beat_4...   \n",
              "\n",
              "                                      audio_filename   duration split  \n",
              "0  drummer1/eval_session/1_funk-groove1_138_beat_...  27.872308  test  \n",
              "1  drummer1/eval_session/10_soul-groove10_102_bea...  37.691158  test  \n",
              "2  drummer1/eval_session/2_funk-groove2_105_beat_...  36.351218  test  \n",
              "3  drummer1/eval_session/3_soul-groove3_86_beat_4...  44.716543  test  \n",
              "4  drummer1/eval_session/4_soul-groove4_80_beat_4...  47.987500  test  "
            ]
          },
          "metadata": {},
          "output_type": "display_data"
        }
      ],
      "source": [
        "import pandas as pd\n",
        "\n",
        "info = pd.read_csv(midi_path/'info.csv')\n",
        "info.head()"
      ]
    },
    {
      "cell_type": "markdown",
      "metadata": {},
      "source": [
        "## MIDI to TFRecord"
      ]
    },
    {
      "cell_type": "code",
      "execution_count": null,
      "metadata": {
        "id": "eUcZzmrAuRDl"
      },
      "outputs": [],
      "source": [
        "import warnings\n",
        "warnings.filterwarnings(\"ignore\")\n",
        "\n",
        "from magenta.scripts.convert_dir_to_note_sequences import convert_directory\n",
        "\n",
        "tfrec_file = data_path/'midi.tfrecord'\n",
        "convert_directory(midi_path.__str__(), tfrec_file.__str__(), recursive=True)\n",
        "clear_output()"
      ]
    },
    {
      "cell_type": "code",
      "execution_count": null,
      "metadata": {
        "colab": {
          "base_uri": "https://localhost:8080/"
        },
        "id": "PZwjxirkf2eI",
        "outputId": "9c8e3353-d7b9-4752-ab0d-dd90355ffb13"
      },
      "outputs": [
        {
          "name": "stdout",
          "output_type": "stream",
          "text": [
            "Cloning into 'magenta'...\n",
            "remote: Enumerating objects: 15877, done.\u001b[K\n",
            "remote: Counting objects: 100% (30/30), done.\u001b[K\n",
            "remote: Compressing objects: 100% (23/23), done.\u001b[K\n",
            "remote: Total 15877 (delta 7), reused 21 (delta 5), pack-reused 15847\u001b[K\n",
            "Receiving objects: 100% (15877/15877), 36.41 MiB | 10.66 MiB/s, done.\n",
            "Resolving deltas: 100% (12063/12063), done.\n",
            "Checking out files: 100% (491/491), done.\n"
          ]
        }
      ],
      "source": [
        "!git clone https://github.com/magenta/magenta"
      ]
    },
    {
      "cell_type": "markdown",
      "metadata": {},
      "source": [
        "## Custom Config"
      ]
    },
    {
      "cell_type": "code",
      "execution_count": null,
      "metadata": {
        "id": "hSdLH7WxNFSN"
      },
      "outputs": [],
      "source": [
        "custom_config = f\"\"\"\n",
        "CONFIG_MAP['hierdec-drums_4bar_small'] = Config(\n",
        "    model=MusicVAE(\n",
        "        lstm_models.BidirectionalLstmEncoder(),\n",
        "        lstm_models.HierarchicalLstmDecoder(\n",
        "            lstm_models.CategoricalLstmDecoder(),\n",
        "            level_lengths=[16, 4],\n",
        "            disable_autoregression=True)),\n",
        "    hparams=merge_hparams(\n",
        "        lstm_models.get_default_hparams(),\n",
        "        HParams(\n",
        "            batch_size=512,\n",
        "            max_seq_len=64,  # 4 bars w/ 16 steps per bar\n",
        "            z_size=256,\n",
        "            enc_rnn_size=[512, 512],\n",
        "            dec_rnn_size=[256, 256],\n",
        "            free_bits=48,\n",
        "            max_beta=0.2,\n",
        "            sampling_schedule='inverse_sigmoid',\n",
        "            sampling_rate=1000,\n",
        "        )),\n",
        "    note_sequence_augmenter=None,\n",
        "    data_converter=data.DrumsConverter(\n",
        "        max_bars=100,  # Truncate long drum sequences before slicing.\n",
        "        slice_bars=4,\n",
        "        steps_per_quarter=4,\n",
        "        roll_input=True),\n",
        "    train_examples_path='{tfrec_file.__str__()}',\n",
        ")\"\"\""
      ]
    },
    {
      "cell_type": "code",
      "execution_count": null,
      "metadata": {
        "id": "ynb8BuuUb9fY"
      },
      "outputs": [],
      "source": [
        "config_file = root_path/\"magenta/magenta/models/music_vae/configs.py\"\n",
        "\n",
        "with open(config_file, 'a') as file:\n",
        "    file.write(custom_config)"
      ]
    },
    {
      "cell_type": "code",
      "execution_count": null,
      "metadata": {
        "id": "6pTurETbsYkT"
      },
      "outputs": [],
      "source": [
        "!pip install -e magenta\n",
        "clear_output()"
      ]
    },
    {
      "cell_type": "markdown",
      "metadata": {},
      "source": [
        "## Train"
      ]
    },
    {
      "cell_type": "code",
      "execution_count": null,
      "metadata": {
        "colab": {
          "base_uri": "https://localhost:8080/"
        },
        "id": "WaaEssmunbUj",
        "outputId": "a8fd05f6-cca9-4d3c-f3fd-957e862d5f71"
      },
      "outputs": [
        {
          "name": "stdout",
          "output_type": "stream",
          "text": [
            "/usr/local/lib/python3.7/dist-packages/librosa/util/decorators.py:9: NumbaDeprecationWarning: An import was requested from a module that has moved location.\n",
            "Import requested from: 'numba.decorators', please update to use 'numba.core.decorators' or pin to Numba version 0.48.0. This alias will not be present in Numba version 0.50.0.\n",
            "  from numba.decorators import jit as optional_jit\n",
            "/usr/local/lib/python3.7/dist-packages/librosa/util/decorators.py:9: NumbaDeprecationWarning: An import was requested from a module that has moved location.\n",
            "Import of 'jit' requested from: 'numba.decorators', please update to use 'numba.core.decorators' or pin to Numba version 0.48.0. This alias will not be present in Numba version 0.50.0.\n",
            "  from numba.decorators import jit as optional_jit\n",
            "/usr/local/lib/python3.7/dist-packages/resampy/interpn.py:114: NumbaWarning: The TBB threading layer requires TBB version 2019.5 or later i.e., TBB_INTERFACE_VERSION >= 11005. Found TBB_INTERFACE_VERSION = 9107. The TBB threading layer is disabled.\n",
            "  _resample_loop_p(x, t_out, interp_win, interp_delta, num_table, scale, y)\n",
            "WARNING:tensorflow:From /usr/local/lib/python3.7/dist-packages/tensorflow/python/compat/v2_compat.py:107: disable_resource_variables (from tensorflow.python.ops.variable_scope) is deprecated and will be removed in a future version.\n",
            "Instructions for updating:\n",
            "non-resource variables are not supported in the long term\n",
            "2022-08-20 10:03:57.032396: E tensorflow/stream_executor/cuda/cuda_driver.cc:271] failed call to cuInit: CUDA_ERROR_NO_DEVICE: no CUDA-capable device is detected\n",
            "INFO:tensorflow:Building MusicVAE model with BidirectionalLstmEncoder, HierarchicalLstmDecoder, and hparams:\n",
            "{'max_seq_len': 64, 'z_size': 256, 'free_bits': 48, 'max_beta': 0.2, 'beta_rate': 0.0, 'batch_size': 512, 'grad_clip': 1.0, 'clip_mode': 'global_norm', 'grad_norm_clip_to_zero': 10000, 'learning_rate': 0.001, 'decay_rate': 0.9999, 'min_learning_rate': 1e-05, 'conditional': True, 'dec_rnn_size': [256, 256], 'enc_rnn_size': [512, 512], 'dropout_keep_prob': 1.0, 'sampling_schedule': 'inverse_sigmoid', 'sampling_rate': 1000, 'use_cudnn': False, 'residual_encoder': False, 'residual_decoder': False, 'control_preprocessing_rnn_size': [256]}\n",
            "I0820 10:03:57.513278 140444518676352 base_model.py:152] Building MusicVAE model with BidirectionalLstmEncoder, HierarchicalLstmDecoder, and hparams:\n",
            "{'max_seq_len': 64, 'z_size': 256, 'free_bits': 48, 'max_beta': 0.2, 'beta_rate': 0.0, 'batch_size': 512, 'grad_clip': 1.0, 'clip_mode': 'global_norm', 'grad_norm_clip_to_zero': 10000, 'learning_rate': 0.001, 'decay_rate': 0.9999, 'min_learning_rate': 1e-05, 'conditional': True, 'dec_rnn_size': [256, 256], 'enc_rnn_size': [512, 512], 'dropout_keep_prob': 1.0, 'sampling_schedule': 'inverse_sigmoid', 'sampling_rate': 1000, 'use_cudnn': False, 'residual_encoder': False, 'residual_decoder': False, 'control_preprocessing_rnn_size': [256]}\n",
            "INFO:tensorflow:\n",
            "Encoder Cells (bidirectional):\n",
            "  units: [512, 512]\n",
            "\n",
            "I0820 10:03:57.520318 140444518676352 lstm_models.py:78] \n",
            "Encoder Cells (bidirectional):\n",
            "  units: [512, 512]\n",
            "\n",
            "WARNING:tensorflow:`tf.nn.rnn_cell.MultiRNNCell` is deprecated. This class is equivalent as `tf.keras.layers.StackedRNNCells`, and will be replaced by that in Tensorflow 2.0.\n",
            "W0820 10:03:57.530325 140444518676352 legacy_cells.py:1109] `tf.nn.rnn_cell.MultiRNNCell` is deprecated. This class is equivalent as `tf.keras.layers.StackedRNNCells`, and will be replaced by that in Tensorflow 2.0.\n",
            "WARNING:tensorflow:`tf.nn.rnn_cell.MultiRNNCell` is deprecated. This class is equivalent as `tf.keras.layers.StackedRNNCells`, and will be replaced by that in Tensorflow 2.0.\n",
            "W0820 10:03:57.539492 140444518676352 legacy_cells.py:1109] `tf.nn.rnn_cell.MultiRNNCell` is deprecated. This class is equivalent as `tf.keras.layers.StackedRNNCells`, and will be replaced by that in Tensorflow 2.0.\n",
            "WARNING:tensorflow:`tf.nn.rnn_cell.MultiRNNCell` is deprecated. This class is equivalent as `tf.keras.layers.StackedRNNCells`, and will be replaced by that in Tensorflow 2.0.\n",
            "W0820 10:03:57.548367 140444518676352 legacy_cells.py:1109] `tf.nn.rnn_cell.MultiRNNCell` is deprecated. This class is equivalent as `tf.keras.layers.StackedRNNCells`, and will be replaced by that in Tensorflow 2.0.\n",
            "WARNING:tensorflow:`tf.nn.rnn_cell.MultiRNNCell` is deprecated. This class is equivalent as `tf.keras.layers.StackedRNNCells`, and will be replaced by that in Tensorflow 2.0.\n",
            "W0820 10:03:57.557481 140444518676352 legacy_cells.py:1109] `tf.nn.rnn_cell.MultiRNNCell` is deprecated. This class is equivalent as `tf.keras.layers.StackedRNNCells`, and will be replaced by that in Tensorflow 2.0.\n",
            "INFO:tensorflow:\n",
            "Hierarchical Decoder:\n",
            "  input length: 64\n",
            "  level output lengths: [16, 4]\n",
            "\n",
            "I0820 10:03:57.558064 140444518676352 lstm_models.py:898] \n",
            "Hierarchical Decoder:\n",
            "  input length: 64\n",
            "  level output lengths: [16, 4]\n",
            "\n",
            "WARNING:tensorflow:`tf.nn.rnn_cell.MultiRNNCell` is deprecated. This class is equivalent as `tf.keras.layers.StackedRNNCells`, and will be replaced by that in Tensorflow 2.0.\n",
            "W0820 10:03:57.572844 140444518676352 legacy_cells.py:1109] `tf.nn.rnn_cell.MultiRNNCell` is deprecated. This class is equivalent as `tf.keras.layers.StackedRNNCells`, and will be replaced by that in Tensorflow 2.0.\n",
            "INFO:tensorflow:\n",
            "Decoder Cells:\n",
            "  units: [256, 256]\n",
            "\n",
            "I0820 10:03:57.573492 140444518676352 lstm_models.py:224] \n",
            "Decoder Cells:\n",
            "  units: [256, 256]\n",
            "\n",
            "WARNING:tensorflow:From /usr/local/lib/python3.7/dist-packages/tensorflow/python/util/dispatch.py:1082: to_float (from tensorflow.python.ops.math_ops) is deprecated and will be removed in a future version.\n",
            "Instructions for updating:\n",
            "Use `tf.cast` instead.\n",
            "W0820 10:03:57.573772 140444518676352 deprecation.py:356] From /usr/local/lib/python3.7/dist-packages/tensorflow/python/util/dispatch.py:1082: to_float (from tensorflow.python.ops.math_ops) is deprecated and will be removed in a future version.\n",
            "Instructions for updating:\n",
            "Use `tf.cast` instead.\n",
            "WARNING:tensorflow:`tf.nn.rnn_cell.MultiRNNCell` is deprecated. This class is equivalent as `tf.keras.layers.StackedRNNCells`, and will be replaced by that in Tensorflow 2.0.\n",
            "W0820 10:03:57.597122 140444518676352 legacy_cells.py:1109] `tf.nn.rnn_cell.MultiRNNCell` is deprecated. This class is equivalent as `tf.keras.layers.StackedRNNCells`, and will be replaced by that in Tensorflow 2.0.\n",
            "INFO:tensorflow:Reading examples from file: /content/drive/My Drive/groove_midi/data/midi.tfrecord\n",
            "I0820 10:03:57.597775 140444518676352 data.py:1817] Reading examples from file: /content/drive/My Drive/groove_midi/data/midi.tfrecord\n",
            "WARNING:tensorflow:From /content/drive/My Drive/groove_midi/magenta/magenta/contrib/rnn.py:473: bidirectional_dynamic_rnn (from tensorflow.python.ops.rnn) is deprecated and will be removed in a future version.\n",
            "Instructions for updating:\n",
            "Please use `keras.layers.Bidirectional(keras.layers.RNN(cell))`, which is equivalent to this API\n",
            "W0820 10:03:58.026362 140444518676352 deprecation.py:356] From /content/drive/My Drive/groove_midi/magenta/magenta/contrib/rnn.py:473: bidirectional_dynamic_rnn (from tensorflow.python.ops.rnn) is deprecated and will be removed in a future version.\n",
            "Instructions for updating:\n",
            "Please use `keras.layers.Bidirectional(keras.layers.RNN(cell))`, which is equivalent to this API\n",
            "WARNING:tensorflow:From /usr/local/lib/python3.7/dist-packages/tensorflow/python/ops/rnn.py:446: dynamic_rnn (from tensorflow.python.ops.rnn) is deprecated and will be removed in a future version.\n",
            "Instructions for updating:\n",
            "Please use `keras.layers.RNN(cell)`, which is equivalent to this API\n",
            "W0820 10:03:58.026792 140444518676352 deprecation.py:356] From /usr/local/lib/python3.7/dist-packages/tensorflow/python/ops/rnn.py:446: dynamic_rnn (from tensorflow.python.ops.rnn) is deprecated and will be removed in a future version.\n",
            "Instructions for updating:\n",
            "Please use `keras.layers.RNN(cell)`, which is equivalent to this API\n",
            "/content/drive/My Drive/groove_midi/magenta/magenta/contrib/rnn.py:750: UserWarning: `layer.add_variable` is deprecated and will be removed in a future version. Please use the `layer.add_weight()` method instead.\n",
            "  self._names[\"W\"], [input_size + self._num_units, self._num_units * 4])\n",
            "/content/drive/My Drive/groove_midi/magenta/magenta/contrib/rnn.py:753: UserWarning: `layer.add_variable` is deprecated and will be removed in a future version. Please use the `layer.add_weight()` method instead.\n",
            "  initializer=tf.constant_initializer(0.0))\n",
            "/content/drive/My Drive/groove_midi/magenta/magenta/models/music_vae/base_model.py:199: UserWarning: `tf.layers.dense` is deprecated and will be removed in a future version. Please use `tf.keras.layers.Dense` instead.\n",
            "  kernel_initializer=tf.random_normal_initializer(stddev=0.001))\n",
            "/content/drive/My Drive/groove_midi/magenta/magenta/models/music_vae/base_model.py:205: UserWarning: `tf.layers.dense` is deprecated and will be removed in a future version. Please use `tf.keras.layers.Dense` instead.\n",
            "  kernel_initializer=tf.random_normal_initializer(stddev=0.001))\n",
            "/content/drive/My Drive/groove_midi/magenta/magenta/models/music_vae/lstm_utils.py:99: UserWarning: `tf.layers.dense` is deprecated and will be removed in a future version. Please use `tf.keras.layers.Dense` instead.\n",
            "  name=name),\n",
            "WARNING:tensorflow:From /usr/local/lib/python3.7/dist-packages/tensorflow/python/util/dispatch.py:1082: softmax_cross_entropy_with_logits (from tensorflow.python.ops.nn_ops) is deprecated and will be removed in a future version.\n",
            "Instructions for updating:\n",
            "\n",
            "Future major versions of TensorFlow will allow gradients to flow\n",
            "into the labels input on backprop by default.\n",
            "\n",
            "See `tf.nn.softmax_cross_entropy_with_logits_v2`.\n",
            "\n",
            "W0820 10:03:59.222116 140444518676352 deprecation.py:356] From /usr/local/lib/python3.7/dist-packages/tensorflow/python/util/dispatch.py:1082: softmax_cross_entropy_with_logits (from tensorflow.python.ops.nn_ops) is deprecated and will be removed in a future version.\n",
            "Instructions for updating:\n",
            "\n",
            "Future major versions of TensorFlow will allow gradients to flow\n",
            "into the labels input on backprop by default.\n",
            "\n",
            "See `tf.nn.softmax_cross_entropy_with_logits_v2`.\n",
            "\n",
            "/usr/local/lib/python3.7/dist-packages/tensorflow/python/framework/indexed_slices.py:446: UserWarning: Converting sparse IndexedSlices(IndexedSlices(indices=Tensor(\"gradients/core_decoder_1/decoder/while/BasicDecoderStep/ScheduledOutputTrainingHelperNextInputs/cond/GatherNd_1/Switch_grad/cond_grad/Merge_1:0\", shape=(?,), dtype=int32), values=Tensor(\"gradients/core_decoder_1/decoder/while/BasicDecoderStep/ScheduledOutputTrainingHelperNextInputs/cond/GatherNd_1/Switch_grad/cond_grad/Merge:0\", shape=(?, 768), dtype=float32), dense_shape=Tensor(\"gradients/core_decoder_1/decoder/while/BasicDecoderStep/ScheduledOutputTrainingHelperNextInputs/cond/GatherNd_1/Switch_grad/cond_grad/Merge_2:0\", shape=(2,), dtype=int32))) to a dense Tensor of unknown shape. This may consume a large amount of memory.\n",
            "  \"shape. This may consume a large amount of memory.\" % value)\n",
            "/usr/local/lib/python3.7/dist-packages/tensorflow/python/framework/indexed_slices.py:446: UserWarning: Converting sparse IndexedSlices(IndexedSlices(indices=Tensor(\"gradients/core_decoder_2/decoder/while/BasicDecoderStep/ScheduledOutputTrainingHelperNextInputs/cond/GatherNd_1/Switch_grad/cond_grad/Merge_1:0\", shape=(?,), dtype=int32), values=Tensor(\"gradients/core_decoder_2/decoder/while/BasicDecoderStep/ScheduledOutputTrainingHelperNextInputs/cond/GatherNd_1/Switch_grad/cond_grad/Merge:0\", shape=(?, 768), dtype=float32), dense_shape=Tensor(\"gradients/core_decoder_2/decoder/while/BasicDecoderStep/ScheduledOutputTrainingHelperNextInputs/cond/GatherNd_1/Switch_grad/cond_grad/Merge_2:0\", shape=(2,), dtype=int32))) to a dense Tensor of unknown shape. This may consume a large amount of memory.\n",
            "  \"shape. This may consume a large amount of memory.\" % value)\n",
            "/usr/local/lib/python3.7/dist-packages/tensorflow/python/framework/indexed_slices.py:446: UserWarning: Converting sparse IndexedSlices(IndexedSlices(indices=Tensor(\"gradients/core_decoder_3/decoder/while/BasicDecoderStep/ScheduledOutputTrainingHelperNextInputs/cond/GatherNd_1/Switch_grad/cond_grad/Merge_1:0\", shape=(?,), dtype=int32), values=Tensor(\"gradients/core_decoder_3/decoder/while/BasicDecoderStep/ScheduledOutputTrainingHelperNextInputs/cond/GatherNd_1/Switch_grad/cond_grad/Merge:0\", shape=(?, 768), dtype=float32), dense_shape=Tensor(\"gradients/core_decoder_3/decoder/while/BasicDecoderStep/ScheduledOutputTrainingHelperNextInputs/cond/GatherNd_1/Switch_grad/cond_grad/Merge_2:0\", shape=(2,), dtype=int32))) to a dense Tensor of unknown shape. This may consume a large amount of memory.\n",
            "  \"shape. This may consume a large amount of memory.\" % value)\n",
            "/usr/local/lib/python3.7/dist-packages/tensorflow/python/framework/indexed_slices.py:446: UserWarning: Converting sparse IndexedSlices(IndexedSlices(indices=Tensor(\"gradients/core_decoder_4/decoder/while/BasicDecoderStep/ScheduledOutputTrainingHelperNextInputs/cond/GatherNd_1/Switch_grad/cond_grad/Merge_1:0\", shape=(?,), dtype=int32), values=Tensor(\"gradients/core_decoder_4/decoder/while/BasicDecoderStep/ScheduledOutputTrainingHelperNextInputs/cond/GatherNd_1/Switch_grad/cond_grad/Merge:0\", shape=(?, 768), dtype=float32), dense_shape=Tensor(\"gradients/core_decoder_4/decoder/while/BasicDecoderStep/ScheduledOutputTrainingHelperNextInputs/cond/GatherNd_1/Switch_grad/cond_grad/Merge_2:0\", shape=(2,), dtype=int32))) to a dense Tensor of unknown shape. This may consume a large amount of memory.\n",
            "  \"shape. This may consume a large amount of memory.\" % value)\n",
            "/usr/local/lib/python3.7/dist-packages/tensorflow/python/framework/indexed_slices.py:446: UserWarning: Converting sparse IndexedSlices(IndexedSlices(indices=Tensor(\"gradients/core_decoder_5/decoder/while/BasicDecoderStep/ScheduledOutputTrainingHelperNextInputs/cond/GatherNd_1/Switch_grad/cond_grad/Merge_1:0\", shape=(?,), dtype=int32), values=Tensor(\"gradients/core_decoder_5/decoder/while/BasicDecoderStep/ScheduledOutputTrainingHelperNextInputs/cond/GatherNd_1/Switch_grad/cond_grad/Merge:0\", shape=(?, 768), dtype=float32), dense_shape=Tensor(\"gradients/core_decoder_5/decoder/while/BasicDecoderStep/ScheduledOutputTrainingHelperNextInputs/cond/GatherNd_1/Switch_grad/cond_grad/Merge_2:0\", shape=(2,), dtype=int32))) to a dense Tensor of unknown shape. This may consume a large amount of memory.\n",
            "  \"shape. This may consume a large amount of memory.\" % value)\n",
            "/usr/local/lib/python3.7/dist-packages/tensorflow/python/framework/indexed_slices.py:446: UserWarning: Converting sparse IndexedSlices(IndexedSlices(indices=Tensor(\"gradients/core_decoder_6/decoder/while/BasicDecoderStep/ScheduledOutputTrainingHelperNextInputs/cond/GatherNd_1/Switch_grad/cond_grad/Merge_1:0\", shape=(?,), dtype=int32), values=Tensor(\"gradients/core_decoder_6/decoder/while/BasicDecoderStep/ScheduledOutputTrainingHelperNextInputs/cond/GatherNd_1/Switch_grad/cond_grad/Merge:0\", shape=(?, 768), dtype=float32), dense_shape=Tensor(\"gradients/core_decoder_6/decoder/while/BasicDecoderStep/ScheduledOutputTrainingHelperNextInputs/cond/GatherNd_1/Switch_grad/cond_grad/Merge_2:0\", shape=(2,), dtype=int32))) to a dense Tensor of unknown shape. This may consume a large amount of memory.\n",
            "  \"shape. This may consume a large amount of memory.\" % value)\n",
            "/usr/local/lib/python3.7/dist-packages/tensorflow/python/framework/indexed_slices.py:446: UserWarning: Converting sparse IndexedSlices(IndexedSlices(indices=Tensor(\"gradients/core_decoder_7/decoder/while/BasicDecoderStep/ScheduledOutputTrainingHelperNextInputs/cond/GatherNd_1/Switch_grad/cond_grad/Merge_1:0\", shape=(?,), dtype=int32), values=Tensor(\"gradients/core_decoder_7/decoder/while/BasicDecoderStep/ScheduledOutputTrainingHelperNextInputs/cond/GatherNd_1/Switch_grad/cond_grad/Merge:0\", shape=(?, 768), dtype=float32), dense_shape=Tensor(\"gradients/core_decoder_7/decoder/while/BasicDecoderStep/ScheduledOutputTrainingHelperNextInputs/cond/GatherNd_1/Switch_grad/cond_grad/Merge_2:0\", shape=(2,), dtype=int32))) to a dense Tensor of unknown shape. This may consume a large amount of memory.\n",
            "  \"shape. This may consume a large amount of memory.\" % value)\n",
            "/usr/local/lib/python3.7/dist-packages/tensorflow/python/framework/indexed_slices.py:446: UserWarning: Converting sparse IndexedSlices(IndexedSlices(indices=Tensor(\"gradients/core_decoder_8/decoder/while/BasicDecoderStep/ScheduledOutputTrainingHelperNextInputs/cond/GatherNd_1/Switch_grad/cond_grad/Merge_1:0\", shape=(?,), dtype=int32), values=Tensor(\"gradients/core_decoder_8/decoder/while/BasicDecoderStep/ScheduledOutputTrainingHelperNextInputs/cond/GatherNd_1/Switch_grad/cond_grad/Merge:0\", shape=(?, 768), dtype=float32), dense_shape=Tensor(\"gradients/core_decoder_8/decoder/while/BasicDecoderStep/ScheduledOutputTrainingHelperNextInputs/cond/GatherNd_1/Switch_grad/cond_grad/Merge_2:0\", shape=(2,), dtype=int32))) to a dense Tensor of unknown shape. This may consume a large amount of memory.\n",
            "  \"shape. This may consume a large amount of memory.\" % value)\n",
            "/usr/local/lib/python3.7/dist-packages/tensorflow/python/framework/indexed_slices.py:446: UserWarning: Converting sparse IndexedSlices(IndexedSlices(indices=Tensor(\"gradients/core_decoder_9/decoder/while/BasicDecoderStep/ScheduledOutputTrainingHelperNextInputs/cond/GatherNd_1/Switch_grad/cond_grad/Merge_1:0\", shape=(?,), dtype=int32), values=Tensor(\"gradients/core_decoder_9/decoder/while/BasicDecoderStep/ScheduledOutputTrainingHelperNextInputs/cond/GatherNd_1/Switch_grad/cond_grad/Merge:0\", shape=(?, 768), dtype=float32), dense_shape=Tensor(\"gradients/core_decoder_9/decoder/while/BasicDecoderStep/ScheduledOutputTrainingHelperNextInputs/cond/GatherNd_1/Switch_grad/cond_grad/Merge_2:0\", shape=(2,), dtype=int32))) to a dense Tensor of unknown shape. This may consume a large amount of memory.\n",
            "  \"shape. This may consume a large amount of memory.\" % value)\n",
            "/usr/local/lib/python3.7/dist-packages/tensorflow/python/framework/indexed_slices.py:446: UserWarning: Converting sparse IndexedSlices(IndexedSlices(indices=Tensor(\"gradients/core_decoder_10/decoder/while/BasicDecoderStep/ScheduledOutputTrainingHelperNextInputs/cond/GatherNd_1/Switch_grad/cond_grad/Merge_1:0\", shape=(?,), dtype=int32), values=Tensor(\"gradients/core_decoder_10/decoder/while/BasicDecoderStep/ScheduledOutputTrainingHelperNextInputs/cond/GatherNd_1/Switch_grad/cond_grad/Merge:0\", shape=(?, 768), dtype=float32), dense_shape=Tensor(\"gradients/core_decoder_10/decoder/while/BasicDecoderStep/ScheduledOutputTrainingHelperNextInputs/cond/GatherNd_1/Switch_grad/cond_grad/Merge_2:0\", shape=(2,), dtype=int32))) to a dense Tensor of unknown shape. This may consume a large amount of memory.\n",
            "  \"shape. This may consume a large amount of memory.\" % value)\n",
            "/usr/local/lib/python3.7/dist-packages/tensorflow/python/framework/indexed_slices.py:446: UserWarning: Converting sparse IndexedSlices(IndexedSlices(indices=Tensor(\"gradients/core_decoder_11/decoder/while/BasicDecoderStep/ScheduledOutputTrainingHelperNextInputs/cond/GatherNd_1/Switch_grad/cond_grad/Merge_1:0\", shape=(?,), dtype=int32), values=Tensor(\"gradients/core_decoder_11/decoder/while/BasicDecoderStep/ScheduledOutputTrainingHelperNextInputs/cond/GatherNd_1/Switch_grad/cond_grad/Merge:0\", shape=(?, 768), dtype=float32), dense_shape=Tensor(\"gradients/core_decoder_11/decoder/while/BasicDecoderStep/ScheduledOutputTrainingHelperNextInputs/cond/GatherNd_1/Switch_grad/cond_grad/Merge_2:0\", shape=(2,), dtype=int32))) to a dense Tensor of unknown shape. This may consume a large amount of memory.\n",
            "  \"shape. This may consume a large amount of memory.\" % value)\n",
            "/usr/local/lib/python3.7/dist-packages/tensorflow/python/framework/indexed_slices.py:446: UserWarning: Converting sparse IndexedSlices(IndexedSlices(indices=Tensor(\"gradients/core_decoder_12/decoder/while/BasicDecoderStep/ScheduledOutputTrainingHelperNextInputs/cond/GatherNd_1/Switch_grad/cond_grad/Merge_1:0\", shape=(?,), dtype=int32), values=Tensor(\"gradients/core_decoder_12/decoder/while/BasicDecoderStep/ScheduledOutputTrainingHelperNextInputs/cond/GatherNd_1/Switch_grad/cond_grad/Merge:0\", shape=(?, 768), dtype=float32), dense_shape=Tensor(\"gradients/core_decoder_12/decoder/while/BasicDecoderStep/ScheduledOutputTrainingHelperNextInputs/cond/GatherNd_1/Switch_grad/cond_grad/Merge_2:0\", shape=(2,), dtype=int32))) to a dense Tensor of unknown shape. This may consume a large amount of memory.\n",
            "  \"shape. This may consume a large amount of memory.\" % value)\n",
            "/usr/local/lib/python3.7/dist-packages/tensorflow/python/framework/indexed_slices.py:446: UserWarning: Converting sparse IndexedSlices(IndexedSlices(indices=Tensor(\"gradients/core_decoder_13/decoder/while/BasicDecoderStep/ScheduledOutputTrainingHelperNextInputs/cond/GatherNd_1/Switch_grad/cond_grad/Merge_1:0\", shape=(?,), dtype=int32), values=Tensor(\"gradients/core_decoder_13/decoder/while/BasicDecoderStep/ScheduledOutputTrainingHelperNextInputs/cond/GatherNd_1/Switch_grad/cond_grad/Merge:0\", shape=(?, 768), dtype=float32), dense_shape=Tensor(\"gradients/core_decoder_13/decoder/while/BasicDecoderStep/ScheduledOutputTrainingHelperNextInputs/cond/GatherNd_1/Switch_grad/cond_grad/Merge_2:0\", shape=(2,), dtype=int32))) to a dense Tensor of unknown shape. This may consume a large amount of memory.\n",
            "  \"shape. This may consume a large amount of memory.\" % value)\n",
            "/usr/local/lib/python3.7/dist-packages/tensorflow/python/framework/indexed_slices.py:446: UserWarning: Converting sparse IndexedSlices(IndexedSlices(indices=Tensor(\"gradients/core_decoder_14/decoder/while/BasicDecoderStep/ScheduledOutputTrainingHelperNextInputs/cond/GatherNd_1/Switch_grad/cond_grad/Merge_1:0\", shape=(?,), dtype=int32), values=Tensor(\"gradients/core_decoder_14/decoder/while/BasicDecoderStep/ScheduledOutputTrainingHelperNextInputs/cond/GatherNd_1/Switch_grad/cond_grad/Merge:0\", shape=(?, 768), dtype=float32), dense_shape=Tensor(\"gradients/core_decoder_14/decoder/while/BasicDecoderStep/ScheduledOutputTrainingHelperNextInputs/cond/GatherNd_1/Switch_grad/cond_grad/Merge_2:0\", shape=(2,), dtype=int32))) to a dense Tensor of unknown shape. This may consume a large amount of memory.\n",
            "  \"shape. This may consume a large amount of memory.\" % value)\n",
            "/usr/local/lib/python3.7/dist-packages/tensorflow/python/framework/indexed_slices.py:446: UserWarning: Converting sparse IndexedSlices(IndexedSlices(indices=Tensor(\"gradients/core_decoder_15/decoder/while/BasicDecoderStep/ScheduledOutputTrainingHelperNextInputs/cond/GatherNd_1/Switch_grad/cond_grad/Merge_1:0\", shape=(?,), dtype=int32), values=Tensor(\"gradients/core_decoder_15/decoder/while/BasicDecoderStep/ScheduledOutputTrainingHelperNextInputs/cond/GatherNd_1/Switch_grad/cond_grad/Merge:0\", shape=(?, 768), dtype=float32), dense_shape=Tensor(\"gradients/core_decoder_15/decoder/while/BasicDecoderStep/ScheduledOutputTrainingHelperNextInputs/cond/GatherNd_1/Switch_grad/cond_grad/Merge_2:0\", shape=(2,), dtype=int32))) to a dense Tensor of unknown shape. This may consume a large amount of memory.\n",
            "  \"shape. This may consume a large amount of memory.\" % value)\n",
            "/usr/local/lib/python3.7/dist-packages/tensorflow/python/framework/indexed_slices.py:446: UserWarning: Converting sparse IndexedSlices(IndexedSlices(indices=Tensor(\"gradients/core_decoder_16/decoder/while/BasicDecoderStep/ScheduledOutputTrainingHelperNextInputs/cond/GatherNd_1/Switch_grad/cond_grad/Merge_1:0\", shape=(?,), dtype=int32), values=Tensor(\"gradients/core_decoder_16/decoder/while/BasicDecoderStep/ScheduledOutputTrainingHelperNextInputs/cond/GatherNd_1/Switch_grad/cond_grad/Merge:0\", shape=(?, 768), dtype=float32), dense_shape=Tensor(\"gradients/core_decoder_16/decoder/while/BasicDecoderStep/ScheduledOutputTrainingHelperNextInputs/cond/GatherNd_1/Switch_grad/cond_grad/Merge_2:0\", shape=(2,), dtype=int32))) to a dense Tensor of unknown shape. This may consume a large amount of memory.\n",
            "  \"shape. This may consume a large amount of memory.\" % value)\n",
            "INFO:tensorflow:Create CheckpointSaverHook.\n",
            "I0820 10:06:08.465674 140444518676352 basic_session_run_hooks.py:558] Create CheckpointSaverHook.\n",
            "WARNING:tensorflow:From /usr/local/lib/python3.7/dist-packages/tensorflow/python/training/training_util.py:397: Variable.initialized_value (from tensorflow.python.ops.variables) is deprecated and will be removed in a future version.\n",
            "Instructions for updating:\n",
            "Use Variable.read_value. Variables in 2.X are initialized automatically both in eager and graph (inside tf.defun) contexts.\n",
            "W0820 10:06:27.636978 140444518676352 deprecation.py:356] From /usr/local/lib/python3.7/dist-packages/tensorflow/python/training/training_util.py:397: Variable.initialized_value (from tensorflow.python.ops.variables) is deprecated and will be removed in a future version.\n",
            "Instructions for updating:\n",
            "Use Variable.read_value. Variables in 2.X are initialized automatically both in eager and graph (inside tf.defun) contexts.\n",
            "INFO:tensorflow:Graph was finalized.\n",
            "I0820 10:06:27.812204 140444518676352 monitored_session.py:243] Graph was finalized.\n",
            "INFO:tensorflow:Running local_init_op.\n",
            "I0820 10:06:37.121442 140444518676352 session_manager.py:527] Running local_init_op.\n",
            "INFO:tensorflow:Done running local_init_op.\n",
            "I0820 10:06:38.038468 140444518676352 session_manager.py:530] Done running local_init_op.\n",
            "INFO:tensorflow:Calling checkpoint listeners before saving checkpoint 0...\n",
            "I0820 10:07:47.413523 140444518676352 basic_session_run_hooks.py:629] Calling checkpoint listeners before saving checkpoint 0...\n",
            "INFO:tensorflow:Saving checkpoints for 0 into checkpoints/drums_4bar/train/model.ckpt.\n",
            "I0820 10:07:47.582578 140444518676352 basic_session_run_hooks.py:633] Saving checkpoints for 0 into checkpoints/drums_4bar/train/model.ckpt.\n",
            "INFO:tensorflow:checkpoints/drums_4bar/train/model.ckpt-0.data-00000-of-00001\n",
            "I0820 10:08:00.184337 140444518676352 saver.py:90] checkpoints/drums_4bar/train/model.ckpt-0.data-00000-of-00001\n",
            "INFO:tensorflow:143800\n",
            "I0820 10:08:00.184804 140444518676352 saver.py:93] 143800\n",
            "INFO:tensorflow:checkpoints/drums_4bar/train/model.ckpt-0.index\n",
            "I0820 10:08:00.184977 140444518676352 saver.py:90] checkpoints/drums_4bar/train/model.ckpt-0.index\n",
            "INFO:tensorflow:143800\n",
            "I0820 10:08:00.185222 140444518676352 saver.py:93] 143800\n",
            "INFO:tensorflow:checkpoints/drums_4bar/train/model.ckpt-0.meta\n",
            "I0820 10:08:00.185343 140444518676352 saver.py:90] checkpoints/drums_4bar/train/model.ckpt-0.meta\n",
            "INFO:tensorflow:189100\n",
            "I0820 10:08:00.185563 140444518676352 saver.py:93] 189100\n",
            "INFO:tensorflow:Calling checkpoint listeners after saving checkpoint 0...\n",
            "I0820 10:08:00.185832 140444518676352 basic_session_run_hooks.py:641] Calling checkpoint listeners after saving checkpoint 0...\n",
            "INFO:tensorflow:Calling checkpoint listeners before saving checkpoint 1...\n",
            "I0820 10:10:50.084327 140444518676352 basic_session_run_hooks.py:629] Calling checkpoint listeners before saving checkpoint 1...\n",
            "INFO:tensorflow:Saving checkpoints for 1 into checkpoints/drums_4bar/train/model.ckpt.\n",
            "I0820 10:10:50.085082 140444518676352 basic_session_run_hooks.py:633] Saving checkpoints for 1 into checkpoints/drums_4bar/train/model.ckpt.\n",
            "INFO:tensorflow:checkpoints/drums_4bar/train/model.ckpt-1.data-00000-of-00001\n",
            "I0820 10:11:03.782942 140444518676352 saver.py:90] checkpoints/drums_4bar/train/model.ckpt-1.data-00000-of-00001\n",
            "INFO:tensorflow:143800\n",
            "I0820 10:11:03.783374 140444518676352 saver.py:93] 143800\n",
            "INFO:tensorflow:checkpoints/drums_4bar/train/model.ckpt-1.index\n",
            "I0820 10:11:03.783520 140444518676352 saver.py:90] checkpoints/drums_4bar/train/model.ckpt-1.index\n",
            "INFO:tensorflow:143800\n",
            "I0820 10:11:03.783772 140444518676352 saver.py:93] 143800\n",
            "INFO:tensorflow:checkpoints/drums_4bar/train/model.ckpt-1.meta\n",
            "I0820 10:11:03.783892 140444518676352 saver.py:90] checkpoints/drums_4bar/train/model.ckpt-1.meta\n",
            "INFO:tensorflow:189100\n",
            "I0820 10:11:03.784116 140444518676352 saver.py:93] 189100\n",
            "INFO:tensorflow:Calling checkpoint listeners after saving checkpoint 1...\n",
            "I0820 10:11:03.784389 140444518676352 basic_session_run_hooks.py:641] Calling checkpoint listeners after saving checkpoint 1...\n",
            "INFO:tensorflow:global_step = 1, loss = 399.22983\n",
            "I0820 10:11:03.784772 140444518676352 basic_session_run_hooks.py:266] global_step = 1, loss = 399.22983\n",
            "INFO:tensorflow:Calling checkpoint listeners before saving checkpoint 2...\n",
            "I0820 10:13:23.272623 140444518676352 basic_session_run_hooks.py:629] Calling checkpoint listeners before saving checkpoint 2...\n",
            "INFO:tensorflow:Saving checkpoints for 2 into checkpoints/drums_4bar/train/model.ckpt.\n",
            "I0820 10:13:23.272957 140444518676352 basic_session_run_hooks.py:633] Saving checkpoints for 2 into checkpoints/drums_4bar/train/model.ckpt.\n",
            "INFO:tensorflow:checkpoints/drums_4bar/train/model.ckpt-2.data-00000-of-00001\n",
            "I0820 10:13:35.357768 140444518676352 saver.py:90] checkpoints/drums_4bar/train/model.ckpt-2.data-00000-of-00001\n",
            "INFO:tensorflow:143800\n",
            "I0820 10:13:35.358278 140444518676352 saver.py:93] 143800\n",
            "INFO:tensorflow:checkpoints/drums_4bar/train/model.ckpt-2.index\n",
            "I0820 10:13:35.358439 140444518676352 saver.py:90] checkpoints/drums_4bar/train/model.ckpt-2.index\n",
            "INFO:tensorflow:143800\n",
            "I0820 10:13:35.358686 140444518676352 saver.py:93] 143800\n",
            "INFO:tensorflow:checkpoints/drums_4bar/train/model.ckpt-2.meta\n",
            "I0820 10:13:35.358828 140444518676352 saver.py:90] checkpoints/drums_4bar/train/model.ckpt-2.meta\n",
            "INFO:tensorflow:189100\n",
            "I0820 10:13:35.359042 140444518676352 saver.py:93] 189100\n",
            "INFO:tensorflow:Calling checkpoint listeners after saving checkpoint 2...\n",
            "I0820 10:13:35.359304 140444518676352 basic_session_run_hooks.py:641] Calling checkpoint listeners after saving checkpoint 2...\n",
            "INFO:tensorflow:Calling checkpoint listeners before saving checkpoint 3...\n",
            "I0820 10:14:25.627035 140444518676352 basic_session_run_hooks.py:629] Calling checkpoint listeners before saving checkpoint 3...\n",
            "INFO:tensorflow:Saving checkpoints for 3 into checkpoints/drums_4bar/train/model.ckpt.\n",
            "I0820 10:14:25.627284 140444518676352 basic_session_run_hooks.py:633] Saving checkpoints for 3 into checkpoints/drums_4bar/train/model.ckpt.\n",
            "INFO:tensorflow:checkpoints/drums_4bar/train/model.ckpt-3.data-00000-of-00001\n",
            "I0820 10:14:38.635408 140444518676352 saver.py:90] checkpoints/drums_4bar/train/model.ckpt-3.data-00000-of-00001\n",
            "INFO:tensorflow:143800\n",
            "I0820 10:14:38.635901 140444518676352 saver.py:93] 143800\n",
            "INFO:tensorflow:checkpoints/drums_4bar/train/model.ckpt-3.index\n",
            "I0820 10:14:38.636071 140444518676352 saver.py:90] checkpoints/drums_4bar/train/model.ckpt-3.index\n",
            "INFO:tensorflow:143800\n",
            "I0820 10:14:38.636326 140444518676352 saver.py:93] 143800\n",
            "INFO:tensorflow:checkpoints/drums_4bar/train/model.ckpt-3.meta\n",
            "I0820 10:14:38.636436 140444518676352 saver.py:90] checkpoints/drums_4bar/train/model.ckpt-3.meta\n",
            "INFO:tensorflow:189100\n",
            "I0820 10:14:38.636681 140444518676352 saver.py:93] 189100\n",
            "INFO:tensorflow:Calling checkpoint listeners after saving checkpoint 3...\n",
            "I0820 10:14:38.636940 140444518676352 basic_session_run_hooks.py:641] Calling checkpoint listeners after saving checkpoint 3...\n",
            "INFO:tensorflow:Calling checkpoint listeners before saving checkpoint 5...\n",
            "I0820 10:16:07.317804 140444518676352 basic_session_run_hooks.py:629] Calling checkpoint listeners before saving checkpoint 5...\n",
            "INFO:tensorflow:Saving checkpoints for 5 into checkpoints/drums_4bar/train/model.ckpt.\n",
            "I0820 10:16:07.318099 140444518676352 basic_session_run_hooks.py:633] Saving checkpoints for 5 into checkpoints/drums_4bar/train/model.ckpt.\n",
            "INFO:tensorflow:checkpoints/drums_4bar/train/model.ckpt-5.data-00000-of-00001\n",
            "I0820 10:16:22.263727 140444518676352 saver.py:90] checkpoints/drums_4bar/train/model.ckpt-5.data-00000-of-00001\n",
            "INFO:tensorflow:143800\n",
            "I0820 10:16:22.264232 140444518676352 saver.py:93] 143800\n",
            "INFO:tensorflow:checkpoints/drums_4bar/train/model.ckpt-5.index\n",
            "I0820 10:16:22.264385 140444518676352 saver.py:90] checkpoints/drums_4bar/train/model.ckpt-5.index\n",
            "INFO:tensorflow:143800\n",
            "I0820 10:16:22.264638 140444518676352 saver.py:93] 143800\n",
            "INFO:tensorflow:checkpoints/drums_4bar/train/model.ckpt-5.meta\n",
            "I0820 10:16:22.264786 140444518676352 saver.py:90] checkpoints/drums_4bar/train/model.ckpt-5.meta\n",
            "INFO:tensorflow:189100\n",
            "I0820 10:16:22.265022 140444518676352 saver.py:93] 189100\n",
            "INFO:tensorflow:Calling checkpoint listeners after saving checkpoint 5...\n",
            "I0820 10:16:22.265301 140444518676352 basic_session_run_hooks.py:641] Calling checkpoint listeners after saving checkpoint 5...\n",
            "INFO:tensorflow:Calling checkpoint listeners before saving checkpoint 7...\n",
            "I0820 10:17:52.897686 140444518676352 basic_session_run_hooks.py:629] Calling checkpoint listeners before saving checkpoint 7...\n",
            "INFO:tensorflow:Saving checkpoints for 7 into checkpoints/drums_4bar/train/model.ckpt.\n",
            "I0820 10:17:52.898014 140444518676352 basic_session_run_hooks.py:633] Saving checkpoints for 7 into checkpoints/drums_4bar/train/model.ckpt.\n",
            "INFO:tensorflow:checkpoints/drums_4bar/train/model.ckpt-7.data-00000-of-00001\n",
            "I0820 10:18:04.424195 140444518676352 saver.py:90] checkpoints/drums_4bar/train/model.ckpt-7.data-00000-of-00001\n",
            "INFO:tensorflow:143800\n",
            "I0820 10:18:04.424598 140444518676352 saver.py:93] 143800\n",
            "INFO:tensorflow:checkpoints/drums_4bar/train/model.ckpt-7.index\n",
            "I0820 10:18:04.424715 140444518676352 saver.py:90] checkpoints/drums_4bar/train/model.ckpt-7.index\n",
            "INFO:tensorflow:143800\n",
            "I0820 10:18:04.424910 140444518676352 saver.py:93] 143800\n",
            "INFO:tensorflow:checkpoints/drums_4bar/train/model.ckpt-7.meta\n",
            "I0820 10:18:04.424989 140444518676352 saver.py:90] checkpoints/drums_4bar/train/model.ckpt-7.meta\n",
            "INFO:tensorflow:189100\n",
            "I0820 10:18:04.425152 140444518676352 saver.py:93] 189100\n",
            "INFO:tensorflow:Calling checkpoint listeners after saving checkpoint 7...\n",
            "I0820 10:18:04.425362 140444518676352 basic_session_run_hooks.py:641] Calling checkpoint listeners after saving checkpoint 7...\n",
            "INFO:tensorflow:Calling checkpoint listeners before saving checkpoint 9...\n",
            "I0820 10:19:38.447069 140444518676352 basic_session_run_hooks.py:629] Calling checkpoint listeners before saving checkpoint 9...\n",
            "INFO:tensorflow:Saving checkpoints for 9 into checkpoints/drums_4bar/train/model.ckpt.\n",
            "I0820 10:19:38.447423 140444518676352 basic_session_run_hooks.py:633] Saving checkpoints for 9 into checkpoints/drums_4bar/train/model.ckpt.\n",
            "INFO:tensorflow:checkpoints/drums_4bar/train/model.ckpt-9.data-00000-of-00001\n",
            "I0820 10:19:51.445999 140444518676352 saver.py:90] checkpoints/drums_4bar/train/model.ckpt-9.data-00000-of-00001\n",
            "INFO:tensorflow:143800\n",
            "I0820 10:19:51.446374 140444518676352 saver.py:93] 143800\n",
            "INFO:tensorflow:checkpoints/drums_4bar/train/model.ckpt-9.index\n",
            "I0820 10:19:51.446467 140444518676352 saver.py:90] checkpoints/drums_4bar/train/model.ckpt-9.index\n",
            "INFO:tensorflow:143800\n",
            "I0820 10:19:51.446612 140444518676352 saver.py:93] 143800\n",
            "INFO:tensorflow:checkpoints/drums_4bar/train/model.ckpt-9.meta\n",
            "I0820 10:19:51.446702 140444518676352 saver.py:90] checkpoints/drums_4bar/train/model.ckpt-9.meta\n",
            "INFO:tensorflow:189100\n",
            "I0820 10:19:51.446900 140444518676352 saver.py:93] 189100\n",
            "INFO:tensorflow:Calling checkpoint listeners after saving checkpoint 9...\n",
            "I0820 10:19:51.447160 140444518676352 basic_session_run_hooks.py:641] Calling checkpoint listeners after saving checkpoint 9...\n",
            "INFO:tensorflow:Calling checkpoint listeners before saving checkpoint 10...\n",
            "I0820 10:20:41.852274 140444518676352 basic_session_run_hooks.py:629] Calling checkpoint listeners before saving checkpoint 10...\n",
            "INFO:tensorflow:Saving checkpoints for 10 into checkpoints/drums_4bar/train/model.ckpt.\n",
            "I0820 10:20:41.852803 140444518676352 basic_session_run_hooks.py:633] Saving checkpoints for 10 into checkpoints/drums_4bar/train/model.ckpt.\n",
            "INFO:tensorflow:checkpoints/drums_4bar/train/model.ckpt-10.data-00000-of-00001\n",
            "I0820 10:20:54.094491 140444518676352 saver.py:90] checkpoints/drums_4bar/train/model.ckpt-10.data-00000-of-00001\n",
            "INFO:tensorflow:143800\n",
            "I0820 10:20:54.095030 140444518676352 saver.py:93] 143800\n",
            "INFO:tensorflow:checkpoints/drums_4bar/train/model.ckpt-10.index\n",
            "I0820 10:20:54.095192 140444518676352 saver.py:90] checkpoints/drums_4bar/train/model.ckpt-10.index\n",
            "INFO:tensorflow:143800\n",
            "I0820 10:20:54.095489 140444518676352 saver.py:93] 143800\n",
            "INFO:tensorflow:checkpoints/drums_4bar/train/model.ckpt-10.meta\n",
            "I0820 10:20:54.095617 140444518676352 saver.py:90] checkpoints/drums_4bar/train/model.ckpt-10.meta\n",
            "INFO:tensorflow:189100\n",
            "I0820 10:20:54.095881 140444518676352 saver.py:93] 189100\n",
            "INFO:tensorflow:Calling checkpoint listeners after saving checkpoint 10...\n",
            "I0820 10:20:54.096179 140444518676352 basic_session_run_hooks.py:641] Calling checkpoint listeners after saving checkpoint 10...\n"
          ]
        }
      ],
      "source": [
        "!python3 magenta/magenta/models/music_vae/music_vae_train.py \\\n",
        "  --config=hierdec-drums_4bar_small \\\n",
        "  --run_dir=saved/checkpoints/drums_4bar \\\n",
        "  --num_steps=10 \\\n",
        "  --mode=train"
      ]
    },
    {
      "cell_type": "markdown",
      "metadata": {},
      "source": [
        "## Generate"
      ]
    },
    {
      "cell_type": "code",
      "execution_count": null,
      "metadata": {
        "colab": {
          "base_uri": "https://localhost:8080/"
        },
        "id": "Ndyo37017Cnw",
        "outputId": "b0aa3c1a-77c1-42d5-dd5a-b46659810e6e"
      },
      "outputs": [
        {
          "name": "stdout",
          "output_type": "stream",
          "text": [
            "/usr/local/lib/python3.7/dist-packages/librosa/util/decorators.py:9: NumbaDeprecationWarning: An import was requested from a module that has moved location.\n",
            "Import requested from: 'numba.decorators', please update to use 'numba.core.decorators' or pin to Numba version 0.48.0. This alias will not be present in Numba version 0.50.0.\n",
            "  from numba.decorators import jit as optional_jit\n",
            "/usr/local/lib/python3.7/dist-packages/librosa/util/decorators.py:9: NumbaDeprecationWarning: An import was requested from a module that has moved location.\n",
            "Import of 'jit' requested from: 'numba.decorators', please update to use 'numba.core.decorators' or pin to Numba version 0.48.0. This alias will not be present in Numba version 0.50.0.\n",
            "  from numba.decorators import jit as optional_jit\n",
            "/usr/local/lib/python3.7/dist-packages/resampy/interpn.py:114: NumbaWarning: The TBB threading layer requires TBB version 2019.5 or later i.e., TBB_INTERFACE_VERSION >= 11005. Found TBB_INTERFACE_VERSION = 9107. The TBB threading layer is disabled.\n",
            "  _resample_loop_p(x, t_out, interp_win, interp_delta, num_table, scale, y)\n",
            "WARNING:tensorflow:From /usr/local/lib/python3.7/dist-packages/tensorflow/python/compat/v2_compat.py:107: disable_resource_variables (from tensorflow.python.ops.variable_scope) is deprecated and will be removed in a future version.\n",
            "Instructions for updating:\n",
            "non-resource variables are not supported in the long term\n",
            "2022-08-20 10:23:34.755883: E tensorflow/stream_executor/cuda/cuda_driver.cc:271] failed call to cuInit: CUDA_ERROR_NO_DEVICE: no CUDA-capable device is detected\n",
            "INFO:tensorflow:Loading model...\n",
            "I0820 10:23:34.760323 139780004046720 music_vae_generate.py:149] Loading model...\n",
            "INFO:tensorflow:Building MusicVAE model with BidirectionalLstmEncoder, HierarchicalLstmDecoder, and hparams:\n",
            "{'max_seq_len': 64, 'z_size': 256, 'free_bits': 48, 'max_beta': 0.2, 'beta_rate': 0.0, 'batch_size': 5, 'grad_clip': 1.0, 'clip_mode': 'global_norm', 'grad_norm_clip_to_zero': 10000, 'learning_rate': 0.001, 'decay_rate': 0.9999, 'min_learning_rate': 1e-05, 'conditional': True, 'dec_rnn_size': [256, 256], 'enc_rnn_size': [512, 512], 'dropout_keep_prob': 1.0, 'sampling_schedule': 'inverse_sigmoid', 'sampling_rate': 1000, 'use_cudnn': False, 'residual_encoder': False, 'residual_decoder': False, 'control_preprocessing_rnn_size': [256]}\n",
            "I0820 10:23:34.763440 139780004046720 base_model.py:152] Building MusicVAE model with BidirectionalLstmEncoder, HierarchicalLstmDecoder, and hparams:\n",
            "{'max_seq_len': 64, 'z_size': 256, 'free_bits': 48, 'max_beta': 0.2, 'beta_rate': 0.0, 'batch_size': 5, 'grad_clip': 1.0, 'clip_mode': 'global_norm', 'grad_norm_clip_to_zero': 10000, 'learning_rate': 0.001, 'decay_rate': 0.9999, 'min_learning_rate': 1e-05, 'conditional': True, 'dec_rnn_size': [256, 256], 'enc_rnn_size': [512, 512], 'dropout_keep_prob': 1.0, 'sampling_schedule': 'inverse_sigmoid', 'sampling_rate': 1000, 'use_cudnn': False, 'residual_encoder': False, 'residual_decoder': False, 'control_preprocessing_rnn_size': [256]}\n",
            "INFO:tensorflow:\n",
            "Encoder Cells (bidirectional):\n",
            "  units: [512, 512]\n",
            "\n",
            "I0820 10:23:34.773962 139780004046720 lstm_models.py:78] \n",
            "Encoder Cells (bidirectional):\n",
            "  units: [512, 512]\n",
            "\n",
            "WARNING:tensorflow:`tf.nn.rnn_cell.MultiRNNCell` is deprecated. This class is equivalent as `tf.keras.layers.StackedRNNCells`, and will be replaced by that in Tensorflow 2.0.\n",
            "W0820 10:23:34.788794 139780004046720 legacy_cells.py:1109] `tf.nn.rnn_cell.MultiRNNCell` is deprecated. This class is equivalent as `tf.keras.layers.StackedRNNCells`, and will be replaced by that in Tensorflow 2.0.\n",
            "WARNING:tensorflow:`tf.nn.rnn_cell.MultiRNNCell` is deprecated. This class is equivalent as `tf.keras.layers.StackedRNNCells`, and will be replaced by that in Tensorflow 2.0.\n",
            "W0820 10:23:34.802637 139780004046720 legacy_cells.py:1109] `tf.nn.rnn_cell.MultiRNNCell` is deprecated. This class is equivalent as `tf.keras.layers.StackedRNNCells`, and will be replaced by that in Tensorflow 2.0.\n",
            "WARNING:tensorflow:`tf.nn.rnn_cell.MultiRNNCell` is deprecated. This class is equivalent as `tf.keras.layers.StackedRNNCells`, and will be replaced by that in Tensorflow 2.0.\n",
            "W0820 10:23:34.815507 139780004046720 legacy_cells.py:1109] `tf.nn.rnn_cell.MultiRNNCell` is deprecated. This class is equivalent as `tf.keras.layers.StackedRNNCells`, and will be replaced by that in Tensorflow 2.0.\n",
            "WARNING:tensorflow:`tf.nn.rnn_cell.MultiRNNCell` is deprecated. This class is equivalent as `tf.keras.layers.StackedRNNCells`, and will be replaced by that in Tensorflow 2.0.\n",
            "W0820 10:23:34.829149 139780004046720 legacy_cells.py:1109] `tf.nn.rnn_cell.MultiRNNCell` is deprecated. This class is equivalent as `tf.keras.layers.StackedRNNCells`, and will be replaced by that in Tensorflow 2.0.\n",
            "INFO:tensorflow:\n",
            "Hierarchical Decoder:\n",
            "  input length: 64\n",
            "  level output lengths: [16, 4]\n",
            "\n",
            "I0820 10:23:34.829920 139780004046720 lstm_models.py:898] \n",
            "Hierarchical Decoder:\n",
            "  input length: 64\n",
            "  level output lengths: [16, 4]\n",
            "\n",
            "WARNING:tensorflow:`tf.nn.rnn_cell.MultiRNNCell` is deprecated. This class is equivalent as `tf.keras.layers.StackedRNNCells`, and will be replaced by that in Tensorflow 2.0.\n",
            "W0820 10:23:34.852482 139780004046720 legacy_cells.py:1109] `tf.nn.rnn_cell.MultiRNNCell` is deprecated. This class is equivalent as `tf.keras.layers.StackedRNNCells`, and will be replaced by that in Tensorflow 2.0.\n",
            "INFO:tensorflow:\n",
            "Decoder Cells:\n",
            "  units: [256, 256]\n",
            "\n",
            "I0820 10:23:34.853433 139780004046720 lstm_models.py:224] \n",
            "Decoder Cells:\n",
            "  units: [256, 256]\n",
            "\n",
            "WARNING:tensorflow:Setting non-training sampling schedule from inverse_sigmoid:1000.000000 to constant:1.0.\n",
            "W0820 10:23:34.853648 139780004046720 lstm_utils.py:139] Setting non-training sampling schedule from inverse_sigmoid:1000.000000 to constant:1.0.\n",
            "WARNING:tensorflow:From /usr/local/lib/python3.7/dist-packages/tensorflow/python/util/dispatch.py:1082: to_float (from tensorflow.python.ops.math_ops) is deprecated and will be removed in a future version.\n",
            "Instructions for updating:\n",
            "Use `tf.cast` instead.\n",
            "W0820 10:23:34.853905 139780004046720 deprecation.py:356] From /usr/local/lib/python3.7/dist-packages/tensorflow/python/util/dispatch.py:1082: to_float (from tensorflow.python.ops.math_ops) is deprecated and will be removed in a future version.\n",
            "Instructions for updating:\n",
            "Use `tf.cast` instead.\n",
            "WARNING:tensorflow:`tf.nn.rnn_cell.MultiRNNCell` is deprecated. This class is equivalent as `tf.keras.layers.StackedRNNCells`, and will be replaced by that in Tensorflow 2.0.\n",
            "W0820 10:23:34.884961 139780004046720 legacy_cells.py:1109] `tf.nn.rnn_cell.MultiRNNCell` is deprecated. This class is equivalent as `tf.keras.layers.StackedRNNCells`, and will be replaced by that in Tensorflow 2.0.\n",
            "/content/drive/My Drive/groove_midi/magenta/magenta/models/music_vae/lstm_utils.py:99: UserWarning: `tf.layers.dense` is deprecated and will be removed in a future version. Please use `tf.keras.layers.Dense` instead.\n",
            "  name=name),\n",
            "/content/drive/My Drive/groove_midi/magenta/magenta/contrib/rnn.py:750: UserWarning: `layer.add_variable` is deprecated and will be removed in a future version. Please use the `layer.add_weight()` method instead.\n",
            "  self._names[\"W\"], [input_size + self._num_units, self._num_units * 4])\n",
            "/content/drive/My Drive/groove_midi/magenta/magenta/contrib/rnn.py:753: UserWarning: `layer.add_variable` is deprecated and will be removed in a future version. Please use the `layer.add_weight()` method instead.\n",
            "  initializer=tf.constant_initializer(0.0))\n",
            "WARNING:tensorflow:From /content/drive/My Drive/groove_midi/magenta/magenta/contrib/rnn.py:473: bidirectional_dynamic_rnn (from tensorflow.python.ops.rnn) is deprecated and will be removed in a future version.\n",
            "Instructions for updating:\n",
            "Please use `keras.layers.Bidirectional(keras.layers.RNN(cell))`, which is equivalent to this API\n",
            "W0820 10:23:38.912804 139780004046720 deprecation.py:356] From /content/drive/My Drive/groove_midi/magenta/magenta/contrib/rnn.py:473: bidirectional_dynamic_rnn (from tensorflow.python.ops.rnn) is deprecated and will be removed in a future version.\n",
            "Instructions for updating:\n",
            "Please use `keras.layers.Bidirectional(keras.layers.RNN(cell))`, which is equivalent to this API\n",
            "WARNING:tensorflow:From /usr/local/lib/python3.7/dist-packages/tensorflow/python/ops/rnn.py:446: dynamic_rnn (from tensorflow.python.ops.rnn) is deprecated and will be removed in a future version.\n",
            "Instructions for updating:\n",
            "Please use `keras.layers.RNN(cell)`, which is equivalent to this API\n",
            "W0820 10:23:38.913294 139780004046720 deprecation.py:356] From /usr/local/lib/python3.7/dist-packages/tensorflow/python/ops/rnn.py:446: dynamic_rnn (from tensorflow.python.ops.rnn) is deprecated and will be removed in a future version.\n",
            "Instructions for updating:\n",
            "Please use `keras.layers.RNN(cell)`, which is equivalent to this API\n",
            "/content/drive/My Drive/groove_midi/magenta/magenta/models/music_vae/base_model.py:199: UserWarning: `tf.layers.dense` is deprecated and will be removed in a future version. Please use `tf.keras.layers.Dense` instead.\n",
            "  kernel_initializer=tf.random_normal_initializer(stddev=0.001))\n",
            "/content/drive/My Drive/groove_midi/magenta/magenta/models/music_vae/base_model.py:205: UserWarning: `tf.layers.dense` is deprecated and will be removed in a future version. Please use `tf.keras.layers.Dense` instead.\n",
            "  kernel_initializer=tf.random_normal_initializer(stddev=0.001))\n",
            "INFO:tensorflow:Restoring parameters from checkpoints/drums_4bar/train/model.ckpt-10\n",
            "I0820 10:23:39.410518 139780004046720 saver.py:1412] Restoring parameters from checkpoints/drums_4bar/train/model.ckpt-10\n",
            "INFO:tensorflow:Sampling...\n",
            "I0820 10:23:39.683233 139780004046720 music_vae_generate.py:169] Sampling...\n",
            "INFO:tensorflow:Outputting 5 files as `generated/hierdec-drums_4bar_small_sample_2022-08-20_102334-*-of-005.mid`...\n",
            "I0820 10:23:40.433658 139780004046720 music_vae_generate.py:179] Outputting 5 files as `generated/hierdec-drums_4bar_small_sample_2022-08-20_102334-*-of-005.mid`...\n",
            "INFO:tensorflow:Done.\n",
            "I0820 10:23:40.498532 139780004046720 music_vae_generate.py:183] Done.\n"
          ]
        }
      ],
      "source": [
        "!python3 magenta/magenta/models/music_vae/music_vae_generate.py \\\n",
        "  --config=hierdec-drums_4bar_small \\\n",
        "  --checkpoint_file=saved/checkpoints/drums_4bar/train/model.ckpt-10 \\\n",
        "  --mode=sample \\\n",
        "  --num_outputs=5 \\\n",
        "  --output_dir=generated"
      ]
    },
    {
      "cell_type": "markdown",
      "metadata": {},
      "source": [
        "## Debug"
      ]
    },
    {
      "cell_type": "code",
      "execution_count": null,
      "metadata": {
        "id": "mUCaenFGyrHI"
      },
      "outputs": [],
      "source": [
        "import collections\n",
        "from magenta.common import merge_hparams\n",
        "from magenta.contrib import training as contrib_training\n",
        "from magenta.models.music_vae import configs\n",
        "from magenta.models.music_vae import data\n",
        "from magenta.models.music_vae import lstm_models\n",
        "from magenta.models.music_vae import music_vae_train\n",
        "from magenta.models.music_vae.base_model import MusicVAE\n",
        "from magenta.models.music_vae.trained_model import TrainedModel\n",
        "import tensorflow.compat.v1 as tf\n",
        "import note_seq"
      ]
    },
    {
      "cell_type": "code",
      "execution_count": null,
      "metadata": {
        "id": "7ID4DCDjIBs_"
      },
      "outputs": [],
      "source": [
        "HParams = contrib_training.HParams\n",
        "\n",
        "class Config(collections.namedtuple(\n",
        "    'Config',\n",
        "    ['model', 'hparams', 'note_sequence_augmenter', 'data_converter',\n",
        "     'train_examples_path', 'eval_examples_path', 'tfds_name'])):\n",
        "\n",
        "  def values(self):\n",
        "    return self._asdict()\n",
        "\n",
        "Config.__new__.__defaults__ = (None,) * len(Config._fields)\n",
        "\n",
        "CONFIG_MAP = configs.CONFIG_MAP\n",
        "\n",
        "CONFIG_MAP['hierdec-drums_4bar_small'] = Config(\n",
        "    model=MusicVAE(\n",
        "        lstm_models.BidirectionalLstmEncoder(),\n",
        "        lstm_models.HierarchicalLstmDecoder(\n",
        "            lstm_models.CategoricalLstmDecoder(),\n",
        "            level_lengths=[16, 4],\n",
        "            disable_autoregression=True)),\n",
        "    hparams=merge_hparams(\n",
        "        lstm_models.get_default_hparams(),\n",
        "        HParams(\n",
        "            batch_size=512,\n",
        "            max_seq_len=64,  # 4 bars w/ 16 steps per bar\n",
        "            z_size=256,\n",
        "            enc_rnn_size=[512, 512],\n",
        "            dec_rnn_size=[256, 256],\n",
        "            free_bits=48,\n",
        "            max_beta=0.2,\n",
        "            sampling_schedule='inverse_sigmoid',\n",
        "            sampling_rate=1000,\n",
        "        )),\n",
        "    note_sequence_augmenter=None,\n",
        "    data_converter=data.DrumsConverter(\n",
        "        max_bars=100,  # Truncate long drum sequences before slicing.\n",
        "        slice_bars=4,\n",
        "        steps_per_quarter=4,\n",
        "        roll_input=True),\n",
        "    train_examples_path=tfrec_file.__str__(),\n",
        ")"
      ]
    },
    {
      "cell_type": "markdown",
      "metadata": {},
      "source": [
        "### Print Input Tensors"
      ]
    },
    {
      "cell_type": "code",
      "execution_count": null,
      "metadata": {},
      "outputs": [],
      "source": [
        "tf_file_reader = tf.data.TFRecordDataset\n",
        "config = CONFIG_MAP['hierdec-drums_4bar_small']\n",
        "\n",
        "def dataset_fn():\n",
        "    return data.get_dataset(\n",
        "        config,\n",
        "        tf_file_reader=tf_file_reader,\n",
        "        is_training=True)\n",
        "\n",
        "input_tensors = music_vae_train._get_input_tensors(dataset_fn(), config)"
      ]
    },
    {
      "cell_type": "code",
      "execution_count": null,
      "metadata": {
        "colab": {
          "base_uri": "https://localhost:8080/"
        },
        "id": "D5OLkAj8laJq",
        "outputId": "f9d1b8b7-a3f9-4e8d-f9a0-6c5a69137f20"
      },
      "outputs": [
        {
          "data": {
            "text/plain": [
              "dict_keys(['input_sequence', 'output_sequence', 'control_sequence', 'sequence_length'])"
            ]
          },
          "metadata": {},
          "output_type": "display_data"
        }
      ],
      "source": [
        "input_tensors.keys()"
      ]
    },
    {
      "cell_type": "code",
      "execution_count": null,
      "metadata": {
        "colab": {
          "base_uri": "https://localhost:8080/"
        },
        "id": "pXxfzYOgJUry",
        "outputId": "b8508004-16a0-488c-c209-aa7c83d796de"
      },
      "outputs": [
        {
          "name": "stdout",
          "output_type": "stream",
          "text": [
            "(512, 64, 10)\n",
            "tf.Tensor(\n",
            "[[ True False  True False False False False False False False]\n",
            " [False False False False False False False False False  True]\n",
            " [False False  True False False False False False False False]\n",
            " [False False False False False False False False False  True]\n",
            " [ True  True False False False False False False False False]\n",
            " [False False  True False False False False False False False]\n",
            " [False False  True False False False False False False False]\n",
            " [False False False False False False False False False  True]\n",
            " [ True False False False False False False False False False]\n",
            " [False False  True False False False False False False False]\n",
            " [False  True False False False False False False False False]\n",
            " [False False False False False False False False False  True]\n",
            " [ True False False  True False False False False False False]\n",
            " [False  True False False False False False False False False]\n",
            " [False  True False False False False False False False False]\n",
            " [False False False False False False False False False  True]\n",
            " [ True False  True False False False False False False False]\n",
            " [False False False False False False False False False  True]\n",
            " [False False False False False False False False False  True]\n",
            " [False False  True False False False False False False False]\n",
            " [ True  True False False False False False False False False]\n",
            " [False False  True False False False False False False False]\n",
            " [False False False False False False False False False  True]\n",
            " [False False  True False False False False False False False]\n",
            " [ True False False False False False False False False False]\n",
            " [False False  True False False False False False False False]\n",
            " [False False False False False False False False False  True]\n",
            " [False  True False False False False False False False False]\n",
            " [ True  True False  True False False False False False False]\n",
            " [False False False False False False False False False  True]\n",
            " [False  True False False False False False False False False]\n",
            " [False False False  True False False False False False False]\n",
            " [ True False  True False False False False False False False]\n",
            " [False False False False False False False False False  True]\n",
            " [False False  True False False False False False False False]\n",
            " [False False False False False False False False False  True]\n",
            " [ True  True False False False False False False False False]\n",
            " [False False  True False False False False False False False]\n",
            " [False False False False False False False False False  True]\n",
            " [False False  True False False False False False False False]\n",
            " [ True False False False False False False False False False]\n",
            " [False  True False False False False False False False False]\n",
            " [False  True False False False False False False False False]\n",
            " [False False False False False False False False False  True]\n",
            " [ True  True False False False False False False False False]\n",
            " [False  True False False False False False False False False]\n",
            " [False  True False False False False False False False False]\n",
            " [False False False False False False False False False  True]\n",
            " [ True False False  True False False False False False False]\n",
            " [False False False False False False False False False  True]\n",
            " [False False  True False False False False False False False]\n",
            " [False False False False False False False False False  True]\n",
            " [ True  True False False False False False False False False]\n",
            " [False False  True False False False False False False False]\n",
            " [False False  True False False False False False False False]\n",
            " [False False False False False False False False False  True]\n",
            " [ True False False False False False False False False False]\n",
            " [False False  True False False False False False False False]\n",
            " [False  True False False False False False False False False]\n",
            " [False False False False False False False False False  True]\n",
            " [ True  True False  True False False False False False False]\n",
            " [False False False False False False False False False  True]\n",
            " [False  True False  True False False False False False False]\n",
            " [False False False False False False False False False  True]], shape=(64, 10), dtype=bool)\n"
          ]
        }
      ],
      "source": [
        "print(input_tensors['input_sequence'].shape)\n",
        "print(input_tensors['input_sequence'][0])"
      ]
    },
    {
      "cell_type": "code",
      "execution_count": null,
      "metadata": {
        "colab": {
          "base_uri": "https://localhost:8080/"
        },
        "id": "ZFU1Ty_qJaWw",
        "outputId": "dd10f39b-3b2d-4ef7-f862-68834b74450d"
      },
      "outputs": [
        {
          "name": "stdout",
          "output_type": "stream",
          "text": [
            "(512, 64, 512)\n",
            "tf.Tensor(\n",
            "[False False False False False  True False False False False False False\n",
            " False False False False False False False False False False False False\n",
            " False False False False False False False False False False False False\n",
            " False False False False False False False False False False False False\n",
            " False False False False False False False False False False False False\n",
            " False False False False False False False False False False False False\n",
            " False False False False False False False False False False False False\n",
            " False False False False False False False False False False False False\n",
            " False False False False False False False False False False False False\n",
            " False False False False False False False False False False False False\n",
            " False False False False False False False False False False False False\n",
            " False False False False False False False False False False False False\n",
            " False False False False False False False False False False False False\n",
            " False False False False False False False False False False False False\n",
            " False False False False False False False False False False False False\n",
            " False False False False False False False False False False False False\n",
            " False False False False False False False False False False False False\n",
            " False False False False False False False False False False False False\n",
            " False False False False False False False False False False False False\n",
            " False False False False False False False False False False False False\n",
            " False False False False False False False False False False False False\n",
            " False False False False False False False False False False False False\n",
            " False False False False False False False False False False False False\n",
            " False False False False False False False False False False False False\n",
            " False False False False False False False False False False False False\n",
            " False False False False False False False False False False False False\n",
            " False False False False False False False False False False False False\n",
            " False False False False False False False False False False False False\n",
            " False False False False False False False False False False False False\n",
            " False False False False False False False False False False False False\n",
            " False False False False False False False False False False False False\n",
            " False False False False False False False False False False False False\n",
            " False False False False False False False False False False False False\n",
            " False False False False False False False False False False False False\n",
            " False False False False False False False False False False False False\n",
            " False False False False False False False False False False False False\n",
            " False False False False False False False False False False False False\n",
            " False False False False False False False False False False False False\n",
            " False False False False False False False False False False False False\n",
            " False False False False False False False False False False False False\n",
            " False False False False False False False False False False False False\n",
            " False False False False False False False False False False False False\n",
            " False False False False False False False False], shape=(512,), dtype=bool)\n"
          ]
        }
      ],
      "source": [
        "print(input_tensors['output_sequence'].shape)\n",
        "print(input_tensors['output_sequence'][0][0])"
      ]
    },
    {
      "cell_type": "code",
      "execution_count": null,
      "metadata": {
        "colab": {
          "base_uri": "https://localhost:8080/"
        },
        "id": "sb-ZK9pQJlCf",
        "outputId": "909ca278-c77c-496b-ed98-d519e24106c9"
      },
      "outputs": [
        {
          "name": "stdout",
          "output_type": "stream",
          "text": [
            "None\n"
          ]
        }
      ],
      "source": [
        "print(input_tensors['control_sequence'])"
      ]
    },
    {
      "cell_type": "code",
      "execution_count": null,
      "metadata": {
        "colab": {
          "base_uri": "https://localhost:8080/"
        },
        "id": "SEQOWdiUJqF2",
        "outputId": "1c7daecb-a067-402e-e617-36c49a0eca5e"
      },
      "outputs": [
        {
          "name": "stdout",
          "output_type": "stream",
          "text": [
            "tf.Tensor(\n",
            "[64 64 64 64 64 64 64 64 64 64 64 64 64 64 64 64 64 64 64 64 64 64 64 64\n",
            " 64 64 64 64 64 64 64 64 64 64 64 64 64 64 64 64 64 64 64 64 64 64 64 64\n",
            " 64 64 64 64 64 64 64 64 64 64 64 64 64 64 64 64 64 64 64 64 64 64 64 64\n",
            " 64 64 64 64 64 64 64 64 64 64 64 64 64 64 64 64 64 64 64 64 64 64 64 64\n",
            " 64 64 64 64 64 64 64 64 64 64 64 64 64 64 64 64 64 64 64 64 64 64 64 64\n",
            " 64 64 64 64 64 64 64 64 64 64 64 64 64 64 64 64 64 64 64 64 64 64 64 64\n",
            " 64 64 64 64 64 64 64 64 64 64 64 64 64 64 64 64 64 64 64 64 64 64 64 64\n",
            " 64 64 64 64 64 64 64 64 64 64 64 64 64 64 64 64 64 64 64 64 64 64 64 64\n",
            " 64 64 64 64 64 64 64 64 64 64 64 64 64 64 64 64 64 64 64 64 64 64 64 64\n",
            " 64 64 64 64 64 64 64 64 64 64 64 64 64 64 64 64 64 64 64 64 64 64 64 64\n",
            " 64 64 64 64 64 64 64 64 64 64 64 64 64 64 64 64 64 64 64 64 64 64 64 64\n",
            " 64 64 64 64 64 64 64 64 64 64 64 64 64 64 64 64 64 64 64 64 64 64 64 64\n",
            " 64 64 64 64 64 64 64 64 64 64 64 64 64 64 64 64 64 64 64 64 64 64 64 64\n",
            " 64 64 64 64 64 64 64 64 64 64 64 64 64 64 64 64 64 64 64 64 64 64 64 64\n",
            " 64 64 64 64 64 64 64 64 64 64 64 64 64 64 64 64 64 64 64 64 64 64 64 64\n",
            " 64 64 64 64 64 64 64 64 64 64 64 64 64 64 64 64 64 64 64 64 64 64 64 64\n",
            " 64 64 64 64 64 64 64 64 64 64 64 64 64 64 64 64 64 64 64 64 64 64 64 64\n",
            " 64 64 64 64 64 64 64 64 64 64 64 64 64 64 64 64 64 64 64 64 64 64 64 64\n",
            " 64 64 64 64 64 64 64 64 64 64 64 64 64 64 64 64 64 64 64 64 64 64 64 64\n",
            " 64 64 64 64 64 64 64 64 64 64 64 64 64 64 64 64 64 64 64 64 64 64 64 64\n",
            " 64 64 64 64 64 64 64 64 64 64 64 64 64 64 64 64 64 64 64 64 64 64 64 64\n",
            " 64 64 64 64 64 64 64 64], shape=(512,), dtype=int32)\n"
          ]
        }
      ],
      "source": [
        "print(input_tensors['sequence_length'])"
      ]
    },
    {
      "cell_type": "markdown",
      "metadata": {},
      "source": [
        "### Print Encoder Output"
      ]
    },
    {
      "cell_type": "code",
      "execution_count": null,
      "metadata": {
        "colab": {
          "base_uri": "https://localhost:8080/"
        },
        "id": "MgQuqnu9YQRK",
        "outputId": "a074e0d1-2054-4e67-d149-d89d353f76d4"
      },
      "outputs": [
        {
          "name": "stdout",
          "output_type": "stream",
          "text": [
            "<magenta.models.music_vae.lstm_models.BidirectionalLstmEncoder object at 0x7f0f93900450>\n",
            "<magenta.models.music_vae.lstm_models.HierarchicalLstmDecoder object at 0x7f0f9390ac50>\n"
          ]
        }
      ],
      "source": [
        "model = config.model\n",
        "model.build(config.hparams,\n",
        "            config.data_converter.output_depth,\n",
        "            is_training=True)\n",
        "print(model._encoder)\n",
        "print(model._decoder)"
      ]
    },
    {
      "cell_type": "code",
      "execution_count": null,
      "metadata": {},
      "outputs": [],
      "source": [
        "def encode(sequence, sequence_length, control_sequence=None):\n",
        "\n",
        "    hparams = config.hparams\n",
        "    z_size = hparams.z_size\n",
        "\n",
        "    sequence = tf.to_float(sequence)\n",
        "    if control_sequence is not None:\n",
        "        control_sequence = tf.to_float(control_sequence)\n",
        "        sequence = tf.concat([sequence, control_sequence], axis=-1)\n",
        "    encoder_output = model.encoder.encode(sequence, sequence_length)\n",
        "\n",
        "    mu = tf.layers.dense(\n",
        "        encoder_output,\n",
        "        z_size,\n",
        "        name='encoder/mu',\n",
        "        kernel_initializer=tf.random_normal_initializer(stddev=0.001))\n",
        "    sigma = tf.layers.dense(\n",
        "        encoder_output,\n",
        "        z_size,\n",
        "        activation=tf.nn.softplus,\n",
        "        name='encoder/sigma',\n",
        "        kernel_initializer=tf.random_normal_initializer(stddev=0.001))\n",
        "\n",
        "    return mu, sigma"
      ]
    },
    {
      "cell_type": "code",
      "execution_count": null,
      "metadata": {
        "id": "7ID4DCDjIBs_"
      },
      "outputs": [],
      "source": [
        "input_sequence = input_tensors['input_sequence']\n",
        "sequence_length = input_tensors['sequence_length']\n",
        "mu, sigma = encode(input_sequence, sequence_length)"
      ]
    },
    {
      "cell_type": "code",
      "execution_count": null,
      "metadata": {
        "colab": {
          "base_uri": "https://localhost:8080/"
        },
        "id": "VqO7k0AXV2UV",
        "outputId": "791da65a-f4e3-498b-e0fa-d68c6c23b60a"
      },
      "outputs": [
        {
          "data": {
            "text/plain": [
              "<tf.Tensor: shape=(512, 256), dtype=float32, numpy=\n",
              "array([[ 3.5985588e-04,  3.8989724e-04, -1.6418722e-05, ...,\n",
              "        -6.8864450e-05,  1.0071536e-04,  4.9026031e-04],\n",
              "       [ 8.6927379e-04,  5.5203756e-04, -2.2198050e-04, ...,\n",
              "         1.7228586e-04, -5.6761462e-04, -5.9401459e-04],\n",
              "       [ 3.4629149e-04,  2.4729094e-04,  6.9202331e-05, ...,\n",
              "         1.9021984e-04,  4.2038097e-05,  3.0057502e-04],\n",
              "       ...,\n",
              "       [ 6.5475103e-04,  4.4984886e-04, -2.8081797e-04, ...,\n",
              "        -3.6981446e-04, -2.6055065e-04,  5.4954039e-04],\n",
              "       [ 5.8174646e-04,  4.9551873e-04,  5.5557757e-07, ...,\n",
              "         6.3289778e-04, -7.1067177e-04, -1.1163799e-03],\n",
              "       [ 2.0881589e-04,  3.7205539e-04, -1.8555974e-04, ...,\n",
              "        -7.9960830e-04, -8.8741077e-04,  1.4579445e-03]], dtype=float32)>"
            ]
          },
          "metadata": {},
          "output_type": "display_data"
        }
      ],
      "source": [
        "mu"
      ]
    },
    {
      "cell_type": "code",
      "execution_count": null,
      "metadata": {
        "colab": {
          "base_uri": "https://localhost:8080/"
        },
        "id": "SEl18HfvWonb",
        "outputId": "b7d3ed2f-2c04-4790-ebb9-f57ec779a5dc"
      },
      "outputs": [
        {
          "data": {
            "text/plain": [
              "<tf.Tensor: shape=(512, 256), dtype=float32, numpy=\n",
              "array([[0.6930088 , 0.69302344, 0.69288254, ..., 0.6932787 , 0.6929438 ,\n",
              "        0.69354165],\n",
              "       [0.692941  , 0.6932618 , 0.6928269 , ..., 0.69337744, 0.6930389 ,\n",
              "        0.6931819 ],\n",
              "       [0.69289094, 0.69286317, 0.69311476, ..., 0.6930538 , 0.69307935,\n",
              "        0.69363165],\n",
              "       ...,\n",
              "       [0.6929597 , 0.69288903, 0.6928437 , ..., 0.69341576, 0.69294107,\n",
              "        0.6936339 ],\n",
              "       [0.6930789 , 0.693032  , 0.69323415, ..., 0.6928626 , 0.6933422 ,\n",
              "        0.69322896],\n",
              "       [0.69316   , 0.692927  , 0.69258964, ..., 0.693778  , 0.6930011 ,\n",
              "        0.69339   ]], dtype=float32)>"
            ]
          },
          "metadata": {},
          "output_type": "display_data"
        }
      ],
      "source": [
        "sigma"
      ]
    },
    {
      "cell_type": "markdown",
      "metadata": {},
      "source": [
        "### Plot MusicVAE Output"
      ]
    },
    {
      "cell_type": "code",
      "execution_count": null,
      "metadata": {},
      "outputs": [],
      "source": [
        "checkpoint_file = root_path/\"saved/checkpoints/drums_4bar/train/model.ckpt-10\"\n",
        "num_outputs = 5\n",
        "\n",
        "config.data_converter.max_tensors_per_item = None\n",
        "checkpoint_dir_or_path = os.path.expanduser(checkpoint_file)\n",
        "\n",
        "model = TrainedModel(\n",
        "    config, batch_size=num_outputs,\n",
        "    checkpoint_dir_or_path=checkpoint_dir_or_path)"
      ]
    },
    {
      "cell_type": "code",
      "execution_count": null,
      "metadata": {
        "colab": {
          "base_uri": "https://localhost:8080/",
          "height": 1000
        },
        "id": "AH_frQ0CRUkC",
        "outputId": "5d4c78e9-9cac-4255-beb1-46ec39ed3ffc"
      },
      "outputs": [
        {
          "data": {
            "application/javascript": "\n(function(root) {\n  function now() {\n    return new Date();\n  }\n\n  var force = true;\n\n  if (typeof root._bokeh_onload_callbacks === \"undefined\" || force === true) {\n    root._bokeh_onload_callbacks = [];\n    root._bokeh_is_loading = undefined;\n  }\n\n  var JS_MIME_TYPE = 'application/javascript';\n  var HTML_MIME_TYPE = 'text/html';\n  var EXEC_MIME_TYPE = 'application/vnd.bokehjs_exec.v0+json';\n  var CLASS_NAME = 'output_bokeh rendered_html';\n\n  /**\n   * Render data to the DOM node\n   */\n  function render(props, node) {\n    var script = document.createElement(\"script\");\n    node.appendChild(script);\n  }\n\n  /**\n   * Handle when an output is cleared or removed\n   */\n  function handleClearOutput(event, handle) {\n    var cell = handle.cell;\n\n    var id = cell.output_area._bokeh_element_id;\n    var server_id = cell.output_area._bokeh_server_id;\n    // Clean up Bokeh references\n    if (id != null && id in Bokeh.index) {\n      Bokeh.index[id].model.document.clear();\n      delete Bokeh.index[id];\n    }\n\n    if (server_id !== undefined) {\n      // Clean up Bokeh references\n      var cmd = \"from bokeh.io.state import curstate; print(curstate().uuid_to_server['\" + server_id + \"'].get_sessions()[0].document.roots[0]._id)\";\n      cell.notebook.kernel.execute(cmd, {\n        iopub: {\n          output: function(msg) {\n            var id = msg.content.text.trim();\n            if (id in Bokeh.index) {\n              Bokeh.index[id].model.document.clear();\n              delete Bokeh.index[id];\n            }\n          }\n        }\n      });\n      // Destroy server and session\n      var cmd = \"import bokeh.io.notebook as ion; ion.destroy_server('\" + server_id + \"')\";\n      cell.notebook.kernel.execute(cmd);\n    }\n  }\n\n  /**\n   * Handle when a new output is added\n   */\n  function handleAddOutput(event, handle) {\n    var output_area = handle.output_area;\n    var output = handle.output;\n\n    // limit handleAddOutput to display_data with EXEC_MIME_TYPE content only\n    if ((output.output_type != \"display_data\") || (!Object.prototype.hasOwnProperty.call(output.data, EXEC_MIME_TYPE))) {\n      return\n    }\n\n    var toinsert = output_area.element.find(\".\" + CLASS_NAME.split(' ')[0]);\n\n    if (output.metadata[EXEC_MIME_TYPE][\"id\"] !== undefined) {\n      toinsert[toinsert.length - 1].firstChild.textContent = output.data[JS_MIME_TYPE];\n      // store reference to embed id on output_area\n      output_area._bokeh_element_id = output.metadata[EXEC_MIME_TYPE][\"id\"];\n    }\n    if (output.metadata[EXEC_MIME_TYPE][\"server_id\"] !== undefined) {\n      var bk_div = document.createElement(\"div\");\n      bk_div.innerHTML = output.data[HTML_MIME_TYPE];\n      var script_attrs = bk_div.children[0].attributes;\n      for (var i = 0; i < script_attrs.length; i++) {\n        toinsert[toinsert.length - 1].firstChild.setAttribute(script_attrs[i].name, script_attrs[i].value);\n        toinsert[toinsert.length - 1].firstChild.textContent = bk_div.children[0].textContent\n      }\n      // store reference to server id on output_area\n      output_area._bokeh_server_id = output.metadata[EXEC_MIME_TYPE][\"server_id\"];\n    }\n  }\n\n  function register_renderer(events, OutputArea) {\n\n    function append_mime(data, metadata, element) {\n      // create a DOM node to render to\n      var toinsert = this.create_output_subarea(\n        metadata,\n        CLASS_NAME,\n        EXEC_MIME_TYPE\n      );\n      this.keyboard_manager.register_events(toinsert);\n      // Render to node\n      var props = {data: data, metadata: metadata[EXEC_MIME_TYPE]};\n      render(props, toinsert[toinsert.length - 1]);\n      element.append(toinsert);\n      return toinsert\n    }\n\n    /* Handle when an output is cleared or removed */\n    events.on('clear_output.CodeCell', handleClearOutput);\n    events.on('delete.Cell', handleClearOutput);\n\n    /* Handle when a new output is added */\n    events.on('output_added.OutputArea', handleAddOutput);\n\n    /**\n     * Register the mime type and append_mime function with output_area\n     */\n    OutputArea.prototype.register_mime_type(EXEC_MIME_TYPE, append_mime, {\n      /* Is output safe? */\n      safe: true,\n      /* Index of renderer in `output_area.display_order` */\n      index: 0\n    });\n  }\n\n  // register the mime type if in Jupyter Notebook environment and previously unregistered\n  if (root.Jupyter !== undefined) {\n    var events = require('base/js/events');\n    var OutputArea = require('notebook/js/outputarea').OutputArea;\n\n    if (OutputArea.prototype.mime_types().indexOf(EXEC_MIME_TYPE) == -1) {\n      register_renderer(events, OutputArea);\n    }\n  }\n\n  \n  if (typeof (root._bokeh_timeout) === \"undefined\" || force === true) {\n    root._bokeh_timeout = Date.now() + 5000;\n    root._bokeh_failed_load = false;\n  }\n\n  var NB_LOAD_WARNING = {'data': {'text/html':\n     \"<div style='background-color: #fdd'>\\n\"+\n     \"<p>\\n\"+\n     \"BokehJS does not appear to have successfully loaded. If loading BokehJS from CDN, this \\n\"+\n     \"may be due to a slow or bad network connection. Possible fixes:\\n\"+\n     \"</p>\\n\"+\n     \"<ul>\\n\"+\n     \"<li>re-rerun `output_notebook()` to attempt to load from CDN again, or</li>\\n\"+\n     \"<li>use INLINE resources instead, as so:</li>\\n\"+\n     \"</ul>\\n\"+\n     \"<code>\\n\"+\n     \"from bokeh.resources import INLINE\\n\"+\n     \"output_notebook(resources=INLINE)\\n\"+\n     \"</code>\\n\"+\n     \"</div>\"}};\n\n  function display_loaded() {\n    var el = document.getElementById(null);\n    if (el != null) {\n      el.textContent = \"BokehJS is loading...\";\n    }\n    if (root.Bokeh !== undefined) {\n      if (el != null) {\n        el.textContent = \"BokehJS \" + root.Bokeh.version + \" successfully loaded.\";\n      }\n    } else if (Date.now() < root._bokeh_timeout) {\n      setTimeout(display_loaded, 100)\n    }\n  }\n\n\n  function run_callbacks() {\n    try {\n      root._bokeh_onload_callbacks.forEach(function(callback) {\n        if (callback != null)\n          callback();\n      });\n    } finally {\n      delete root._bokeh_onload_callbacks\n    }\n    console.debug(\"Bokeh: all callbacks have finished\");\n  }\n\n  function load_libs(css_urls, js_urls, callback) {\n    if (css_urls == null) css_urls = [];\n    if (js_urls == null) js_urls = [];\n\n    root._bokeh_onload_callbacks.push(callback);\n    if (root._bokeh_is_loading > 0) {\n      console.debug(\"Bokeh: BokehJS is being loaded, scheduling callback at\", now());\n      return null;\n    }\n    if (js_urls == null || js_urls.length === 0) {\n      run_callbacks();\n      return null;\n    }\n    console.debug(\"Bokeh: BokehJS not loaded, scheduling load and callback at\", now());\n    root._bokeh_is_loading = css_urls.length + js_urls.length;\n\n    function on_load() {\n      root._bokeh_is_loading--;\n      if (root._bokeh_is_loading === 0) {\n        console.debug(\"Bokeh: all BokehJS libraries/stylesheets loaded\");\n        run_callbacks()\n      }\n    }\n\n    function on_error(url) {\n      console.error(\"failed to load \" + url);\n    }\n\n    for (let i = 0; i < css_urls.length; i++) {\n      const url = css_urls[i];\n      const element = document.createElement(\"link\");\n      element.onload = on_load;\n      element.onerror = on_error.bind(null, url);\n      element.rel = \"stylesheet\";\n      element.type = \"text/css\";\n      element.href = url;\n      console.debug(\"Bokeh: injecting link tag for BokehJS stylesheet: \", url);\n      document.body.appendChild(element);\n    }\n\n    const hashes = {\"https://cdn.bokeh.org/bokeh/release/bokeh-2.3.3.min.js\": \"dM3QQsP+wXdHg42wTqW85BjZQdLNNIXqlPw/BgKoExPmTG7ZLML4EGqLMfqHT6ON\", \"https://cdn.bokeh.org/bokeh/release/bokeh-tables-2.3.3.min.js\": \"8x57I4YuIfu8XyZfFo0XVr2WAT8EK4rh/uDe3wF7YuW2FNUSNEpJbsPaB1nJ2fz2\", \"https://cdn.bokeh.org/bokeh/release/bokeh-widgets-2.3.3.min.js\": \"3QTqdz9LyAm2i0sG5XTePsHec3UHWwVsrOL68SYRoAXsafvfAyqtQ+h440+qIBhS\"};\n\n    for (let i = 0; i < js_urls.length; i++) {\n      const url = js_urls[i];\n      const element = document.createElement('script');\n      element.onload = on_load;\n      element.onerror = on_error.bind(null, url);\n      element.async = false;\n      element.src = url;\n      if (url in hashes) {\n        element.crossOrigin = \"anonymous\";\n        element.integrity = \"sha384-\" + hashes[url];\n      }\n      console.debug(\"Bokeh: injecting script tag for BokehJS library: \", url);\n      document.head.appendChild(element);\n    }\n  };\n\n  function inject_raw_css(css) {\n    const element = document.createElement(\"style\");\n    element.appendChild(document.createTextNode(css));\n    document.body.appendChild(element);\n  }\n\n  \n  var js_urls = [\"https://cdn.bokeh.org/bokeh/release/bokeh-2.3.3.min.js\", \"https://cdn.bokeh.org/bokeh/release/bokeh-widgets-2.3.3.min.js\", \"https://cdn.bokeh.org/bokeh/release/bokeh-tables-2.3.3.min.js\"];\n  var css_urls = [];\n  \n\n  var inline_js = [\n    function(Bokeh) {\n      Bokeh.set_log_level(\"info\");\n    },\n    function(Bokeh) {\n    \n    \n    }\n  ];\n\n  function run_inline_js() {\n    \n    if (root.Bokeh !== undefined || force === true) {\n      \n    for (var i = 0; i < inline_js.length; i++) {\n      inline_js[i].call(root, root.Bokeh);\n    }\n    } else if (Date.now() < root._bokeh_timeout) {\n      setTimeout(run_inline_js, 100);\n    } else if (!root._bokeh_failed_load) {\n      console.log(\"Bokeh: BokehJS failed to load within specified timeout.\");\n      root._bokeh_failed_load = true;\n    } else if (force !== true) {\n      var cell = $(document.getElementById(null)).parents('.cell').data().cell;\n      cell.output_area.append_execute_result(NB_LOAD_WARNING)\n    }\n\n  }\n\n  if (root._bokeh_is_loading === 0) {\n    console.debug(\"Bokeh: BokehJS loaded, going straight to plotting\");\n    run_inline_js();\n  } else {\n    load_libs(css_urls, js_urls, function() {\n      console.debug(\"Bokeh: BokehJS plotting callback run at\", now());\n      run_inline_js();\n    });\n  }\n}(window));",
            "application/vnd.bokehjs_load.v0+json": ""
          },
          "metadata": {},
          "output_type": "display_data"
        },
        {
          "data": {
            "text/html": [
              "\n",
              "\n",
              "\n",
              "\n",
              "\n",
              "\n",
              "  <div class=\"bk-root\" id=\"d4989931-9a34-405c-bc16-7dd2ffb195c7\" data-root-id=\"1800\"></div>\n"
            ]
          },
          "metadata": {},
          "output_type": "display_data"
        },
        {
          "data": {
            "application/javascript": "(function(root) {\n  function embed_document(root) {\n    \n  var docs_json = {\"18ff3df1-224b-4aa6-8ab1-5a74c54c4673\":{\"defs\":[],\"roots\":{\"references\":[{\"attributes\":{\"below\":[{\"id\":\"1809\"}],\"center\":[{\"id\":\"1812\"},{\"id\":\"1816\"}],\"height\":200,\"left\":[{\"id\":\"1813\"}],\"renderers\":[{\"id\":\"1836\"}],\"title\":{\"id\":\"1839\"},\"toolbar\":{\"id\":\"1823\"},\"width\":500,\"x_range\":{\"id\":\"1801\"},\"x_scale\":{\"id\":\"1805\"},\"y_range\":{\"id\":\"1803\"},\"y_scale\":{\"id\":\"1807\"}},\"id\":\"1800\",\"subtype\":\"Figure\",\"type\":\"Plot\"},{\"attributes\":{},\"id\":\"1839\",\"type\":\"Title\"},{\"attributes\":{\"data_source\":{\"id\":\"1832\"},\"glyph\":{\"id\":\"1834\"},\"hover_glyph\":null,\"muted_glyph\":null,\"nonselection_glyph\":{\"id\":\"1835\"},\"view\":{\"id\":\"1837\"}},\"id\":\"1836\",\"type\":\"GlyphRenderer\"},{\"attributes\":{},\"id\":\"1846\",\"type\":\"Selection\"},{\"attributes\":{\"bottom\":{\"field\":\"bottom\"},\"fill_alpha\":{\"field\":\"fill_alpha\"},\"fill_color\":{\"value\":\"#d53e4f\"},\"left\":{\"field\":\"start_time\"},\"right\":{\"field\":\"end_time\"},\"top\":{\"field\":\"top\"}},\"id\":\"1834\",\"type\":\"Quad\"},{\"attributes\":{\"source\":{\"id\":\"1832\"}},\"id\":\"1837\",\"type\":\"CDSView\"},{\"attributes\":{},\"id\":\"1845\",\"type\":\"UnionRenderers\"},{\"attributes\":{\"bottom_units\":\"screen\",\"fill_alpha\":0.5,\"fill_color\":\"lightgrey\",\"left_units\":\"screen\",\"level\":\"overlay\",\"line_alpha\":1.0,\"line_color\":\"black\",\"line_dash\":[4,4],\"line_width\":2,\"right_units\":\"screen\",\"syncable\":false,\"top_units\":\"screen\"},\"id\":\"1822\",\"type\":\"BoxAnnotation\"},{\"attributes\":{\"active_multi\":null,\"tools\":[{\"id\":\"1817\"},{\"id\":\"1818\"},{\"id\":\"1819\"},{\"id\":\"1820\"},{\"id\":\"1821\"}]},\"id\":\"1823\",\"type\":\"Toolbar\"},{\"attributes\":{},\"id\":\"1810\",\"type\":\"BasicTicker\"},{\"attributes\":{\"callback\":null,\"tooltips\":[[\"pitch\",\"@pitch\"],[\"program\",\"@program\"],[\"velo\",\"@velocity\"],[\"duration\",\"@duration\"],[\"start_time\",\"@start_time\"],[\"end_time\",\"@end_time\"],[\"velocity\",\"@velocity\"],[\"fill_alpha\",\"@fill_alpha\"]]},\"id\":\"1817\",\"type\":\"HoverTool\"},{\"attributes\":{},\"id\":\"1803\",\"type\":\"DataRange1d\"},{\"attributes\":{},\"id\":\"1801\",\"type\":\"DataRange1d\"},{\"attributes\":{},\"id\":\"1818\",\"type\":\"PanTool\"},{\"attributes\":{},\"id\":\"1807\",\"type\":\"LinearScale\"},{\"attributes\":{\"overlay\":{\"id\":\"1822\"}},\"id\":\"1819\",\"type\":\"BoxZoomTool\"},{\"attributes\":{},\"id\":\"1820\",\"type\":\"ResetTool\"},{\"attributes\":{\"axis_label\":\"pitch (MIDI)\",\"formatter\":{\"id\":\"1841\"},\"major_label_policy\":{\"id\":\"1840\"},\"ticker\":{\"id\":\"1829\"}},\"id\":\"1813\",\"type\":\"LinearAxis\"},{\"attributes\":{},\"id\":\"1821\",\"type\":\"SaveTool\"},{\"attributes\":{\"axis\":{\"id\":\"1813\"},\"dimension\":1,\"ticker\":{\"id\":\"1831\"}},\"id\":\"1816\",\"type\":\"Grid\"},{\"attributes\":{},\"id\":\"1843\",\"type\":\"BasicTickFormatter\"},{\"attributes\":{},\"id\":\"1805\",\"type\":\"LinearScale\"},{\"attributes\":{\"bottom\":{\"field\":\"bottom\"},\"fill_alpha\":{\"value\":0.1},\"fill_color\":{\"value\":\"#d53e4f\"},\"left\":{\"field\":\"start_time\"},\"line_alpha\":{\"value\":0.1},\"right\":{\"field\":\"end_time\"},\"top\":{\"field\":\"top\"}},\"id\":\"1835\",\"type\":\"Quad\"},{\"attributes\":{},\"id\":\"1840\",\"type\":\"AllLabels\"},{\"attributes\":{\"interval\":12},\"id\":\"1829\",\"type\":\"SingleIntervalTicker\"},{\"attributes\":{},\"id\":\"1842\",\"type\":\"AllLabels\"},{\"attributes\":{\"axis_label\":\"time (sec)\",\"formatter\":{\"id\":\"1843\"},\"major_label_policy\":{\"id\":\"1842\"},\"ticker\":{\"id\":\"1810\"}},\"id\":\"1809\",\"type\":\"LinearAxis\"},{\"attributes\":{},\"id\":\"1841\",\"type\":\"BasicTickFormatter\"},{\"attributes\":{\"interval\":12},\"id\":\"1831\",\"type\":\"SingleIntervalTicker\"},{\"attributes\":{\"data\":{\"bottom\":{\"__ndarray__\":\"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\",\"dtype\":\"float64\",\"order\":\"little\",\"shape\":[329]},\"duration\":{\"__ndarray__\":\"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\",\"dtype\":\"float64\",\"order\":\"little\",\"shape\":[329]},\"end_time\":{\"__ndarray__\":\"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\",\"dtype\":\"float64\",\"order\":\"little\",\"shape\":[329]},\"fill_alpha\":{\"__ndarray__\":\"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\",\"dtype\":\"float64\",\"order\":\"little\",\"shape\":[329]},\"index\":[0,1,2,3,4,5,6,7,8,9,10,11,12,13,14,15,16,17,18,19,20,21,22,23,24,25,26,27,28,29,30,31,32,33,34,35,36,37,38,39,40,41,42,43,44,45,46,47,48,49,50,51,52,53,54,55,56,57,58,59,60,61,62,63,64,65,66,67,68,69,70,71,72,73,74,75,76,77,78,79,80,81,82,83,84,85,86,87,88,89,90,91,92,93,94,95,96,97,98,99,100,101,102,103,104,105,106,107,108,109,110,111,112,113,114,115,116,117,118,119,120,121,122,123,124,125,126,127,128,129,130,131,132,133,134,135,136,137,138,139,140,141,142,143,144,145,146,147,148,149,150,151,152,153,154,155,156,157,158,159,160,161,162,163,164,165,166,167,168,169,170,171,172,173,174,175,176,177,178,179,180,181,182,183,184,185,186,187,188,189,190,191,192,193,194,195,196,197,198,199,200,201,202,203,204,205,206,207,208,209,210,211,212,213,214,215,216,217,218,219,220,221,222,223,224,225,226,227,228,229,230,231,232,233,234,235,236,237,238,239,240,241,242,243,244,245,246,247,248,249,250,251,252,253,254,255,256,257,258,259,260,261,262,263,264,265,266,267,268,269,270,271,272,273,274,275,276,277,278,279,280,281,282,283,284,285,286,287,288,289,290,291,292,293,294,295,296,297,298,299,300,301,302,303,304,305,306,307,308,309,310,311,312,313,314,315,316,317,318,319,320,321,322,323,324,325,326,327,328],\"instrument\":[9,9,9,9,9,9,9,9,9,9,9,9,9,9,9,9,9,9,9,9,9,9,9,9,9,9,9,9,9,9,9,9,9,9,9,9,9,9,9,9,9,9,9,9,9,9,9,9,9,9,9,9,9,9,9,9,9,9,9,9,9,9,9,9,9,9,9,9,9,9,9,9,9,9,9,9,9,9,9,9,9,9,9,9,9,9,9,9,9,9,9,9,9,9,9,9,9,9,9,9,9,9,9,9,9,9,9,9,9,9,9,9,9,9,9,9,9,9,9,9,9,9,9,9,9,9,9,9,9,9,9,9,9,9,9,9,9,9,9,9,9,9,9,9,9,9,9,9,9,9,9,9,9,9,9,9,9,9,9,9,9,9,9,9,9,9,9,9,9,9,9,9,9,9,9,9,9,9,9,9,9,9,9,9,9,9,9,9,9,9,9,9,9,9,9,9,9,9,9,9,9,9,9,9,9,9,9,9,9,9,9,9,9,9,9,9,9,9,9,9,9,9,9,9,9,9,9,9,9,9,9,9,9,9,9,9,9,9,9,9,9,9,9,9,9,9,9,9,9,9,9,9,9,9,9,9,9,9,9,9,9,9,9,9,9,9,9,9,9,9,9,9,9,9,9,9,9,9,9,9,9,9,9,9,9,9,9,9,9,9,9,9,9,9,9,9,9,9,9,9,9,9,9,9,9,9,9,9,9,9,9,9,9,9,9,9,9,9,9,9,9,9,9,9,9,9,9,9,9],\"pitch\":[36,38,42,45,48,49,51,48,49,42,46,46,42,50,38,36,38,42,45,46,48,50,36,46,48,49,50,51,36,38,42,45,48,49,50,51,48,51,38,36,42,46,48,49,50,51,36,45,38,42,45,46,48,49,50,50,51,45,38,46,48,49,50,51,48,49,51,46,36,38,42,46,48,50,51,36,42,49,50,51,36,38,45,46,48,50,51,38,42,45,48,49,51,38,45,49,50,51,38,42,48,49,50,51,36,38,46,48,51,36,38,45,46,50,51,38,45,46,48,49,38,42,45,46,50,36,42,46,48,51,36,45,46,49,51,42,46,48,50,51,48,42,51,50,42,36,50,38,36,42,45,48,49,50,51,38,45,46,49,51,48,49,42,51,38,42,45,49,50,49,51,36,46,49,42,51,45,36,38,42,45,49,50,51,38,42,45,46,49,51,46,48,51,38,45,46,48,49,50,36,38,45,46,48,50,51,50,51,36,45,36,38,46,48,49,50,51,42,50,48,49,51,46,38,45,48,49,50,51,36,38,42,46,48,49,36,38,42,49,50,36,42,45,48,49,36,42,45,46,48,49,50,51,36,38,46,48,49,49,46,36,38,42,45,46,48,50,51,49,51,36,45,48,49,51,38,42,48,49,50,51,48,49,36,45,50,45,46,36,42,45,48,50,42,45,46,48,49,51,38,45,46,48,49,46,49,51,38,38,42,45,49,50,51,49,42,36,50,38,45,48,49,51,36,42,45,48,49,50],\"program\":[0,0,0,0,0,0,0,0,0,0,0,0,0,0,0,0,0,0,0,0,0,0,0,0,0,0,0,0,0,0,0,0,0,0,0,0,0,0,0,0,0,0,0,0,0,0,0,0,0,0,0,0,0,0,0,0,0,0,0,0,0,0,0,0,0,0,0,0,0,0,0,0,0,0,0,0,0,0,0,0,0,0,0,0,0,0,0,0,0,0,0,0,0,0,0,0,0,0,0,0,0,0,0,0,0,0,0,0,0,0,0,0,0,0,0,0,0,0,0,0,0,0,0,0,0,0,0,0,0,0,0,0,0,0,0,0,0,0,0,0,0,0,0,0,0,0,0,0,0,0,0,0,0,0,0,0,0,0,0,0,0,0,0,0,0,0,0,0,0,0,0,0,0,0,0,0,0,0,0,0,0,0,0,0,0,0,0,0,0,0,0,0,0,0,0,0,0,0,0,0,0,0,0,0,0,0,0,0,0,0,0,0,0,0,0,0,0,0,0,0,0,0,0,0,0,0,0,0,0,0,0,0,0,0,0,0,0,0,0,0,0,0,0,0,0,0,0,0,0,0,0,0,0,0,0,0,0,0,0,0,0,0,0,0,0,0,0,0,0,0,0,0,0,0,0,0,0,0,0,0,0,0,0,0,0,0,0,0,0,0,0,0,0,0,0,0,0,0,0,0,0,0,0,0,0,0,0,0,0,0,0,0,0,0,0,0,0,0,0,0,0,0,0,0,0,0,0,0,0],\"start_time\":{\"__ndarray__\":\"AAAAAAAAAAAAAAAAAAAAAAAAAAAAAAAAAAAAAAAAAAAAAAAAAAAAAAAAAAAAAAAAAAAAAAAAAAAAAAAAAADAPwAAAAAAAMA/AAAAAAAAwD8AAAAAAADAPwAAAAAAANA/AAAAAAAA0D8AAAAAAADQPwAAAAAAANA/AAAAAAAA2D8AAAAAAADYPwAAAAAAANg/AAAAAAAA2D8AAAAAAADYPwAAAAAAANg/AAAAAAAA2D8AAAAAAADgPwAAAAAAAOA/AAAAAAAA4D8AAAAAAADgPwAAAAAAAOA/AAAAAAAA4D8AAAAAAADkPwAAAAAAAOQ/AAAAAAAA5D8AAAAAAADkPwAAAAAAAOQ/AAAAAAAA5D8AAAAAAADkPwAAAAAAAOQ/AAAAAAAA6D8AAAAAAADoPwAAAAAAAOg/AAAAAAAA7D8AAAAAAADsPwAAAAAAAOw/AAAAAAAA7D8AAAAAAADsPwAAAAAAAOw/AAAAAAAA8D8AAAAAAADwPwAAAAAAAPA/AAAAAAAA8j8AAAAAAADyPwAAAAAAAPI/AAAAAAAA8j8AAAAAAADyPwAAAAAAAPI/AAAAAAAA8j8AAAAAAAD0PwAAAAAAAPQ/AAAAAAAA9D8AAAAAAAD2PwAAAAAAAPY/AAAAAAAA9j8AAAAAAAD2PwAAAAAAAPY/AAAAAAAA9j8AAAAAAAD4PwAAAAAAAPg/AAAAAAAA+D8AAAAAAAD4PwAAAAAAAPo/AAAAAAAA+j8AAAAAAAD6PwAAAAAAAPo/AAAAAAAA+j8AAAAAAAD6PwAAAAAAAPo/AAAAAAAA/D8AAAAAAAD8PwAAAAAAAPw/AAAAAAAA/D8AAAAAAAD8PwAAAAAAAP4/AAAAAAAA/j8AAAAAAAD+PwAAAAAAAP4/AAAAAAAA/j8AAAAAAAD+PwAAAAAAAP4/AAAAAAAAAEAAAAAAAAAAQAAAAAAAAABAAAAAAAAAAEAAAAAAAAAAQAAAAAAAAABAAAAAAAAAAUAAAAAAAAABQAAAAAAAAAFAAAAAAAAAAUAAAAAAAAABQAAAAAAAAAJAAAAAAAAAAkAAAAAAAAACQAAAAAAAAAJAAAAAAAAAAkAAAAAAAAACQAAAAAAAAANAAAAAAAAAA0AAAAAAAAADQAAAAAAAAANAAAAAAAAAA0AAAAAAAAAEQAAAAAAAAARAAAAAAAAABEAAAAAAAAAEQAAAAAAAAARAAAAAAAAABEAAAAAAAAAFQAAAAAAAAAVAAAAAAAAABUAAAAAAAAAFQAAAAAAAAAVAAAAAAAAABkAAAAAAAAAGQAAAAAAAAAZAAAAAAAAABkAAAAAAAAAGQAAAAAAAAAdAAAAAAAAAB0AAAAAAAAAHQAAAAAAAAAdAAAAAAAAAB0AAAAAAAAAIQAAAAAAAAAhAAAAAAAAACEAAAAAAAAAIQAAAAAAAAAhAAAAAAAAACUAAAAAAAAAJQAAAAAAAAAlAAAAAAAAACUAAAAAAAAAJQAAAAAAAAApAAAAAAAAACkAAAAAAAAAKQAAAAAAAAApAAAAAAAAAC0AAAAAAAAALQAAAAAAAAAtAAAAAAAAAC0AAAAAAAAAMQAAAAAAAAAxAAAAAAAAADEAAAAAAAAAMQAAAAAAAAAxAAAAAAAAADEAAAAAAAAAMQAAAAAAAAA1AAAAAAAAADUAAAAAAAAANQAAAAAAAAA1AAAAAAAAADUAAAAAAAAAOQAAAAAAAAA5AAAAAAAAADkAAAAAAAAAOQAAAAAAAAA9AAAAAAAAAD0AAAAAAAAAPQAAAAAAAAA9AAAAAAAAAD0AAAAAAAAAQQAAAAAAAABBAAAAAAAAAEEAAAAAAAAAQQAAAAAAAgBBAAAAAAACAEEAAAAAAAIAQQAAAAAAAgBBAAAAAAAAAEUAAAAAAAAARQAAAAAAAABFAAAAAAAAAEUAAAAAAAAARQAAAAAAAABFAAAAAAAAAEUAAAAAAAIARQAAAAAAAgBFAAAAAAACAEUAAAAAAAIARQAAAAAAAgBFAAAAAAACAEUAAAAAAAAASQAAAAAAAABJAAAAAAAAAEkAAAAAAAAASQAAAAAAAgBJAAAAAAACAEkAAAAAAAIASQAAAAAAAgBJAAAAAAACAEkAAAAAAAAATQAAAAAAAABNAAAAAAAAAE0AAAAAAAAATQAAAAAAAABNAAAAAAAAAE0AAAAAAAAATQAAAAAAAgBNAAAAAAACAE0AAAAAAAIATQAAAAAAAgBNAAAAAAAAAFEAAAAAAAAAUQAAAAAAAABRAAAAAAAAAFEAAAAAAAAAUQAAAAAAAABRAAAAAAAAAFEAAAAAAAIAUQAAAAAAAgBRAAAAAAAAAFUAAAAAAAAAVQAAAAAAAABVAAAAAAAAAFUAAAAAAAIAVQAAAAAAAgBVAAAAAAACAFUAAAAAAAIAVQAAAAAAAgBVAAAAAAACAFUAAAAAAAAAWQAAAAAAAABZAAAAAAAAAFkAAAAAAAAAWQAAAAAAAABZAAAAAAAAAFkAAAAAAAIAWQAAAAAAAgBZAAAAAAACAFkAAAAAAAIAWQAAAAAAAgBZAAAAAAAAAF0AAAAAAAAAXQAAAAAAAABdAAAAAAAAAF0AAAAAAAAAXQAAAAAAAgBdAAAAAAACAF0AAAAAAAIAXQAAAAAAAgBdAAAAAAACAF0AAAAAAAIAXQAAAAAAAgBdAAAAAAACAF0AAAAAAAAAYQAAAAAAAABhAAAAAAAAAGEAAAAAAAAAYQAAAAAAAABhAAAAAAACAGEAAAAAAAIAYQAAAAAAAABlAAAAAAAAAGUAAAAAAAAAZQAAAAAAAABlAAAAAAAAAGUAAAAAAAAAZQAAAAAAAABlAAAAAAAAAGUAAAAAAAIAZQAAAAAAAgBlAAAAAAAAAGkAAAAAAAAAaQAAAAAAAABpAAAAAAAAAGkAAAAAAAAAaQAAAAAAAgBpAAAAAAACAGkAAAAAAAIAaQAAAAAAAgBpAAAAAAACAGkAAAAAAAIAaQAAAAAAAABtAAAAAAAAAG0AAAAAAAAAbQAAAAAAAABtAAAAAAACAG0AAAAAAAIAbQAAAAAAAgBtAAAAAAAAAHEAAAAAAAAAcQAAAAAAAABxAAAAAAAAAHEAAAAAAAAAcQAAAAAAAgBxAAAAAAACAHEAAAAAAAIAcQAAAAAAAgBxAAAAAAACAHEAAAAAAAIAcQAAAAAAAAB1AAAAAAAAAHUAAAAAAAAAdQAAAAAAAAB1AAAAAAAAAHUAAAAAAAIAdQAAAAAAAgB1AAAAAAACAHUAAAAAAAIAdQAAAAAAAAB5AAAAAAAAAHkAAAAAAAAAeQAAAAAAAAB5AAAAAAAAAHkAAAAAAAAAeQAAAAAAAgB5AAAAAAACAHkAAAAAAAIAeQAAAAAAAgB5AAAAAAAAAH0AAAAAAAAAfQAAAAAAAAB9AAAAAAAAAH0AAAAAAAAAfQAAAAAAAgB9AAAAAAACAH0AAAAAAAIAfQAAAAAAAgB9AAAAAAACAH0AAAAAAAIAfQA==\",\"dtype\":\"float64\",\"order\":\"little\",\"shape\":[329]},\"top\":{\"__ndarray__\":\"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\",\"dtype\":\"float64\",\"order\":\"little\",\"shape\":[329]},\"velocity\":[80,80,80,80,80,80,80,80,80,80,80,80,80,80,80,80,80,80,80,80,80,80,80,80,80,80,80,80,80,80,80,80,80,80,80,80,80,80,80,80,80,80,80,80,80,80,80,80,80,80,80,80,80,80,80,80,80,80,80,80,80,80,80,80,80,80,80,80,80,80,80,80,80,80,80,80,80,80,80,80,80,80,80,80,80,80,80,80,80,80,80,80,80,80,80,80,80,80,80,80,80,80,80,80,80,80,80,80,80,80,80,80,80,80,80,80,80,80,80,80,80,80,80,80,80,80,80,80,80,80,80,80,80,80,80,80,80,80,80,80,80,80,80,80,80,80,80,80,80,80,80,80,80,80,80,80,80,80,80,80,80,80,80,80,80,80,80,80,80,80,80,80,80,80,80,80,80,80,80,80,80,80,80,80,80,80,80,80,80,80,80,80,80,80,80,80,80,80,80,80,80,80,80,80,80,80,80,80,80,80,80,80,80,80,80,80,80,80,80,80,80,80,80,80,80,80,80,80,80,80,80,80,80,80,80,80,80,80,80,80,80,80,80,80,80,80,80,80,80,80,80,80,80,80,80,80,80,80,80,80,80,80,80,80,80,80,80,80,80,80,80,80,80,80,80,80,80,80,80,80,80,80,80,80,80,80,80,80,80,80,80,80,80,80,80,80,80,80,80,80,80,80,80,80,80,80,80,80,80,80,80,80,80,80,80,80,80,80,80,80,80,80,80,80,80,80,80,80,80]},\"selected\":{\"id\":\"1846\"},\"selection_policy\":{\"id\":\"1845\"}},\"id\":\"1832\",\"type\":\"ColumnDataSource\"},{\"attributes\":{\"axis\":{\"id\":\"1809\"},\"ticker\":null},\"id\":\"1812\",\"type\":\"Grid\"}],\"root_ids\":[\"1800\"]},\"title\":\"Bokeh Application\",\"version\":\"2.3.3\"}};\n  var render_items = [{\"docid\":\"18ff3df1-224b-4aa6-8ab1-5a74c54c4673\",\"root_ids\":[\"1800\"],\"roots\":{\"1800\":\"d4989931-9a34-405c-bc16-7dd2ffb195c7\"}}];\n  root.Bokeh.embed.embed_items_notebook(docs_json, render_items);\n\n  }\n  if (root.Bokeh !== undefined) {\n    embed_document(root);\n  } else {\n    var attempts = 0;\n    var timer = setInterval(function(root) {\n      if (root.Bokeh !== undefined) {\n        clearInterval(timer);\n        embed_document(root);\n      } else {\n        attempts++;\n        if (attempts > 100) {\n          clearInterval(timer);\n          console.log(\"Bokeh: ERROR: Unable to run BokehJS code because BokehJS library is missing\");\n        }\n      }\n    }, 10, root)\n  }\n})(window);",
            "application/vnd.bokehjs_exec.v0+json": ""
          },
          "metadata": {},
          "output_type": "display_data"
        },
        {
          "data": {
            "text/html": [
              "\n",
              "\n",
              "\n",
              "\n",
              "\n",
              "\n",
              "  <div class=\"bk-root\" id=\"ae05647e-7ab6-4aec-9aec-071d461b6084\" data-root-id=\"1968\"></div>\n"
            ]
          },
          "metadata": {},
          "output_type": "display_data"
        },
        {
          "data": {
            "application/javascript": "(function(root) {\n  function embed_document(root) {\n    \n  var docs_json = {\"5427b3bd-60c1-4112-b422-284d48b5b6de\":{\"defs\":[],\"roots\":{\"references\":[{\"attributes\":{\"below\":[{\"id\":\"1977\"}],\"center\":[{\"id\":\"1980\"},{\"id\":\"1984\"}],\"height\":200,\"left\":[{\"id\":\"1981\"}],\"renderers\":[{\"id\":\"2004\"}],\"title\":{\"id\":\"2007\"},\"toolbar\":{\"id\":\"1991\"},\"width\":500,\"x_range\":{\"id\":\"1969\"},\"x_scale\":{\"id\":\"1973\"},\"y_range\":{\"id\":\"1971\"},\"y_scale\":{\"id\":\"1975\"}},\"id\":\"1968\",\"subtype\":\"Figure\",\"type\":\"Plot\"},{\"attributes\":{\"data_source\":{\"id\":\"2000\"},\"glyph\":{\"id\":\"2002\"},\"hover_glyph\":null,\"muted_glyph\":null,\"nonselection_glyph\":{\"id\":\"2003\"},\"view\":{\"id\":\"2005\"}},\"id\":\"2004\",\"type\":\"GlyphRenderer\"},{\"attributes\":{\"axis_label\":\"time (sec)\",\"formatter\":{\"id\":\"2011\"},\"major_label_policy\":{\"id\":\"2010\"},\"ticker\":{\"id\":\"1978\"}},\"id\":\"1977\",\"type\":\"LinearAxis\"},{\"attributes\":{},\"id\":\"2013\",\"type\":\"UnionRenderers\"},{\"attributes\":{\"bottom\":{\"field\":\"bottom\"},\"fill_alpha\":{\"field\":\"fill_alpha\"},\"fill_color\":{\"value\":\"#d53e4f\"},\"left\":{\"field\":\"start_time\"},\"right\":{\"field\":\"end_time\"},\"top\":{\"field\":\"top\"}},\"id\":\"2002\",\"type\":\"Quad\"},{\"attributes\":{},\"id\":\"2011\",\"type\":\"BasicTickFormatter\"},{\"attributes\":{},\"id\":\"2010\",\"type\":\"AllLabels\"},{\"attributes\":{\"axis_label\":\"pitch (MIDI)\",\"formatter\":{\"id\":\"2009\"},\"major_label_policy\":{\"id\":\"2008\"},\"ticker\":{\"id\":\"1997\"}},\"id\":\"1981\",\"type\":\"LinearAxis\"},{\"attributes\":{\"axis\":{\"id\":\"1977\"},\"ticker\":null},\"id\":\"1980\",\"type\":\"Grid\"},{\"attributes\":{},\"id\":\"2014\",\"type\":\"Selection\"},{\"attributes\":{},\"id\":\"1971\",\"type\":\"DataRange1d\"},{\"attributes\":{\"callback\":null,\"tooltips\":[[\"pitch\",\"@pitch\"],[\"program\",\"@program\"],[\"velo\",\"@velocity\"],[\"duration\",\"@duration\"],[\"start_time\",\"@start_time\"],[\"end_time\",\"@end_time\"],[\"velocity\",\"@velocity\"],[\"fill_alpha\",\"@fill_alpha\"]]},\"id\":\"1985\",\"type\":\"HoverTool\"},{\"attributes\":{},\"id\":\"2009\",\"type\":\"BasicTickFormatter\"},{\"attributes\":{\"bottom_units\":\"screen\",\"fill_alpha\":0.5,\"fill_color\":\"lightgrey\",\"left_units\":\"screen\",\"level\":\"overlay\",\"line_alpha\":1.0,\"line_color\":\"black\",\"line_dash\":[4,4],\"line_width\":2,\"right_units\":\"screen\",\"syncable\":false,\"top_units\":\"screen\"},\"id\":\"1990\",\"type\":\"BoxAnnotation\"},{\"attributes\":{},\"id\":\"1986\",\"type\":\"PanTool\"},{\"attributes\":{\"axis\":{\"id\":\"1981\"},\"dimension\":1,\"ticker\":{\"id\":\"1999\"}},\"id\":\"1984\",\"type\":\"Grid\"},{\"attributes\":{},\"id\":\"1975\",\"type\":\"LinearScale\"},{\"attributes\":{\"bottom\":{\"field\":\"bottom\"},\"fill_alpha\":{\"value\":0.1},\"fill_color\":{\"value\":\"#d53e4f\"},\"left\":{\"field\":\"start_time\"},\"line_alpha\":{\"value\":0.1},\"right\":{\"field\":\"end_time\"},\"top\":{\"field\":\"top\"}},\"id\":\"2003\",\"type\":\"Quad\"},{\"attributes\":{\"interval\":12},\"id\":\"1997\",\"type\":\"SingleIntervalTicker\"},{\"attributes\":{},\"id\":\"1988\",\"type\":\"ResetTool\"},{\"attributes\":{\"overlay\":{\"id\":\"1990\"}},\"id\":\"1987\",\"type\":\"BoxZoomTool\"},{\"attributes\":{},\"id\":\"1973\",\"type\":\"LinearScale\"},{\"attributes\":{},\"id\":\"1989\",\"type\":\"SaveTool\"},{\"attributes\":{},\"id\":\"2008\",\"type\":\"AllLabels\"},{\"attributes\":{\"active_multi\":null,\"tools\":[{\"id\":\"1985\"},{\"id\":\"1986\"},{\"id\":\"1987\"},{\"id\":\"1988\"},{\"id\":\"1989\"}]},\"id\":\"1991\",\"type\":\"Toolbar\"},{\"attributes\":{},\"id\":\"1978\",\"type\":\"BasicTicker\"},{\"attributes\":{\"interval\":12},\"id\":\"1999\",\"type\":\"SingleIntervalTicker\"},{\"attributes\":{\"data\":{\"bottom\":{\"__ndarray__\":\"zczMzMzMREDNzMzMzMxCQM3MzMzMzEFAzczMzMzMQkDNzMzMzExGQM3MzMzMTEhAzczMzMxMSUDNzMzMzMxCQM3MzMzMzERAzczMzMzMREDNzMzMzMxCQM3MzMzMzERAzczMzMzMQkDNzMzMzMxCQM3MzMzMzERAzczMzMzMREDNzMzMzMxBQM3MzMzMzEJAzczMzMzMQkA=\",\"dtype\":\"float64\",\"order\":\"little\",\"shape\":[19]},\"duration\":{\"__ndarray__\":\"AAAAAAAAwD8AAAAAAADAPwAAAAAAAMA/AAAAAAAAwD8AAAAAAADAPwAAAAAAAMA/AAAAAAAAwD8AAAAAAADAPwAAAAAAAMA/AAAAAAAAwD8AAAAAAADAPwAAAAAAAMA/AAAAAAAAwD8AAAAAAADAPwAAAAAAAMA/AAAAAAAAwD8AAAAAAADAPwAAAAAAAMA/AAAAAAAAwD8=\",\"dtype\":\"float64\",\"order\":\"little\",\"shape\":[19]},\"end_time\":{\"__ndarray__\":\"AAAAAAAAwD8AAAAAAADAPwAAAAAAAOQ/AAAAAAAA5D8AAAAAAADkPwAAAAAAAOQ/AAAAAAAA5D8AAAAAAADsPwAAAAAAAPo/AAAAAAAACkAAAAAAAAALQAAAAAAAAA1AAAAAAAAAEUAAAAAAAIATQAAAAAAAgBRAAAAAAAAAFUAAAAAAAAAVQAAAAAAAABdAAAAAAACAGUA=\",\"dtype\":\"float64\",\"order\":\"little\",\"shape\":[19]},\"fill_alpha\":{\"__ndarray__\":\"AAAAAAAA8D8AAAAAAADwPwAAAAAAAPA/AAAAAAAA8D8AAAAAAADwPwAAAAAAAPA/AAAAAAAA8D8AAAAAAADwPwAAAAAAAPA/AAAAAAAA8D8AAAAAAADwPwAAAAAAAPA/AAAAAAAA8D8AAAAAAADwPwAAAAAAAPA/AAAAAAAA8D8AAAAAAADwPwAAAAAAAPA/AAAAAAAA8D8=\",\"dtype\":\"float64\",\"order\":\"little\",\"shape\":[19]},\"index\":[0,1,2,3,4,5,6,7,8,9,10,11,12,13,14,15,16,17,18],\"instrument\":[9,9,9,9,9,9,9,9,9,9,9,9,9,9,9,9,9,9,9],\"pitch\":[42,38,36,38,45,49,51,38,42,42,38,42,38,38,42,42,36,38,38],\"program\":[0,0,0,0,0,0,0,0,0,0,0,0,0,0,0,0,0,0,0],\"start_time\":{\"__ndarray__\":\"AAAAAAAAAAAAAAAAAAAAAAAAAAAAAOA/AAAAAAAA4D8AAAAAAADgPwAAAAAAAOA/AAAAAAAA4D8AAAAAAADoPwAAAAAAAPg/AAAAAAAACUAAAAAAAAAKQAAAAAAAAAxAAAAAAACAEEAAAAAAAAATQAAAAAAAABRAAAAAAACAFEAAAAAAAIAUQAAAAAAAgBZAAAAAAAAAGUA=\",\"dtype\":\"float64\",\"order\":\"little\",\"shape\":[19]},\"top\":{\"__ndarray__\":\"MzMzMzMzRUAzMzMzMzNDQDMzMzMzM0JAMzMzMzMzQ0AzMzMzM7NGQDMzMzMzs0hAMzMzMzOzSUAzMzMzMzNDQDMzMzMzM0VAMzMzMzMzRUAzMzMzMzNDQDMzMzMzM0VAMzMzMzMzQ0AzMzMzMzNDQDMzMzMzM0VAMzMzMzMzRUAzMzMzMzNCQDMzMzMzM0NAMzMzMzMzQ0A=\",\"dtype\":\"float64\",\"order\":\"little\",\"shape\":[19]},\"velocity\":[80,80,80,80,80,80,80,80,80,80,80,80,80,80,80,80,80,80,80]},\"selected\":{\"id\":\"2014\"},\"selection_policy\":{\"id\":\"2013\"}},\"id\":\"2000\",\"type\":\"ColumnDataSource\"},{\"attributes\":{\"source\":{\"id\":\"2000\"}},\"id\":\"2005\",\"type\":\"CDSView\"},{\"attributes\":{},\"id\":\"2007\",\"type\":\"Title\"},{\"attributes\":{},\"id\":\"1969\",\"type\":\"DataRange1d\"}],\"root_ids\":[\"1968\"]},\"title\":\"Bokeh Application\",\"version\":\"2.3.3\"}};\n  var render_items = [{\"docid\":\"5427b3bd-60c1-4112-b422-284d48b5b6de\",\"root_ids\":[\"1968\"],\"roots\":{\"1968\":\"ae05647e-7ab6-4aec-9aec-071d461b6084\"}}];\n  root.Bokeh.embed.embed_items_notebook(docs_json, render_items);\n\n  }\n  if (root.Bokeh !== undefined) {\n    embed_document(root);\n  } else {\n    var attempts = 0;\n    var timer = setInterval(function(root) {\n      if (root.Bokeh !== undefined) {\n        clearInterval(timer);\n        embed_document(root);\n      } else {\n        attempts++;\n        if (attempts > 100) {\n          clearInterval(timer);\n          console.log(\"Bokeh: ERROR: Unable to run BokehJS code because BokehJS library is missing\");\n        }\n      }\n    }, 10, root)\n  }\n})(window);",
            "application/vnd.bokehjs_exec.v0+json": ""
          },
          "metadata": {},
          "output_type": "display_data"
        },
        {
          "data": {
            "text/html": [
              "\n",
              "\n",
              "\n",
              "\n",
              "\n",
              "\n",
              "  <div class=\"bk-root\" id=\"7ad3c679-0cf9-40c8-99fb-738fc7dd4566\" data-root-id=\"2146\"></div>\n"
            ]
          },
          "metadata": {},
          "output_type": "display_data"
        },
        {
          "data": {
            "application/javascript": "(function(root) {\n  function embed_document(root) {\n    \n  var docs_json = {\"c8c28786-7299-4bdd-97ee-15eb1fed87df\":{\"defs\":[],\"roots\":{\"references\":[{\"attributes\":{\"below\":[{\"id\":\"2155\"}],\"center\":[{\"id\":\"2158\"},{\"id\":\"2162\"}],\"height\":200,\"left\":[{\"id\":\"2159\"}],\"renderers\":[{\"id\":\"2182\"}],\"title\":{\"id\":\"2185\"},\"toolbar\":{\"id\":\"2169\"},\"width\":500,\"x_range\":{\"id\":\"2147\"},\"x_scale\":{\"id\":\"2151\"},\"y_range\":{\"id\":\"2149\"},\"y_scale\":{\"id\":\"2153\"}},\"id\":\"2146\",\"subtype\":\"Figure\",\"type\":\"Plot\"},{\"attributes\":{\"bottom\":{\"field\":\"bottom\"},\"fill_alpha\":{\"field\":\"fill_alpha\"},\"fill_color\":{\"value\":\"#d53e4f\"},\"left\":{\"field\":\"start_time\"},\"right\":{\"field\":\"end_time\"},\"top\":{\"field\":\"top\"}},\"id\":\"2180\",\"type\":\"Quad\"},{\"attributes\":{},\"id\":\"2164\",\"type\":\"PanTool\"},{\"attributes\":{},\"id\":\"2187\",\"type\":\"BasicTickFormatter\"},{\"attributes\":{},\"id\":\"2188\",\"type\":\"AllLabels\"},{\"attributes\":{},\"id\":\"2185\",\"type\":\"Title\"},{\"attributes\":{\"bottom_units\":\"screen\",\"fill_alpha\":0.5,\"fill_color\":\"lightgrey\",\"left_units\":\"screen\",\"level\":\"overlay\",\"line_alpha\":1.0,\"line_color\":\"black\",\"line_dash\":[4,4],\"line_width\":2,\"right_units\":\"screen\",\"syncable\":false,\"top_units\":\"screen\"},\"id\":\"2168\",\"type\":\"BoxAnnotation\"},{\"attributes\":{},\"id\":\"2149\",\"type\":\"DataRange1d\"},{\"attributes\":{},\"id\":\"2167\",\"type\":\"SaveTool\"},{\"attributes\":{\"overlay\":{\"id\":\"2168\"}},\"id\":\"2165\",\"type\":\"BoxZoomTool\"},{\"attributes\":{\"source\":{\"id\":\"2178\"}},\"id\":\"2183\",\"type\":\"CDSView\"},{\"attributes\":{},\"id\":\"2151\",\"type\":\"LinearScale\"},{\"attributes\":{\"bottom\":{\"field\":\"bottom\"},\"fill_alpha\":{\"value\":0.1},\"fill_color\":{\"value\":\"#d53e4f\"},\"left\":{\"field\":\"start_time\"},\"line_alpha\":{\"value\":0.1},\"right\":{\"field\":\"end_time\"},\"top\":{\"field\":\"top\"}},\"id\":\"2181\",\"type\":\"Quad\"},{\"attributes\":{\"callback\":null,\"tooltips\":[[\"pitch\",\"@pitch\"],[\"program\",\"@program\"],[\"velo\",\"@velocity\"],[\"duration\",\"@duration\"],[\"start_time\",\"@start_time\"],[\"end_time\",\"@end_time\"],[\"velocity\",\"@velocity\"],[\"fill_alpha\",\"@fill_alpha\"]]},\"id\":\"2163\",\"type\":\"HoverTool\"},{\"attributes\":{},\"id\":\"2166\",\"type\":\"ResetTool\"},{\"attributes\":{},\"id\":\"2189\",\"type\":\"BasicTickFormatter\"},{\"attributes\":{},\"id\":\"2147\",\"type\":\"DataRange1d\"},{\"attributes\":{},\"id\":\"2191\",\"type\":\"UnionRenderers\"},{\"attributes\":{},\"id\":\"2192\",\"type\":\"Selection\"},{\"attributes\":{\"active_multi\":null,\"tools\":[{\"id\":\"2163\"},{\"id\":\"2164\"},{\"id\":\"2165\"},{\"id\":\"2166\"},{\"id\":\"2167\"}]},\"id\":\"2169\",\"type\":\"Toolbar\"},{\"attributes\":{},\"id\":\"2186\",\"type\":\"AllLabels\"},{\"attributes\":{\"data_source\":{\"id\":\"2178\"},\"glyph\":{\"id\":\"2180\"},\"hover_glyph\":null,\"muted_glyph\":null,\"nonselection_glyph\":{\"id\":\"2181\"},\"view\":{\"id\":\"2183\"}},\"id\":\"2182\",\"type\":\"GlyphRenderer\"},{\"attributes\":{\"interval\":12},\"id\":\"2177\",\"type\":\"SingleIntervalTicker\"},{\"attributes\":{\"interval\":12},\"id\":\"2175\",\"type\":\"SingleIntervalTicker\"},{\"attributes\":{\"axis_label\":\"pitch (MIDI)\",\"formatter\":{\"id\":\"2187\"},\"major_label_policy\":{\"id\":\"2186\"},\"ticker\":{\"id\":\"2175\"}},\"id\":\"2159\",\"type\":\"LinearAxis\"},{\"attributes\":{\"axis_label\":\"time (sec)\",\"formatter\":{\"id\":\"2189\"},\"major_label_policy\":{\"id\":\"2188\"},\"ticker\":{\"id\":\"2156\"}},\"id\":\"2155\",\"type\":\"LinearAxis\"},{\"attributes\":{},\"id\":\"2153\",\"type\":\"LinearScale\"},{\"attributes\":{\"data\":{\"bottom\":{\"__ndarray__\":\"zczMzMzMREDNzMzMzMxCQM3MzMzMzEJAzczMzMzMREDNzMzMzMxCQM3MzMzMzEJAzczMzMzMREDNzMzMzMxCQM3MzMzMzEJAzczMzMzMREDNzMzMzMxEQM3MzMzMzEJAzczMzMzMQkDNzMzMzMxEQA==\",\"dtype\":\"float64\",\"order\":\"little\",\"shape\":[14]},\"duration\":{\"__ndarray__\":\"AAAAAAAAwD8AAAAAAADAPwAAAAAAAMA/AAAAAAAAwD8AAAAAAADAPwAAAAAAAMA/AAAAAAAAwD8AAAAAAADAPwAAAAAAAMA/AAAAAAAAwD8AAAAAAADAPwAAAAAAAMA/AAAAAAAAwD8AAAAAAADAPw==\",\"dtype\":\"float64\",\"order\":\"little\",\"shape\":[14]},\"end_time\":{\"__ndarray__\":\"AAAAAAAA6D8AAAAAAADyPwAAAAAAAPY/AAAAAAAA+j8AAAAAAAADQAAAAAAAAARAAAAAAAAACUAAAAAAAAALQAAAAAAAAA5AAAAAAACAF0AAAAAAAIAdQAAAAAAAAB5AAAAAAACAH0AAAAAAAAAgQA==\",\"dtype\":\"float64\",\"order\":\"little\",\"shape\":[14]},\"fill_alpha\":{\"__ndarray__\":\"AAAAAAAA8D8AAAAAAADwPwAAAAAAAPA/AAAAAAAA8D8AAAAAAADwPwAAAAAAAPA/AAAAAAAA8D8AAAAAAADwPwAAAAAAAPA/AAAAAAAA8D8AAAAAAADwPwAAAAAAAPA/AAAAAAAA8D8AAAAAAADwPw==\",\"dtype\":\"float64\",\"order\":\"little\",\"shape\":[14]},\"index\":[0,1,2,3,4,5,6,7,8,9,10,11,12,13],\"instrument\":[9,9,9,9,9,9,9,9,9,9,9,9,9,9],\"pitch\":[42,38,38,42,38,38,42,38,38,42,42,38,38,42],\"program\":[0,0,0,0,0,0,0,0,0,0,0,0,0,0],\"start_time\":{\"__ndarray__\":\"AAAAAAAA5D8AAAAAAADwPwAAAAAAAPQ/AAAAAAAA+D8AAAAAAAACQAAAAAAAAANAAAAAAAAACEAAAAAAAAAKQAAAAAAAAA1AAAAAAAAAF0AAAAAAAAAdQAAAAAAAgB1AAAAAAAAAH0AAAAAAAIAfQA==\",\"dtype\":\"float64\",\"order\":\"little\",\"shape\":[14]},\"top\":{\"__ndarray__\":\"MzMzMzMzRUAzMzMzMzNDQDMzMzMzM0NAMzMzMzMzRUAzMzMzMzNDQDMzMzMzM0NAMzMzMzMzRUAzMzMzMzNDQDMzMzMzM0NAMzMzMzMzRUAzMzMzMzNFQDMzMzMzM0NAMzMzMzMzQ0AzMzMzMzNFQA==\",\"dtype\":\"float64\",\"order\":\"little\",\"shape\":[14]},\"velocity\":[80,80,80,80,80,80,80,80,80,80,80,80,80,80]},\"selected\":{\"id\":\"2192\"},\"selection_policy\":{\"id\":\"2191\"}},\"id\":\"2178\",\"type\":\"ColumnDataSource\"},{\"attributes\":{\"axis\":{\"id\":\"2155\"},\"ticker\":null},\"id\":\"2158\",\"type\":\"Grid\"},{\"attributes\":{\"axis\":{\"id\":\"2159\"},\"dimension\":1,\"ticker\":{\"id\":\"2177\"}},\"id\":\"2162\",\"type\":\"Grid\"},{\"attributes\":{},\"id\":\"2156\",\"type\":\"BasicTicker\"}],\"root_ids\":[\"2146\"]},\"title\":\"Bokeh Application\",\"version\":\"2.3.3\"}};\n  var render_items = [{\"docid\":\"c8c28786-7299-4bdd-97ee-15eb1fed87df\",\"root_ids\":[\"2146\"],\"roots\":{\"2146\":\"7ad3c679-0cf9-40c8-99fb-738fc7dd4566\"}}];\n  root.Bokeh.embed.embed_items_notebook(docs_json, render_items);\n\n  }\n  if (root.Bokeh !== undefined) {\n    embed_document(root);\n  } else {\n    var attempts = 0;\n    var timer = setInterval(function(root) {\n      if (root.Bokeh !== undefined) {\n        clearInterval(timer);\n        embed_document(root);\n      } else {\n        attempts++;\n        if (attempts > 100) {\n          clearInterval(timer);\n          console.log(\"Bokeh: ERROR: Unable to run BokehJS code because BokehJS library is missing\");\n        }\n      }\n    }, 10, root)\n  }\n})(window);",
            "application/vnd.bokehjs_exec.v0+json": ""
          },
          "metadata": {},
          "output_type": "display_data"
        },
        {
          "data": {
            "text/html": [
              "\n",
              "\n",
              "\n",
              "\n",
              "\n",
              "\n",
              "  <div class=\"bk-root\" id=\"dc689d95-406e-4b2a-ace7-92207f5713bd\" data-root-id=\"2334\"></div>\n"
            ]
          },
          "metadata": {},
          "output_type": "display_data"
        },
        {
          "data": {
            "application/javascript": "(function(root) {\n  function embed_document(root) {\n    \n  var docs_json = {\"2cb95cef-aecc-42b5-ab33-daf230d1e0b3\":{\"defs\":[],\"roots\":{\"references\":[{\"attributes\":{\"below\":[{\"id\":\"2343\"}],\"center\":[{\"id\":\"2346\"},{\"id\":\"2350\"}],\"height\":200,\"left\":[{\"id\":\"2347\"}],\"renderers\":[{\"id\":\"2370\"}],\"title\":{\"id\":\"2373\"},\"toolbar\":{\"id\":\"2357\"},\"width\":500,\"x_range\":{\"id\":\"2335\"},\"x_scale\":{\"id\":\"2339\"},\"y_range\":{\"id\":\"2337\"},\"y_scale\":{\"id\":\"2341\"}},\"id\":\"2334\",\"subtype\":\"Figure\",\"type\":\"Plot\"},{\"attributes\":{\"active_multi\":null,\"tools\":[{\"id\":\"2351\"},{\"id\":\"2352\"},{\"id\":\"2353\"},{\"id\":\"2354\"},{\"id\":\"2355\"}]},\"id\":\"2357\",\"type\":\"Toolbar\"},{\"attributes\":{\"source\":{\"id\":\"2366\"}},\"id\":\"2371\",\"type\":\"CDSView\"},{\"attributes\":{},\"id\":\"2341\",\"type\":\"LinearScale\"},{\"attributes\":{},\"id\":\"2354\",\"type\":\"ResetTool\"},{\"attributes\":{\"bottom_units\":\"screen\",\"fill_alpha\":0.5,\"fill_color\":\"lightgrey\",\"left_units\":\"screen\",\"level\":\"overlay\",\"line_alpha\":1.0,\"line_color\":\"black\",\"line_dash\":[4,4],\"line_width\":2,\"right_units\":\"screen\",\"syncable\":false,\"top_units\":\"screen\"},\"id\":\"2356\",\"type\":\"BoxAnnotation\"},{\"attributes\":{\"overlay\":{\"id\":\"2356\"}},\"id\":\"2353\",\"type\":\"BoxZoomTool\"},{\"attributes\":{},\"id\":\"2352\",\"type\":\"PanTool\"},{\"attributes\":{\"callback\":null,\"tooltips\":[[\"pitch\",\"@pitch\"],[\"program\",\"@program\"],[\"velo\",\"@velocity\"],[\"duration\",\"@duration\"],[\"start_time\",\"@start_time\"],[\"end_time\",\"@end_time\"],[\"velocity\",\"@velocity\"],[\"fill_alpha\",\"@fill_alpha\"]]},\"id\":\"2351\",\"type\":\"HoverTool\"},{\"attributes\":{\"interval\":12},\"id\":\"2365\",\"type\":\"SingleIntervalTicker\"},{\"attributes\":{\"axis_label\":\"pitch (MIDI)\",\"formatter\":{\"id\":\"2375\"},\"major_label_policy\":{\"id\":\"2374\"},\"ticker\":{\"id\":\"2363\"}},\"id\":\"2347\",\"type\":\"LinearAxis\"},{\"attributes\":{\"axis\":{\"id\":\"2347\"},\"dimension\":1,\"ticker\":{\"id\":\"2365\"}},\"id\":\"2350\",\"type\":\"Grid\"},{\"attributes\":{\"data\":{\"bottom\":{\"__ndarray__\":\"zczMzMzMQUDNzMzMzMxCQM3MzMzMTEZAzczMzMzMRkDNzMzMzMxHQM3MzMzMTEhAzczMzMxMSUDNzMzMzMxHQM3MzMzMTEhAzczMzMzMRkDNzMzMzMxCQM3MzMzMzERAzczMzMzMRkDNzMzMzExIQM3MzMzMTElAzczMzMzMRkDNzMzMzMxEQM3MzMzMTEZAzczMzMzMQkDNzMzMzExIQM3MzMzMzERAzczMzMxMRkDNzMzMzMxCQM3MzMzMzEJAzczMzMzMREDNzMzMzMxGQM3MzMzMzEdAzczMzMzMSEDNzMzMzExJQM3MzMzMzEJAzczMzMzMREDNzMzMzExGQM3MzMzMzEZAzczMzMxMSEDNzMzMzMxBQM3MzMzMzEJAzczMzMzMREDNzMzMzExGQM3MzMzMTEhAzczMzMxMSUDNzMzMzMxBQM3MzMzMzEJAzczMzMzMREDNzMzMzExGQM3MzMzMzEdAzczMzMxMSEDNzMzMzExJQM3MzMzMTEZAzczMzMzMREDNzMzMzExJQM3MzMzMzEFAzczMzMzMQkDNzMzMzExIQM3MzMzMTElAzczMzMxMRkDNzMzMzMxGQM3MzMzMzEdAzczMzMzMSEDNzMzMzMxBQM3MzMzMTEZAzczMzMzMRkDNzMzMzMxHQM3MzMzMTEZAzczMzMzMQkDNzMzMzMxHQM3MzMzMzEZAzczMzMzMQUDNzMzMzMxEQM3MzMzMTEZAzczMzMzMRkDNzMzMzExIQM3MzMzMzEhAzczMzMxMSUDNzMzMzMxIQM3MzMzMTElAzczMzMzMQUDNzMzMzExGQM3MzMzMzEdAzczMzMxMSEDNzMzMzMxBQM3MzMzMzEZAzczMzMzMSEDNzMzMzMxBQM3MzMzMzEZAzczMzMzMSEDNzMzMzExJQM3MzMzMzEFAzczMzMzMQkDNzMzMzMxCQM3MzMzMzERAzczMzMxMSUDNzMzMzMxBQM3MzMzMTEZAzczMzMzMRkDNzMzMzExIQM3MzMzMzEhAzczMzMzMQkDNzMzMzMxBQM3MzMzMzERAzczMzMzMRkDNzMzMzExIQM3MzMzMzEhAzczMzMxMSUDNzMzMzMxEQM3MzMzMzEJAzczMzMzMQkDNzMzMzMxEQM3MzMzMzEFAzczMzMzMREDNzMzMzMxEQM3MzMzMzEJAzczMzMzMREDNzMzMzMxCQA==\",\"dtype\":\"float64\",\"order\":\"little\",\"shape\":[113]},\"duration\":{\"__ndarray__\":\"AAAAAAAAwD8AAAAAAADAPwAAAAAAAMA/AAAAAAAAwD8AAAAAAADAPwAAAAAAAMA/AAAAAAAAwD8AAAAAAADAPwAAAAAAAMA/AAAAAAAAwD8AAAAAAADAPwAAAAAAAMA/AAAAAAAAwD8AAAAAAADAPwAAAAAAAMA/AAAAAAAAwD8AAAAAAADAPwAAAAAAAMA/AAAAAAAAwD8AAAAAAADAPwAAAAAAAMA/AAAAAAAAwD8AAAAAAADAPwAAAAAAAMA/AAAAAAAAwD8AAAAAAADAPwAAAAAAAMA/AAAAAAAAwD8AAAAAAADAPwAAAAAAAMA/AAAAAAAAwD8AAAAAAADAPwAAAAAAAMA/AAAAAAAAwD8AAAAAAADAPwAAAAAAAMA/AAAAAAAAwD8AAAAAAADAPwAAAAAAAMA/AAAAAAAAwD8AAAAAAADAPwAAAAAAAMA/AAAAAAAAwD8AAAAAAADAPwAAAAAAAMA/AAAAAAAAwD8AAAAAAADAPwAAAAAAAMA/AAAAAAAAwD8AAAAAAADAPwAAAAAAAMA/AAAAAAAAwD8AAAAAAADAPwAAAAAAAMA/AAAAAAAAwD8AAAAAAADAPwAAAAAAAMA/AAAAAAAAwD8AAAAAAADAPwAAAAAAAMA/AAAAAAAAwD8AAAAAAADAPwAAAAAAAMA/AAAAAAAAwD8AAAAAAADAPwAAAAAAAMA/AAAAAAAAwD8AAAAAAADAPwAAAAAAAMA/AAAAAAAAwD8AAAAAAADAPwAAAAAAAMA/AAAAAAAAwD8AAAAAAADAPwAAAAAAAMA/AAAAAAAAwD8AAAAAAADAPwAAAAAAAMA/AAAAAAAAwD8AAAAAAADAPwAAAAAAAMA/AAAAAAAAwD8AAAAAAADAPwAAAAAAAMA/AAAAAAAAwD8AAAAAAADAPwAAAAAAAMA/AAAAAAAAwD8AAAAAAADAPwAAAAAAAMA/AAAAAAAAwD8AAAAAAADAPwAAAAAAAMA/AAAAAAAAwD8AAAAAAADAPwAAAAAAAMA/AAAAAAAAwD8AAAAAAADAPwAAAAAAAMA/AAAAAAAAwD8AAAAAAADAPwAAAAAAAMA/AAAAAAAAwD8AAAAAAADAPwAAAAAAAMA/AAAAAAAAwD8AAAAAAADAPwAAAAAAAMA/AAAAAAAAwD8AAAAAAADAPwAAAAAAAMA/AAAAAAAAwD8AAAAAAADAPw==\",\"dtype\":\"float64\",\"order\":\"little\",\"shape\":[113]},\"end_time\":{\"__ndarray__\":\"AAAAAAAAwD8AAAAAAADAPwAAAAAAAMA/AAAAAAAAwD8AAAAAAADAPwAAAAAAAMA/AAAAAAAAwD8AAAAAAADQPwAAAAAAANA/AAAAAAAA0D8AAAAAAADYPwAAAAAAANg/AAAAAAAA2D8AAAAAAADYPwAAAAAAANg/AAAAAAAA4D8AAAAAAADgPwAAAAAAAOA/AAAAAAAA4D8AAAAAAADkPwAAAAAAAOQ/AAAAAAAA5D8AAAAAAADkPwAAAAAAAOg/AAAAAAAA6D8AAAAAAADoPwAAAAAAAOg/AAAAAAAA6D8AAAAAAADoPwAAAAAAAOw/AAAAAAAA7D8AAAAAAADsPwAAAAAAAOw/AAAAAAAA7D8AAAAAAADyPwAAAAAAAPI/AAAAAAAA8j8AAAAAAADyPwAAAAAAAPI/AAAAAAAA8j8AAAAAAAD0PwAAAAAAAPQ/AAAAAAAA9D8AAAAAAAD0PwAAAAAAAPQ/AAAAAAAA9D8AAAAAAAD0PwAAAAAAAPY/AAAAAAAA+D8AAAAAAAD4PwAAAAAAAPg/AAAAAAAA+D8AAAAAAAD6PwAAAAAAAPo/AAAAAAAA+j8AAAAAAAD6PwAAAAAAAPw/AAAAAAAA/D8AAAAAAAD8PwAAAAAAAPw/AAAAAAAA/j8AAAAAAAD+PwAAAAAAAP4/AAAAAAAA/j8AAAAAAAABQAAAAAAAAAFAAAAAAAAAAkAAAAAAAAACQAAAAAAAAAJAAAAAAAAAAkAAAAAAAAACQAAAAAAAAAJAAAAAAAAAAkAAAAAAAAAFQAAAAAAAAAVAAAAAAAAABUAAAAAAAAAFQAAAAAAAAAZAAAAAAAAABkAAAAAAAAAGQAAAAAAAAAZAAAAAAAAACUAAAAAAAAAJQAAAAAAAAAlAAAAAAAAACkAAAAAAAAAKQAAAAAAAAApAAAAAAAAACkAAAAAAAAALQAAAAAAAAA1AAAAAAAAADUAAAAAAAAAOQAAAAAAAAA5AAAAAAAAADkAAAAAAAAAOQAAAAAAAAA5AAAAAAAAAEEAAAAAAAIAQQAAAAAAAgBBAAAAAAACAEEAAAAAAAIAQQAAAAAAAgBBAAAAAAACAEEAAAAAAAAARQAAAAAAAABFAAAAAAAAAEkAAAAAAAIAUQAAAAAAAgBRAAAAAAACAFUAAAAAAAAAWQAAAAAAAgBpAAAAAAAAAHEAAAAAAAAAeQA==\",\"dtype\":\"float64\",\"order\":\"little\",\"shape\":[113]},\"fill_alpha\":{\"__ndarray__\":\"AAAAAAAA8D8AAAAAAADwPwAAAAAAAPA/AAAAAAAA8D8AAAAAAADwPwAAAAAAAPA/AAAAAAAA8D8AAAAAAADwPwAAAAAAAPA/AAAAAAAA8D8AAAAAAADwPwAAAAAAAPA/AAAAAAAA8D8AAAAAAADwPwAAAAAAAPA/AAAAAAAA8D8AAAAAAADwPwAAAAAAAPA/AAAAAAAA8D8AAAAAAADwPwAAAAAAAPA/AAAAAAAA8D8AAAAAAADwPwAAAAAAAPA/AAAAAAAA8D8AAAAAAADwPwAAAAAAAPA/AAAAAAAA8D8AAAAAAADwPwAAAAAAAPA/AAAAAAAA8D8AAAAAAADwPwAAAAAAAPA/AAAAAAAA8D8AAAAAAADwPwAAAAAAAPA/AAAAAAAA8D8AAAAAAADwPwAAAAAAAPA/AAAAAAAA8D8AAAAAAADwPwAAAAAAAPA/AAAAAAAA8D8AAAAAAADwPwAAAAAAAPA/AAAAAAAA8D8AAAAAAADwPwAAAAAAAPA/AAAAAAAA8D8AAAAAAADwPwAAAAAAAPA/AAAAAAAA8D8AAAAAAADwPwAAAAAAAPA/AAAAAAAA8D8AAAAAAADwPwAAAAAAAPA/AAAAAAAA8D8AAAAAAADwPwAAAAAAAPA/AAAAAAAA8D8AAAAAAADwPwAAAAAAAPA/AAAAAAAA8D8AAAAAAADwPwAAAAAAAPA/AAAAAAAA8D8AAAAAAADwPwAAAAAAAPA/AAAAAAAA8D8AAAAAAADwPwAAAAAAAPA/AAAAAAAA8D8AAAAAAADwPwAAAAAAAPA/AAAAAAAA8D8AAAAAAADwPwAAAAAAAPA/AAAAAAAA8D8AAAAAAADwPwAAAAAAAPA/AAAAAAAA8D8AAAAAAADwPwAAAAAAAPA/AAAAAAAA8D8AAAAAAADwPwAAAAAAAPA/AAAAAAAA8D8AAAAAAADwPwAAAAAAAPA/AAAAAAAA8D8AAAAAAADwPwAAAAAAAPA/AAAAAAAA8D8AAAAAAADwPwAAAAAAAPA/AAAAAAAA8D8AAAAAAADwPwAAAAAAAPA/AAAAAAAA8D8AAAAAAADwPwAAAAAAAPA/AAAAAAAA8D8AAAAAAADwPwAAAAAAAPA/AAAAAAAA8D8AAAAAAADwPwAAAAAAAPA/AAAAAAAA8D8AAAAAAADwPwAAAAAAAPA/AAAAAAAA8D8AAAAAAADwPw==\",\"dtype\":\"float64\",\"order\":\"little\",\"shape\":[113]},\"index\":[0,1,2,3,4,5,6,7,8,9,10,11,12,13,14,15,16,17,18,19,20,21,22,23,24,25,26,27,28,29,30,31,32,33,34,35,36,37,38,39,40,41,42,43,44,45,46,47,48,49,50,51,52,53,54,55,56,57,58,59,60,61,62,63,64,65,66,67,68,69,70,71,72,73,74,75,76,77,78,79,80,81,82,83,84,85,86,87,88,89,90,91,92,93,94,95,96,97,98,99,100,101,102,103,104,105,106,107,108,109,110,111,112],\"instrument\":[9,9,9,9,9,9,9,9,9,9,9,9,9,9,9,9,9,9,9,9,9,9,9,9,9,9,9,9,9,9,9,9,9,9,9,9,9,9,9,9,9,9,9,9,9,9,9,9,9,9,9,9,9,9,9,9,9,9,9,9,9,9,9,9,9,9,9,9,9,9,9,9,9,9,9,9,9,9,9,9,9,9,9,9,9,9,9,9,9,9,9,9,9,9,9,9,9,9,9,9,9,9,9,9,9,9,9,9,9,9,9,9,9],\"pitch\":[36,38,45,46,48,49,51,48,49,46,38,42,46,49,51,46,42,45,38,49,42,45,38,38,42,46,48,50,51,38,42,45,46,49,36,38,42,45,49,51,36,38,42,45,48,49,51,45,42,51,36,38,49,51,45,46,48,50,36,45,46,48,45,38,48,46,36,42,45,46,49,50,51,50,51,36,45,48,49,36,46,50,36,46,50,51,36,38,38,42,51,36,45,46,49,50,38,36,42,46,49,50,51,42,38,38,42,36,42,42,38,42,38],\"program\":[0,0,0,0,0,0,0,0,0,0,0,0,0,0,0,0,0,0,0,0,0,0,0,0,0,0,0,0,0,0,0,0,0,0,0,0,0,0,0,0,0,0,0,0,0,0,0,0,0,0,0,0,0,0,0,0,0,0,0,0,0,0,0,0,0,0,0,0,0,0,0,0,0,0,0,0,0,0,0,0,0,0,0,0,0,0,0,0,0,0,0,0,0,0,0,0,0,0,0,0,0,0,0,0,0,0,0,0,0,0,0,0,0],\"start_time\":{\"__ndarray__\":\"AAAAAAAAAAAAAAAAAAAAAAAAAAAAAAAAAAAAAAAAAAAAAAAAAAAAAAAAAAAAAAAAAAAAAAAAAAAAAAAAAADAPwAAAAAAAMA/AAAAAAAAwD8AAAAAAADQPwAAAAAAANA/AAAAAAAA0D8AAAAAAADQPwAAAAAAANA/AAAAAAAA2D8AAAAAAADYPwAAAAAAANg/AAAAAAAA2D8AAAAAAADgPwAAAAAAAOA/AAAAAAAA4D8AAAAAAADgPwAAAAAAAOQ/AAAAAAAA5D8AAAAAAADkPwAAAAAAAOQ/AAAAAAAA5D8AAAAAAADkPwAAAAAAAOg/AAAAAAAA6D8AAAAAAADoPwAAAAAAAOg/AAAAAAAA6D8AAAAAAADwPwAAAAAAAPA/AAAAAAAA8D8AAAAAAADwPwAAAAAAAPA/AAAAAAAA8D8AAAAAAADyPwAAAAAAAPI/AAAAAAAA8j8AAAAAAADyPwAAAAAAAPI/AAAAAAAA8j8AAAAAAADyPwAAAAAAAPQ/AAAAAAAA9j8AAAAAAAD2PwAAAAAAAPY/AAAAAAAA9j8AAAAAAAD4PwAAAAAAAPg/AAAAAAAA+D8AAAAAAAD4PwAAAAAAAPo/AAAAAAAA+j8AAAAAAAD6PwAAAAAAAPo/AAAAAAAA/D8AAAAAAAD8PwAAAAAAAPw/AAAAAAAA/D8AAAAAAAAAQAAAAAAAAABAAAAAAAAAAUAAAAAAAAABQAAAAAAAAAFAAAAAAAAAAUAAAAAAAAABQAAAAAAAAAFAAAAAAAAAAUAAAAAAAAAEQAAAAAAAAARAAAAAAAAABEAAAAAAAAAEQAAAAAAAAAVAAAAAAAAABUAAAAAAAAAFQAAAAAAAAAVAAAAAAAAACEAAAAAAAAAIQAAAAAAAAAhAAAAAAAAACUAAAAAAAAAJQAAAAAAAAAlAAAAAAAAACUAAAAAAAAAKQAAAAAAAAAxAAAAAAAAADEAAAAAAAAANQAAAAAAAAA1AAAAAAAAADUAAAAAAAAANQAAAAAAAAA1AAAAAAAAAD0AAAAAAAAAQQAAAAAAAABBAAAAAAAAAEEAAAAAAAAAQQAAAAAAAABBAAAAAAAAAEEAAAAAAAIAQQAAAAAAAgBBAAAAAAACAEUAAAAAAAAAUQAAAAAAAABRAAAAAAAAAFUAAAAAAAIAVQAAAAAAAABpAAAAAAACAG0AAAAAAAIAdQA==\",\"dtype\":\"float64\",\"order\":\"little\",\"shape\":[113]},\"top\":{\"__ndarray__\":\"MzMzMzMzQkAzMzMzMzNDQDMzMzMzs0ZAMzMzMzMzR0AzMzMzMzNIQDMzMzMzs0hAMzMzMzOzSUAzMzMzMzNIQDMzMzMzs0hAMzMzMzMzR0AzMzMzMzNDQDMzMzMzM0VAMzMzMzMzR0AzMzMzM7NIQDMzMzMzs0lAMzMzMzMzR0AzMzMzMzNFQDMzMzMzs0ZAMzMzMzMzQ0AzMzMzM7NIQDMzMzMzM0VAMzMzMzOzRkAzMzMzMzNDQDMzMzMzM0NAMzMzMzMzRUAzMzMzMzNHQDMzMzMzM0hAMzMzMzMzSUAzMzMzM7NJQDMzMzMzM0NAMzMzMzMzRUAzMzMzM7NGQDMzMzMzM0dAMzMzMzOzSEAzMzMzMzNCQDMzMzMzM0NAMzMzMzMzRUAzMzMzM7NGQDMzMzMzs0hAMzMzMzOzSUAzMzMzMzNCQDMzMzMzM0NAMzMzMzMzRUAzMzMzM7NGQDMzMzMzM0hAMzMzMzOzSEAzMzMzM7NJQDMzMzMzs0ZAMzMzMzMzRUAzMzMzM7NJQDMzMzMzM0JAMzMzMzMzQ0AzMzMzM7NIQDMzMzMzs0lAMzMzMzOzRkAzMzMzMzNHQDMzMzMzM0hAMzMzMzMzSUAzMzMzMzNCQDMzMzMzs0ZAMzMzMzMzR0AzMzMzMzNIQDMzMzMzs0ZAMzMzMzMzQ0AzMzMzMzNIQDMzMzMzM0dAMzMzMzMzQkAzMzMzMzNFQDMzMzMzs0ZAMzMzMzMzR0AzMzMzM7NIQDMzMzMzM0lAMzMzMzOzSUAzMzMzMzNJQDMzMzMzs0lAMzMzMzMzQkAzMzMzM7NGQDMzMzMzM0hAMzMzMzOzSEAzMzMzMzNCQDMzMzMzM0dAMzMzMzMzSUAzMzMzMzNCQDMzMzMzM0dAMzMzMzMzSUAzMzMzM7NJQDMzMzMzM0JAMzMzMzMzQ0AzMzMzMzNDQDMzMzMzM0VAMzMzMzOzSUAzMzMzMzNCQDMzMzMzs0ZAMzMzMzMzR0AzMzMzM7NIQDMzMzMzM0lAMzMzMzMzQ0AzMzMzMzNCQDMzMzMzM0VAMzMzMzMzR0AzMzMzM7NIQDMzMzMzM0lAMzMzMzOzSUAzMzMzMzNFQDMzMzMzM0NAMzMzMzMzQ0AzMzMzMzNFQDMzMzMzM0JAMzMzMzMzRUAzMzMzMzNFQDMzMzMzM0NAMzMzMzMzRUAzMzMzMzNDQA==\",\"dtype\":\"float64\",\"order\":\"little\",\"shape\":[113]},\"velocity\":[80,80,80,80,80,80,80,80,80,80,80,80,80,80,80,80,80,80,80,80,80,80,80,80,80,80,80,80,80,80,80,80,80,80,80,80,80,80,80,80,80,80,80,80,80,80,80,80,80,80,80,80,80,80,80,80,80,80,80,80,80,80,80,80,80,80,80,80,80,80,80,80,80,80,80,80,80,80,80,80,80,80,80,80,80,80,80,80,80,80,80,80,80,80,80,80,80,80,80,80,80,80,80,80,80,80,80,80,80,80,80,80,80]},\"selected\":{\"id\":\"2380\"},\"selection_policy\":{\"id\":\"2379\"}},\"id\":\"2366\",\"type\":\"ColumnDataSource\"},{\"attributes\":{\"interval\":12},\"id\":\"2363\",\"type\":\"SingleIntervalTicker\"},{\"attributes\":{},\"id\":\"2379\",\"type\":\"UnionRenderers\"},{\"attributes\":{},\"id\":\"2377\",\"type\":\"BasicTickFormatter\"},{\"attributes\":{\"data_source\":{\"id\":\"2366\"},\"glyph\":{\"id\":\"2368\"},\"hover_glyph\":null,\"muted_glyph\":null,\"nonselection_glyph\":{\"id\":\"2369\"},\"view\":{\"id\":\"2371\"}},\"id\":\"2370\",\"type\":\"GlyphRenderer\"},{\"attributes\":{},\"id\":\"2335\",\"type\":\"DataRange1d\"},{\"attributes\":{},\"id\":\"2339\",\"type\":\"LinearScale\"},{\"attributes\":{},\"id\":\"2380\",\"type\":\"Selection\"},{\"attributes\":{},\"id\":\"2376\",\"type\":\"AllLabels\"},{\"attributes\":{},\"id\":\"2344\",\"type\":\"BasicTicker\"},{\"attributes\":{\"axis_label\":\"time (sec)\",\"formatter\":{\"id\":\"2377\"},\"major_label_policy\":{\"id\":\"2376\"},\"ticker\":{\"id\":\"2344\"}},\"id\":\"2343\",\"type\":\"LinearAxis\"},{\"attributes\":{},\"id\":\"2374\",\"type\":\"AllLabels\"},{\"attributes\":{},\"id\":\"2375\",\"type\":\"BasicTickFormatter\"},{\"attributes\":{},\"id\":\"2373\",\"type\":\"Title\"},{\"attributes\":{},\"id\":\"2337\",\"type\":\"DataRange1d\"},{\"attributes\":{},\"id\":\"2355\",\"type\":\"SaveTool\"},{\"attributes\":{\"bottom\":{\"field\":\"bottom\"},\"fill_alpha\":{\"field\":\"fill_alpha\"},\"fill_color\":{\"value\":\"#d53e4f\"},\"left\":{\"field\":\"start_time\"},\"right\":{\"field\":\"end_time\"},\"top\":{\"field\":\"top\"}},\"id\":\"2368\",\"type\":\"Quad\"},{\"attributes\":{\"axis\":{\"id\":\"2343\"},\"ticker\":null},\"id\":\"2346\",\"type\":\"Grid\"},{\"attributes\":{\"bottom\":{\"field\":\"bottom\"},\"fill_alpha\":{\"value\":0.1},\"fill_color\":{\"value\":\"#d53e4f\"},\"left\":{\"field\":\"start_time\"},\"line_alpha\":{\"value\":0.1},\"right\":{\"field\":\"end_time\"},\"top\":{\"field\":\"top\"}},\"id\":\"2369\",\"type\":\"Quad\"}],\"root_ids\":[\"2334\"]},\"title\":\"Bokeh Application\",\"version\":\"2.3.3\"}};\n  var render_items = [{\"docid\":\"2cb95cef-aecc-42b5-ab33-daf230d1e0b3\",\"root_ids\":[\"2334\"],\"roots\":{\"2334\":\"dc689d95-406e-4b2a-ace7-92207f5713bd\"}}];\n  root.Bokeh.embed.embed_items_notebook(docs_json, render_items);\n\n  }\n  if (root.Bokeh !== undefined) {\n    embed_document(root);\n  } else {\n    var attempts = 0;\n    var timer = setInterval(function(root) {\n      if (root.Bokeh !== undefined) {\n        clearInterval(timer);\n        embed_document(root);\n      } else {\n        attempts++;\n        if (attempts > 100) {\n          clearInterval(timer);\n          console.log(\"Bokeh: ERROR: Unable to run BokehJS code because BokehJS library is missing\");\n        }\n      }\n    }, 10, root)\n  }\n})(window);",
            "application/vnd.bokehjs_exec.v0+json": ""
          },
          "metadata": {},
          "output_type": "display_data"
        },
        {
          "data": {
            "text/html": [
              "\n",
              "\n",
              "\n",
              "\n",
              "\n",
              "\n",
              "  <div class=\"bk-root\" id=\"caf510af-a4d8-48ce-b5b7-14b5c4253dd3\" data-root-id=\"2532\"></div>\n"
            ]
          },
          "metadata": {},
          "output_type": "display_data"
        },
        {
          "data": {
            "application/javascript": "(function(root) {\n  function embed_document(root) {\n    \n  var docs_json = {\"9ec6695c-51e3-4650-b536-72604b80cd01\":{\"defs\":[],\"roots\":{\"references\":[{\"attributes\":{\"below\":[{\"id\":\"2541\"}],\"center\":[{\"id\":\"2544\"},{\"id\":\"2548\"}],\"height\":200,\"left\":[{\"id\":\"2545\"}],\"renderers\":[{\"id\":\"2568\"}],\"title\":{\"id\":\"2571\"},\"toolbar\":{\"id\":\"2555\"},\"width\":500,\"x_range\":{\"id\":\"2533\"},\"x_scale\":{\"id\":\"2537\"},\"y_range\":{\"id\":\"2535\"},\"y_scale\":{\"id\":\"2539\"}},\"id\":\"2532\",\"subtype\":\"Figure\",\"type\":\"Plot\"},{\"attributes\":{},\"id\":\"2550\",\"type\":\"PanTool\"},{\"attributes\":{\"axis_label\":\"pitch (MIDI)\",\"formatter\":{\"id\":\"2573\"},\"major_label_policy\":{\"id\":\"2572\"},\"ticker\":{\"id\":\"2561\"}},\"id\":\"2545\",\"type\":\"LinearAxis\"},{\"attributes\":{\"active_multi\":null,\"tools\":[{\"id\":\"2549\"},{\"id\":\"2550\"},{\"id\":\"2551\"},{\"id\":\"2552\"},{\"id\":\"2553\"}]},\"id\":\"2555\",\"type\":\"Toolbar\"},{\"attributes\":{},\"id\":\"2535\",\"type\":\"DataRange1d\"},{\"attributes\":{\"callback\":null,\"tooltips\":[[\"pitch\",\"@pitch\"],[\"program\",\"@program\"],[\"velo\",\"@velocity\"],[\"duration\",\"@duration\"],[\"start_time\",\"@start_time\"],[\"end_time\",\"@end_time\"],[\"velocity\",\"@velocity\"],[\"fill_alpha\",\"@fill_alpha\"]]},\"id\":\"2549\",\"type\":\"HoverTool\"},{\"attributes\":{\"axis_label\":\"time (sec)\",\"formatter\":{\"id\":\"2575\"},\"major_label_policy\":{\"id\":\"2574\"},\"ticker\":{\"id\":\"2542\"}},\"id\":\"2541\",\"type\":\"LinearAxis\"},{\"attributes\":{\"interval\":12},\"id\":\"2563\",\"type\":\"SingleIntervalTicker\"},{\"attributes\":{\"overlay\":{\"id\":\"2554\"}},\"id\":\"2551\",\"type\":\"BoxZoomTool\"},{\"attributes\":{},\"id\":\"2542\",\"type\":\"BasicTicker\"},{\"attributes\":{\"interval\":12},\"id\":\"2561\",\"type\":\"SingleIntervalTicker\"},{\"attributes\":{\"axis\":{\"id\":\"2541\"},\"ticker\":null},\"id\":\"2544\",\"type\":\"Grid\"},{\"attributes\":{\"data\":{\"bottom\":{\"__ndarray__\":\"zczMzMzMQkDNzMzMzExGQM3MzMzMzEZAzczMzMzMR0DNzMzMzMxIQM3MzMzMTElAzczMzMzMQkDNzMzMzMxEQM3MzMzMTElAzczMzMzMQUDNzMzMzMxCQM3MzMzMzEJAzczMzMzMQkDNzMzMzMxEQM3MzMzMzEJAzczMzMzMQkDNzMzMzMxCQM3MzMzMzEJAzczMzMzMQkDNzMzMzMxCQM3MzMzMzEJAzczMzMzMQkDNzMzMzMxCQM3MzMzMzEJAzczMzMzMQkA=\",\"dtype\":\"float64\",\"order\":\"little\",\"shape\":[25]},\"duration\":{\"__ndarray__\":\"AAAAAAAAwD8AAAAAAADAPwAAAAAAAMA/AAAAAAAAwD8AAAAAAADAPwAAAAAAAMA/AAAAAAAAwD8AAAAAAADAPwAAAAAAAMA/AAAAAAAAwD8AAAAAAADAPwAAAAAAAMA/AAAAAAAAwD8AAAAAAADAPwAAAAAAAMA/AAAAAAAAwD8AAAAAAADAPwAAAAAAAMA/AAAAAAAAwD8AAAAAAADAPwAAAAAAAMA/AAAAAAAAwD8AAAAAAADAPwAAAAAAAMA/AAAAAAAAwD8=\",\"dtype\":\"float64\",\"order\":\"little\",\"shape\":[25]},\"end_time\":{\"__ndarray__\":\"AAAAAAAAwD8AAAAAAADAPwAAAAAAAMA/AAAAAAAAwD8AAAAAAADAPwAAAAAAAMA/AAAAAAAA2D8AAAAAAADkPwAAAAAAAOQ/AAAAAAAA5D8AAAAAAADoPwAAAAAAAPQ/AAAAAAAA+D8AAAAAAAABQAAAAAAAAApAAAAAAAAADEAAAAAAAAANQAAAAAAAAA9AAAAAAAAAEEAAAAAAAAATQAAAAAAAgBZAAAAAAACAG0AAAAAAAAAdQAAAAAAAgB1AAAAAAAAAIEA=\",\"dtype\":\"float64\",\"order\":\"little\",\"shape\":[25]},\"fill_alpha\":{\"__ndarray__\":\"AAAAAAAA8D8AAAAAAADwPwAAAAAAAPA/AAAAAAAA8D8AAAAAAADwPwAAAAAAAPA/AAAAAAAA8D8AAAAAAADwPwAAAAAAAPA/AAAAAAAA8D8AAAAAAADwPwAAAAAAAPA/AAAAAAAA8D8AAAAAAADwPwAAAAAAAPA/AAAAAAAA8D8AAAAAAADwPwAAAAAAAPA/AAAAAAAA8D8AAAAAAADwPwAAAAAAAPA/AAAAAAAA8D8AAAAAAADwPwAAAAAAAPA/AAAAAAAA8D8=\",\"dtype\":\"float64\",\"order\":\"little\",\"shape\":[25]},\"index\":[0,1,2,3,4,5,6,7,8,9,10,11,12,13,14,15,16,17,18,19,20,21,22,23,24],\"instrument\":[9,9,9,9,9,9,9,9,9,9,9,9,9,9,9,9,9,9,9,9,9,9,9,9,9],\"pitch\":[38,45,46,48,50,51,38,42,51,36,38,38,38,42,38,38,38,38,38,38,38,38,38,38,38],\"program\":[0,0,0,0,0,0,0,0,0,0,0,0,0,0,0,0,0,0,0,0,0,0,0,0,0],\"start_time\":{\"__ndarray__\":\"AAAAAAAAAAAAAAAAAAAAAAAAAAAAAAAAAAAAAAAAAAAAAAAAAAAAAAAAAAAAAAAAAAAAAAAA0D8AAAAAAADgPwAAAAAAAOA/AAAAAAAA4D8AAAAAAADkPwAAAAAAAPI/AAAAAAAA9j8AAAAAAAAAQAAAAAAAAAlAAAAAAAAAC0AAAAAAAAAMQAAAAAAAAA5AAAAAAAAAD0AAAAAAAIASQAAAAAAAABZAAAAAAAAAG0AAAAAAAIAcQAAAAAAAAB1AAAAAAACAH0A=\",\"dtype\":\"float64\",\"order\":\"little\",\"shape\":[25]},\"top\":{\"__ndarray__\":\"MzMzMzMzQ0AzMzMzM7NGQDMzMzMzM0dAMzMzMzMzSEAzMzMzMzNJQDMzMzMzs0lAMzMzMzMzQ0AzMzMzMzNFQDMzMzMzs0lAMzMzMzMzQkAzMzMzMzNDQDMzMzMzM0NAMzMzMzMzQ0AzMzMzMzNFQDMzMzMzM0NAMzMzMzMzQ0AzMzMzMzNDQDMzMzMzM0NAMzMzMzMzQ0AzMzMzMzNDQDMzMzMzM0NAMzMzMzMzQ0AzMzMzMzNDQDMzMzMzM0NAMzMzMzMzQ0A=\",\"dtype\":\"float64\",\"order\":\"little\",\"shape\":[25]},\"velocity\":[80,80,80,80,80,80,80,80,80,80,80,80,80,80,80,80,80,80,80,80,80,80,80,80,80]},\"selected\":{\"id\":\"2578\"},\"selection_policy\":{\"id\":\"2577\"}},\"id\":\"2564\",\"type\":\"ColumnDataSource\"},{\"attributes\":{},\"id\":\"2552\",\"type\":\"ResetTool\"},{\"attributes\":{},\"id\":\"2574\",\"type\":\"AllLabels\"},{\"attributes\":{},\"id\":\"2533\",\"type\":\"DataRange1d\"},{\"attributes\":{},\"id\":\"2571\",\"type\":\"Title\"},{\"attributes\":{\"axis\":{\"id\":\"2545\"},\"dimension\":1,\"ticker\":{\"id\":\"2563\"}},\"id\":\"2548\",\"type\":\"Grid\"},{\"attributes\":{},\"id\":\"2575\",\"type\":\"BasicTickFormatter\"},{\"attributes\":{},\"id\":\"2537\",\"type\":\"LinearScale\"},{\"attributes\":{},\"id\":\"2572\",\"type\":\"AllLabels\"},{\"attributes\":{},\"id\":\"2578\",\"type\":\"Selection\"},{\"attributes\":{},\"id\":\"2573\",\"type\":\"BasicTickFormatter\"},{\"attributes\":{\"bottom\":{\"field\":\"bottom\"},\"fill_alpha\":{\"value\":0.1},\"fill_color\":{\"value\":\"#d53e4f\"},\"left\":{\"field\":\"start_time\"},\"line_alpha\":{\"value\":0.1},\"right\":{\"field\":\"end_time\"},\"top\":{\"field\":\"top\"}},\"id\":\"2567\",\"type\":\"Quad\"},{\"attributes\":{\"data_source\":{\"id\":\"2564\"},\"glyph\":{\"id\":\"2566\"},\"hover_glyph\":null,\"muted_glyph\":null,\"nonselection_glyph\":{\"id\":\"2567\"},\"view\":{\"id\":\"2569\"}},\"id\":\"2568\",\"type\":\"GlyphRenderer\"},{\"attributes\":{},\"id\":\"2539\",\"type\":\"LinearScale\"},{\"attributes\":{\"source\":{\"id\":\"2564\"}},\"id\":\"2569\",\"type\":\"CDSView\"},{\"attributes\":{},\"id\":\"2577\",\"type\":\"UnionRenderers\"},{\"attributes\":{\"bottom\":{\"field\":\"bottom\"},\"fill_alpha\":{\"field\":\"fill_alpha\"},\"fill_color\":{\"value\":\"#d53e4f\"},\"left\":{\"field\":\"start_time\"},\"right\":{\"field\":\"end_time\"},\"top\":{\"field\":\"top\"}},\"id\":\"2566\",\"type\":\"Quad\"},{\"attributes\":{},\"id\":\"2553\",\"type\":\"SaveTool\"},{\"attributes\":{\"bottom_units\":\"screen\",\"fill_alpha\":0.5,\"fill_color\":\"lightgrey\",\"left_units\":\"screen\",\"level\":\"overlay\",\"line_alpha\":1.0,\"line_color\":\"black\",\"line_dash\":[4,4],\"line_width\":2,\"right_units\":\"screen\",\"syncable\":false,\"top_units\":\"screen\"},\"id\":\"2554\",\"type\":\"BoxAnnotation\"}],\"root_ids\":[\"2532\"]},\"title\":\"Bokeh Application\",\"version\":\"2.3.3\"}};\n  var render_items = [{\"docid\":\"9ec6695c-51e3-4650-b536-72604b80cd01\",\"root_ids\":[\"2532\"],\"roots\":{\"2532\":\"caf510af-a4d8-48ce-b5b7-14b5c4253dd3\"}}];\n  root.Bokeh.embed.embed_items_notebook(docs_json, render_items);\n\n  }\n  if (root.Bokeh !== undefined) {\n    embed_document(root);\n  } else {\n    var attempts = 0;\n    var timer = setInterval(function(root) {\n      if (root.Bokeh !== undefined) {\n        clearInterval(timer);\n        embed_document(root);\n      } else {\n        attempts++;\n        if (attempts > 100) {\n          clearInterval(timer);\n          console.log(\"Bokeh: ERROR: Unable to run BokehJS code because BokehJS library is missing\");\n        }\n      }\n    }, 10, root)\n  }\n})(window);",
            "application/vnd.bokehjs_exec.v0+json": ""
          },
          "metadata": {},
          "output_type": "display_data"
        }
      ],
      "source": [
        "temperature = 0.5\n",
        "samples = model.sample(n=5, length=64, temperature=temperature)\n",
        "\n",
        "for sequence in samples:\n",
        "    note_seq.plot_sequence(sequence)"
      ]
    }
  ],
  "metadata": {
    "colab": {
      "name": "groove_midi.ipynb",
      "provenance": []
    },
    "kernelspec": {
      "display_name": "Python 3.8.13 64-bit ('mldl')",
      "language": "python",
      "name": "python3"
    },
    "language_info": {
      "name": "python",
      "version": "3.8.13"
    },
    "vscode": {
      "interpreter": {
        "hash": "86ae205601b6d906014fa7892090616f7e1469eb0aa86f06d2d1803a695f1eb6"
      }
    }
  },
  "nbformat": 4,
  "nbformat_minor": 0
}
